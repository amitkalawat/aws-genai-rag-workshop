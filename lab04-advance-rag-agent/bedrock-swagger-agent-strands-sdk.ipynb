{
 "cells": [
  {
   "cell_type": "markdown",
   "id": "a9fdab2e-cd5e-4ee8-b2a3-6db21cd958b0",
   "metadata": {},
   "source": [
    "## RAG with Strands Agents SDK\n",
    "\n",
    "This notebook demonstrates how to build a Swagger API assistant using the Strands Agents SDK. The agent can:\n",
    "- Answer questions about Swagger APIs using a knowledge base\n",
    "- Generate UML flow diagrams\n",
    "- Create unit testing code\n",
    "\n",
    "This is a Strands SDK implementation of the original Bedrock Agents approach, showcasing how to achieve the same functionality with a more streamlined and flexible framework.\n"
   ]
  },
  {
   "cell_type": "markdown",
   "id": "47f33877-1876-48e1-b4fe-28173d50e5c7",
   "metadata": {},
   "source": [
    "## Pre-req\n",
    "You must run the [workshop_setup.ipynb](../lab00-setup/workshop_setup.ipynb) notebook in `lab00-setup` before starting this lab."
   ]
  },
  {
   "cell_type": "code",
   "execution_count": null,
   "id": "e1117956-529a-4a46-8237-7785c72dd0ce",
   "metadata": {},
   "outputs": [],
   "source": [
    "import warnings\n",
    "warnings.warn(\"Warning: if you did not run lab00-setup, please go back and run the lab00 notebook\") "
   ]
  },
  {
   "cell_type": "markdown",
   "id": "install-strands-header",
   "metadata": {},
   "source": [
    "## Install Strands SDK"
   ]
  },
  {
   "cell_type": "code",
   "execution_count": null,
   "id": "install-strands-cell",
   "metadata": {},
   "outputs": [],
   "source": [
    "!pip install strands-agents"
   ]
  },
  {
   "cell_type": "markdown",
   "id": "286fd078-3d93-4d94-92f8-0703006db38f",
   "metadata": {},
   "source": [
    "## Load the parameters"
   ]
  },
  {
   "cell_type": "code",
   "execution_count": null,
   "id": "214f8ee4-6b45-4afb-807e-357a364dda4f",
   "metadata": {},
   "outputs": [],
   "source": [
    "print(\"load the data parameters....\\n\")\n",
    "# bucket and parameter stored from Initial setup lab01\n",
    "%store -r bucket\n",
    "%store -r prefix\n",
    "%store -r data_dir\n",
    "%store -r yml_dir\n",
    "%store -r uml_dir\n",
    "\n",
    "## check all 5 values are printed and do not fail\n",
    "print(bucket)\n",
    "print(prefix)\n",
    "print(yml_dir)\n",
    "print(uml_dir)\n",
    "print(data_dir)\n",
    "\n",
    "print(\"\\nload the vector db parameters....\\n\")\n",
    "\n",
    "# vector parameters stored from Initial setup lab02\n",
    "%store -r vector_host\n",
    "%store -r vector_collection_arn\n",
    "%store -r vector_collection_id\n",
    "%store -r bedrock_kb_execution_role_arn\n",
    "\n",
    "print(vector_host)\n",
    "print(vector_collection_arn)\n",
    "print(vector_collection_id)\n",
    "print(bedrock_kb_execution_role_arn)\n",
    "\n",
    "print(\"\\nload lambda parameters....\\n\")\n",
    "\n",
    "%store -r lambda_arn\n",
    "%store -r lambda_function_name\n",
    "\n",
    "print(lambda_arn)\n",
    "print(lambda_function_name)\n",
    "\n",
    "print(\"\\nload knowledge base parameters....\\n\")\n",
    "\n",
    "# Load KB ID from the original notebook if it exists\n",
    "%store -r kb_id\n",
    "print(f\"Knowledge Base ID: {kb_id}\")"
   ]
  },
  {
   "cell_type": "markdown",
   "id": "7dce9ad9-a8ae-440e-b177-ac5a29236edb",
   "metadata": {},
   "source": [
    "## Setup"
   ]
  },
  {
   "cell_type": "code",
   "execution_count": null,
   "id": "7380e0b2-0589-4205-9758-6da9a67a1edf",
   "metadata": {},
   "outputs": [],
   "source": [
    "import boto3\n",
    "import json\n",
    "import uuid\n",
    "from IPython.display import Markdown, display\n",
    "\n",
    "# Strands SDK imports\n",
    "from strands import Agent, tool\n",
    "from strands.models import BedrockModel\n",
    "\n",
    "# Setup boto3 session\n",
    "boto3_session = boto3.Session()\n",
    "region_name = boto3_session.region_name\n",
    "sts_client = boto3.client('sts')\n",
    "account_id = sts_client.get_caller_identity()[\"Account\"]\n",
    "\n",
    "# Bedrock clients\n",
    "bedrock_agent_runtime_client = boto3_session.client(\"bedrock-agent-runtime\")\n",
    "bedrock_runtime = boto3_session.client(\"bedrock-runtime\")\n",
    "lambda_client = boto3.client('lambda')\n",
    "\n",
    "print(f\"Region: {region_name}\")\n",
    "print(f\"Account ID: {account_id}\")"
   ]
  },
  {
   "cell_type": "markdown",
   "id": "db990f08-015e-465b-9267-69d9738f4d10",
   "metadata": {},
   "source": [
    "## Define Tools for Code Generation and UML Diagrams\n",
    "\n",
    "We'll create tools that call the same Lambda function used in the original notebook, but through Strands SDK tools."
   ]
  },
  {
   "cell_type": "code",
   "execution_count": null,
   "id": "d693b588-e7cd-4ba3-9ce1-fb5d7599fd4d",
   "metadata": {},
   "outputs": [],
   "source": [
    "@tool\n",
    "def get_uml_diagram(yml_body: str) -> str:\n",
    "    \"\"\"Generate a UML flow diagram referencing the OpenAPI API specification.\n",
    "    \n",
    "    Args:\n",
    "        yml_body: openapi standard yml file of the swagger api\n",
    "    \"\"\"\n",
    "    try:\n",
    "        payload = {\n",
    "            \"actionGroup\": \"CodeAndDiagramActionGroup\",\n",
    "            \"function\": \"get_uml_diagram\",\n",
    "            \"parameters\": [\n",
    "                {\n",
    "                    \"name\": \"yml_body\",\n",
    "                    \"type\": \"string\",\n",
    "                    \"value\": yml_body\n",
    "                }\n",
    "            ],\n",
    "            \"messageVersion\": \"1.0\"\n",
    "        }\n",
    "        \n",
    "        response = lambda_client.invoke(\n",
    "            FunctionName=lambda_function_name,\n",
    "            Payload=json.dumps(payload)\n",
    "        )\n",
    "        \n",
    "        result = json.loads(response['Payload'].read())\n",
    "        \n",
    "        if 'response' in result:\n",
    "            function_response = result['response']['functionResponse']['responseBody']['TEXT']['body']\n",
    "            body = json.loads(function_response) if isinstance(function_response, str) else function_response\n",
    "            s3_uri = body.get('diagramUri', 'Not available')\n",
    "            plantuml_code = body.get('codeBody', 'Generated')\n",
    "            return f\"UML diagram generated successfully!\\n\\n**S3 Location:** {s3_uri}\\n\\n**PlantUML Code:**\\n```plantuml\\n{plantuml_code}\\n```\"\n",
    "        else:\n",
    "            return f\"UML diagram generation completed: {result}\"\n",
    "            \n",
    "    except Exception as e:\n",
    "        return f\"Error generating UML diagram: {str(e)}\"\n",
    "\n",
    "@tool\n",
    "def get_unit_test_code(yml_body: str, user_query: str) -> str:\n",
    "    \"\"\"Generate functional testing code referencing the OpenAPI API specification.\n",
    "    \n",
    "    Args:\n",
    "        yml_body: openapi standard yml file of the swagger api\n",
    "        user_query: question from user or code user wants to generate\n",
    "    \"\"\"\n",
    "    try:\n",
    "        body = json.dumps({\n",
    "            \"anthropic_version\": \"bedrock-2023-05-31\",\n",
    "            \"max_tokens\": 4096,\n",
    "            \"messages\": [{\n",
    "                \"role\": \"user\",\n",
    "                \"content\": [{\n",
    "                    \"type\": \"text\",\n",
    "                    \"text\": f\"\"\"Generate a code snippet based on this OpenAPI YAML file and user query.\n",
    "\n",
    "YAML_FILE:\n",
    "{yml_body}\n",
    "\n",
    "USER_QUERY:\n",
    "{user_query}\n",
    "\n",
    "Generate a code snippet that demonstrates how to use the API based on the user query. Include necessary imports, endpoint URL, HTTP method, parameters, and request body. Format using markdown code blocks.\"\"\"\n",
    "                }]\n",
    "            }]\n",
    "        })\n",
    "        \n",
    "        response = bedrock_runtime.invoke_model(\n",
    "            modelId=\"us.anthropic.claude-3-5-sonnet-20241022-v2:0\",\n",
    "            body=body\n",
    "        )\n",
    "        \n",
    "        result = json.loads(response.get(\"body\").read())\n",
    "        return result[\"content\"][0][\"text\"]\n",
    "        \n",
    "    except Exception as e:\n",
    "        return f\"Error generating test code: {str(e)}\"\n",
    "\n",
    "@tool\n",
    "def retrieve_swagger_spec(query: str) -> str:\n",
    "    \"\"\"Retrieve OpenAPI/Swagger specification from the knowledge base.\n",
    "    \n",
    "    Args:\n",
    "        query: search query to find relevant API specification\n",
    "    \"\"\"\n",
    "    try:\n",
    "        response = bedrock_agent_runtime_client.retrieve(\n",
    "            knowledgeBaseId=kb_id,\n",
    "            retrievalQuery={'text': query},\n",
    "            retrievalConfiguration={\n",
    "                'vectorSearchConfiguration': {\n",
    "                    'numberOfResults': 5\n",
    "                }\n",
    "            }\n",
    "        )\n",
    "        \n",
    "        results = []\n",
    "        for result in response['retrievalResults']:\n",
    "            content = result['content']['text']\n",
    "            results.append(content)\n",
    "        \n",
    "        return \"\\n\\n\".join(results)\n",
    "        \n",
    "    except Exception as e:\n",
    "        return f\"Error retrieving from knowledge base: {str(e)}\""
   ]
  },
  {
   "cell_type": "markdown",
   "id": "fde8bac3-2f34-4260-a26e-2c0efbb94da4",
   "metadata": {},
   "source": [
    "## Create Strands Agent\n",
    "\n",
    "Now we'll create a Strands agent with the Bedrock model and our custom tools."
   ]
  },
  {
   "cell_type": "code",
   "execution_count": null,
   "id": "d6c0b3cf-77f6-4a1b-97cd-a576575beb28",
   "metadata": {},
   "outputs": [],
   "source": [
    "# Create Bedrock model configuration\n",
    "bedrock_model = BedrockModel(\n",
    "    model_id=\"us.anthropic.claude-3-7-sonnet-20250219-v1:0\",\n",
    "    region_name=region_name,\n",
    "    temperature=0.1,\n",
    "    max_tokens=4000\n",
    ")\n",
    "\n",
    "# System prompt for the agent\n",
    "system_prompt = \"\"\"\n",
    "You are an agent designed to support users with coding questions related to Swagger APIs. You have access to the Swagger\n",
    "documentation in a Knowledge Base and you can answer questions from this document or use document as reference to generate\n",
    "code or UML flow diagrams. \n",
    "\n",
    "When users ask for:\n",
    "1. UML diagrams - use the get_uml_diagram tool with the relevant OpenAPI specification\n",
    "2. Test code generation - use the get_unit_test_code tool with the specification and user query\n",
    "3. General questions - use retrieve_swagger_spec to get relevant documentation\n",
    "\n",
    "Always first retrieve the relevant Swagger specification using retrieve_swagger_spec before using other tools.\n",
    "Only answer questions based on the documentation and reply with \"There is no information about your \n",
    "question in the Documentation at the moment, sorry! Do you want to ask another question?\" if the answer to the question \n",
    "is not available in the documentation.\n",
    "\"\"\"\n",
    "\n",
    "# Create the agent\n",
    "swagger_agent = Agent(\n",
    "    model=bedrock_model,\n",
    "    tools=[get_uml_diagram, get_unit_test_code, retrieve_swagger_spec],\n",
    "    system_prompt=system_prompt,\n",
    "    name=\"SwaggerAPIAgent\"\n",
    ")\n",
    "\n",
    "print(\"Strands Swagger API Agent created successfully!\")"
   ]
  },
  {
   "cell_type": "markdown",
   "id": "46b97f45-49e0-440e-be3c-10b4d1fe7757",
   "metadata": {},
   "source": [
    "## Test the Agent with Knowledge Base Retrieval\n",
    "\n",
    "Let's test the agent's ability to retrieve information from the knowledge base."
   ]
  },
  {
   "cell_type": "code",
   "execution_count": null,
   "id": "aa977390-1cbb-4b82-8626-7f0300033ea0",
   "metadata": {},
   "outputs": [],
   "source": [
    "# Test basic knowledge retrieval\n",
    "query = \"How do I add a new pet to petstore?\"\n",
    "response = swagger_agent(query)\n",
    "display(Markdown(str(response)))"
   ]
  },
  {
   "cell_type": "markdown",
   "id": "c7196967-ea84-4fa7-b84e-37806f83cfe8",
   "metadata": {},
   "source": [
    "## Test UML Diagram Generation\n",
    "\n",
    "Now let's test the agent's ability to generate UML diagrams."
   ]
  },
  {
   "cell_type": "code",
   "execution_count": null,
   "id": "69667a9b-a989-47fc-8538-5e552ba5c617",
   "metadata": {},
   "outputs": [],
   "source": [
    "# Test UML diagram generation\n",
    "query = \"Can you generate UML diagram for the bookstore swagger api?\"\n",
    "response = swagger_agent(query)\n",
    "display(Markdown(str(response)))"
   ]
  },
  {
   "cell_type": "markdown",
   "id": "780b4d14-d860-49fe-85db-efe1fb96451b",
   "metadata": {},
   "source": [
    "## Test Python Code Generation\n",
    "\n",
    "Let's test the agent's ability to generate Python test code."
   ]
  },
  {
   "cell_type": "code",
   "execution_count": null,
   "id": "20c008e5-5df2-45be-904d-edcbee580549",
   "metadata": {},
   "outputs": [],
   "source": [
    "# Test code generation\n",
    "query = \"How do I add a new pet using the petstore api? Can you generate a test code in python?\"\n",
    "response = swagger_agent(query)\n",
    "display(Markdown(str(response)))"
   ]
  },
  {
   "cell_type": "markdown",
   "id": "a77e8b72-7ec8-40c3-9695-e79029666c02",
   "metadata": {},
   "source": [
    "## Advanced Usage: Streaming Responses\n",
    "\n",
    "Strands SDK supports streaming responses for real-time interaction."
   ]
  },
  {
   "cell_type": "code",
   "execution_count": null,
   "id": "cb0be39c-f332-4a3d-a1c9-37818288f45b",
   "metadata": {},
   "outputs": [],
   "source": [
    "# Example of streaming response\n",
    "import asyncio\n",
    "\n",
    "async def stream_example():\n",
    "    query = \"Explain the petstore API endpoints and generate sample code for creating a pet\"\n",
    "    \n",
    "    print(\"Streaming response:\")\n",
    "    print(\"-\" * 50)\n",
    "    \n",
    "    async for event in swagger_agent.stream_async(query):\n",
    "        if content := event.get(\"content_block_delta\", {}).get(\"delta\", {}).get(\"text\"):\n",
    "            print(content, end=\"\", flush=True)\n",
    "    \n",
    "    print(\"\\n\" + \"-\" * 50)\n",
    "    print(\"Streaming complete!\")\n",
    "\n",
    "# Run the streaming example\n",
    "await stream_example()"
   ]
  },
  {
   "cell_type": "markdown",
   "id": "304242f2-85db-4436-b3b0-2d076e5fff5f",
   "metadata": {},
   "source": [
    "## Interactive Chat Session\n",
    "\n",
    "Let's create an interactive chat session to demonstrate multi-turn conversations."
   ]
  },
  {
   "cell_type": "code",
   "execution_count": null,
   "id": "43c48c1d-a03b-4cdf-8f61-07eb32acd122",
   "metadata": {},
   "outputs": [],
   "source": [
    "def interactive_chat():\n",
    "    \"\"\"Simple interactive chat with the Swagger API agent.\"\"\"\n",
    "    print(\"Swagger API Agent Chat (type 'quit' to exit)\")\n",
    "    print(\"=\" * 50)\n",
    "    \n",
    "    while True:\n",
    "        user_input = input(\"\\nYou: \")\n",
    "        \n",
    "        if user_input.lower() in ['quit', 'exit', 'q']:\n",
    "            print(\"Goodbye!\")\n",
    "            break\n",
    "        \n",
    "        try:\n",
    "            response = swagger_agent(user_input)\n",
    "            print(f\"\\nAgent: {str(response)}\")\n",
    "        except Exception as e:\n",
    "            print(f\"\\nError: {str(e)}\")\n",
    "\n",
    "# Uncomment the line below to start interactive chat\n",
    "# interactive_chat()"
   ]
  },
  {
   "cell_type": "code",
   "execution_count": null,
   "id": "39a49bcc-89b3-4506-966f-ea8eae2e54da",
   "metadata": {},
   "outputs": [],
   "source": [
    "# Test with metrics collection\n",
    "query = \"What are the main endpoints in the petstore API?\"\n",
    "response = swagger_agent(query)\n",
    "\n",
    "# Display response\n",
    "display(Markdown(str(response)))\n",
    "\n",
    "# Display metrics\n",
    "print(\"\\n\" + \"=\" * 50)\n",
    "print(\"AGENT METRICS\")\n",
    "print(\"=\" * 50)\n",
    "print(f\"Total tokens: {response.metrics.accumulated_usage.get('totalTokens', 'N/A')}\")\n",
    "print(f\"Input tokens: {response.metrics.accumulated_usage.get('inputTokens', 'N/A')}\")\n",
    "print(f\"Output tokens: {response.metrics.accumulated_usage.get('outputTokens', 'N/A')}\")"
   ]
  },
  {
   "cell_type": "markdown",
   "id": "38beaab6-a94e-4749-84e1-c817ab3923c3",
   "metadata": {},
   "source": [
    "## Cleanup (Optional)\n",
    "\n",
    "The Strands agent doesn't require cleanup as it doesn't create persistent AWS resources. However, you may want to clean up the original Bedrock Agent resources if no longer needed."
   ]
  },
  {
   "cell_type": "code",
   "execution_count": null,
   "id": "025491a4-79ac-4029-b792-ee8f53172da6",
   "metadata": {},
   "outputs": [],
   "source": [
    "print(\"Strands SDK agent session complete!\")\n",
    "print(\"No cleanup required - Strands agents are stateless and don't create persistent AWS resources.\")\n",
    "print(\"\\nTo clean up the original Bedrock Agent resources, refer to the original notebook.\")"
   ]
  },
  {
   "cell_type": "code",
   "execution_count": null,
   "id": "a4494f96-e56e-47a1-9a39-e46736b5ca61",
   "metadata": {},
   "outputs": [],
   "source": []
  }
 ],
 "metadata": {
  "kernelspec": {
   "display_name": "Python 3 (ipykernel)",
   "language": "python",
   "name": "python3"
  },
  "language_info": {
   "codemirror_mode": {
    "name": "ipython",
    "version": 3
   },
   "file_extension": ".py",
   "mimetype": "text/x-python",
   "name": "python",
   "nbconvert_exporter": "python",
   "pygments_lexer": "ipython3",
   "version": "3.12.9"
  }
 },
 "nbformat": 4,
 "nbformat_minor": 5
}
