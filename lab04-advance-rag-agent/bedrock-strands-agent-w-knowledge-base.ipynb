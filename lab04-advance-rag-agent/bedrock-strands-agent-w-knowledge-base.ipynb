{
 "cells": [
  {
   "cell_type": "markdown",
   "id": "a9fdab2e-cd5e-4ee8-b2a3-6db21cd958b0",
   "metadata": {},
   "source": [
    "## RAG with Strands Agents SDK\n",
    "\n",
    "RAG architectures have proven effective at leveraging knowledge bases to enhance foundation model outputs. However, for more complex queries that require reasoning over diverse information sources, a single monolithic RAG model can face limitations around relevance, latency, and coherence. Multi-agent architectures offer a powerful way to overcome these limitations by factoring RAG into specialized components.\n",
    "\n",
    "In this lab, we are going to extend the Technical document assistant from previous Naive RAG lab and build an agent using **Strands Agents SDK** that can generate API flow diagrams, create unit testing code, and retrieve knowledge from a knowledge base. The Strands SDK provides a much simpler, more Pythonic way to build agents compared to the traditional boto3 Bedrock Agent API.\n",
    "\n",
    "**Key benefits of Strands SDK:**\n",
    "- Simple agent creation with `Agent(tools=[...])`\n",
    "- Tools defined as Python functions with `@tool` decorator\n",
    "- Direct invocation with `agent(query)`\n",
    "- No complex setup with action groups, aliases, or Lambda permissions\n",
    "- Full observability and tracing support\n",
    "\n",
    "![Agent](../static/advance-agent-rag.png)"
   ]
  },
  {
   "cell_type": "markdown",
   "id": "47f33877-1876-48e1-b4fe-28173d50e5c7",
   "metadata": {},
   "source": [
    "## Pre-req\n",
    "You must run the [workshop_setup.ipynb](../lab00-setup/workshop_setup.ipynb) notebook in `lab00-setup` before starting this lab."
   ]
  },
  {
   "cell_type": "code",
   "execution_count": null,
   "id": "e1117956-529a-4a46-8237-7785c72dd0ce",
   "metadata": {},
   "outputs": [],
   "source": [
    "import warnings\n",
    "warnings.warn(\"Warning: if you did not run lab00-setup, please go back and run the lab00 notebook\")"
   ]
  },
  {
   "cell_type": "markdown",
   "id": "install-strands",
   "metadata": {},
   "source": [
    "## Install Strands Agents SDK\n",
    "\n",
    "First, we need to install the Strands Agents SDK and related dependencies."
   ]
  },
  {
   "cell_type": "code",
   "execution_count": null,
   "id": "install-deps",
   "metadata": {},
   "outputs": [],
   "source": [
    "!pip install -q strands-agents strands-agents-tools"
   ]
  },
  {
   "cell_type": "markdown",
   "id": "286fd078-3d93-4d94-92f8-0703006db38f",
   "metadata": {},
   "source": [
    "## Load the parameters"
   ]
  },
  {
   "cell_type": "code",
   "execution_count": null,
   "id": "214f8ee4-6b45-4afb-807e-357a364dda4f",
   "metadata": {},
   "outputs": [],
   "source": [
    "print(\"load the data parameters....\\n\")\n",
    "# bucket and parameter stored from Initial setup lab01\n",
    "%store -r bucket\n",
    "%store -r prefix\n",
    "%store -r data_dir\n",
    "%store -r yml_dir\n",
    "%store -r uml_dir\n",
    "\n",
    "## check all 5 values are printed and do not fail\n",
    "print(bucket)\n",
    "print(prefix)\n",
    "print(yml_dir)\n",
    "print(uml_dir)\n",
    "print(data_dir)\n",
    "\n",
    "print(\"\\nload the vector db parameters....\\n\")\n",
    "\n",
    "# vector parameters stored from Initial setup lab02\n",
    "%store -r vector_host\n",
    "%store -r vector_collection_arn\n",
    "%store -r vector_collection_id\n",
    "%store -r bedrock_kb_execution_role_arn\n",
    "\n",
    "print(vector_host)\n",
    "print(vector_collection_arn)\n",
    "print(vector_collection_id)\n",
    "print(bedrock_kb_execution_role_arn)"
   ]
  },
  {
   "cell_type": "markdown",
   "id": "7dce9ad9-a8ae-440e-b177-ac5a29236edb",
   "metadata": {},
   "source": [
    "## Setup"
   ]
  },
  {
   "cell_type": "code",
   "execution_count": null,
   "id": "7380e0b2-0589-4205-9758-6da9a67a1edf",
   "metadata": {},
   "outputs": [],
   "source": [
    "import boto3\n",
    "from botocore.config import Config\n",
    "import time\n",
    "import random\n",
    "import pprint as pp\n",
    "import uuid\n",
    "import json\n",
    "from retrying import retry\n",
    "from utility import create_bedrock_execution_role, create_oss_policy_attach_bedrock_execution_role, create_policies_in_oss\n",
    "from opensearchpy import OpenSearch, RequestsHttpConnection, AWSV4SignerAuth\n",
    "\n",
    "# auth for opensearch\n",
    "boto3_config = Config(\n",
    "        connect_timeout=1, read_timeout=300,\n",
    "        retries={'max_attempts': 1})\n",
    "\n",
    "boto3_session = boto3.Session()\n",
    "region_name = boto3_session.region_name\n",
    "sts_client = boto3.client('sts')\n",
    "account_id = sts_client.get_caller_identity()[\"Account\"]\n",
    "credentials = boto3_session.get_credentials()\n",
    "\n",
    "# opensearch service\n",
    "service = 'aoss'\n",
    "awsauth = auth = AWSV4SignerAuth(credentials, region_name, service)\n",
    "\n",
    "suffix = random.randrange(200, 900)\n",
    "\n",
    "bedrock_agent_client = boto3_session.client('bedrock-agent', region_name=region_name)"
   ]
  },
  {
   "cell_type": "markdown",
   "id": "db990f08-015e-465b-9267-69d9738f4d10",
   "metadata": {},
   "source": [
    "## Create a vector store - OpenSearch Serverless index\n",
    "\n",
    "For this lab, we will use *Amazon OpenSearch serverless.*\n",
    "\n",
    "Amazon OpenSearch Serverless is a serverless option in Amazon OpenSearch Service. As a developer, you can use OpenSearch Serverless to run petabyte-scale workloads without configuring, managing, and scaling OpenSearch clusters. You get the same interactive millisecond response times as OpenSearch Service with the simplicity of a serverless environment. Pay only for what you use by automatically scaling resources to provide the right amount of capacity for your application—without impacting data ingestion."
   ]
  },
  {
   "cell_type": "code",
   "execution_count": null,
   "id": "d693b588-e7cd-4ba3-9ce1-fb5d7599fd4d",
   "metadata": {},
   "outputs": [],
   "source": [
    "aoss_client = boto3_session.client('opensearchserverless')"
   ]
  },
  {
   "cell_type": "markdown",
   "id": "8f35d671-1aa4-415b-87f0-6beb336fcfc0",
   "metadata": {},
   "source": [
    "### Create the schema for vector index"
   ]
  },
  {
   "cell_type": "code",
   "execution_count": null,
   "id": "7625ad3f-9822-4ca7-9fec-3aa93c7f305b",
   "metadata": {},
   "outputs": [],
   "source": [
    "index_name = f\"bedrock-sample-index-{suffix}\"\n",
    "body_json = {\n",
    "   \"settings\": {\n",
    "      \"index.knn\": \"true\"\n",
    "   },\n",
    "   \"mappings\": {\n",
    "      \"properties\": {\n",
    "         \"vector\": {\n",
    "            \"type\": \"knn_vector\",\n",
    "            \"dimension\": 1024,\n",
    "            \"method\": {\n",
    "                \"name\": \"hnsw\",\n",
    "                \"space_type\": \"innerproduct\",\n",
    "                \"engine\": \"faiss\",\n",
    "                \"parameters\": {\n",
    "                  \"ef_construction\": 256,\n",
    "                  \"m\": 48\n",
    "                }\n",
    "             }\n",
    "         },\n",
    "         \"text\": {\n",
    "            \"type\": \"text\"\n",
    "         },\n",
    "         \"text-metadata\": {\n",
    "            \"type\": \"text\"         \n",
    "         }\n",
    "      }\n",
    "   }\n",
    "}\n",
    "# Build the OpenSearch client\n",
    "oss_client = OpenSearch(\n",
    "    hosts=[{'host': vector_host, 'port': 443}],\n",
    "    http_auth=awsauth,\n",
    "    use_ssl=True,\n",
    "    verify_certs=True,\n",
    "    connection_class=RequestsHttpConnection,\n",
    "    timeout=300\n",
    ")"
   ]
  },
  {
   "cell_type": "code",
   "execution_count": null,
   "id": "f23e0b4a-1189-477a-84ab-de83741169ad",
   "metadata": {},
   "outputs": [],
   "source": [
    "# Create index\n",
    "response = oss_client.indices.create(index=index_name, body=json.dumps(body_json))\n",
    "print('\\nCreating index:')\n",
    "print(response)"
   ]
  },
  {
   "cell_type": "markdown",
   "id": "fde8bac3-2f34-4260-a26e-2c0efbb94da4",
   "metadata": {},
   "source": [
    "## Create Knowledge Base\n",
    "Steps:\n",
    "- initialize OpenSearch serverless configuration which will include collection ARN, index name, vector field, text field and metadata field.\n",
    "- initialize chunking strategy, based on which KB will split the documents into pieces of size equal to the chunk size mentioned in the `chunkingStrategyConfiguration`.\n",
    "- initialize the s3 configuration, which will be used to create the data source object later.\n",
    "- initialize the Titan embeddings model ARN, as this will be used to create the embeddings for each of the text chunks."
   ]
  },
  {
   "cell_type": "code",
   "execution_count": null,
   "id": "d6c0b3cf-77f6-4a1b-97cd-a576575beb28",
   "metadata": {},
   "outputs": [],
   "source": [
    "opensearchServerlessConfiguration = {\n",
    "            \"collectionArn\": vector_collection_arn,\n",
    "            \"vectorIndexName\": index_name,\n",
    "            \"fieldMapping\": {\n",
    "                \"vectorField\": \"vector\",\n",
    "                \"textField\": \"text\",\n",
    "                \"metadataField\": \"text-metadata\"\n",
    "            }\n",
    "        }\n",
    "\n",
    "chunkingStrategyConfiguration = {\n",
    "    \"chunkingStrategy\": \"NONE\",\n",
    "}\n",
    "\n",
    "s3Configuration = {\n",
    "    \"bucketArn\": f\"arn:aws:s3:::{bucket}\",\n",
    "    \"inclusionPrefixes\":[f\"{prefix}/{yml_dir.replace(data_dir+'/', '')}/\"] # you can use this if you want to create a KB using data within s3 prefixes.\n",
    "}\n",
    "\n",
    "embeddingModelArn = f\"arn:aws:bedrock:{region_name}::foundation-model/amazon.titan-embed-text-v2:0\"\n",
    "\n",
    "kb_name = f\"bedrock-sample-knowledge-base-{suffix}\"\n",
    "description = \"Swagger OpenAPI knowledge base.\""
   ]
  },
  {
   "cell_type": "markdown",
   "id": "6c12d9fc-a1e9-4607-9d7c-dbcd9b6b7f12",
   "metadata": {},
   "source": [
    "Provide the above configurations as input to the `create_knowledge_base` method, which will create the Knowledge base."
   ]
  },
  {
   "cell_type": "code",
   "execution_count": null,
   "id": "d3f1013c-a0de-4c69-8308-9de70c20f92a",
   "metadata": {},
   "outputs": [],
   "source": [
    "# Create a KnowledgeBase\n",
    "from retrying import retry\n",
    "\n",
    "@retry(wait_random_min=1000, wait_random_max=2000,stop_max_attempt_number=7)\n",
    "def create_knowledge_base_func():\n",
    "    create_kb_response = bedrock_agent_client.create_knowledge_base(\n",
    "        name = kb_name,\n",
    "        description = description,\n",
    "        roleArn = bedrock_kb_execution_role_arn,\n",
    "        knowledgeBaseConfiguration = {\n",
    "            \"type\": \"VECTOR\",\n",
    "            \"vectorKnowledgeBaseConfiguration\": {\n",
    "                \"embeddingModelArn\": embeddingModelArn\n",
    "            }\n",
    "        },\n",
    "        storageConfiguration = {\n",
    "            \"type\": \"OPENSEARCH_SERVERLESS\",\n",
    "            \"opensearchServerlessConfiguration\":opensearchServerlessConfiguration\n",
    "        }\n",
    "    )\n",
    "    return create_kb_response[\"knowledgeBase\"]"
   ]
  },
  {
   "cell_type": "code",
   "execution_count": null,
   "id": "537d81d1-b296-4a7a-bef3-22a7452b54d0",
   "metadata": {},
   "outputs": [],
   "source": [
    "try:\n",
    "    kb = create_knowledge_base_func()\n",
    "except Exception as err:\n",
    "    print(f\"{err=}, {type(err)=}\")"
   ]
  },
  {
   "cell_type": "markdown",
   "id": "46b97f45-49e0-440e-be3c-10b4d1fe7757",
   "metadata": {},
   "source": [
    "Next we need to create a data source, which will be associated with the knowledge base created above. Once the data source is ready, we can then start to ingest the documents."
   ]
  },
  {
   "cell_type": "code",
   "execution_count": null,
   "id": "aa977390-1cbb-4b82-8626-7f0300033ea0",
   "metadata": {},
   "outputs": [],
   "source": [
    "# Get KnowledgeBase \n",
    "get_kb_response = bedrock_agent_client.get_knowledge_base(knowledgeBaseId = kb['knowledgeBaseId'])"
   ]
  },
  {
   "cell_type": "code",
   "execution_count": null,
   "id": "c84b2d1b-6708-4dd0-a828-82d4ee5acf16",
   "metadata": {},
   "outputs": [],
   "source": [
    "# Create a DataSource in KnowledgeBase \n",
    "create_ds_response = bedrock_agent_client.create_data_source(\n",
    "    name = kb_name,\n",
    "    description = description,\n",
    "    knowledgeBaseId = kb['knowledgeBaseId'],\n",
    "    dataSourceConfiguration = {\n",
    "        \"type\": \"S3\",\n",
    "        \"s3Configuration\":s3Configuration\n",
    "    },\n",
    "    vectorIngestionConfiguration = {\n",
    "        \"chunkingConfiguration\": chunkingStrategyConfiguration\n",
    "    }\n",
    ")\n",
    "ds = create_ds_response[\"dataSource\"]\n",
    "# # It can take up to a minute for data access rules to be enforced\n",
    "time.sleep(20)\n",
    "pp.pprint(ds)"
   ]
  },
  {
   "cell_type": "markdown",
   "id": "885a1a07-68bd-4472-aa0f-e3ecc541aa75",
   "metadata": {},
   "source": [
    "### Start ingestion job\n",
    "Once the KB and data source is created, we can start the ingestion job.\n",
    "During the ingestion job, KB will fetch the documents in the data source, pre-process it to extract text, chunk it based on the chunking size provided, create embeddings of each chunk and then write it to the vector database, in this case OSS."
   ]
  },
  {
   "cell_type": "code",
   "execution_count": null,
   "id": "4d89ee2c-4757-4ab0-a4fe-df4cb810cecd",
   "metadata": {},
   "outputs": [],
   "source": [
    "# Start an ingestion job\n",
    "start_job_response = bedrock_agent_client.start_ingestion_job(knowledgeBaseId = kb['knowledgeBaseId'], dataSourceId = ds[\"dataSourceId\"])"
   ]
  },
  {
   "cell_type": "code",
   "execution_count": null,
   "id": "e4d27676-0634-4005-bdc7-95b79e7f36fc",
   "metadata": {},
   "outputs": [],
   "source": [
    "job = start_job_response[\"ingestionJob\"]\n",
    "pp.pprint(job)"
   ]
  },
  {
   "cell_type": "code",
   "execution_count": null,
   "id": "b235dae5-99be-4af2-8c33-db4c6c101830",
   "metadata": {},
   "outputs": [],
   "source": [
    "# Get job \n",
    "while(job['status']!='COMPLETE' ):\n",
    "  get_job_response = bedrock_agent_client.get_ingestion_job(\n",
    "      knowledgeBaseId = kb['knowledgeBaseId'],\n",
    "        dataSourceId = ds[\"dataSourceId\"],\n",
    "        ingestionJobId = job[\"ingestionJobId\"]\n",
    "  )\n",
    "  job = get_job_response[\"ingestionJob\"]\n",
    "pp.pprint(job)\n",
    "time.sleep(80)"
   ]
  },
  {
   "cell_type": "code",
   "execution_count": null,
   "id": "522280f4-7246-4295-a9cf-361bc9f8a79d",
   "metadata": {},
   "outputs": [],
   "source": [
    "kb_id = kb[\"knowledgeBaseId\"]\n",
    "%store kb_id\n",
    "pp.pprint(kb_id)"
   ]
  },
  {
   "cell_type": "markdown",
   "id": "test-kb-header",
   "metadata": {},
   "source": [
    "## Test the knowledge base\n",
    "### Using RetrieveAndGenerate API\n",
    "Before creating our Strands agent, let's test the knowledge base to ensure it's working correctly."
   ]
  },
  {
   "cell_type": "code",
   "execution_count": null,
   "id": "test-kb-setup",
   "metadata": {},
   "outputs": [],
   "source": [
    "# try out KB using RetrieveAndGenerate API\n",
    "bedrock_agent_runtime_client = boto3_session.client(\"bedrock-agent-runtime\", \n",
    "                                                    config=boto3_config)\n",
    "model_id = \"anthropic.claude-3-sonnet-20240229-v1:0\" \n",
    "model_arn = f'arn:aws:bedrock:{region_name}::foundation-model/{model_id}'"
   ]
  },
  {
   "cell_type": "code",
   "execution_count": null,
   "id": "test-kb-query",
   "metadata": {},
   "outputs": [],
   "source": [
    "from IPython.display import Markdown, display\n",
    "\n",
    "query = \"What APIs are available in the petstore?\"\n",
    "response = bedrock_agent_runtime_client.retrieve_and_generate(\n",
    "    input={\n",
    "        'text': query\n",
    "    },\n",
    "    retrieveAndGenerateConfiguration={\n",
    "        'type': 'KNOWLEDGE_BASE',\n",
    "        'knowledgeBaseConfiguration': {\n",
    "            'knowledgeBaseId': kb_id,\n",
    "            'modelArn': model_arn\n",
    "        }\n",
    "    },\n",
    ")\n",
    "\n",
    "generated_text = response['output']['text']\n",
    "\n",
    "display(Markdown(generated_text))"
   ]
  },
  {
   "cell_type": "markdown",
   "id": "strands-agent-header",
   "metadata": {},
   "source": [
    "## Create the Agent using Strands SDK\n",
    "\n",
    "Now we'll create our agent using the Strands SDK. This is much simpler than the traditional boto3 approach:\n",
    "\n",
    "**Traditional Approach (boto3):**\n",
    "- Create agent via `bedrock_agent_client.create_agent()`\n",
    "- Create action groups via `create_agent_action_group()`\n",
    "- Deploy Lambda functions\n",
    "- Add Lambda permissions\n",
    "- Create agent alias\n",
    "- Prepare agent\n",
    "- Invoke with `invoke_agent()` and parse event stream\n",
    "\n",
    "**Strands Approach:**\n",
    "- Define tools with `@tool` decorator\n",
    "- Create agent: `agent = Agent(tools=[...])`\n",
    "- Invoke: `agent(query)`\n",
    "\n",
    "That's it!"
   ]
  },
  {
   "cell_type": "code",
   "execution_count": null,
   "id": "import-strands",
   "metadata": {},
   "outputs": [],
   "source": [
    "from strands import Agent\n",
    "from strands_agent_tools import get_uml_diagram, get_unit_test_code, search_knowledge_base"
   ]
  },
  {
   "cell_type": "code",
   "execution_count": null,
   "id": "create-agent",
   "metadata": {},
   "outputs": [],
   "source": [
    "# Create wrapper tools that include the kb_id\n",
    "from strands import tool\n",
    "\n",
    "@tool\n",
    "def search_swagger_docs(query: str) -> str:\n",
    "    \"\"\"\n",
    "    Search the Swagger API documentation knowledge base to find relevant API information.\n",
    "    Use this tool to retrieve OpenAPI YAML specifications before generating diagrams or code.\n",
    "    \n",
    "    Args:\n",
    "        query: Search query to find relevant API documentation\n",
    "    \n",
    "    Returns:\n",
    "        JSON string containing the retrieved OpenAPI YAML content and metadata\n",
    "    \"\"\"\n",
    "    return search_knowledge_base(query, kb_id, max_results=5)\n",
    "\n",
    "# Create the Strands agent with all tools\n",
    "agent = Agent(\n",
    "    tools=[search_swagger_docs, get_uml_diagram, get_unit_test_code],\n",
    "    model=\"bedrock:anthropic.claude-3-sonnet-20240229-v1:0\",\n",
    "    instructions=\"\"\"\n",
    "    You are a helpful assistant for Swagger API developers. You can:\n",
    "    \n",
    "    1. Search the Swagger API documentation knowledge base to answer questions\n",
    "    2. Generate UML flow diagrams from OpenAPI specifications\n",
    "    3. Generate functional test code in various programming languages\n",
    "    \n",
    "    When a user asks about an API:\n",
    "    - First, search the knowledge base to retrieve the relevant OpenAPI YAML specification\n",
    "    - Then, use the appropriate tool to generate diagrams or code as requested\n",
    "    - Always provide clear, helpful responses based on the documentation\n",
    "    \n",
    "    If information is not available in the documentation, politely inform the user.\n",
    "    \"\"\"\n",
    ")\n",
    "\n",
    "print(\"Strands Agent created successfully!\")\n",
    "print(f\"Agent has {len(agent.tools)} tools available\")"
   ]
  },
  {
   "cell_type": "markdown",
   "id": "test-agent-header",
   "metadata": {},
   "source": [
    "## Test the Strands Agent\n",
    "\n",
    "Now let's test our agent with various queries. Notice how simple the invocation is compared to the traditional approach!"
   ]
  },
  {
   "cell_type": "markdown",
   "id": "test-kb-search",
   "metadata": {},
   "source": [
    "### Test 1: Knowledge Base Search\n",
    "Ask a question about the API documentation"
   ]
  },
  {
   "cell_type": "code",
   "execution_count": null,
   "id": "test-query-1",
   "metadata": {},
   "outputs": [],
   "source": [
    "%%time\n",
    "query = \"How do I add a new pet to the petstore API?\"\n",
    "response = agent(query)\n",
    "display(Markdown(response))"
   ]
  },
  {
   "cell_type": "markdown",
   "id": "test-uml",
   "metadata": {},
   "source": [
    "### Test 2: Generate UML Diagram\n",
    "Generate a UML flow diagram for an API"
   ]
  },
  {
   "cell_type": "code",
   "execution_count": null,
   "id": "test-query-2",
   "metadata": {},
   "outputs": [],
   "source": [
    "%%time\n",
    "query = \"Can you generate a UML diagram for the petstore API?\"\n",
    "response = agent(query)\n",
    "display(Markdown(response))"
   ]
  },
  {
   "cell_type": "markdown",
   "id": "test-code",
   "metadata": {},
   "source": [
    "### Test 3: Generate Test Code\n",
    "Generate Python test code for an API endpoint"
   ]
  },
  {
   "cell_type": "code",
   "execution_count": null,
   "id": "test-query-3",
   "metadata": {},
   "outputs": [],
   "source": [
    "%%time\n",
    "query = \"Generate Python test code to add a new pet to the petstore API\"\n",
    "response = agent(query)\n",
    "display(Markdown(response))"
   ]
  },
  {
   "cell_type": "markdown",
   "id": "test-multi-turn",
   "metadata": {},
   "source": [
    "### Test 4: Multi-turn Conversation\n",
    "The agent maintains conversation context automatically"
   ]
  },
  {
   "cell_type": "code",
   "execution_count": null,
   "id": "test-query-4a",
   "metadata": {},
   "outputs": [],
   "source": [
    "# First turn\n",
    "query = \"What endpoints are available in the bookstore API?\"\n",
    "response = agent(query)\n",
    "display(Markdown(response))"
   ]
  },
  {
   "cell_type": "code",
   "execution_count": null,
   "id": "test-query-4b",
   "metadata": {},
   "outputs": [],
   "source": [
    "# Follow-up question (agent remembers context)\n",
    "query = \"Can you show me how to use the first one in Python?\"\n",
    "response = agent(query)\n",
    "display(Markdown(response))"
   ]
  },
  {
   "cell_type": "markdown",
   "id": "comparison-header",
   "metadata": {},
   "source": [
    "## Comparison: Strands SDK vs Traditional Boto3 Approach\n",
    "\n",
    "### Code Comparison\n",
    "\n",
    "**Traditional Boto3 Approach (from original notebook):**\n",
    "```python\n",
    "# 1. Create agent\n",
    "response = bedrock_agent_client.create_agent(\n",
    "    agentName=agent_name,\n",
    "    agentResourceRoleArn=bedrock_kb_execution_role_arn,\n",
    "    foundationModel=model_id,\n",
    "    instruction=agent_instruction,\n",
    ")\n",
    "agent_id = response['agent']['agentId']\n",
    "\n",
    "# 2. Create action group with Lambda\n",
    "agent_action_group_response = bedrock_agent_client.create_agent_action_group(\n",
    "    agentId=agent_id,\n",
    "    agentVersion='DRAFT',\n",
    "    actionGroupExecutor={'lambda': lambda_arn},\n",
    "    functionSchema={'functions': agent_functions}\n",
    ")\n",
    "\n",
    "# 3. Add Lambda permissions\n",
    "lambda_client.add_permission(\n",
    "    FunctionName=lambda_function_name,\n",
    "    StatementId='allow_bedrock',\n",
    "    Action='lambda:InvokeFunction',\n",
    "    Principal='bedrock.amazonaws.com',\n",
    "    SourceArn=f\"arn:aws:bedrock:{region_name}:{account_id}:agent/{agent_id}\",\n",
    ")\n",
    "\n",
    "# 4. Associate knowledge base\n",
    "bedrock_agent_client.associate_agent_knowledge_base(\n",
    "    agentId=agent_id,\n",
    "    agentVersion='DRAFT',\n",
    "    knowledgeBaseId=kb_id,\n",
    "    knowledgeBaseState='ENABLED'\n",
    ")\n",
    "\n",
    "# 5. Prepare agent\n",
    "bedrock_agent_client.prepare_agent(agentId=agent_id)\n",
    "time.sleep(30)\n",
    "\n",
    "# 6. Create alias\n",
    "agent_alias = bedrock_agent_client.create_agent_alias(\n",
    "    agentId=agent_id,\n",
    "    agentAliasName=agent_alias_name\n",
    ")\n",
    "time.sleep(60)\n",
    "\n",
    "# 7. Invoke agent (complex event stream parsing)\n",
    "def invokeAgent(query, session_id, enable_trace=False):\n",
    "    agentResponse = bedrock_agent_runtime_client.invoke_agent(\n",
    "        inputText=query,\n",
    "        agentId=agent_id,\n",
    "        agentAliasId=agent_alias_id, \n",
    "        sessionId=session_id,\n",
    "        enableTrace=enable_trace\n",
    "    )\n",
    "    event_stream = agentResponse['completion']\n",
    "    for event in event_stream:\n",
    "        if 'chunk' in event:\n",
    "            return event['chunk']['bytes'].decode('utf8')\n",
    "\n",
    "response = invokeAgent(query, session_id)\n",
    "```\n",
    "\n",
    "**Strands SDK Approach (this notebook):**\n",
    "```python\n",
    "# 1. Define tools with @tool decorator (in strands_agent_tools.py)\n",
    "@tool\n",
    "def get_uml_diagram(yml_body: str) -> str:\n",
    "    \"\"\"Generate UML diagram from OpenAPI spec\"\"\"\n",
    "    # Implementation\n",
    "\n",
    "# 2. Create agent\n",
    "agent = Agent(\n",
    "    tools=[search_swagger_docs, get_uml_diagram, get_unit_test_code],\n",
    "    model=\"bedrock:anthropic.claude-3-sonnet-20240229-v1:0\",\n",
    "    instructions=\"...\"\n",
    ")\n",
    "\n",
    "# 3. Invoke agent\n",
    "response = agent(query)\n",
    "```\n",
    "\n",
    "### Key Benefits of Strands SDK:\n",
    "\n",
    "1. **Simplicity**: ~200 lines of setup code reduced to ~20 lines\n",
    "2. **No Infrastructure**: No Lambda functions, IAM roles, or permissions to manage\n",
    "3. **Pythonic**: Tools are just Python functions with decorators\n",
    "4. **Easy Testing**: Test tools directly as Python functions\n",
    "5. **Quick Iteration**: Change tools and test immediately, no deployment needed\n",
    "6. **Built-in Features**: Automatic conversation memory, streaming, tracing\n",
    "7. **Framework Agnostic**: Works with any model provider (Bedrock, OpenAI, etc.)\n",
    "\n",
    "### When to Use Each Approach:\n",
    "\n",
    "**Use Strands SDK when:**\n",
    "- You want rapid development and iteration\n",
    "- You're building proof-of-concepts or prototypes\n",
    "- You want to minimize infrastructure management\n",
    "- You need flexibility to switch between model providers\n",
    "\n",
    "**Use Traditional Boto3 when:**\n",
    "- You need fine-grained control over agent infrastructure\n",
    "- You have existing Lambda functions to integrate\n",
    "- You need to manage agents through AWS Console\n",
    "- You have specific compliance or governance requirements"
   ]
  },
  {
   "cell_type": "markdown",
   "id": "conclusion",
   "metadata": {},
   "source": [
    "## Conclusion\n",
    "\n",
    "In this lab, you've learned how to:\n",
    "\n",
    "1. Install and set up the Strands Agents SDK\n",
    "2. Create custom tools using the `@tool` decorator\n",
    "3. Build an agent that integrates with Amazon Bedrock Knowledge Bases\n",
    "4. Generate UML diagrams and test code from OpenAPI specifications\n",
    "5. Invoke agents with simple, Pythonic syntax\n",
    "\n",
    "The Strands SDK provides a modern, developer-friendly way to build AI agents while maintaining the power and reliability of Amazon Bedrock. For more information, visit:\n",
    "\n",
    "- [Strands Agents Documentation](https://strandsagents.com/latest/documentation/docs/)\n",
    "- [Strands SDK GitHub](https://github.com/strands-agents/sdk-python)\n",
    "- [AWS Bedrock AgentCore](https://docs.aws.amazon.com/bedrock-agentcore/latest/devguide/)\n",
    "\n",
    "### Next Steps\n",
    "\n",
    "- Add more custom tools for your specific use cases\n",
    "- Deploy your agent to production using Bedrock AgentCore Runtime\n",
    "- Experiment with different model providers\n",
    "- Add observability and monitoring using Strands' built-in tracing"
   ]
  }
 ],
 "metadata": {
  "kernelspec": {
   "display_name": "Python 3 (ipykernel)",
   "language": "python",
   "name": "python3"
  },
  "language_info": {
   "codemirror_mode": {
    "name": "ipython",
    "version": 3
   },
   "file_extension": ".py",
   "mimetype": "text/x-python",
   "name": "python",
   "nbconvert_exporter": "python",
   "pygments_lexer": "ipython3",
   "version": "3.10.0"
  }
 },
 "nbformat": 4,
 "nbformat_minor": 5
}
