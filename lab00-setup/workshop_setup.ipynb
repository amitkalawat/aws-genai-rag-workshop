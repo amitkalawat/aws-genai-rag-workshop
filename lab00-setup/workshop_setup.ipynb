{
 "cells": [
  {
   "cell_type": "markdown",
   "id": "7170d7c3",
   "metadata": {},
   "source": [
    "## > Setup for all Labs"
   ]
  },
  {
   "cell_type": "code",
   "execution_count": 1,
   "id": "7923c45f",
   "metadata": {
    "scrolled": true
   },
   "outputs": [
    {
     "name": "stdout",
     "output_type": "stream",
     "text": [
      "Requirement already satisfied: sagemaker in /opt/conda/lib/python3.10/site-packages (from -r requirements.txt (line 1)) (2.224.1)\n",
      "Requirement already satisfied: faiss-cpu==1.8.0 in /opt/conda/lib/python3.10/site-packages (from -r requirements.txt (line 2)) (1.8.0)\n",
      "Requirement already satisfied: json_repair==0.21.0 in /opt/conda/lib/python3.10/site-packages (from -r requirements.txt (line 3)) (0.21.0)\n",
      "Requirement already satisfied: termcolor==2.4.0 in /opt/conda/lib/python3.10/site-packages (from -r requirements.txt (line 4)) (2.4.0)\n",
      "Requirement already satisfied: webvtt-py==0.5.1 in /opt/conda/lib/python3.10/site-packages (from -r requirements.txt (line 5)) (0.5.1)\n",
      "Requirement already satisfied: ipykernel in /opt/conda/lib/python3.10/site-packages (from -r requirements.txt (line 6)) (6.29.4)\n",
      "Requirement already satisfied: pillow in /opt/conda/lib/python3.10/site-packages (from -r requirements.txt (line 7)) (10.3.0)\n",
      "Requirement already satisfied: pickleshare in /opt/conda/lib/python3.10/site-packages (from -r requirements.txt (line 8)) (0.7.5)\n",
      "Requirement already satisfied: boto3 in /opt/conda/lib/python3.10/site-packages (from -r requirements.txt (line 9)) (1.34.131)\n",
      "Requirement already satisfied: opensearch-py==2.3.1 in /opt/conda/lib/python3.10/site-packages (from -r requirements.txt (line 10)) (2.3.1)\n",
      "Requirement already satisfied: retrying==1.3.4 in /opt/conda/lib/python3.10/site-packages (from -r requirements.txt (line 11)) (1.3.4)\n",
      "Requirement already satisfied: plantweb in /opt/conda/lib/python3.10/site-packages (from -r requirements.txt (line 12)) (1.2.1)\n",
      "Requirement already satisfied: PyPDF2==3.0.1 in /opt/conda/lib/python3.10/site-packages (from -r requirements.txt (line 13)) (3.0.1)\n",
      "Requirement already satisfied: langchain==0.1.5 in /opt/conda/lib/python3.10/site-packages (from -r requirements.txt (line 14)) (0.1.5)\n",
      "Requirement already satisfied: sentence-transformers in /opt/conda/lib/python3.10/site-packages (from -r requirements.txt (line 15)) (3.0.1)\n",
      "Requirement already satisfied: tqdm==4.66.4 in /opt/conda/lib/python3.10/site-packages (from -r requirements.txt (line 16)) (4.66.4)\n",
      "Requirement already satisfied: numpy in /opt/conda/lib/python3.10/site-packages (from faiss-cpu==1.8.0->-r requirements.txt (line 2)) (1.26.4)\n",
      "Requirement already satisfied: urllib3<2,>=1.21.1 in /opt/conda/lib/python3.10/site-packages (from opensearch-py==2.3.1->-r requirements.txt (line 10)) (1.26.19)\n",
      "Requirement already satisfied: requests<3.0.0,>=2.4.0 in /opt/conda/lib/python3.10/site-packages (from opensearch-py==2.3.1->-r requirements.txt (line 10)) (2.32.3)\n",
      "Requirement already satisfied: six in /opt/conda/lib/python3.10/site-packages (from opensearch-py==2.3.1->-r requirements.txt (line 10)) (1.16.0)\n",
      "Requirement already satisfied: python-dateutil in /opt/conda/lib/python3.10/site-packages (from opensearch-py==2.3.1->-r requirements.txt (line 10)) (2.9.0)\n",
      "Requirement already satisfied: certifi>=2022.12.07 in /opt/conda/lib/python3.10/site-packages (from opensearch-py==2.3.1->-r requirements.txt (line 10)) (2024.6.2)\n",
      "Requirement already satisfied: PyYAML>=5.3 in /opt/conda/lib/python3.10/site-packages (from langchain==0.1.5->-r requirements.txt (line 14)) (6.0.1)\n",
      "Requirement already satisfied: SQLAlchemy<3,>=1.4 in /opt/conda/lib/python3.10/site-packages (from langchain==0.1.5->-r requirements.txt (line 14)) (2.0.30)\n",
      "Requirement already satisfied: aiohttp<4.0.0,>=3.8.3 in /opt/conda/lib/python3.10/site-packages (from langchain==0.1.5->-r requirements.txt (line 14)) (3.9.5)\n",
      "Requirement already satisfied: async-timeout<5.0.0,>=4.0.0 in /opt/conda/lib/python3.10/site-packages (from langchain==0.1.5->-r requirements.txt (line 14)) (4.0.3)\n",
      "Requirement already satisfied: dataclasses-json<0.7,>=0.5.7 in /opt/conda/lib/python3.10/site-packages (from langchain==0.1.5->-r requirements.txt (line 14)) (0.6.7)\n",
      "Requirement already satisfied: jsonpatch<2.0,>=1.33 in /opt/conda/lib/python3.10/site-packages (from langchain==0.1.5->-r requirements.txt (line 14)) (1.33)\n",
      "Requirement already satisfied: langchain-community<0.1,>=0.0.17 in /opt/conda/lib/python3.10/site-packages (from langchain==0.1.5->-r requirements.txt (line 14)) (0.0.20)\n",
      "Requirement already satisfied: langchain-core<0.2,>=0.1.16 in /opt/conda/lib/python3.10/site-packages (from langchain==0.1.5->-r requirements.txt (line 14)) (0.1.23)\n",
      "Requirement already satisfied: langsmith<0.1,>=0.0.83 in /opt/conda/lib/python3.10/site-packages (from langchain==0.1.5->-r requirements.txt (line 14)) (0.0.87)\n",
      "Requirement already satisfied: pydantic<3,>=1 in /opt/conda/lib/python3.10/site-packages (from langchain==0.1.5->-r requirements.txt (line 14)) (1.10.16)\n",
      "Requirement already satisfied: tenacity<9.0.0,>=8.1.0 in /opt/conda/lib/python3.10/site-packages (from langchain==0.1.5->-r requirements.txt (line 14)) (8.4.2)\n",
      "Requirement already satisfied: attrs<24,>=23.1.0 in /opt/conda/lib/python3.10/site-packages (from sagemaker->-r requirements.txt (line 1)) (23.2.0)\n",
      "Requirement already satisfied: cloudpickle==2.2.1 in /opt/conda/lib/python3.10/site-packages (from sagemaker->-r requirements.txt (line 1)) (2.2.1)\n",
      "Requirement already satisfied: google-pasta in /opt/conda/lib/python3.10/site-packages (from sagemaker->-r requirements.txt (line 1)) (0.2.0)\n",
      "Requirement already satisfied: protobuf<5.0,>=3.12 in /opt/conda/lib/python3.10/site-packages (from sagemaker->-r requirements.txt (line 1)) (4.24.4)\n",
      "Requirement already satisfied: smdebug-rulesconfig==1.0.1 in /opt/conda/lib/python3.10/site-packages (from sagemaker->-r requirements.txt (line 1)) (1.0.1)\n",
      "Requirement already satisfied: importlib-metadata<7.0,>=1.4.0 in /opt/conda/lib/python3.10/site-packages (from sagemaker->-r requirements.txt (line 1)) (6.10.0)\n",
      "Requirement already satisfied: packaging>=20.0 in /opt/conda/lib/python3.10/site-packages (from sagemaker->-r requirements.txt (line 1)) (23.2)\n",
      "Requirement already satisfied: pandas in /opt/conda/lib/python3.10/site-packages (from sagemaker->-r requirements.txt (line 1)) (2.1.4)\n",
      "Requirement already satisfied: pathos in /opt/conda/lib/python3.10/site-packages (from sagemaker->-r requirements.txt (line 1)) (0.3.2)\n",
      "Requirement already satisfied: schema in /opt/conda/lib/python3.10/site-packages (from sagemaker->-r requirements.txt (line 1)) (0.7.7)\n",
      "Requirement already satisfied: jsonschema in /opt/conda/lib/python3.10/site-packages (from sagemaker->-r requirements.txt (line 1)) (4.17.3)\n",
      "Requirement already satisfied: platformdirs in /opt/conda/lib/python3.10/site-packages (from sagemaker->-r requirements.txt (line 1)) (4.2.2)\n",
      "Requirement already satisfied: tblib<4,>=1.7.0 in /opt/conda/lib/python3.10/site-packages (from sagemaker->-r requirements.txt (line 1)) (2.0.0)\n",
      "Requirement already satisfied: docker in /opt/conda/lib/python3.10/site-packages (from sagemaker->-r requirements.txt (line 1)) (7.1.0)\n",
      "Requirement already satisfied: psutil in /opt/conda/lib/python3.10/site-packages (from sagemaker->-r requirements.txt (line 1)) (5.9.8)\n",
      "Requirement already satisfied: comm>=0.1.1 in /opt/conda/lib/python3.10/site-packages (from ipykernel->-r requirements.txt (line 6)) (0.2.2)\n",
      "Requirement already satisfied: debugpy>=1.6.5 in /opt/conda/lib/python3.10/site-packages (from ipykernel->-r requirements.txt (line 6)) (1.8.1)\n",
      "Requirement already satisfied: ipython>=7.23.1 in /opt/conda/lib/python3.10/site-packages (from ipykernel->-r requirements.txt (line 6)) (8.25.0)\n",
      "Requirement already satisfied: jupyter-client>=6.1.12 in /opt/conda/lib/python3.10/site-packages (from ipykernel->-r requirements.txt (line 6)) (8.6.2)\n",
      "Requirement already satisfied: jupyter-core!=5.0.*,>=4.12 in /opt/conda/lib/python3.10/site-packages (from ipykernel->-r requirements.txt (line 6)) (5.7.2)\n",
      "Requirement already satisfied: matplotlib-inline>=0.1 in /opt/conda/lib/python3.10/site-packages (from ipykernel->-r requirements.txt (line 6)) (0.1.7)\n",
      "Requirement already satisfied: nest-asyncio in /opt/conda/lib/python3.10/site-packages (from ipykernel->-r requirements.txt (line 6)) (1.6.0)\n",
      "Requirement already satisfied: pyzmq>=24 in /opt/conda/lib/python3.10/site-packages (from ipykernel->-r requirements.txt (line 6)) (26.0.3)\n",
      "Requirement already satisfied: tornado>=6.1 in /opt/conda/lib/python3.10/site-packages (from ipykernel->-r requirements.txt (line 6)) (6.4.1)\n",
      "Requirement already satisfied: traitlets>=5.4.0 in /opt/conda/lib/python3.10/site-packages (from ipykernel->-r requirements.txt (line 6)) (5.14.3)\n",
      "Requirement already satisfied: botocore<1.35.0,>=1.34.131 in /opt/conda/lib/python3.10/site-packages (from boto3->-r requirements.txt (line 9)) (1.34.131)\n",
      "Requirement already satisfied: jmespath<2.0.0,>=0.7.1 in /opt/conda/lib/python3.10/site-packages (from boto3->-r requirements.txt (line 9)) (1.0.1)\n",
      "Requirement already satisfied: s3transfer<0.11.0,>=0.10.0 in /opt/conda/lib/python3.10/site-packages (from boto3->-r requirements.txt (line 9)) (0.10.2)\n",
      "Requirement already satisfied: docutils in /opt/conda/lib/python3.10/site-packages (from plantweb->-r requirements.txt (line 12)) (0.21.2)\n",
      "Requirement already satisfied: transformers<5.0.0,>=4.34.0 in /opt/conda/lib/python3.10/site-packages (from sentence-transformers->-r requirements.txt (line 15)) (4.40.2)\n",
      "Requirement already satisfied: torch>=1.11.0 in /opt/conda/lib/python3.10/site-packages (from sentence-transformers->-r requirements.txt (line 15)) (2.0.0.post104)\n",
      "Requirement already satisfied: scikit-learn in /opt/conda/lib/python3.10/site-packages (from sentence-transformers->-r requirements.txt (line 15)) (1.4.2)\n",
      "Requirement already satisfied: scipy in /opt/conda/lib/python3.10/site-packages (from sentence-transformers->-r requirements.txt (line 15)) (1.11.4)\n",
      "Requirement already satisfied: huggingface-hub>=0.15.1 in /opt/conda/lib/python3.10/site-packages (from sentence-transformers->-r requirements.txt (line 15)) (0.23.4)\n",
      "Requirement already satisfied: aiosignal>=1.1.2 in /opt/conda/lib/python3.10/site-packages (from aiohttp<4.0.0,>=3.8.3->langchain==0.1.5->-r requirements.txt (line 14)) (1.3.1)\n",
      "Requirement already satisfied: frozenlist>=1.1.1 in /opt/conda/lib/python3.10/site-packages (from aiohttp<4.0.0,>=3.8.3->langchain==0.1.5->-r requirements.txt (line 14)) (1.4.1)\n",
      "Requirement already satisfied: multidict<7.0,>=4.5 in /opt/conda/lib/python3.10/site-packages (from aiohttp<4.0.0,>=3.8.3->langchain==0.1.5->-r requirements.txt (line 14)) (6.0.5)\n",
      "Requirement already satisfied: yarl<2.0,>=1.0 in /opt/conda/lib/python3.10/site-packages (from aiohttp<4.0.0,>=3.8.3->langchain==0.1.5->-r requirements.txt (line 14)) (1.9.4)\n",
      "Requirement already satisfied: marshmallow<4.0.0,>=3.18.0 in /opt/conda/lib/python3.10/site-packages (from dataclasses-json<0.7,>=0.5.7->langchain==0.1.5->-r requirements.txt (line 14)) (3.21.3)\n",
      "Requirement already satisfied: typing-inspect<1,>=0.4.0 in /opt/conda/lib/python3.10/site-packages (from dataclasses-json<0.7,>=0.5.7->langchain==0.1.5->-r requirements.txt (line 14)) (0.9.0)\n",
      "Requirement already satisfied: filelock in /opt/conda/lib/python3.10/site-packages (from huggingface-hub>=0.15.1->sentence-transformers->-r requirements.txt (line 15)) (3.15.4)\n",
      "Requirement already satisfied: fsspec>=2023.5.0 in /opt/conda/lib/python3.10/site-packages (from huggingface-hub>=0.15.1->sentence-transformers->-r requirements.txt (line 15)) (2023.6.0)\n",
      "Requirement already satisfied: typing-extensions>=3.7.4.3 in /opt/conda/lib/python3.10/site-packages (from huggingface-hub>=0.15.1->sentence-transformers->-r requirements.txt (line 15)) (4.12.2)\n",
      "Requirement already satisfied: zipp>=0.5 in /opt/conda/lib/python3.10/site-packages (from importlib-metadata<7.0,>=1.4.0->sagemaker->-r requirements.txt (line 1)) (3.19.2)\n",
      "Requirement already satisfied: decorator in /opt/conda/lib/python3.10/site-packages (from ipython>=7.23.1->ipykernel->-r requirements.txt (line 6)) (5.1.1)\n",
      "Requirement already satisfied: jedi>=0.16 in /opt/conda/lib/python3.10/site-packages (from ipython>=7.23.1->ipykernel->-r requirements.txt (line 6)) (0.19.1)\n",
      "Requirement already satisfied: prompt-toolkit<3.1.0,>=3.0.41 in /opt/conda/lib/python3.10/site-packages (from ipython>=7.23.1->ipykernel->-r requirements.txt (line 6)) (3.0.47)\n",
      "Requirement already satisfied: pygments>=2.4.0 in /opt/conda/lib/python3.10/site-packages (from ipython>=7.23.1->ipykernel->-r requirements.txt (line 6)) (2.18.0)\n",
      "Requirement already satisfied: stack-data in /opt/conda/lib/python3.10/site-packages (from ipython>=7.23.1->ipykernel->-r requirements.txt (line 6)) (0.6.2)\n",
      "Requirement already satisfied: exceptiongroup in /opt/conda/lib/python3.10/site-packages (from ipython>=7.23.1->ipykernel->-r requirements.txt (line 6)) (1.2.0)\n",
      "Requirement already satisfied: pexpect>4.3 in /opt/conda/lib/python3.10/site-packages (from ipython>=7.23.1->ipykernel->-r requirements.txt (line 6)) (4.9.0)\n",
      "Requirement already satisfied: jsonpointer>=1.9 in /opt/conda/lib/python3.10/site-packages (from jsonpatch<2.0,>=1.33->langchain==0.1.5->-r requirements.txt (line 14)) (3.0.0)\n",
      "Requirement already satisfied: anyio<5,>=3 in /opt/conda/lib/python3.10/site-packages (from langchain-core<0.2,>=0.1.16->langchain==0.1.5->-r requirements.txt (line 14)) (4.4.0)\n",
      "Requirement already satisfied: charset-normalizer<4,>=2 in /opt/conda/lib/python3.10/site-packages (from requests<3.0.0,>=2.4.0->opensearch-py==2.3.1->-r requirements.txt (line 10)) (3.3.2)\n",
      "Requirement already satisfied: idna<4,>=2.5 in /opt/conda/lib/python3.10/site-packages (from requests<3.0.0,>=2.4.0->opensearch-py==2.3.1->-r requirements.txt (line 10)) (3.7)\n",
      "Requirement already satisfied: greenlet!=0.4.17 in /opt/conda/lib/python3.10/site-packages (from SQLAlchemy<3,>=1.4->langchain==0.1.5->-r requirements.txt (line 14)) (3.0.3)\n",
      "Requirement already satisfied: sympy in /opt/conda/lib/python3.10/site-packages (from torch>=1.11.0->sentence-transformers->-r requirements.txt (line 15)) (1.12.1)\n",
      "Requirement already satisfied: networkx in /opt/conda/lib/python3.10/site-packages (from torch>=1.11.0->sentence-transformers->-r requirements.txt (line 15)) (3.3)\n",
      "Requirement already satisfied: jinja2 in /opt/conda/lib/python3.10/site-packages (from torch>=1.11.0->sentence-transformers->-r requirements.txt (line 15)) (3.1.4)\n",
      "Requirement already satisfied: regex!=2019.12.17 in /opt/conda/lib/python3.10/site-packages (from transformers<5.0.0,>=4.34.0->sentence-transformers->-r requirements.txt (line 15)) (2024.5.15)\n",
      "Requirement already satisfied: tokenizers<0.20,>=0.19 in /opt/conda/lib/python3.10/site-packages (from transformers<5.0.0,>=4.34.0->sentence-transformers->-r requirements.txt (line 15)) (0.19.1)\n",
      "Requirement already satisfied: safetensors>=0.4.1 in /opt/conda/lib/python3.10/site-packages (from transformers<5.0.0,>=4.34.0->sentence-transformers->-r requirements.txt (line 15)) (0.4.3)\n",
      "Requirement already satisfied: pyrsistent!=0.17.0,!=0.17.1,!=0.17.2,>=0.14.0 in /opt/conda/lib/python3.10/site-packages (from jsonschema->sagemaker->-r requirements.txt (line 1)) (0.20.0)\n",
      "Requirement already satisfied: pytz>=2020.1 in /opt/conda/lib/python3.10/site-packages (from pandas->sagemaker->-r requirements.txt (line 1)) (2023.3)\n",
      "Requirement already satisfied: tzdata>=2022.1 in /opt/conda/lib/python3.10/site-packages (from pandas->sagemaker->-r requirements.txt (line 1)) (2024.1)\n",
      "Requirement already satisfied: ppft>=1.7.6.8 in /opt/conda/lib/python3.10/site-packages (from pathos->sagemaker->-r requirements.txt (line 1)) (1.7.6.8)\n",
      "Requirement already satisfied: dill>=0.3.8 in /opt/conda/lib/python3.10/site-packages (from pathos->sagemaker->-r requirements.txt (line 1)) (0.3.8)\n",
      "Requirement already satisfied: pox>=0.3.4 in /opt/conda/lib/python3.10/site-packages (from pathos->sagemaker->-r requirements.txt (line 1)) (0.3.4)\n",
      "Requirement already satisfied: multiprocess>=0.70.16 in /opt/conda/lib/python3.10/site-packages (from pathos->sagemaker->-r requirements.txt (line 1)) (0.70.16)\n",
      "Requirement already satisfied: joblib>=1.2.0 in /opt/conda/lib/python3.10/site-packages (from scikit-learn->sentence-transformers->-r requirements.txt (line 15)) (1.4.2)\n",
      "Requirement already satisfied: threadpoolctl>=2.0.0 in /opt/conda/lib/python3.10/site-packages (from scikit-learn->sentence-transformers->-r requirements.txt (line 15)) (3.5.0)\n",
      "Requirement already satisfied: sniffio>=1.1 in /opt/conda/lib/python3.10/site-packages (from anyio<5,>=3->langchain-core<0.2,>=0.1.16->langchain==0.1.5->-r requirements.txt (line 14)) (1.3.1)\n",
      "Requirement already satisfied: parso<0.9.0,>=0.8.3 in /opt/conda/lib/python3.10/site-packages (from jedi>=0.16->ipython>=7.23.1->ipykernel->-r requirements.txt (line 6)) (0.8.4)\n",
      "Requirement already satisfied: ptyprocess>=0.5 in /opt/conda/lib/python3.10/site-packages (from pexpect>4.3->ipython>=7.23.1->ipykernel->-r requirements.txt (line 6)) (0.7.0)\n",
      "Requirement already satisfied: wcwidth in /opt/conda/lib/python3.10/site-packages (from prompt-toolkit<3.1.0,>=3.0.41->ipython>=7.23.1->ipykernel->-r requirements.txt (line 6)) (0.2.13)\n",
      "Requirement already satisfied: mypy-extensions>=0.3.0 in /opt/conda/lib/python3.10/site-packages (from typing-inspect<1,>=0.4.0->dataclasses-json<0.7,>=0.5.7->langchain==0.1.5->-r requirements.txt (line 14)) (1.0.0)\n",
      "Requirement already satisfied: MarkupSafe>=2.0 in /opt/conda/lib/python3.10/site-packages (from jinja2->torch>=1.11.0->sentence-transformers->-r requirements.txt (line 15)) (2.1.5)\n",
      "Requirement already satisfied: executing>=1.2.0 in /opt/conda/lib/python3.10/site-packages (from stack-data->ipython>=7.23.1->ipykernel->-r requirements.txt (line 6)) (2.0.1)\n",
      "Requirement already satisfied: asttokens>=2.1.0 in /opt/conda/lib/python3.10/site-packages (from stack-data->ipython>=7.23.1->ipykernel->-r requirements.txt (line 6)) (2.4.1)\n",
      "Requirement already satisfied: pure-eval in /opt/conda/lib/python3.10/site-packages (from stack-data->ipython>=7.23.1->ipykernel->-r requirements.txt (line 6)) (0.2.2)\n",
      "Requirement already satisfied: mpmath<1.4.0,>=1.1.0 in /opt/conda/lib/python3.10/site-packages (from sympy->torch>=1.11.0->sentence-transformers->-r requirements.txt (line 15)) (1.3.0)\n",
      "Note: you may need to restart the kernel to use updated packages.\n"
     ]
    }
   ],
   "source": [
    "%pip install -r requirements.txt"
   ]
  },
  {
   "cell_type": "markdown",
   "id": "66d3ae27-9d02-4815-931b-b7e17250e691",
   "metadata": {},
   "source": [
    "## > Initial setup Lab01"
   ]
  },
  {
   "cell_type": "code",
   "execution_count": 2,
   "id": "5fea2376-a35a-4ec0-9455-5753ed0cc8c4",
   "metadata": {},
   "outputs": [
    {
     "name": "stdout",
     "output_type": "stream",
     "text": [
      "sagemaker.config INFO - Not applying SDK defaults from location: /etc/xdg/sagemaker/config.yaml\n",
      "sagemaker.config INFO - Not applying SDK defaults from location: /home/sagemaker-user/.config/sagemaker/config.yaml\n"
     ]
    }
   ],
   "source": [
    "from utils import (\n",
    "    upload_file_to_s3,\n",
    ")\n",
    "import sagemaker\n",
    "import os\n",
    "import time\n",
    "from botocore.exceptions import ClientError\n",
    "from tqdm import tqdm\n",
    "\n",
    "sagemaker_session = sagemaker.Session()\n",
    "role = sagemaker.get_execution_role()  # execution role for the endpoint\n",
    "region = sagemaker_session._region_name\n",
    "\n",
    "bucket = sagemaker_session.default_bucket()\n",
    "prefix = \"swagger_codegen\"\n",
    "\n",
    "data_dir = \"../data/lab01\"\n",
    "yml_dir = f\"{data_dir}/yml_files\"\n",
    "uml_dir = f\"{data_dir}/uml_diagrams\""
   ]
  },
  {
   "cell_type": "markdown",
   "id": "d5328b55-6e1d-4b88-a349-8b4cc90ee17c",
   "metadata": {},
   "source": [
    "### > Upload data to S3 to setup the lab"
   ]
  },
  {
   "cell_type": "code",
   "execution_count": 3,
   "id": "7ef2ac3b-2c8f-4cc9-9c7c-f1e6cc9a2d11",
   "metadata": {
    "scrolled": true
   },
   "outputs": [
    {
     "name": "stdout",
     "output_type": "stream",
     "text": [
      "File '../data/lab01/yml_files/bookstore.yml' uploaded successfully to s3://sagemaker-us-east-1-376678947624/swagger_codegen/yml_files/bookstore.yml\n",
      "File '../data/lab01/yml_files/flowerstore.yml' uploaded successfully to s3://sagemaker-us-east-1-376678947624/swagger_codegen/yml_files/flowerstore.yml\n",
      "File '../data/lab01/yml_files/link.yml' uploaded successfully to s3://sagemaker-us-east-1-376678947624/swagger_codegen/yml_files/link.yml\n",
      "File '../data/lab01/yml_files/petstore.yml' uploaded successfully to s3://sagemaker-us-east-1-376678947624/swagger_codegen/yml_files/petstore.yml\n",
      "File '../data/lab01/yml_files/uspto.yml' uploaded successfully to s3://sagemaker-us-east-1-376678947624/swagger_codegen/yml_files/uspto.yml\n",
      "Sync data to S3 from ../data/lab01/yml_files =========\n",
      "File '../data/lab01/uml_diagrams/bookstore.jpg' uploaded successfully to s3://sagemaker-us-east-1-376678947624/swagger_codegen/uml_diagrams/bookstore.jpg\n",
      "File '../data/lab01/uml_diagrams/flowerstore.jpg' uploaded successfully to s3://sagemaker-us-east-1-376678947624/swagger_codegen/uml_diagrams/flowerstore.jpg\n",
      "File '../data/lab01/uml_diagrams/link.jpg' uploaded successfully to s3://sagemaker-us-east-1-376678947624/swagger_codegen/uml_diagrams/link.jpg\n",
      "File '../data/lab01/uml_diagrams/petstore.jpg' uploaded successfully to s3://sagemaker-us-east-1-376678947624/swagger_codegen/uml_diagrams/petstore.jpg\n",
      "File '../data/lab01/uml_diagrams/uspto.jpg' uploaded successfully to s3://sagemaker-us-east-1-376678947624/swagger_codegen/uml_diagrams/uspto.jpg\n",
      "Sync data to S3 from ../data/lab01/uml_diagrams =========\n",
      "File '../data/lab01/yml_questions/bookstore.txt' uploaded successfully to s3://sagemaker-us-east-1-376678947624/swagger_codegen/yml_questions/bookstore.txt\n",
      "File '../data/lab01/yml_questions/flowerstore.txt' uploaded successfully to s3://sagemaker-us-east-1-376678947624/swagger_codegen/yml_questions/flowerstore.txt\n",
      "File '../data/lab01/yml_questions/link.txt' uploaded successfully to s3://sagemaker-us-east-1-376678947624/swagger_codegen/yml_questions/link.txt\n",
      "File '../data/lab01/yml_questions/petstore.txt' uploaded successfully to s3://sagemaker-us-east-1-376678947624/swagger_codegen/yml_questions/petstore.txt\n",
      "File '../data/lab01/yml_questions/uspto.txt' uploaded successfully to s3://sagemaker-us-east-1-376678947624/swagger_codegen/yml_questions/uspto.txt\n",
      "Sync data to S3 from ../data/lab01/yml_questions =========\n",
      "File '../data/lab01/uml_questions/bookstore.txt' uploaded successfully to s3://sagemaker-us-east-1-376678947624/swagger_codegen/uml_questions/bookstore.txt\n",
      "File '../data/lab01/uml_questions/flowerstore.txt' uploaded successfully to s3://sagemaker-us-east-1-376678947624/swagger_codegen/uml_questions/flowerstore.txt\n",
      "File '../data/lab01/uml_questions/link.txt' uploaded successfully to s3://sagemaker-us-east-1-376678947624/swagger_codegen/uml_questions/link.txt\n",
      "File '../data/lab01/uml_questions/petstore.txt' uploaded successfully to s3://sagemaker-us-east-1-376678947624/swagger_codegen/uml_questions/petstore.txt\n",
      "File '../data/lab01/uml_questions/uspto.txt' uploaded successfully to s3://sagemaker-us-east-1-376678947624/swagger_codegen/uml_questions/uspto.txt\n",
      "Sync data to S3 from ../data/lab01/uml_questions =========\n"
     ]
    }
   ],
   "source": [
    "data_dirs= [yml_dir,\n",
    "            uml_dir,\n",
    "            f\"{data_dir}/yml_questions\",\n",
    "            f\"{data_dir}/uml_questions\"]\n",
    "\n",
    "for ddir in data_dirs:\n",
    "    for filename in os.listdir(ddir):\n",
    "        filepath = os.path.join(ddir, filename)\n",
    "\n",
    "        # yml upload file to s3\n",
    "        key = f\"{prefix}/{filepath.replace(data_dir+'/', '')}\"\n",
    "        s3_path = upload_file_to_s3(filepath, bucket, key)\n",
    "\n",
    "    print(f\"Sync data to S3 from {ddir} =========\")"
   ]
  },
  {
   "cell_type": "markdown",
   "id": "d204416e-f96a-491d-978a-cad71e186f2e",
   "metadata": {},
   "source": [
    "### > Store the parameter for future labs"
   ]
  },
  {
   "cell_type": "code",
   "execution_count": 4,
   "id": "156611d8-c47d-4c9b-82c8-c5b48c02d55d",
   "metadata": {},
   "outputs": [
    {
     "name": "stdout",
     "output_type": "stream",
     "text": [
      "Stored 'bucket' (str)\n",
      "Stored 'prefix' (str)\n",
      "Stored 'yml_dir' (str)\n",
      "Stored 'uml_dir' (str)\n",
      "Stored 'data_dir' (str)\n",
      "sagemaker-us-east-1-376678947624\n"
     ]
    }
   ],
   "source": [
    "%store bucket\n",
    "%store prefix\n",
    "%store yml_dir\n",
    "%store uml_dir\n",
    "%store data_dir\n",
    "print(bucket)"
   ]
  },
  {
   "cell_type": "markdown",
   "id": "cb6c12f1",
   "metadata": {},
   "source": [
    "## > Initial Setup Lab02"
   ]
  },
  {
   "cell_type": "code",
   "execution_count": 5,
   "id": "603109a1",
   "metadata": {},
   "outputs": [
    {
     "name": "stdout",
     "output_type": "stream",
     "text": [
      "creating vector collection swagger-api-817\n",
      "{'ResponseMetadata': {'HTTPHeaders': {'connection': 'keep-alive',\n",
      "                                      'content-length': '307',\n",
      "                                      'content-type': 'application/x-amz-json-1.0',\n",
      "                                      'date': 'Sun, 21 Jul 2024 02:06:47 GMT',\n",
      "                                      'x-amzn-requestid': 'e67d5f71-76f4-4f07-ab13-a9fdd75ca241'},\n",
      "                      'HTTPStatusCode': 200,\n",
      "                      'RequestId': 'e67d5f71-76f4-4f07-ab13-a9fdd75ca241',\n",
      "                      'RetryAttempts': 0},\n",
      " 'createCollectionDetail': {'arn': 'arn:aws:aoss:us-east-1:376678947624:collection/60mr1y2hqd26e2u4okkj',\n",
      "                            'createdDate': 1721527607831,\n",
      "                            'id': '60mr1y2hqd26e2u4okkj',\n",
      "                            'kmsKeyArn': 'auto',\n",
      "                            'lastModifiedDate': 1721527607831,\n",
      "                            'name': 'swagger-api-817',\n",
      "                            'standbyReplicas': 'ENABLED',\n",
      "                            'status': 'CREATING',\n",
      "                            'type': 'VECTORSEARCH'}}\n",
      "60mr1y2hqd26e2u4okkj.us-east-1.aoss.amazonaws.com\n",
      "Opensearch serverless arn:  arn:aws:iam::376678947624:policy/AmazonBedrockOSSPolicyForKnowledgeBase_809\n"
     ]
    }
   ],
   "source": [
    "import boto3\n",
    "import pprint as pp\n",
    "import random\n",
    "from os_utils import create_bedrock_execution_role, create_policies_in_oss, create_oss_policy_attach_bedrock_execution_role\n",
    "\n",
    "boto3_session = boto3.Session()\n",
    "region_name = boto3_session.region_name\n",
    "aoss_client = boto3_session.client('opensearchserverless')\n",
    "\n",
    "suffix = random.randrange(200, 900)\n",
    "\n",
    "vector_store_name = f'swagger-api-{suffix}'\n",
    "\n",
    "# exists = aoss_client.list_collections(\n",
    "#     collectionFilters={'name': vector_store_name},\n",
    "#     maxResults=10\n",
    "# )\n",
    "\n",
    "# if len(exists['collectionSummaries']) == 0:\n",
    "print(f\"creating vector collection {vector_store_name}\")\n",
    "\n",
    "## create an execution role\n",
    "bedrock_kb_execution_role = create_bedrock_execution_role(bucket_name=bucket)\n",
    "bedrock_kb_execution_role_arn = bedrock_kb_execution_role['Role']['Arn']\n",
    "\n",
    "# create security, network and data access policies within OSS\n",
    "encryption_policy, network_policy, access_policy = create_policies_in_oss(vector_store_name=vector_store_name,\n",
    "                                                                           aoss_client=aoss_client,\n",
    "                                                                           bedrock_kb_execution_role_arn=bedrock_kb_execution_role_arn)\n",
    "\n",
    "vector_collection = aoss_client.create_collection(name=vector_store_name,type='VECTORSEARCH')\n",
    "vector_collection_arn = vector_collection[\"createCollectionDetail\"]['arn']\n",
    "vector_collection_id = vector_collection['createCollectionDetail']['id']\n",
    "pp.pprint(vector_collection)\n",
    "time.sleep(10)\n",
    "# else:\n",
    "#     print(f\"vector collection {vector_store_name} exists\")\n",
    "\n",
    "#     ## create an execution role\n",
    "#     bedrock_kb_execution_role = create_bedrock_execution_role(bucket_name=bucket)\n",
    "#     bedrock_kb_execution_role_arn = bedrock_kb_execution_role['Role']['Arn']\n",
    "    \n",
    "#     vector_collection_arn = exists['collectionSummaries'][0]['arn']\n",
    "#     vector_collection_id = exists['collectionSummaries'][0]['id']\n",
    "#     vector_store_name = exists['collectionSummaries'][0]['name']\n",
    "\n",
    "#     # create security, network and data access policies within OSS\n",
    "#     encryption_policy, network_policy, access_policy = create_policies_in_oss(vector_store_name=vector_store_name,\n",
    "#                                                                                aoss_client=aoss_client,\n",
    "#                                                                                bedrock_kb_execution_role_arn=bedrock_kb_execution_role_arn)\n",
    "\n",
    "vector_host = vector_collection_id + '.' + region_name + '.aoss.amazonaws.com'\n",
    "print(vector_host)\n",
    "\n",
    "# create oss policy and attach it to Bedrock execution role\n",
    "create_oss_policy_attach_bedrock_execution_role(collection_id=vector_collection_id,\n",
    "                                                bedrock_kb_execution_role=bedrock_kb_execution_role)"
   ]
  },
  {
   "cell_type": "code",
   "execution_count": 6,
   "id": "bd94622a-8e94-4b30-bc72-dfcc64856fa5",
   "metadata": {},
   "outputs": [
    {
     "name": "stdout",
     "output_type": "stream",
     "text": [
      "Stored 'vector_store_name' (str)\n",
      "Stored 'vector_collection_arn' (str)\n",
      "Stored 'vector_collection_id' (str)\n",
      "Stored 'vector_host' (str)\n",
      "Stored 'bedrock_kb_execution_role_arn' (str)\n"
     ]
    }
   ],
   "source": [
    "%store vector_store_name\n",
    "%store vector_collection_arn\n",
    "%store vector_collection_id\n",
    "%store vector_host\n",
    "%store bedrock_kb_execution_role_arn"
   ]
  },
  {
   "cell_type": "markdown",
   "id": "d4a9740e-36f1-48ef-a529-ce25dd0181e7",
   "metadata": {},
   "source": [
    "### > Initial Setup Lab 03"
   ]
  },
  {
   "cell_type": "code",
   "execution_count": 7,
   "id": "3a123fef-cc04-4bd5-9994-fed615d7dfed",
   "metadata": {},
   "outputs": [],
   "source": [
    "# Create an S3 client\n",
    "s3 = boto3.client('s3')\n",
    "image_prep_prefix = 'aws-genai-rag-workshop/images'\n",
    "\n",
    "root_dir = \"../data/lab03/\"\n",
    "\n",
    "jsonl_files = [\"simple_image_query.json\", \"complex_image_query.json\"]"
   ]
  },
  {
   "cell_type": "code",
   "execution_count": 8,
   "id": "6bcbacfb-808c-48ab-920d-3cae4a07c612",
   "metadata": {},
   "outputs": [
    {
     "name": "stdout",
     "output_type": "stream",
     "text": [
      "Prepare image data file: simple_image_query.json\n"
     ]
    },
    {
     "name": "stderr",
     "output_type": "stream",
     "text": [
      "100%|██████████| 50/50 [00:06<00:00,  7.16it/s]\n"
     ]
    },
    {
     "name": "stdout",
     "output_type": "stream",
     "text": [
      "Prepare image data file: complex_image_query.json\n"
     ]
    },
    {
     "name": "stderr",
     "output_type": "stream",
     "text": [
      "100%|██████████| 28/28 [00:03<00:00,  8.22it/s]\n"
     ]
    }
   ],
   "source": [
    "import json\n",
    "\n",
    "for jsonl in jsonl_files:\n",
    "\n",
    "    print(f\"Prepare image data file: {jsonl}\")\n",
    "\n",
    "    jsonl_path = os.path.join(root_dir, jsonl)\n",
    "    \n",
    "    with open(jsonl_path, 'r+') as f:\n",
    "        dataset = json.load(f)\n",
    "\n",
    "    for node_id, image_obj in tqdm(dataset['corpus'].items()):\n",
    "        # Check if the image reference is a local file path or a URL\n",
    "        image_local_path = os.path.join(root_dir, image_obj[\"image-path\"])\n",
    "        if os.path.isfile(image_local_path):\n",
    "            # Local file path\n",
    "            file_name = os.path.basename(image_local_path)\n",
    "            s3_key = f\"{prefix}/{file_name}\"\n",
    "            try:\n",
    "                s3.upload_file(image_local_path, bucket, s3_key)\n",
    "                # print(f'Uploaded {file_name} to S3 bucket {bucket}')\n",
    "                image_obj[\"image-ref\"] = f\"s3://{bucket}/{s3_key}\"\n",
    "            except ClientError as e:\n",
    "                print(f'Error uploading {file_name}: {e}')\n",
    "        else:\n",
    "            assert(f\"{image_local_path} file not available\")\n",
    "\n",
    "    with open(jsonl_path, 'w+') as f:\n",
    "        json.dump(dataset, f)"
   ]
  },
  {
   "cell_type": "code",
   "execution_count": 9,
   "id": "127246ec-9f1f-4ef5-b8e5-06704294b75c",
   "metadata": {},
   "outputs": [
    {
     "name": "stdout",
     "output_type": "stream",
     "text": [
      "Stored 'root_dir' (str)\n",
      "Stored 'jsonl_files' (list)\n"
     ]
    }
   ],
   "source": [
    "%store root_dir\n",
    "%store jsonl_files"
   ]
  },
  {
   "cell_type": "markdown",
   "id": "98fee0ff-2c30-46f9-a61f-b2d881f92d62",
   "metadata": {},
   "source": [
    "### > Initial Setup Lab04\n",
    "\n",
    "Install ffmpeg"
   ]
  },
  {
   "cell_type": "code",
   "execution_count": 10,
   "id": "138c2e83-6a61-4aa3-b971-724551a6bebe",
   "metadata": {},
   "outputs": [
    {
     "name": "stdout",
     "output_type": "stream",
     "text": [
      "Reading package lists... Done\n",
      "Building dependency tree... Done\n",
      "Reading state information... Done\n",
      "ffmpeg is already the newest version (7:4.4.2-0ubuntu0.22.04.1).\n",
      "0 upgraded, 0 newly installed, 0 to remove and 0 not upgraded.\n"
     ]
    }
   ],
   "source": [
    "!sudo apt install ffmpeg -y"
   ]
  },
  {
   "cell_type": "code",
   "execution_count": 11,
   "id": "bc85508f-f0f5-4b8a-b6ea-939b76000b33",
   "metadata": {},
   "outputs": [],
   "source": [
    "video_prep_prefix = \"aws-genai-rag-workshop/videos\""
   ]
  },
  {
   "cell_type": "code",
   "execution_count": 19,
   "id": "2bfc1b8c-9b12-4fed-974d-cc283b24e66b",
   "metadata": {},
   "outputs": [
    {
     "name": "stdout",
     "output_type": "stream",
     "text": [
      "Stored 'role' (str)\n",
      "Stored 'region' (str)\n",
      "Stored 'video_prep_prefix' (str)\n"
     ]
    }
   ],
   "source": [
    "%store role\n",
    "%store region\n",
    "%store video_prep_prefix"
   ]
  },
  {
   "cell_type": "markdown",
   "id": "796cc18f-87a1-4030-8412-d373e04c6003",
   "metadata": {},
   "source": [
    "## > Initial Setup Lab05"
   ]
  },
  {
   "cell_type": "code",
   "execution_count": 13,
   "id": "940ab5da-a2bb-43bf-a2b5-fad37d6db07f",
   "metadata": {},
   "outputs": [],
   "source": [
    "embedding_prefix = \"finetune-embedding\"\n",
    "\n",
    "model_id = \"sentence-transformers/msmarco-bert-base-dot-v5\""
   ]
  },
  {
   "cell_type": "code",
   "execution_count": 14,
   "id": "69d9a504-84b1-460f-b372-ac954e3c9366",
   "metadata": {},
   "outputs": [
    {
     "name": "stdout",
     "output_type": "stream",
     "text": [
      "upload: ../data/lab04/train_dataset.json to s3://sagemaker-us-east-1-376678947624/finetune-embedding/train_dataset.json\n"
     ]
    }
   ],
   "source": [
    "train_data = \"train_dataset.json\"\n",
    "train_local_path = f\"../data/lab04/{train_data}\"\n",
    "\n",
    "train_s3_path = f\"s3://{bucket}/{embedding_prefix}/{train_data}\"\n",
    "\n",
    "!aws s3 cp {train_local_path} {train_s3_path}"
   ]
  },
  {
   "cell_type": "code",
   "execution_count": 15,
   "id": "0b8791b5-d48b-4239-b726-a85c9d58a6e3",
   "metadata": {},
   "outputs": [
    {
     "name": "stdout",
     "output_type": "stream",
     "text": [
      "upload: ../data/lab04/val_dataset.json to s3://sagemaker-us-east-1-376678947624/finetune-embedding/val_dataset.json\n"
     ]
    }
   ],
   "source": [
    "valid_data = \"val_dataset.json\"\n",
    "valid_local_path = f\"../data/lab04/{valid_data}\"\n",
    "\n",
    "valid_s3_path = f\"s3://{bucket}/{embedding_prefix}/{valid_data}\"\n",
    "\n",
    "!aws s3 cp {valid_local_path} {valid_s3_path}"
   ]
  },
  {
   "cell_type": "code",
   "execution_count": 16,
   "id": "265582db-15ef-4019-bee5-8d1fb7faf076",
   "metadata": {},
   "outputs": [
    {
     "name": "stdout",
     "output_type": "stream",
     "text": [
      "Stored 'embedding_prefix' (str)\n",
      "Stored 'train_s3_path' (str)\n",
      "Stored 'valid_s3_path' (str)\n",
      "Stored 'train_local_path' (str)\n",
      "Stored 'valid_local_path' (str)\n",
      "Stored 'model_id' (str)\n"
     ]
    }
   ],
   "source": [
    "%store embedding_prefix\n",
    "%store train_s3_path\n",
    "%store valid_s3_path\n",
    "%store train_local_path\n",
    "%store valid_local_path\n",
    "%store model_id"
   ]
  },
  {
   "cell_type": "markdown",
   "id": "fef83eed-262b-4d95-b93c-c5da68a86075",
   "metadata": {},
   "source": [
    "## > Initial Setup LabX"
   ]
  },
  {
   "cell_type": "code",
   "execution_count": 17,
   "id": "be7104de-eb69-4eba-8b6d-82785cf6b12b",
   "metadata": {},
   "outputs": [
    {
     "name": "stdout",
     "output_type": "stream",
     "text": [
      "Lab 03 Lambda ARN: arn:aws:lambda:us-east-1:376678947624:function:swagger-api-agent-817-lambda\n"
     ]
    }
   ],
   "source": [
    "from os_utils import create_lambda_role\n",
    "from os_utils import create_lambda\n",
    "\n",
    "# create Lambda Role\n",
    "agent_name = f'swagger-api-agent-{suffix}'\n",
    "lambda_iam_role = create_lambda_role(agent_name)\n",
    "\n",
    "# create Lambda Function\n",
    "\n",
    "lambda_function_name = f'{agent_name}-lambda'\n",
    "lambda_function = create_lambda(\"lambda_function.py\", lambda_function_name, lambda_iam_role)\n",
    "\n",
    "lambda_arn = lambda_function['FunctionArn']\n",
    "print(f\"Lab 03 Lambda ARN: {lambda_arn}\")"
   ]
  },
  {
   "cell_type": "code",
   "execution_count": 18,
   "id": "fe51818f-ab07-4ee0-ad7f-e2010720e1e6",
   "metadata": {},
   "outputs": [
    {
     "name": "stdout",
     "output_type": "stream",
     "text": [
      "Stored 'lambda_arn' (str)\n",
      "Stored 'lambda_function_name' (str)\n"
     ]
    }
   ],
   "source": [
    "%store lambda_arn\n",
    "%store lambda_function_name"
   ]
  },
  {
   "cell_type": "code",
   "execution_count": null,
   "id": "08777517-f0cd-488e-8613-8cfff6b5c2b7",
   "metadata": {},
   "outputs": [],
   "source": []
  }
 ],
 "metadata": {
  "kernelspec": {
   "display_name": "Python 3 (ipykernel)",
   "language": "python",
   "name": "python3"
  },
  "language_info": {
   "codemirror_mode": {
    "name": "ipython",
    "version": 3
   },
   "file_extension": ".py",
   "mimetype": "text/x-python",
   "name": "python",
   "nbconvert_exporter": "python",
   "pygments_lexer": "ipython3",
   "version": "3.10.14"
  }
 },
 "nbformat": 4,
 "nbformat_minor": 5
}
