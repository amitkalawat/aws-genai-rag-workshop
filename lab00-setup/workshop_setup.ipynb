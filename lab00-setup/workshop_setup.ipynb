{
 "cells": [
  {
   "cell_type": "markdown",
   "id": "7170d7c3",
   "metadata": {},
   "source": [
    "## > Setup for all Labs"
   ]
  },
  {
   "cell_type": "code",
   "execution_count": null,
   "id": "7923c45f",
   "metadata": {
    "scrolled": true
   },
   "outputs": [],
   "source": [
    "%pip install -r requirements.txt"
   ]
  },
  {
   "cell_type": "markdown",
   "id": "66d3ae27-9d02-4815-931b-b7e17250e691",
   "metadata": {},
   "source": [
    "## > Initial setup Lab01"
   ]
  },
  {
   "cell_type": "code",
   "execution_count": null,
   "id": "5fea2376-a35a-4ec0-9455-5753ed0cc8c4",
   "metadata": {},
   "outputs": [],
   "source": [
    "from utils import (\n",
    "    upload_file_to_s3,\n",
    ")\n",
    "import sagemaker\n",
    "import os\n",
    "import time\n",
    "from botocore.exceptions import ClientError\n",
    "from tqdm import tqdm\n",
    "\n",
    "sagemaker_session = sagemaker.Session()\n",
    "role = sagemaker.get_execution_role()  # execution role for the endpoint\n",
    "region = sagemaker_session._region_name\n",
    "\n",
    "bucket = sagemaker_session.default_bucket()\n",
    "prefix = \"swagger_codegen\"\n",
    "\n",
    "data_dir = \"../data/lab01\"\n",
    "yml_dir = f\"{data_dir}/yml_files\"\n",
    "uml_dir = f\"{data_dir}/uml_diagrams\""
   ]
  },
  {
   "cell_type": "markdown",
   "id": "d5328b55-6e1d-4b88-a349-8b4cc90ee17c",
   "metadata": {},
   "source": [
    "### > Upload data to S3 to setup the lab"
   ]
  },
  {
   "cell_type": "code",
   "execution_count": null,
   "id": "7ef2ac3b-2c8f-4cc9-9c7c-f1e6cc9a2d11",
   "metadata": {
    "scrolled": true
   },
   "outputs": [],
   "source": [
    "data_dirs= [yml_dir,\n",
    "            uml_dir,\n",
    "            f\"{data_dir}/yml_questions\",\n",
    "            f\"{data_dir}/uml_questions\"]\n",
    "\n",
    "for ddir in data_dirs:\n",
    "    for filename in os.listdir(ddir):\n",
    "        filepath = os.path.join(ddir, filename)\n",
    "\n",
    "        # yml upload file to s3\n",
    "        key = f\"{prefix}/{filepath.replace(data_dir+'/', '')}\"\n",
    "        s3_path = upload_file_to_s3(filepath, bucket, key)\n",
    "\n",
    "    print(f\"Sync data to S3 from {ddir} =========\")"
   ]
  },
  {
   "cell_type": "markdown",
   "id": "d204416e-f96a-491d-978a-cad71e186f2e",
   "metadata": {},
   "source": [
    "### > Store the parameter for future labs"
   ]
  },
  {
   "cell_type": "code",
   "execution_count": null,
   "id": "156611d8-c47d-4c9b-82c8-c5b48c02d55d",
   "metadata": {},
   "outputs": [],
   "source": [
    "%store bucket\n",
    "%store prefix\n",
    "%store yml_dir\n",
    "%store uml_dir\n",
    "%store data_dir\n",
    "print(bucket)"
   ]
  },
  {
   "cell_type": "markdown",
   "id": "cb6c12f1",
   "metadata": {},
   "source": [
    "## > Initial Setup Lab02"
   ]
  },
  {
   "cell_type": "code",
   "execution_count": null,
   "id": "603109a1",
   "metadata": {},
   "outputs": [],
   "source": [
    "import boto3\n",
    "import pprint as pp\n",
    "\n",
    "from os_utils import (\n",
    "    create_bedrock_execution_role,\n",
    "    create_policies_in_oss,\n",
    "    create_oss_policy_attach_bedrock_execution_role,\n",
    "    account_number,\n",
    "    bedrock_execution_role_name,\n",
    "    suffix\n",
    ")\n",
    "\n",
    "boto3_session = boto3.Session()\n",
    "region_name = boto3_session.region_name\n",
    "aoss_client = boto3_session.client('opensearchserverless')\n",
    "\n",
    "vector_store_name = f'swagger-api-vector-{suffix}'\n",
    "\n",
    "# TODO: fix policy conflict issue, so we can reuse the same collection, after rerun the notebook\n",
    "\n",
    "# exists = aoss_client.list_collections(\n",
    "#     collectionFilters={'name': vector_store_name}\n",
    "# )\n",
    "\n",
    "# if len(exists['collectionSummaries']) == 0:\n",
    "    \n",
    "bedrock_kb_execution_role = create_bedrock_execution_role(bucket_name=bucket)\n",
    "bedrock_kb_execution_role_arn = bedrock_kb_execution_role['Role']['Arn']\n",
    "\n",
    "# create security, network and data access policies within OSS\n",
    "encryption_policy, network_policy, access_policy = create_policies_in_oss(vector_store_name=vector_store_name,\n",
    "                   aoss_client=aoss_client,\n",
    "                   bedrock_kb_execution_role_arn=bedrock_kb_execution_role_arn)\n",
    "\n",
    "\n",
    "print(f\"creating vector collection {vector_store_name}\")\n",
    "vector_collection = aoss_client.create_collection(name=vector_store_name,type='VECTORSEARCH')\n",
    "vector_collection_arn = vector_collection[\"createCollectionDetail\"]['arn']\n",
    "vector_collection_id = vector_collection['createCollectionDetail']['id']\n",
    "\n",
    "pp.pprint(vector_collection)\n",
    "time.sleep(10)\n",
    "\n",
    "# create oss policy and attach it to Bedrock execution role\n",
    "create_oss_policy_attach_bedrock_execution_role(collection_id=vector_collection_id,\n",
    "                                            bedrock_kb_execution_role=bedrock_kb_execution_role)\n",
    "\n",
    "# else:\n",
    "#     print(f\"vector collection {vector_store_name} exists\")\n",
    "#     vector_collection_arn = exists['collectionSummaries'][0]['arn']\n",
    "#     vector_collection_id = exists['collectionSummaries'][0]['id']\n",
    "#     bedrock_kb_execution_role_arn=f\"arn:aws:iam::{account_number}:role/{bedrock_execution_role_name}\"\n",
    "\n",
    "vector_host = vector_collection_id + '.' + region_name + '.aoss.amazonaws.com'\n",
    "print(vector_host)\n",
    "print(vector_collection_arn)\n",
    "print(vector_collection_id)\n",
    "print(bedrock_kb_execution_role_arn or \"NOT FOUND\")"
   ]
  },
  {
   "cell_type": "code",
   "execution_count": null,
   "id": "bd94622a-8e94-4b30-bc72-dfcc64856fa5",
   "metadata": {},
   "outputs": [],
   "source": [
    "%store vector_store_name\n",
    "%store vector_collection_arn\n",
    "%store vector_collection_id\n",
    "%store vector_host\n",
    "%store bedrock_kb_execution_role_arn"
   ]
  },
  {
   "cell_type": "markdown",
   "id": "d4a9740e-36f1-48ef-a529-ce25dd0181e7",
   "metadata": {},
   "source": [
    "### > Initial Setup Lab 03-01"
   ]
  },
  {
   "cell_type": "code",
   "execution_count": null,
   "id": "3a123fef-cc04-4bd5-9994-fed615d7dfed",
   "metadata": {},
   "outputs": [],
   "source": [
    "# Create an S3 client\n",
    "s3 = boto3.client('s3')\n",
    "image_prep_prefix = 'aws-genai-rag-workshop/images'\n",
    "\n",
    "root_dir = \"../data/lab03/\"\n",
    "\n",
    "jsonl_files = [\"simple_image_query.json\", \"complex_image_query.json\"]"
   ]
  },
  {
   "cell_type": "code",
   "execution_count": null,
   "id": "6bcbacfb-808c-48ab-920d-3cae4a07c612",
   "metadata": {},
   "outputs": [],
   "source": [
    "import json\n",
    "\n",
    "for jsonl in jsonl_files:\n",
    "\n",
    "    print(f\"Prepare image data file: {jsonl}\")\n",
    "\n",
    "    jsonl_path = os.path.join(root_dir, jsonl)\n",
    "    \n",
    "    with open(jsonl_path, 'r+') as f:\n",
    "        dataset = json.load(f)\n",
    "\n",
    "    for node_id, image_obj in tqdm(dataset['corpus'].items()):\n",
    "        # Check if the image reference is a local file path or a URL\n",
    "        image_local_path = os.path.join(root_dir, image_obj[\"image-path\"])\n",
    "        if os.path.isfile(image_local_path):\n",
    "            # Local file path\n",
    "            file_name = os.path.basename(image_local_path)\n",
    "            s3_key = f\"{prefix}/{file_name}\"\n",
    "            try:\n",
    "                s3.upload_file(image_local_path, bucket, s3_key)\n",
    "                # print(f'Uploaded {file_name} to S3 bucket {bucket}')\n",
    "                image_obj[\"image-ref\"] = f\"s3://{bucket}/{s3_key}\"\n",
    "            except ClientError as e:\n",
    "                print(f'Error uploading {file_name}: {e}')\n",
    "        else:\n",
    "            assert(f\"{image_local_path} file not available\")\n",
    "\n",
    "    with open(jsonl_path, 'w+') as f:\n",
    "        json.dump(dataset, f)"
   ]
  },
  {
   "cell_type": "code",
   "execution_count": null,
   "id": "127246ec-9f1f-4ef5-b8e5-06704294b75c",
   "metadata": {},
   "outputs": [],
   "source": [
    "%store root_dir\n",
    "%store jsonl_files"
   ]
  },
  {
   "cell_type": "markdown",
   "id": "98fee0ff-2c30-46f9-a61f-b2d881f92d62",
   "metadata": {},
   "source": [
    "### > Initial Setup Lab03-02\n",
    "\n",
    "Install ffmpeg"
   ]
  },
  {
   "cell_type": "code",
   "execution_count": null,
   "id": "138c2e83-6a61-4aa3-b971-724551a6bebe",
   "metadata": {
    "scrolled": true
   },
   "outputs": [],
   "source": [
    "!sudo apt update \n",
    "!sudo apt install ffmpeg -y --fix-missing"
   ]
  },
  {
   "cell_type": "code",
   "execution_count": null,
   "id": "bc85508f-f0f5-4b8a-b6ea-939b76000b33",
   "metadata": {},
   "outputs": [],
   "source": [
    "video_prep_prefix = \"aws-genai-rag-workshop/videos\""
   ]
  },
  {
   "cell_type": "code",
   "execution_count": null,
   "id": "2bfc1b8c-9b12-4fed-974d-cc283b24e66b",
   "metadata": {},
   "outputs": [],
   "source": [
    "%store role\n",
    "%store region\n",
    "%store video_prep_prefix"
   ]
  },
  {
   "cell_type": "markdown",
   "id": "796cc18f-87a1-4030-8412-d373e04c6003",
   "metadata": {},
   "source": [
    "## > Initial Setup Lab03-03"
   ]
  },
  {
   "cell_type": "code",
   "execution_count": null,
   "id": "940ab5da-a2bb-43bf-a2b5-fad37d6db07f",
   "metadata": {},
   "outputs": [],
   "source": [
    "embedding_prefix = \"finetune-embedding\"\n",
    "\n",
    "model_id = \"sentence-transformers/msmarco-bert-base-dot-v5\""
   ]
  },
  {
   "cell_type": "code",
   "execution_count": null,
   "id": "69d9a504-84b1-460f-b372-ac954e3c9366",
   "metadata": {},
   "outputs": [],
   "source": [
    "train_data = \"train_dataset.json\"\n",
    "train_local_path = f\"../data/lab04/{train_data}\"\n",
    "\n",
    "train_s3_path = f\"s3://{bucket}/{embedding_prefix}/{train_data}\"\n",
    "\n",
    "!aws s3 cp {train_local_path} {train_s3_path}"
   ]
  },
  {
   "cell_type": "code",
   "execution_count": null,
   "id": "0b8791b5-d48b-4239-b726-a85c9d58a6e3",
   "metadata": {},
   "outputs": [],
   "source": [
    "valid_data = \"val_dataset.json\"\n",
    "valid_local_path = f\"../data/lab04/{valid_data}\"\n",
    "\n",
    "valid_s3_path = f\"s3://{bucket}/{embedding_prefix}/{valid_data}\"\n",
    "\n",
    "!aws s3 cp {valid_local_path} {valid_s3_path}"
   ]
  },
  {
   "cell_type": "code",
   "execution_count": null,
   "id": "265582db-15ef-4019-bee5-8d1fb7faf076",
   "metadata": {},
   "outputs": [],
   "source": [
    "%store embedding_prefix\n",
    "%store train_s3_path\n",
    "%store valid_s3_path\n",
    "%store train_local_path\n",
    "%store valid_local_path\n",
    "%store model_id"
   ]
  },
  {
   "cell_type": "markdown",
   "id": "f6213328",
   "metadata": {},
   "source": [
    "## > Initial Setup Lab03-04 and Lab03-06"
   ]
  },
  {
   "cell_type": "code",
   "execution_count": null,
   "id": "a8aeefc8-4b7f-4ab0-b36a-76598c7b5643",
   "metadata": {},
   "outputs": [],
   "source": [
    "amzn10k_prefix = \"amazon_10k\"\n",
    "amzn10k_s3_path = f\"s3://{bucket}/{amzn10k_prefix}/\"\n",
    "amzn10k_dir = \"../data/lab03/amazon/\""
   ]
  },
  {
   "cell_type": "code",
   "execution_count": null,
   "id": "18871a3a",
   "metadata": {},
   "outputs": [],
   "source": [
    "!mkdir -p {amzn10k_dir}\n",
    "!wget 'https://s2.q4cdn.com/299287126/files/doc_financials/2023/q4/c7c14359-36fa-40c3-b3ca-5bf7f3fa0b96.pdf' --no-check-certificate -O '../data/lab03/amazon/amazon_2023.pdf'\n",
    "!wget 'https://s2.q4cdn.com/299287126/files/doc_financials/2022/q4/d2fde7ee-05f7-419d-9ce8-186de4c96e25.pdf' --no-check-certificate -O '../data/lab03/amazon/amazon_2022.pdf'\n",
    "\n",
    "!aws s3 sync {amzn10k_dir} {amzn10k_s3_path}"
   ]
  },
  {
   "cell_type": "code",
   "execution_count": null,
   "id": "a2e7f9b2-0a58-4bf1-9716-d0378f49a9a2",
   "metadata": {},
   "outputs": [],
   "source": [
    "%store amzn10k_prefix\n",
    "%store amzn10k_s3_path"
   ]
  },
  {
   "cell_type": "markdown",
   "id": "fef83eed-262b-4d95-b93c-c5da68a86075",
   "metadata": {},
   "source": [
    "## > Initial Setup Lab04"
   ]
  },
  {
   "cell_type": "code",
   "execution_count": null,
   "id": "be7104de-eb69-4eba-8b6d-82785cf6b12b",
   "metadata": {},
   "outputs": [],
   "source": [
    "from os_utils import (\n",
    "    create_lambda_role,\n",
    "    create_lambda,\n",
    "    suffix\n",
    ")\n",
    "\n",
    "# create Lambda Role\n",
    "agent_name = f'swagger-api-agent-{suffix}'\n",
    "lambda_iam_role = create_lambda_role(agent_name)\n",
    "\n",
    "# create Lambda Function\n",
    "\n",
    "lambda_function_name = f'{agent_name}-lambda'\n",
    "lambda_function = create_lambda(\"lambda_function.py\", lambda_function_name, lambda_iam_role)\n",
    "\n",
    "lambda_arn = lambda_function['FunctionArn']\n",
    "print(f\"Lab 03 Lambda ARN: {lambda_arn}\")"
   ]
  },
  {
   "cell_type": "code",
   "execution_count": null,
   "id": "fe51818f-ab07-4ee0-ad7f-e2010720e1e6",
   "metadata": {},
   "outputs": [],
   "source": [
    "%store lambda_arn\n",
    "%store lambda_function_name"
   ]
  },
  {
   "cell_type": "code",
   "execution_count": null,
   "id": "08777517-f0cd-488e-8613-8cfff6b5c2b7",
   "metadata": {},
   "outputs": [],
   "source": [
    "print('\\x1b[42m'+'\\t\\t\\t\\n'+'\\x1b[0m')\n",
    "print('\\x1b[1;32m'+'  All cells executed\\n'+'\\x1b[0m')\n",
    "print('\\x1b[42m'+'\\t\\t\\t\\n'+'\\x1b[0m')\n",
    "print('\\x1b[1;35m'+'\\n Check cell outputs to verify there where NO execution errors.'+'\\x1b[0m')"
   ]
  },
  {
   "cell_type": "code",
   "execution_count": null,
   "id": "38d14c52-88b8-4bfe-aca4-180d45fd35cd",
   "metadata": {},
   "outputs": [],
   "source": []
  }
 ],
 "metadata": {
  "kernelspec": {
   "display_name": "Python 3 (ipykernel)",
   "language": "python",
   "name": "python3"
  },
  "language_info": {
   "codemirror_mode": {
    "name": "ipython",
    "version": 3
   },
   "file_extension": ".py",
   "mimetype": "text/x-python",
   "name": "python",
   "nbconvert_exporter": "python",
   "pygments_lexer": "ipython3",
   "version": "3.11.10"
  }
 },
 "nbformat": 4,
 "nbformat_minor": 5
}
