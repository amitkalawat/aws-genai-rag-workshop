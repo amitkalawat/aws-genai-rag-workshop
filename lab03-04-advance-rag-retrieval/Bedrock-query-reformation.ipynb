{
 "cells": [
  {
   "cell_type": "markdown",
   "id": "85afc997-f102-44ac-b337-ce076857f5f4",
   "metadata": {},
   "source": [
    "# RAG Retrieval Optimization - Query Reformulation Supported By Amazon Bedrock Knowledge Bases"
   ]
  },
  {
   "cell_type": "markdown",
   "id": "91ee8c53-ee25-4c79-bb8d-6b419a035757",
   "metadata": {},
   "source": [
    "Amazon Bedrock Knowledge Bases now suppport query reformulation for complex user input queries. This feature can take a complex input query and break it into multiple sub-queries. These sub-queries will then separately go through their own retrieval steps to find relevant chunks. In this process, the subqueries having less semantic complexity might find more targeted chunks. These chunks will then be pooled and ranked together before passing them to the FM to generate a response.\n",
    "\n",
    "Also with query reformulation natively supported, user can take advance of this feature to imporve robustness and accuracy of their RAG solution without having to manage extrac components like third party libraries."
   ]
  },
  {
   "cell_type": "markdown",
   "id": "c69aadf6-3888-4bdd-a219-0214a6a61743",
   "metadata": {},
   "source": [
    "## Pre-req\n",
    "You must run the `[workshop_setup.ipynb]`(../lab00-setup/workshop_setup.ipynb) notebook in `lab00-setup` before starting this lab."
   ]
  },
  {
   "cell_type": "code",
   "execution_count": 1,
   "id": "399fb9bb-aebe-49ea-a148-816f0466b266",
   "metadata": {},
   "outputs": [
    {
     "name": "stderr",
     "output_type": "stream",
     "text": [
      "/tmp/ipykernel_4898/952814476.py:2: UserWarning: Warning: if you did not run lab00-setup, please go back and run the lab00 notebook\n",
      "  warnings.warn(\"Warning: if you did not run lab00-setup, please go back and run the lab00 notebook\")\n"
     ]
    }
   ],
   "source": [
    "import warnings\n",
    "warnings.warn(\"Warning: if you did not run lab00-setup, please go back and run the lab00 notebook\") "
   ]
  },
  {
   "cell_type": "markdown",
   "id": "da0aa96d-010e-4ac8-afc3-ce0df952565a",
   "metadata": {},
   "source": [
    "## Load the parameters"
   ]
  },
  {
   "cell_type": "code",
   "execution_count": 2,
   "id": "93c4ddfc-6001-4571-b849-f4e1fdaa089d",
   "metadata": {},
   "outputs": [
    {
     "name": "stdout",
     "output_type": "stream",
     "text": [
      "Lab parameters....\n",
      "\n",
      "amazon_10k\n",
      "s3://sagemaker-us-west-2-878687028155/amazon_10k/\n",
      "sagemaker-us-west-2-878687028155\n",
      "\n",
      "load the vector db parameters....\n",
      "\n",
      "swagger-api-vector-332\n",
      "arn:aws:aoss:us-west-2:878687028155:collection/o1cfjeuk8rk7o1k40qe4\n",
      "o1cfjeuk8rk7o1k40qe4\n",
      "o1cfjeuk8rk7o1k40qe4.us-west-2.aoss.amazonaws.com\n",
      "arn:aws:iam::878687028155:role/AmazonBedrockExecutionRoleForKnowledgeBase_332\n"
     ]
    }
   ],
   "source": [
    "print(\"Lab parameters....\\n\")\n",
    "%store -r amzn10k_prefix\n",
    "%store -r amzn10k_s3_path\n",
    "%store -r bucket\n",
    "print(amzn10k_prefix)\n",
    "print(amzn10k_s3_path)\n",
    "print(bucket)\n",
    "\n",
    "print(\"\\nload the vector db parameters....\\n\")\n",
    "# vector parameters stored from Initial setup lab02\n",
    "%store -r vector_store_name\n",
    "%store -r vector_collection_arn\n",
    "%store -r vector_collection_id\n",
    "%store -r vector_host\n",
    "%store -r bedrock_kb_execution_role_arn\n",
    "## check all 4 values are printed and do not fail\n",
    "print(vector_store_name)\n",
    "print(vector_collection_arn)\n",
    "print(vector_collection_id)\n",
    "print(vector_host)\n",
    "print(bedrock_kb_execution_role_arn)"
   ]
  },
  {
   "cell_type": "code",
   "execution_count": 3,
   "id": "0f58da03-4ddc-417f-87ca-36a46f6d1096",
   "metadata": {},
   "outputs": [],
   "source": [
    "import random\n",
    "import time\n",
    "import boto3\n",
    "import sys\n",
    "\n",
    "sys.path.append('../lab00-setup')\n",
    "from knowledge_base import BedrockKnowledgeBase\n",
    "\n",
    "# auth for opensearch\n",
    "boto3_session = boto3.Session()\n",
    "region_name = boto3_session.region_name\n",
    "# try out KB using RetrieveAndGenerate API\n",
    "bedrock_agent_runtime_client = boto3.client(\"bedrock-agent-runtime\", region_name=region_name)\n",
    "model_id = \"anthropic.claude-3-sonnet-20240229-v1:0\" # try with both claude instant as well as claude-v2. for claude v2 - \"anthropic.claude-v2\"\n",
    "model_arn = f'arn:aws:bedrock:{region_name}::foundation-model/{model_id}'"
   ]
  },
  {
   "cell_type": "code",
   "execution_count": 4,
   "id": "61da2aff-9a8d-4897-810c-4d6924a8fae7",
   "metadata": {},
   "outputs": [
    {
     "name": "stdout",
     "output_type": "stream",
     "text": [
      "========================================================================================\n",
      "Step 1 - Creating OSS Vector Index\n",
      "\n",
      "Creating index:\n",
      "{ 'acknowledged': True,\n",
      "  'index': 'bedrock-query-reformulation-635',\n",
      "  'shards_acknowledged': True}\n",
      "========================================================================================\n",
      "Step 2 - Creating Knowledge Base\n",
      "Creating KB with chunking strategy - FIXED_SIZE\n",
      "bedrock-query-reformation-635\n",
      "2ALV4ISRQK\n",
      "{'bucketArn': 'arn:aws:s3:::sagemaker-us-west-2-878687028155', 'inclusionPrefixes': ['amazon_10k']}\n",
      "{ 'createdAt': datetime.datetime(2024, 10, 31, 4, 25, 40, 714528, tzinfo=tzlocal()),\n",
      "  'dataDeletionPolicy': 'RETAIN',\n",
      "  'dataSourceConfiguration': { 's3Configuration': { 'bucketArn': 'arn:aws:s3:::sagemaker-us-west-2-878687028155',\n",
      "                                                    'inclusionPrefixes': [ 'amazon_10k']},\n",
      "                               'type': 'S3'},\n",
      "  'dataSourceId': 'KMTZM2DCIC',\n",
      "  'description': 'This knowledge base contain Amazon 10K financial document '\n",
      "                 'from 2022 and 2023',\n",
      "  'knowledgeBaseId': '2ALV4ISRQK',\n",
      "  'name': 'bedrock-query-reformation-635',\n",
      "  'status': 'AVAILABLE',\n",
      "  'updatedAt': datetime.datetime(2024, 10, 31, 4, 25, 40, 714528, tzinfo=tzlocal()),\n",
      "  'vectorIngestionConfiguration': { 'chunkingConfiguration': { 'chunkingStrategy': 'FIXED_SIZE',\n",
      "                                                               'fixedSizeChunkingConfiguration': { 'maxTokens': 300,\n",
      "                                                                                                   'overlapPercentage': 20}}}}\n",
      "========================================================================================\n"
     ]
    }
   ],
   "source": [
    "suffix = random.randrange(200, 900)\n",
    "kb_name = f\"bedrock-query-reformation-{suffix}\"\n",
    "index_name = f\"bedrock-query-reformulation-{suffix}\"\n",
    "description = \"This knowledge base contain Amazon 10K financial document from 2022 and 2023\"\n",
    "\n",
    "knowledge_base = BedrockKnowledgeBase(\n",
    "    kb_name=kb_name,\n",
    "    kb_description=description,\n",
    "    data_bucket_name=bucket,\n",
    "    data_prefix=[amzn10k_prefix],\n",
    "    vector_collection_arn=vector_collection_arn,\n",
    "    vector_collection_id=vector_collection_id,\n",
    "    vector_host=vector_host,\n",
    "    bedrock_kb_execution_role_arn=bedrock_kb_execution_role_arn,\n",
    "    index_name=index_name,\n",
    "    suffix=suffix,\n",
    ")"
   ]
  },
  {
   "cell_type": "markdown",
   "id": "ca3adc36-6cfc-42d9-bd87-f5c17a9ad53d",
   "metadata": {},
   "source": [
    "### Start ingestion job\n",
    "Once the KB and data source is created, we can start the ingestion job.\n",
    "During the ingestion job, KB will fetch the documents in the data source, pre-process it to extract text, chunk it based on the chunking size provided, create embeddings of each chunk and then write it to the vector database, in this case OSS."
   ]
  },
  {
   "cell_type": "code",
   "execution_count": 5,
   "id": "c02b7198-949a-4325-8b71-04133b1cc811",
   "metadata": {},
   "outputs": [
    {
     "name": "stdout",
     "output_type": "stream",
     "text": [
      "{ 'dataSourceId': 'KMTZM2DCIC',\n",
      "  'ingestionJobId': 'QZJNYSY8SO',\n",
      "  'knowledgeBaseId': '2ALV4ISRQK',\n",
      "  'startedAt': datetime.datetime(2024, 10, 31, 4, 26, 11, 101342, tzinfo=tzlocal()),\n",
      "  'statistics': { 'numberOfDocumentsDeleted': 0,\n",
      "                  'numberOfDocumentsFailed': 0,\n",
      "                  'numberOfDocumentsScanned': 0,\n",
      "                  'numberOfMetadataDocumentsModified': 0,\n",
      "                  'numberOfMetadataDocumentsScanned': 0,\n",
      "                  'numberOfModifiedDocumentsIndexed': 0,\n",
      "                  'numberOfNewDocumentsIndexed': 0},\n",
      "  'status': 'STARTING',\n",
      "  'updatedAt': datetime.datetime(2024, 10, 31, 4, 26, 11, 101342, tzinfo=tzlocal())}\n",
      "{ 'dataSourceId': 'KMTZM2DCIC',\n",
      "  'ingestionJobId': 'QZJNYSY8SO',\n",
      "  'knowledgeBaseId': '2ALV4ISRQK',\n",
      "  'startedAt': datetime.datetime(2024, 10, 31, 4, 26, 11, 101342, tzinfo=tzlocal()),\n",
      "  'statistics': { 'numberOfDocumentsDeleted': 0,\n",
      "                  'numberOfDocumentsFailed': 0,\n",
      "                  'numberOfDocumentsScanned': 2,\n",
      "                  'numberOfMetadataDocumentsModified': 0,\n",
      "                  'numberOfMetadataDocumentsScanned': 0,\n",
      "                  'numberOfModifiedDocumentsIndexed': 0,\n",
      "                  'numberOfNewDocumentsIndexed': 2},\n",
      "  'status': 'COMPLETE',\n",
      "  'updatedAt': datetime.datetime(2024, 10, 31, 4, 26, 59, 818168, tzinfo=tzlocal())}\n",
      "........................................\r"
     ]
    }
   ],
   "source": [
    "# ensure that the kb is available\n",
    "time.sleep(30)\n",
    "# sync knowledge base\n",
    "knowledge_base.start_ingestion_job()"
   ]
  },
  {
   "cell_type": "code",
   "execution_count": 6,
   "id": "8e405b15-723c-4c36-b29c-f78dffc2be3c",
   "metadata": {},
   "outputs": [
    {
     "name": "stdout",
     "output_type": "stream",
     "text": [
      "'2ALV4ISRQK'\n"
     ]
    }
   ],
   "source": [
    "kb_id = knowledge_base.get_knowledge_base_id()"
   ]
  },
  {
   "cell_type": "markdown",
   "id": "9d265183-92d1-4977-8be2-880205feaeac",
   "metadata": {},
   "source": [
    "### Query Reformulation\n",
    "To demonstrate the functionality, we are going to more complex query contained in Aamzon's 10K financial document. This query contains a few asks that are not semantically related. When this query is embedded during the retrieval step, some aspects of the query may become diluted and therefore the relevant chunks returned may not address all components of this complex query.\n",
    "\n",
    "To query our Knowledge Base and generate a response we will use the retrieve_and_generate API call. To use the query reformulation feature, we will include in our knowledge base configuration the additional information as shown below:\n",
    "\n",
    "```\n",
    "'orchestrationConfiguration': {\n",
    "        'queryTransformationConfiguration': {\n",
    "            'type': 'QUERY_DECOMPOSITION'\n",
    "        }\n",
    "    }\n",
    "\n",
    "```"
   ]
  },
  {
   "cell_type": "markdown",
   "id": "3b20ebf1-8a23-4240-9607-130f6e6fff36",
   "metadata": {},
   "source": [
    "### > Without Query Reformulation\n",
    "Let's see how the generated result looks like for the following query without using query reformulation:\n",
    "\n",
    "\"What was Amazon's total net sales in 2023, and how did it compare to 2021? Also, what were the main factors contributing to the sales growth?\""
   ]
  },
  {
   "cell_type": "code",
   "execution_count": 82,
   "id": "66975db2-658c-4ed4-bcf5-0651ae88dfd6",
   "metadata": {},
   "outputs": [],
   "source": [
    "query = \"\"\"\n",
    "What were Amazons net sales in year 2022 and 2023? Can you compare key challenges faced by Amazon for both years?\n",
    "\"\"\""
   ]
  },
  {
   "cell_type": "code",
   "execution_count": 83,
   "id": "c810a70a-7df3-49d1-87a4-6ee5fb2104fc",
   "metadata": {},
   "outputs": [
    {
     "name": "stdout",
     "output_type": "stream",
     "text": [
      "According to the search results, Amazon's net sales in 2022 were $513,983 million. The net sales for 2023 are not provided in the search results, but guidance for the first quarter of 2023 indicates that net sales are expected to be between $121.0 billion and $126.0 billion. The key challenges faced by Amazon in 2022 and 2023 based on the search results appear to be:\n",
      "\n",
      "2022: Changes in foreign currency exchange rates reduced net sales by $15.5 billion.\n",
      "\n",
      "2023: The guidance for Q1 2023 anticipates an unfavorable impact of approximately 210 basis points from foreign exchange rates. Additionally, the guidance mentions factors like uncertainty from the COVID-19 pandemic, fluctuations in foreign exchange rates, changes in global economic and geopolitical conditions, customer demand and spending (including recessionary fears), inflation, interest rates, regional labor market constraints, and global supply chain constraints as potential challenges.\n",
      "\n"
     ]
    }
   ],
   "source": [
    "response_ret = bedrock_agent_runtime_client.retrieve_and_generate(\n",
    "    input={\n",
    "        \"text\": query\n",
    "    },\n",
    "    retrieveAndGenerateConfiguration={\n",
    "        \"type\": \"KNOWLEDGE_BASE\",\n",
    "        \"knowledgeBaseConfiguration\": {\n",
    "            'knowledgeBaseId': kb_id,\n",
    "            \"modelArn\": \"arn:aws:bedrock:{}::foundation-model/{}\".format(region_name, \n",
    "                                                                         model_id),\n",
    "            \"retrievalConfiguration\": {\n",
    "                \"vectorSearchConfiguration\": {\n",
    "                    \"numberOfResults\":3\n",
    "                } \n",
    "            }\n",
    "        }\n",
    "    }\n",
    ")\n",
    "\n",
    "\n",
    "# generated text output\n",
    "raw_response = response_ret['output']['text']\n",
    "print(raw_response,end='\\n'*2)"
   ]
  },
  {
   "cell_type": "code",
   "execution_count": 84,
   "id": "a7900e60-853c-4332-812d-7efd774e53cb",
   "metadata": {},
   "outputs": [
    {
     "name": "stdout",
     "output_type": "stream",
     "text": [
      "# of citations or chunks used to generate the response:  2\n",
      "Chunk 1:  Service sales primarily represent third-party seller fees, which includes commissions and any related fulfillment and shipping fees, AWS sales, advertising services, Amazon Prime membership fees, and certain digital content subscriptions. Net sales information is as follows (in millions): Year Ended December 31,      2021 2022     Net Sales: North America $ 279,833 $ 315,880 International 127,787 118,007 AWS 62,202 80,096     Consolidated $ 469,822 $ 513,983 Year-over-year Percentage Growth (Decline):     North America 18 % 13 % International 22 (8) AWS 37 29     Consolidated 22 9 Year-over-year Percentage Growth, excluding the effect of foreign exchange rates:     North America 18 % 13 % International 20 4 AWS 37 29     Consolidated 21 13 Net sales mix:     North America 60 % 61 % International 27 23 AWS 13 16     Consolidated 100 % 100 %     Sales increased 9% in 2022, compared to the prior year. Changes in foreign currency exchange rates reduced net sales by $15.5 billion in 2022. For a discussion of the effect of foreign exchange rates on sales growth, see “Effect of Foreign Exchange Rates” below.     North America sales increased 13% in 2022, compared to the prior year.\n",
      "\n",
      "Chunk 1 Location:  {'s3Location': {'uri': 's3://sagemaker-us-west-2-878687028155/amazon_10k/amazon_2022.pdf'}, 'type': 'S3'}\n",
      "\n",
      "Chunk 1 Metadata:  {'x-amz-bedrock-kb-source-uri': 's3://sagemaker-us-west-2-878687028155/amazon_10k/amazon_2022.pdf', 'x-amz-bedrock-kb-document-page-number': 23.0, 'x-amz-bedrock-kb-chunk-id': '1%3A0%3AOYLT4JIB_hS23eBamIBu', 'x-amz-bedrock-kb-data-source-id': 'KMTZM2DCIC'}\n",
      "\n",
      "Chunk 2:  These forward-looking statements reflect     Amazon.com’s expectations as of February 2, 2023, and are subject to substantial uncertainty. Our results are inherently unpredictable and may be materially affected by many factors, such as uncertainty regarding the impacts of the COVID-19 pandemic, fluctuations in foreign exchange rates, changes in global economic and geopolitical conditions and customer demand and spending (including the impact of recessionary fears), inflation, interest rates, regional labor market and global supply chain constraints, world events, the rate of growth of the Internet, online commerce, and cloud services, as well as those outlined in Item 1A of Part I, “Risk Factors.”     First Quarter 2023 Guidance     • Net sales are expected to be between $121.0 billion and $126.0 billion, or to grow between 4% and 8% compared with first quarter 2022. This guidance anticipates an unfavorable impact of approximately 210 basis points from foreign exchange rates.     • Operating income is expected to be between $0 and $4.0 billion, compared with $3.7 billion in first quarter 2022.     • This guidance assumes, among other things, that no additional business acquisitions, restructurings, or legal settlements are concluded.     30Table of Contents     Item 7A.\n",
      "\n",
      "Chunk 2 Location:  {'s3Location': {'uri': 's3://sagemaker-us-west-2-878687028155/amazon_10k/amazon_2022.pdf'}, 'type': 'S3'}\n",
      "\n",
      "Chunk 2 Metadata:  {'x-amz-bedrock-kb-source-uri': 's3://sagemaker-us-west-2-878687028155/amazon_10k/amazon_2022.pdf', 'x-amz-bedrock-kb-document-page-number': 30.0, 'x-amz-bedrock-kb-chunk-id': '1%3A0%3A1wDT4JIBVSpSdLjumo_U', 'x-amz-bedrock-kb-data-source-id': 'KMTZM2DCIC'}\n",
      "\n"
     ]
    }
   ],
   "source": [
    "response_without_qr = response_ret['citations'][0]['retrievedReferences']\n",
    "print(\"# of citations or chunks used to generate the response: \", len(response_without_qr))\n",
    "def citations_rag_print(response_ret):\n",
    "#structure 'retrievalResults': list of contents. Each list has content, location, score, metadata\n",
    "    for num,chunk in enumerate(response_ret,1):\n",
    "        print(f'Chunk {num}: ',chunk['content']['text'],end='\\n'*2)\n",
    "        print(f'Chunk {num} Location: ',chunk['location'],end='\\n'*2)\n",
    "        print(f'Chunk {num} Metadata: ',chunk['metadata'],end='\\n'*2)\n",
    "\n",
    "citations_rag_print(response_without_qr)"
   ]
  },
  {
   "cell_type": "markdown",
   "id": "33ed05b6-6b88-44ac-8aee-88fe98d46eb8",
   "metadata": {},
   "source": [
    "### > With Query Reformulation\n",
    "Now let's see how query reformulation can benefit the more aligned context retrieval, which in turn, will enhace the accuracy of response generation."
   ]
  },
  {
   "cell_type": "code",
   "execution_count": 85,
   "id": "3974b726-5f7f-4496-94af-9d7a509ac6ea",
   "metadata": {},
   "outputs": [
    {
     "name": "stdout",
     "output_type": "stream",
     "text": [
      "According to the search results, Amazon's net sales in 2022 were $513,983 million, with North America sales of $315,880 million, International sales of $118,007 million, and AWS sales of $80,096 million. In 2023, Amazon's net sales increased to $574,785 million, with North America sales of $352,828 million, International sales of $131,200 million, and AWS sales of $90,757 million. The search results indicate that some key challenges faced by Amazon in 2022 and 2023 included the impact of changes in foreign exchange rates, which reduced net sales by $15.5 billion in 2022 and $71 million in 2023. Additionally, the guidance for Q1 2023 mentions uncertainty regarding the impacts of the COVID-19 pandemic, fluctuations in foreign exchange rates, changes in global economic and geopolitical conditions, customer demand and spending, inflation, interest rates, regional labor market constraints, and global supply chain constraints as potential challenges.\n",
      "\n"
     ]
    }
   ],
   "source": [
    "response_ret = bedrock_agent_runtime_client.retrieve_and_generate(\n",
    "    input={\n",
    "        \"text\": query\n",
    "    },\n",
    "    retrieveAndGenerateConfiguration={\n",
    "        \"type\": \"KNOWLEDGE_BASE\",\n",
    "        \"knowledgeBaseConfiguration\": {\n",
    "            'knowledgeBaseId': kb_id,\n",
    "            \"modelArn\": \"arn:aws:bedrock:{}::foundation-model/{}\".format(region_name, \n",
    "                                                                         model_id),\n",
    "            \"retrievalConfiguration\": {\n",
    "                \"vectorSearchConfiguration\": {\n",
    "                    \"numberOfResults\":3\n",
    "                } \n",
    "            },\n",
    "            'orchestrationConfiguration': {\n",
    "                'queryTransformationConfiguration': {\n",
    "                    'type': 'QUERY_DECOMPOSITION'\n",
    "                }\n",
    "            }\n",
    "        }\n",
    "    }\n",
    ")\n",
    "\n",
    "\n",
    "# generated text output\n",
    "transformed_response = response_ret['output']['text']\n",
    "print(transformed_response,end='\\n'*2)"
   ]
  },
  {
   "cell_type": "code",
   "execution_count": 86,
   "id": "79fde48a-1f32-476d-b1df-3f12c04c4609",
   "metadata": {},
   "outputs": [
    {
     "name": "stdout",
     "output_type": "stream",
     "text": [
      "# of citations or chunks used to generate the response:  2\n",
      "Chunk 1:  Service sales primarily represent third-party seller fees, which includes commissions and any related fulfillment and shipping fees, AWS sales, advertising services, Amazon Prime membership fees, and certain digital content subscriptions. Net sales information is as follows (in millions): Year Ended December 31,      2021 2022     Net Sales: North America $ 279,833 $ 315,880 International 127,787 118,007 AWS 62,202 80,096     Consolidated $ 469,822 $ 513,983 Year-over-year Percentage Growth (Decline):     North America 18 % 13 % International 22 (8) AWS 37 29     Consolidated 22 9 Year-over-year Percentage Growth, excluding the effect of foreign exchange rates:     North America 18 % 13 % International 20 4 AWS 37 29     Consolidated 21 13 Net sales mix:     North America 60 % 61 % International 27 23 AWS 13 16     Consolidated 100 % 100 %     Sales increased 9% in 2022, compared to the prior year. Changes in foreign currency exchange rates reduced net sales by $15.5 billion in 2022. For a discussion of the effect of foreign exchange rates on sales growth, see “Effect of Foreign Exchange Rates” below.     North America sales increased 13% in 2022, compared to the prior year.\n",
      "\n",
      "Chunk 1 Location:  {'s3Location': {'uri': 's3://sagemaker-us-west-2-878687028155/amazon_10k/amazon_2022.pdf'}, 'type': 'S3'}\n",
      "\n",
      "Chunk 1 Metadata:  {'x-amz-bedrock-kb-source-uri': 's3://sagemaker-us-west-2-878687028155/amazon_10k/amazon_2022.pdf', 'x-amz-bedrock-kb-document-page-number': 23.0, 'x-amz-bedrock-kb-chunk-id': '1%3A0%3AOYLT4JIB_hS23eBamIBu', 'x-amz-bedrock-kb-data-source-id': 'KMTZM2DCIC'}\n",
      "\n",
      "Chunk 2:  Service sales primarily represent third-party seller fees, which includes commissions and any related fulfillment and shipping fees, AWS sales, advertising services, Amazon Prime membership fees, and certain digital media content subscriptions. Net sales information is as follows (in millions): Year Ended December 31,      2022 2023     Net Sales: North America $ 315,880 $ 352,828 International 118,007 131,200 AWS 80,096 90,757     Consolidated $ 513,983 $ 574,785 Year-over-year Percentage Growth (Decline):     North America 13 % 12 % International (8) 11 AWS 29 13     Consolidated 9 12 Year-over-year Percentage Growth, excluding the effect of foreign exchange rates:     North America 13 % 12 % International 4 11 AWS 29 13     Consolidated 13 12 Net Sales Mix:     North America 61 % 61 % International 23 23 AWS 16 16     Consolidated 100 % 100 %     Sales increased 12% in 2023, compared to the prior year. Changes in foreign exchange rates reduced net sales by $71 million in 2023. For a discussion of the effect of foreign exchange rates on sales growth, see “Effect of Foreign Exchange Rates” below.     North America sales increased 12% in 2023, compared to the prior year.\n",
      "\n",
      "Chunk 2 Location:  {'s3Location': {'uri': 's3://sagemaker-us-west-2-878687028155/amazon_10k/amazon_2023.pdf'}, 'type': 'S3'}\n",
      "\n",
      "Chunk 2 Metadata:  {'x-amz-bedrock-kb-source-uri': 's3://sagemaker-us-west-2-878687028155/amazon_10k/amazon_2023.pdf', 'x-amz-bedrock-kb-document-page-number': 24.0, 'x-amz-bedrock-kb-chunk-id': '1%3A0%3AdoLT4JIB_hS23eBajX9W', 'x-amz-bedrock-kb-data-source-id': 'KMTZM2DCIC'}\n",
      "\n"
     ]
    }
   ],
   "source": [
    "response_with_qr = response_ret['citations'][0]['retrievedReferences']\n",
    "print(\"# of citations or chunks used to generate the response: \", len(response_with_qr))\n",
    "\n",
    "citations_rag_print(response_with_qr)"
   ]
  },
  {
   "cell_type": "markdown",
   "id": "9096a479-068a-4d30-8062-5b8600b7ab04",
   "metadata": {},
   "source": [
    "### > Display the results side-by-side \n",
    "\n",
    "Notice splitting the question into sub questions increase your chances of matching the right and complete information and generate a more comprehensive final answer."
   ]
  },
  {
   "cell_type": "code",
   "execution_count": 87,
   "id": "e5edd926-1563-4fed-97d1-c2a4f88dd5cf",
   "metadata": {},
   "outputs": [
    {
     "data": {
      "text/html": [
       "<style type=\"text/css\">\n",
       "</style>\n",
       "<table id=\"T_ea14f\" style='display:inline'>\n",
       "  <thead>\n",
       "    <tr>\n",
       "      <th id=\"T_ea14f_level0_col0\" class=\"col_heading level0 col0\" >Naive RAG</th>\n",
       "      <th id=\"T_ea14f_level0_col1\" class=\"col_heading level0 col1\" >RAG w/ Query Rewrite</th>\n",
       "    </tr>\n",
       "  </thead>\n",
       "  <tbody>\n",
       "    <tr>\n",
       "      <td id=\"T_ea14f_row0_col0\" class=\"data row0 col0\" >\n",
       "What were Amazons net sales in year 2022 and 2023? Can you compare key challenges faced by Amazon for both years?\n",
       "</td>\n",
       "      <td id=\"T_ea14f_row0_col1\" class=\"data row0 col1\" >\n",
       "What were Amazons net sales in year 2022 and 2023? Can you compare key challenges faced by Amazon for both years?\n",
       "</td>\n",
       "    </tr>\n",
       "    <tr>\n",
       "      <td id=\"T_ea14f_row1_col0\" class=\"data row1 col0\" >According to the search results, Amazon's net sales in 2022 were $513,983 million. The net sales for 2023 are not provided in the search results, but guidance for the first quarter of 2023 indicates that net sales are expected to be between $121.0 billion and $126.0 billion. The key challenges faced by Amazon in 2022 and 2023 based on the search results appear to be:\n",
       "\n",
       "2022: Changes in foreign currency exchange rates reduced net sales by $15.5 billion.\n",
       "\n",
       "2023: The guidance for Q1 2023 anticipates an unfavorable impact of approximately 210 basis points from foreign exchange rates. Additionally, the guidance mentions factors like uncertainty from the COVID-19 pandemic, fluctuations in foreign exchange rates, changes in global economic and geopolitical conditions, customer demand and spending (including recessionary fears), inflation, interest rates, regional labor market constraints, and global supply chain constraints as potential challenges.</td>\n",
       "      <td id=\"T_ea14f_row1_col1\" class=\"data row1 col1\" >According to the search results, Amazon's net sales in 2022 were $513,983 million, with North America sales of $315,880 million, International sales of $118,007 million, and AWS sales of $80,096 million. In 2023, Amazon's net sales increased to $574,785 million, with North America sales of $352,828 million, International sales of $131,200 million, and AWS sales of $90,757 million. The search results indicate that some key challenges faced by Amazon in 2022 and 2023 included the impact of changes in foreign exchange rates, which reduced net sales by $15.5 billion in 2022 and $71 million in 2023. Additionally, the guidance for Q1 2023 mentions uncertainty regarding the impacts of the COVID-19 pandemic, fluctuations in foreign exchange rates, changes in global economic and geopolitical conditions, customer demand and spending, inflation, interest rates, regional labor market constraints, and global supply chain constraints as potential challenges.</td>\n",
       "    </tr>\n",
       "  </tbody>\n",
       "</table>\n",
       "&nbsp;"
      ],
      "text/plain": [
       "<IPython.core.display.HTML object>"
      ]
     },
     "metadata": {},
     "output_type": "display_data"
    }
   ],
   "source": [
    "import pandas as pd\n",
    "from IPython.display import display, HTML\n",
    "\n",
    "# Create the first table\n",
    "df = pd.DataFrame({\n",
    "    'Naive RAG': [query, raw_response],\n",
    "    'RAG w/ Query Rewrite': [query, transformed_response]\n",
    "})\n",
    "\n",
    "output=\"\"\n",
    "output += df.style.hide().set_table_attributes(\"style='display:inline'\")._repr_html_()\n",
    "output += \"&nbsp;\"\n",
    "\n",
    "display(HTML(output))"
   ]
  },
  {
   "cell_type": "markdown",
   "id": "2e4137fa-f44d-486b-91ce-1bfa029b3b7f",
   "metadata": {},
   "source": [
    "### Clean Up"
   ]
  },
  {
   "cell_type": "code",
   "execution_count": 69,
   "id": "703d0513-4c32-4e00-bd0b-51f461c4d5bb",
   "metadata": {},
   "outputs": [],
   "source": [
    "#knowledge_base.delete_kb()"
   ]
  },
  {
   "cell_type": "code",
   "execution_count": null,
   "id": "0f6a9874-91f0-40d1-a0a6-2b50db441d46",
   "metadata": {},
   "outputs": [],
   "source": []
  }
 ],
 "metadata": {
  "kernelspec": {
   "display_name": "Python 3 (ipykernel)",
   "language": "python",
   "name": "python3"
  },
  "language_info": {
   "codemirror_mode": {
    "name": "ipython",
    "version": 3
   },
   "file_extension": ".py",
   "mimetype": "text/x-python",
   "name": "python",
   "nbconvert_exporter": "python",
   "pygments_lexer": "ipython3",
   "version": "3.10.14"
  }
 },
 "nbformat": 4,
 "nbformat_minor": 5
}
