{
 "cells": [
  {
   "cell_type": "markdown",
   "id": "85afc997-f102-44ac-b337-ce076857f5f4",
   "metadata": {},
   "source": [
    "# RAG Retrieval Optimization - Query Reformulation Supported By Amazon Bedrock Knowledge Bases"
   ]
  },
  {
   "cell_type": "markdown",
   "id": "91ee8c53-ee25-4c79-bb8d-6b419a035757",
   "metadata": {},
   "source": [
    "Amazon Bedrock Knowledge Bases now suppport query reformulation for complex user input queries. This feature can take a complex input query and break it into multiple sub-queries. These sub-queries will then separately go through their own retrieval steps to find relevant chunks. In this process, the subqueries having less semantic complexity might find more targeted chunks. These chunks will then be pooled and ranked together before passing them to the FM to generate a response.\n",
    "\n",
    "Also with query reformulation natively supported, user can take advance of this feature to imporve robustness and accuracy of their RAG solution without having to manage extrac components like third party libraries."
   ]
  },
  {
   "cell_type": "markdown",
   "id": "c69aadf6-3888-4bdd-a219-0214a6a61743",
   "metadata": {},
   "source": [
    "## Pre-req\n",
    "You must run the `[workshop_setup.ipynb]`(../lab00-setup/workshop_setup.ipynb) notebook in `lab00-setup` before starting this lab."
   ]
  },
  {
   "cell_type": "code",
   "execution_count": 1,
   "id": "399fb9bb-aebe-49ea-a148-816f0466b266",
   "metadata": {},
   "outputs": [
    {
     "name": "stderr",
     "output_type": "stream",
     "text": [
      "/tmp/ipykernel_3469/952814476.py:2: UserWarning: Warning: if you did not run lab00-setup, please go back and run the lab00 notebook\n",
      "  warnings.warn(\"Warning: if you did not run lab00-setup, please go back and run the lab00 notebook\")\n"
     ]
    }
   ],
   "source": [
    "import warnings\n",
    "warnings.warn(\"Warning: if you did not run lab00-setup, please go back and run the lab00 notebook\") "
   ]
  },
  {
   "cell_type": "markdown",
   "id": "da0aa96d-010e-4ac8-afc3-ce0df952565a",
   "metadata": {},
   "source": [
    "## Load the parameters"
   ]
  },
  {
   "cell_type": "code",
   "execution_count": 2,
   "id": "93c4ddfc-6001-4571-b849-f4e1fdaa089d",
   "metadata": {},
   "outputs": [
    {
     "name": "stdout",
     "output_type": "stream",
     "text": [
      "Lab parameters....\n",
      "\n",
      "amazon_10k\n",
      "s3://sagemaker-us-west-2-376678947624/amazon_10k/\n",
      "sagemaker-us-west-2-376678947624\n",
      "\n",
      "load the vector db parameters....\n",
      "\n",
      "swagger-api-vector-541\n",
      "arn:aws:aoss:us-west-2:376678947624:collection/8o3snghnd44k5fz4itf8\n",
      "8o3snghnd44k5fz4itf8\n",
      "8o3snghnd44k5fz4itf8.us-west-2.aoss.amazonaws.com\n",
      "arn:aws:iam::376678947624:role/AmazonBedrockExecutionRoleForKnowledgeBase_541\n"
     ]
    }
   ],
   "source": [
    "print(\"Lab parameters....\\n\")\n",
    "%store -r amzn10k_prefix\n",
    "%store -r amzn10k_s3_path\n",
    "%store -r bucket\n",
    "print(amzn10k_prefix)\n",
    "print(amzn10k_s3_path)\n",
    "print(bucket)\n",
    "\n",
    "print(\"\\nload the vector db parameters....\\n\")\n",
    "# vector parameters stored from Initial setup lab02\n",
    "%store -r vector_store_name\n",
    "%store -r vector_collection_arn\n",
    "%store -r vector_collection_id\n",
    "%store -r vector_host\n",
    "%store -r bedrock_kb_execution_role_arn\n",
    "## check all 4 values are printed and do not fail\n",
    "print(vector_store_name)\n",
    "print(vector_collection_arn)\n",
    "print(vector_collection_id)\n",
    "print(vector_host)\n",
    "print(bedrock_kb_execution_role_arn)"
   ]
  },
  {
   "cell_type": "code",
   "execution_count": null,
   "id": "0f58da03-4ddc-417f-87ca-36a46f6d1096",
   "metadata": {},
   "outputs": [],
   "source": [
    "from knowledge_base import BedrockKnowledgeBase\n",
    "import random\n",
    "import time\n",
    "import boto3\n",
    "# auth for opensearch\n",
    "boto3_session = boto3.Session()\n",
    "region_name = boto3_session.region_name\n",
    "# try out KB using RetrieveAndGenerate API\n",
    "bedrock_agent_runtime_client = boto3.client(\"bedrock-agent-runtime\", region_name=region_name)\n",
    "model_id = \"anthropic.claude-3-sonnet-20240229-v1:0\" # try with both claude instant as well as claude-v2. for claude v2 - \"anthropic.claude-v2\"\n",
    "model_arn = f'arn:aws:bedrock:{region_name}::foundation-model/{model_id}'"
   ]
  },
  {
   "cell_type": "code",
   "execution_count": 3,
   "id": "61da2aff-9a8d-4897-810c-4d6924a8fae7",
   "metadata": {},
   "outputs": [
    {
     "name": "stdout",
     "output_type": "stream",
     "text": [
      "========================================================================================\n",
      "Step 1 - Creating OSS Vector Index\n",
      "\n",
      "Creating index:\n",
      "{ 'acknowledged': True,\n",
      "  'index': 'bedrock-query-reformulation-index-688',\n",
      "  'shards_acknowledged': True}\n",
      "========================================================================================\n",
      "Step 2 - Creating Knowledge Base\n",
      "Creating KB with chunking strategy - FIXED_SIZE\n",
      "============Chunking config========\n",
      " {'chunkingConfiguration': {'chunkingStrategy': 'FIXED_SIZE', 'fixedSizeChunkingConfiguration': {'maxTokens': 300, 'overlapPercentage': 20}}}\n",
      "{ 'createdAt': datetime.datetime(2024, 10, 23, 13, 52, 59, 600547, tzinfo=tzlocal()),\n",
      "  'description': 'This knowledge base contain Amazon 10K financial document '\n",
      "                 'from 2022 and 2023',\n",
      "  'knowledgeBaseArn': 'arn:aws:bedrock:us-west-2:376678947624:knowledge-base/IJJYGJVXUS',\n",
      "  'knowledgeBaseConfiguration': { 'type': 'VECTOR',\n",
      "                                  'vectorKnowledgeBaseConfiguration': { 'embeddingModelArn': 'arn:aws:bedrock:us-west-2::foundation-model/amazon.titan-embed-text-v2:0'}},\n",
      "  'knowledgeBaseId': 'IJJYGJVXUS',\n",
      "  'name': 'bedrock-query-reformation-knowledge-base-688',\n",
      "  'roleArn': 'arn:aws:iam::376678947624:role/AmazonBedrockExecutionRoleForKnowledgeBase_541',\n",
      "  'status': 'CREATING',\n",
      "  'storageConfiguration': { 'opensearchServerlessConfiguration': { 'collectionArn': 'arn:aws:aoss:us-west-2:376678947624:collection/8o3snghnd44k5fz4itf8',\n",
      "                                                                   'fieldMapping': { 'metadataField': 'text-metadata',\n",
      "                                                                                     'textField': 'text',\n",
      "                                                                                     'vectorField': 'vector'},\n",
      "                                                                   'vectorIndexName': 'bedrock-query-reformulation-index-688'},\n",
      "                            'type': 'OPENSEARCH_SERVERLESS'},\n",
      "  'updatedAt': datetime.datetime(2024, 10, 23, 13, 52, 59, 600547, tzinfo=tzlocal())}\n",
      "bedrock-query-reformation-knowledge-base-688\n",
      "IJJYGJVXUS\n",
      "{'bucketArn': 'arn:aws:s3:::sagemaker-us-west-2-376678947624', 'inclusionPrefixes': ['amazon_10k']}\n",
      "{ 'createdAt': datetime.datetime(2024, 10, 23, 13, 53, 1, 230437, tzinfo=tzlocal()),\n",
      "  'dataDeletionPolicy': 'RETAIN',\n",
      "  'dataSourceConfiguration': { 's3Configuration': { 'bucketArn': 'arn:aws:s3:::sagemaker-us-west-2-376678947624',\n",
      "                                                    'inclusionPrefixes': [ 'amazon_10k']},\n",
      "                               'type': 'S3'},\n",
      "  'dataSourceId': '7E76XOLCH5',\n",
      "  'description': 'This knowledge base contain Amazon 10K financial document '\n",
      "                 'from 2022 and 2023',\n",
      "  'knowledgeBaseId': 'IJJYGJVXUS',\n",
      "  'name': 'bedrock-query-reformation-knowledge-base-688',\n",
      "  'status': 'AVAILABLE',\n",
      "  'updatedAt': datetime.datetime(2024, 10, 23, 13, 53, 1, 230437, tzinfo=tzlocal()),\n",
      "  'vectorIngestionConfiguration': { 'chunkingConfiguration': { 'chunkingStrategy': 'FIXED_SIZE',\n",
      "                                                               'fixedSizeChunkingConfiguration': { 'maxTokens': 300,\n",
      "                                                                                                   'overlapPercentage': 20}}}}\n",
      "========================================================================================\n"
     ]
    }
   ],
   "source": [
    "suffix = random.randrange(200, 900)\n",
    "kb_name = f\"bedrock-query-reformation-{suffix}\"\n",
    "index_name = f\"bedrock-query-reformulation-{suffix}\"\n",
    "description = \"This knowledge base contain Amazon 10K financial document from 2022 and 2023\"\n",
    "\n",
    "knowledge_base = BedrockKnowledgeBase(\n",
    "    kb_name=kb_name,\n",
    "    kb_description=description,\n",
    "    data_bucket_name=bucket,\n",
    "    data_prefix=[amzn10k_prefix],\n",
    "    vector_collection_arn=vector_collection_arn,\n",
    "    vector_collection_id=vector_collection_id,\n",
    "    vector_host=vector_host,\n",
    "    bedrock_kb_execution_role_arn=bedrock_kb_execution_role_arn,\n",
    "    index_name=index_name,\n",
    "    suffix=suffix,\n",
    ")"
   ]
  },
  {
   "cell_type": "markdown",
   "id": "ca3adc36-6cfc-42d9-bd87-f5c17a9ad53d",
   "metadata": {},
   "source": [
    "### Start ingestion job\n",
    "Once the KB and data source is created, we can start the ingestion job.\n",
    "During the ingestion job, KB will fetch the documents in the data source, pre-process it to extract text, chunk it based on the chunking size provided, create embeddings of each chunk and then write it to the vector database, in this case OSS."
   ]
  },
  {
   "cell_type": "code",
   "execution_count": 6,
   "id": "c02b7198-949a-4325-8b71-04133b1cc811",
   "metadata": {},
   "outputs": [
    {
     "name": "stdout",
     "output_type": "stream",
     "text": [
      "{ 'dataSourceId': '7E76XOLCH5',\n",
      "  'ingestionJobId': 'LPLEIEBI4X',\n",
      "  'knowledgeBaseId': 'IJJYGJVXUS',\n",
      "  'startedAt': datetime.datetime(2024, 10, 23, 14, 29, 49, 398748, tzinfo=tzlocal()),\n",
      "  'statistics': { 'numberOfDocumentsDeleted': 0,\n",
      "                  'numberOfDocumentsFailed': 0,\n",
      "                  'numberOfDocumentsScanned': 0,\n",
      "                  'numberOfMetadataDocumentsModified': 0,\n",
      "                  'numberOfMetadataDocumentsScanned': 0,\n",
      "                  'numberOfModifiedDocumentsIndexed': 0,\n",
      "                  'numberOfNewDocumentsIndexed': 0},\n",
      "  'status': 'STARTING',\n",
      "  'updatedAt': datetime.datetime(2024, 10, 23, 14, 29, 49, 398748, tzinfo=tzlocal())}\n",
      "{ 'dataSourceId': '7E76XOLCH5',\n",
      "  'ingestionJobId': 'LPLEIEBI4X',\n",
      "  'knowledgeBaseId': 'IJJYGJVXUS',\n",
      "  'startedAt': datetime.datetime(2024, 10, 23, 14, 29, 49, 398748, tzinfo=tzlocal()),\n",
      "  'statistics': { 'numberOfDocumentsDeleted': 0,\n",
      "                  'numberOfDocumentsFailed': 0,\n",
      "                  'numberOfDocumentsScanned': 3,\n",
      "                  'numberOfMetadataDocumentsModified': 0,\n",
      "                  'numberOfMetadataDocumentsScanned': 0,\n",
      "                  'numberOfModifiedDocumentsIndexed': 0,\n",
      "                  'numberOfNewDocumentsIndexed': 3},\n",
      "  'status': 'COMPLETE',\n",
      "  'updatedAt': datetime.datetime(2024, 10, 23, 14, 40, 18, 704625, tzinfo=tzlocal())}\n",
      "........................................\r"
     ]
    }
   ],
   "source": [
    "\n",
    "# ensure that the kb is available\n",
    "time.sleep(30)\n",
    "# sync knowledge base\n",
    "knowledge_base.start_ingestion_job()"
   ]
  },
  {
   "cell_type": "code",
   "execution_count": 9,
   "id": "8e405b15-723c-4c36-b29c-f78dffc2be3c",
   "metadata": {},
   "outputs": [
    {
     "name": "stdout",
     "output_type": "stream",
     "text": [
      "'IJJYGJVXUS'\n"
     ]
    }
   ],
   "source": [
    "kb_id = knowledge_base.get_knowledge_base_id()"
   ]
  },
  {
   "cell_type": "code",
   "execution_count": 12,
   "id": "d2d992a1-bacd-49f5-8506-bbc70ae61063",
   "metadata": {},
   "outputs": [],
   "source": []
  },
  {
   "cell_type": "markdown",
   "id": "9d265183-92d1-4977-8be2-880205feaeac",
   "metadata": {},
   "source": [
    "### Query Reformulation\n",
    "To demonstrate the functionality, we are going to more complex query contained in Aamzon's 10K financial document. This query contains a few asks that are not semantically related. When this query is embedded during the retrieval step, some aspects of the query may become diluted and therefore the relevant chunks returned may not address all components of this complex query.\n",
    "\n",
    "To query our Knowledge Base and generate a response we will use the retrieve_and_generate API call. To use the query reformulation feature, we will include in our knowledge base configuration the additional information as shown below:\n",
    "\n",
    "```\n",
    "'orchestrationConfiguration': {\n",
    "        'queryTransformationConfiguration': {\n",
    "            'type': 'QUERY_DECOMPOSITION'\n",
    "        }\n",
    "    }\n",
    "\n",
    "```"
   ]
  },
  {
   "cell_type": "markdown",
   "id": "3b20ebf1-8a23-4240-9607-130f6e6fff36",
   "metadata": {},
   "source": [
    "### > Without Query Reformulation\n",
    "Let's see how the generated result looks like for the following query without using query reformulation:\n",
    "\n",
    "\"What was Amazon's total net sales in 2023, and how did it compare to 2021? Also, what were the main factors contributing to the sales growth?\""
   ]
  },
  {
   "cell_type": "code",
   "execution_count": 22,
   "id": "66975db2-658c-4ed4-bcf5-0651ae88dfd6",
   "metadata": {},
   "outputs": [],
   "source": [
    "query = \"\"\"\n",
    "What are amazons key priorities before, during and after covid?\n",
    "\"\"\""
   ]
  },
  {
   "cell_type": "code",
   "execution_count": 23,
   "id": "c810a70a-7df3-49d1-87a4-6ee5fb2104fc",
   "metadata": {},
   "outputs": [
    {
     "name": "stdout",
     "output_type": "stream",
     "text": [
      "According to the search results, Amazon's key priorities include investment and innovation, inclusion and diversity, safety, and engagement to hire and develop the best talent. Some of the initiatives mentioned to support these priorities are:\n",
      "\n",
      "- Competitive pay and benefits\n",
      "- Flexible work arrangements\n",
      "- Skills training and educational programs like Amazon Career Choice (education funding for eligible employees) and the Amazon Technical Academy (software development engineer training)\n",
      "- Refining hiring, development, evaluation, and retention mechanisms to promote equity\n",
      "- Investing in safety improvements like capital improvements, new safety technology, vehicle safety controls, and ergonomic solutions\n",
      "- Providing mentorship, support resources, and programs to advance employee engagement, communication, and feedback The search results do not explicitly mention Amazon's priorities specifically before, during, or after COVID-19. However, the initiatives listed above seem to be ongoing priorities for Amazon to attract and retain talent, promote diversity and inclusion, ensure workplace safety, and keep employees engaged - which would likely be important focuses both during the pandemic and in regular times.\n",
      "\n"
     ]
    }
   ],
   "source": [
    "response_ret = bedrock_agent_runtime_client.retrieve_and_generate(\n",
    "    input={\n",
    "        \"text\": query\n",
    "    },\n",
    "    retrieveAndGenerateConfiguration={\n",
    "        \"type\": \"KNOWLEDGE_BASE\",\n",
    "        \"knowledgeBaseConfiguration\": {\n",
    "            'knowledgeBaseId': kb_id,\n",
    "            \"modelArn\": \"arn:aws:bedrock:{}::foundation-model/{}\".format(region_name, \n",
    "                                                                         model_id),\n",
    "            \"retrievalConfiguration\": {\n",
    "                \"vectorSearchConfiguration\": {\n",
    "                    \"numberOfResults\":3\n",
    "                } \n",
    "            }\n",
    "        }\n",
    "    }\n",
    ")\n",
    "\n",
    "\n",
    "# generated text output\n",
    "raw_response = response_ret['output']['text']\n",
    "print(raw_response,end='\\n'*2)"
   ]
  },
  {
   "cell_type": "code",
   "execution_count": 24,
   "id": "a7900e60-853c-4332-812d-7efd774e53cb",
   "metadata": {},
   "outputs": [
    {
     "name": "stdout",
     "output_type": "stream",
     "text": [
      "# of citations or chunks used to generate the response:  3\n",
      "Chunk 1:  As we strive to be Earth’s best employer, we focus on investment and innovation, inclusion and diversity, safety, and engagement to hire and develop the best talent. We rely on numerous and evolving initiatives to implement these objectives and invent mechanisms for talent development, including competitive pay and benefits, flexible work arrangements, and skills training and educational programs such as Amazon Career Choice (education funding for eligible employees) and the Amazon Technical Academy (software development engineer training). Over 175,000 Amazon employees around the world have participated in Career Choice. We also continue to inspect and refine the mechanisms we use to hire, develop, evaluate, and retain our employees to promote equity for all candidates and employees. In addition, safety is integral to everything we do at Amazon and we continue to invest in safety improvements such as capital improvements, new safety technology, vehicle safety controls, and engineering ergonomic solutions. Our safety team is dedicated to using the science of safety to solve complex problems and establish new industry best practices. We also provide mentorship and support resources to our employees, and have deployed numerous programs that advance employee engagement, communication, and feedback.     4Table of Contents     Available Information     Our investor relations website is amazon.com/ir and we encourage investors to use it as a way of easily finding information about us.\n",
      "\n",
      "Chunk 1 Location:  {'s3Location': {'uri': 's3://sagemaker-us-west-2-376678947624/amazon_10k/amazon_2023.pdf'}, 'type': 'S3'}\n",
      "\n",
      "Chunk 1 Metadata:  {'x-amz-bedrock-kb-source-uri': 's3://sagemaker-us-west-2-376678947624/amazon_10k/amazon_2023.pdf', 'x-amz-bedrock-kb-document-page-number': 4.0, 'x-amz-bedrock-kb-chunk-id': '1%3A0%3AJaHSuZIB_asWnMHKMUqJ', 'x-amz-bedrock-kb-data-source-id': '7E76XOLCH5'}\n",
      "\n",
      "Chunk 2:  As we strive to be Earth’s best employer, we focus on investment and innovation, inclusion and diversity, safety, and engagement to hire and develop the best talent. We rely on numerous and evolving initiatives to implement these objectives and invent mechanisms for talent development, including competitive pay and benefits, flexible work arrangements, and skills training and educational programs such as Amazon Career Choice (education funding for eligible employees) and the Amazon Technical Academy (software development engineer training). Over 175,000 Amazon employees around the world have participated in Career Choice. We also continue to inspect and refine the mechanisms we use to hire, develop, evaluate, and retain our employees to promote equity for all candidates and employees. In addition, safety is integral to everything we do at Amazon and we continue to invest in safety improvements such as capital improvements, new safety technology, vehicle safety controls, and engineering ergonomic solutions. Our safety team is dedicated to using the science of safety to solve complex problems and establish new industry best practices. We also provide mentorship and support resources to our employees, and have deployed numerous programs that advance employee engagement, communication, and feedback.     4Table of Contents     Available Information     Our investor relations website is amazon.com/ir and we encourage investors to use it as a way of easily finding information about us.\n",
      "\n",
      "Chunk 2 Location:  {'s3Location': {'uri': 's3://sagemaker-us-west-2-376678947624/amazon_10k/.ipynb_checkpoints/amazon_2023-checkpoint.pdf'}, 'type': 'S3'}\n",
      "\n",
      "Chunk 2 Metadata:  {'x-amz-bedrock-kb-source-uri': 's3://sagemaker-us-west-2-376678947624/amazon_10k/.ipynb_checkpoints/amazon_2023-checkpoint.pdf', 'x-amz-bedrock-kb-document-page-number': 4.0, 'x-amz-bedrock-kb-chunk-id': '1%3A0%3A7aHSuZIB_asWnMHKOkrF', 'x-amz-bedrock-kb-data-source-id': '7E76XOLCH5'}\n",
      "\n",
      "Chunk 3:  As we strive to be Earth’s best employer, we focus on investment and innovation, inclusion and diversity, safety, and engagement to hire and develop the best talent. We rely on numerous and evolving initiatives to implement these objectives and invent mechanisms for talent development, including competitive pay and benefits, flexible work arrangements, and skills training and educational programs such as Amazon Career Choice (funded education for hourly employees) and the Amazon Technical Academy (software development engineer training). Over 100,000 Amazon employees around the world have participated in Career Choice. We also continue to inspect and refine the mechanisms we use to hire, develop, evaluate, and retain our employees to promote equity for all candidates and employees. In addition, safety is integral to everything we do at Amazon and we continue to invest in safety improvements such as capital improvements, new safety technology, vehicle safety controls, and engineering ergonomic solutions. Our safety team is dedicated to using the science of safety to solve complex problems and establish new industry best practices. We also provide mentorship and support resources to our employees, and have deployed numerous programs that advance employee engagement, communication, and feedback.     4Table of Contents     Available Information     Our investor relations website is amazon.com/ir and we encourage investors to use it as a way of easily finding information about us.\n",
      "\n",
      "Chunk 3 Location:  {'s3Location': {'uri': 's3://sagemaker-us-west-2-376678947624/amazon_10k/amazon_2022.pdf'}, 'type': 'S3'}\n",
      "\n",
      "Chunk 3 Metadata:  {'x-amz-bedrock-kb-source-uri': 's3://sagemaker-us-west-2-376678947624/amazon_10k/amazon_2022.pdf', 'x-amz-bedrock-kb-document-page-number': 4.0, 'x-amz-bedrock-kb-chunk-id': '1%3A0%3Aon_SuZIB-m6VsXxWJl2p', 'x-amz-bedrock-kb-data-source-id': '7E76XOLCH5'}\n",
      "\n"
     ]
    }
   ],
   "source": [
    "response_without_qr = response_ret['citations'][0]['retrievedReferences']\n",
    "print(\"# of citations or chunks used to generate the response: \", len(response_without_qr))\n",
    "def citations_rag_print(response_ret):\n",
    "#structure 'retrievalResults': list of contents. Each list has content, location, score, metadata\n",
    "    for num,chunk in enumerate(response_ret,1):\n",
    "        print(f'Chunk {num}: ',chunk['content']['text'],end='\\n'*2)\n",
    "        print(f'Chunk {num} Location: ',chunk['location'],end='\\n'*2)\n",
    "        print(f'Chunk {num} Metadata: ',chunk['metadata'],end='\\n'*2)\n",
    "\n",
    "citations_rag_print(response_without_qr)"
   ]
  },
  {
   "cell_type": "markdown",
   "id": "33ed05b6-6b88-44ac-8aee-88fe98d46eb8",
   "metadata": {},
   "source": [
    "### > With Query Reformulation\n",
    "Now let's see how query reformulation can benefit the more aligned context retrieval, which in turn, will enhace the accuracy of response generation."
   ]
  },
  {
   "cell_type": "code",
   "execution_count": 25,
   "id": "3974b726-5f7f-4496-94af-9d7a509ac6ea",
   "metadata": {},
   "outputs": [
    {
     "name": "stdout",
     "output_type": "stream",
     "text": [
      "According to the search results, Amazon's key priorities include:\n",
      "\n",
      "- Being Earth's best employer by focusing on investment and innovation, inclusion and diversity, safety, and engagement to hire and develop the best talent.\n",
      "- Providing competitive pay and benefits, flexible work arrangements, and skills training programs like Amazon Career Choice (education funding for eligible employees) and the Amazon Technical Academy (software development engineer training).\n",
      "- Promoting equity for all candidates and employees in hiring, development, evaluation, and retention processes.\n",
      "- Investing in safety improvements like capital improvements, new safety technology, vehicle safety controls, and ergonomic solutions to establish industry best practices.\n",
      "- Providing mentorship, support resources, and programs to advance employee engagement, communication, and feedback. The search results do not explicitly mention Amazon's priorities specifically before, during, or after the COVID-19 pandemic. However, the priorities listed above seem to be ongoing efforts by Amazon to be a leading employer and prioritize employee development, diversity, safety, and engagement.\n",
      "\n"
     ]
    }
   ],
   "source": [
    "response_ret = bedrock_agent_runtime_client.retrieve_and_generate(\n",
    "    input={\n",
    "        \"text\": query\n",
    "    },\n",
    "    retrieveAndGenerateConfiguration={\n",
    "        \"type\": \"KNOWLEDGE_BASE\",\n",
    "        \"knowledgeBaseConfiguration\": {\n",
    "            'knowledgeBaseId': kb_id,\n",
    "            \"modelArn\": \"arn:aws:bedrock:{}::foundation-model/{}\".format(region_name, \n",
    "                                                                         model_id),\n",
    "            \"retrievalConfiguration\": {\n",
    "                \"vectorSearchConfiguration\": {\n",
    "                    \"numberOfResults\":3\n",
    "                } \n",
    "            },\n",
    "            'orchestrationConfiguration': {\n",
    "                'queryTransformationConfiguration': {\n",
    "                    'type': 'QUERY_DECOMPOSITION'\n",
    "                }\n",
    "            }\n",
    "        }\n",
    "    }\n",
    ")\n",
    "\n",
    "\n",
    "# generated text output\n",
    "transformed_response = response_ret['output']['text']\n",
    "print(transformed_response,end='\\n'*2)"
   ]
  },
  {
   "cell_type": "code",
   "execution_count": 26,
   "id": "79fde48a-1f32-476d-b1df-3f12c04c4609",
   "metadata": {},
   "outputs": [
    {
     "name": "stdout",
     "output_type": "stream",
     "text": [
      "# of citations or chunks used to generate the response:  2\n",
      "Chunk 1:  As we strive to be Earth’s best employer, we focus on investment and innovation, inclusion and diversity, safety, and engagement to hire and develop the best talent. We rely on numerous and evolving initiatives to implement these objectives and invent mechanisms for talent development, including competitive pay and benefits, flexible work arrangements, and skills training and educational programs such as Amazon Career Choice (education funding for eligible employees) and the Amazon Technical Academy (software development engineer training). Over 175,000 Amazon employees around the world have participated in Career Choice. We also continue to inspect and refine the mechanisms we use to hire, develop, evaluate, and retain our employees to promote equity for all candidates and employees. In addition, safety is integral to everything we do at Amazon and we continue to invest in safety improvements such as capital improvements, new safety technology, vehicle safety controls, and engineering ergonomic solutions. Our safety team is dedicated to using the science of safety to solve complex problems and establish new industry best practices. We also provide mentorship and support resources to our employees, and have deployed numerous programs that advance employee engagement, communication, and feedback.     4Table of Contents     Available Information     Our investor relations website is amazon.com/ir and we encourage investors to use it as a way of easily finding information about us.\n",
      "\n",
      "Chunk 1 Location:  {'s3Location': {'uri': 's3://sagemaker-us-west-2-376678947624/amazon_10k/.ipynb_checkpoints/amazon_2023-checkpoint.pdf'}, 'type': 'S3'}\n",
      "\n",
      "Chunk 1 Metadata:  {'x-amz-bedrock-kb-source-uri': 's3://sagemaker-us-west-2-376678947624/amazon_10k/.ipynb_checkpoints/amazon_2023-checkpoint.pdf', 'x-amz-bedrock-kb-document-page-number': 4.0, 'x-amz-bedrock-kb-chunk-id': '1%3A0%3A7aHSuZIB_asWnMHKOkrF', 'x-amz-bedrock-kb-data-source-id': '7E76XOLCH5'}\n",
      "\n",
      "Chunk 2:  As we strive to be Earth’s best employer, we focus on investment and innovation, inclusion and diversity, safety, and engagement to hire and develop the best talent. We rely on numerous and evolving initiatives to implement these objectives and invent mechanisms for talent development, including competitive pay and benefits, flexible work arrangements, and skills training and educational programs such as Amazon Career Choice (funded education for hourly employees) and the Amazon Technical Academy (software development engineer training). Over 100,000 Amazon employees around the world have participated in Career Choice. We also continue to inspect and refine the mechanisms we use to hire, develop, evaluate, and retain our employees to promote equity for all candidates and employees. In addition, safety is integral to everything we do at Amazon and we continue to invest in safety improvements such as capital improvements, new safety technology, vehicle safety controls, and engineering ergonomic solutions. Our safety team is dedicated to using the science of safety to solve complex problems and establish new industry best practices. We also provide mentorship and support resources to our employees, and have deployed numerous programs that advance employee engagement, communication, and feedback.     4Table of Contents     Available Information     Our investor relations website is amazon.com/ir and we encourage investors to use it as a way of easily finding information about us.\n",
      "\n",
      "Chunk 2 Location:  {'s3Location': {'uri': 's3://sagemaker-us-west-2-376678947624/amazon_10k/amazon_2022.pdf'}, 'type': 'S3'}\n",
      "\n",
      "Chunk 2 Metadata:  {'x-amz-bedrock-kb-source-uri': 's3://sagemaker-us-west-2-376678947624/amazon_10k/amazon_2022.pdf', 'x-amz-bedrock-kb-document-page-number': 4.0, 'x-amz-bedrock-kb-chunk-id': '1%3A0%3Aon_SuZIB-m6VsXxWJl2p', 'x-amz-bedrock-kb-data-source-id': '7E76XOLCH5'}\n",
      "\n"
     ]
    }
   ],
   "source": [
    "response_with_qr = response_ret['citations'][0]['retrievedReferences']\n",
    "print(\"# of citations or chunks used to generate the response: \", len(response_with_qr))\n",
    "\n",
    "citations_rag_print(response_with_qr)"
   ]
  },
  {
   "cell_type": "markdown",
   "id": "9096a479-068a-4d30-8062-5b8600b7ab04",
   "metadata": {},
   "source": [
    "### > Display the results side-by-side \n",
    "\n",
    "Notice splitting the question into sub questions increase your chances of matching the right and complete information and generate a more comprehensive final answer."
   ]
  },
  {
   "cell_type": "code",
   "execution_count": 27,
   "id": "e5edd926-1563-4fed-97d1-c2a4f88dd5cf",
   "metadata": {},
   "outputs": [
    {
     "data": {
      "text/html": [
       "<style type=\"text/css\">\n",
       "</style>\n",
       "<table id=\"T_128c6\" style='display:inline'>\n",
       "  <thead>\n",
       "    <tr>\n",
       "      <th id=\"T_128c6_level0_col0\" class=\"col_heading level0 col0\" >Naive RAG</th>\n",
       "      <th id=\"T_128c6_level0_col1\" class=\"col_heading level0 col1\" >RAG w/ Query Rewrite</th>\n",
       "    </tr>\n",
       "  </thead>\n",
       "  <tbody>\n",
       "    <tr>\n",
       "      <td id=\"T_128c6_row0_col0\" class=\"data row0 col0\" >\n",
       "What are amazons key priorities before, during and after covid?\n",
       "</td>\n",
       "      <td id=\"T_128c6_row0_col1\" class=\"data row0 col1\" >\n",
       "What are amazons key priorities before, during and after covid?\n",
       "</td>\n",
       "    </tr>\n",
       "    <tr>\n",
       "      <td id=\"T_128c6_row1_col0\" class=\"data row1 col0\" >According to the search results, Amazon's key priorities include investment and innovation, inclusion and diversity, safety, and engagement to hire and develop the best talent. Some of the initiatives mentioned to support these priorities are:\n",
       "\n",
       "- Competitive pay and benefits\n",
       "- Flexible work arrangements\n",
       "- Skills training and educational programs like Amazon Career Choice (education funding for eligible employees) and the Amazon Technical Academy (software development engineer training)\n",
       "- Refining hiring, development, evaluation, and retention mechanisms to promote equity\n",
       "- Investing in safety improvements like capital improvements, new safety technology, vehicle safety controls, and ergonomic solutions\n",
       "- Providing mentorship, support resources, and programs to advance employee engagement, communication, and feedback The search results do not explicitly mention Amazon's priorities specifically before, during, or after COVID-19. However, the initiatives listed above seem to be ongoing priorities for Amazon to attract and retain talent, promote diversity and inclusion, ensure workplace safety, and keep employees engaged - which would likely be important focuses both during the pandemic and in regular times.</td>\n",
       "      <td id=\"T_128c6_row1_col1\" class=\"data row1 col1\" >According to the search results, Amazon's key priorities include:\n",
       "\n",
       "- Being Earth's best employer by focusing on investment and innovation, inclusion and diversity, safety, and engagement to hire and develop the best talent.\n",
       "- Providing competitive pay and benefits, flexible work arrangements, and skills training programs like Amazon Career Choice (education funding for eligible employees) and the Amazon Technical Academy (software development engineer training).\n",
       "- Promoting equity for all candidates and employees in hiring, development, evaluation, and retention processes.\n",
       "- Investing in safety improvements like capital improvements, new safety technology, vehicle safety controls, and ergonomic solutions to establish industry best practices.\n",
       "- Providing mentorship, support resources, and programs to advance employee engagement, communication, and feedback. The search results do not explicitly mention Amazon's priorities specifically before, during, or after the COVID-19 pandemic. However, the priorities listed above seem to be ongoing efforts by Amazon to be a leading employer and prioritize employee development, diversity, safety, and engagement.</td>\n",
       "    </tr>\n",
       "  </tbody>\n",
       "</table>\n",
       "&nbsp;"
      ],
      "text/plain": [
       "<IPython.core.display.HTML object>"
      ]
     },
     "metadata": {},
     "output_type": "display_data"
    }
   ],
   "source": [
    "import pandas as pd\n",
    "from IPython.display import display, HTML\n",
    "\n",
    "# Create the first table\n",
    "df = pd.DataFrame({\n",
    "    'Naive RAG': [query, raw_response],\n",
    "    'RAG w/ Query Rewrite': [query, transformed_response]\n",
    "})\n",
    "\n",
    "output=\"\"\n",
    "output += df.style.hide().set_table_attributes(\"style='display:inline'\")._repr_html_()\n",
    "output += \"&nbsp;\"\n",
    "\n",
    "display(HTML(output))"
   ]
  },
  {
   "cell_type": "code",
   "execution_count": null,
   "id": "703d0513-4c32-4e00-bd0b-51f461c4d5bb",
   "metadata": {},
   "outputs": [],
   "source": []
  }
 ],
 "metadata": {
  "kernelspec": {
   "display_name": "Python 3 (ipykernel)",
   "language": "python",
   "name": "python3"
  },
  "language_info": {
   "codemirror_mode": {
    "name": "ipython",
    "version": 3
   },
   "file_extension": ".py",
   "mimetype": "text/x-python",
   "name": "python",
   "nbconvert_exporter": "python",
   "pygments_lexer": "ipython3",
   "version": "3.11.9"
  }
 },
 "nbformat": 4,
 "nbformat_minor": 5
}
