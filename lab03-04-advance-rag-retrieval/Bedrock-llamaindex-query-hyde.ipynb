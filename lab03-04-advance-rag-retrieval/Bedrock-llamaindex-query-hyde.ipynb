{
 "cells": [
  {
   "cell_type": "markdown",
   "id": "99cea58c-48bc-4af6-8358-df9695659983",
   "metadata": {},
   "source": [
    "# RAG Retrieval Optimization - Query Transformation (Hyde) using Amazon Bedrock and Llamaindex"
   ]
  },
  {
   "cell_type": "markdown",
   "id": "673df1fe-eb6c-46ea-9a73-a96e7ae7942e",
   "metadata": {},
   "source": [
    "In this tutorial, we showcase how to use a sub question query engine to tackle the problem of answering a complex query using multiple data sources.\n",
    "It first breaks down the complex query into sub questions for each relevant data source, then gather all the intermediate reponses and synthesizes a final response.\n",
    "\n",
    "- Vector Database (Faiss / local)\n",
    "- LLM (Amazon Bedrock - Claude3 Sonnet)\n",
    "- Embeddings Model (Bedrock Titan Text Embedding v2.0)\n",
    "- Datasets ( Amazons , Google SEC-10k statments )\n",
    "\n",
    "This example is built on referece llamaindex documentation available at - https://github.com/run-llama/llama_index/blob/main/docs/docs/examples/query_transformations/HyDEQueryTransformDemo.ipynb\n",
    "\n",
    "Transforming an initial query into a form that can be more easily embedded (e.g. HyDE)\n"
   ]
  },
  {
   "cell_type": "code",
   "execution_count": null,
   "id": "4985c578",
   "metadata": {
    "scrolled": true,
    "tags": []
   },
   "outputs": [],
   "source": [
    "#!pip install llama-index \n",
    "#%pip install llama-index-llms-bedrock\n",
    "#%pip install llama-index-embeddings-bedrock\n",
    "#!pip uninstall pydantic -y\n",
    "#!pip install pydantic\n",
    "#%pip install sqlalchemy==2.0.21 --force-reinstall --quiet\n",
    "#%pip install llama-index-embeddings-instructor"
   ]
  },
  {
   "cell_type": "code",
   "execution_count": 2,
   "id": "7d360172-f27f-442e-9f6d-6e4cedffbff6",
   "metadata": {
    "tags": []
   },
   "outputs": [],
   "source": [
    "from llama_index.embeddings.bedrock import BedrockEmbedding"
   ]
  },
  {
   "cell_type": "code",
   "execution_count": 3,
   "id": "ffebb89a-58e0-4fa0-ba8c-fdceb8f09d0d",
   "metadata": {
    "tags": []
   },
   "outputs": [],
   "source": [
    "from llama_index.core import VectorStoreIndex, SimpleDirectoryReader\n",
    "from llama_index.core.tools import QueryEngineTool, ToolMetadata\n",
    "from llama_index.core.callbacks import CallbackManager, LlamaDebugHandler\n",
    "from llama_index.core import Settings\n",
    "from llama_index.core.indices.query.query_transform import HyDEQueryTransform\n",
    "from llama_index.core.query_engine import TransformQueryEngine\n",
    "from IPython.display import Markdown, display"
   ]
  },
  {
   "cell_type": "code",
   "execution_count": 4,
   "id": "9d47283b-025e-4874-88ed-76245b22f82e",
   "metadata": {
    "tags": []
   },
   "outputs": [],
   "source": [
    "import json\n",
    "from typing import Sequence, List\n",
    "from llama_index.core.settings import Settings\n",
    "from llama_index.llms.bedrock import Bedrock\n",
    "from llama_index.embeddings.bedrock import BedrockEmbedding, Models\n",
    "\n",
    "llm = Bedrock(model = \"anthropic.claude-3-sonnet-20240229-v1:0\")\n",
    "embed_model = BedrockEmbedding(model = \"amazon.titan-embed-text-v2:0\")\n",
    "\n",
    "Settings.llm = llm\n",
    "Settings.embed_model = embed_model\n",
    "Settings.chunk_size = 128\n",
    "\n",
    "from llama_index.core.llms import ChatMessage\n",
    "from llama_index.core.tools import BaseTool, FunctionTool\n",
    "import nest_asyncio\n",
    "nest_asyncio.apply()"
   ]
  },
  {
   "cell_type": "code",
   "execution_count": null,
   "id": "21c9fd71-7caf-4d7c-b3f4-f30bcd538f1a",
   "metadata": {
    "tags": []
   },
   "outputs": [],
   "source": [
    "#!mkdir -p 'data/amazon/'\n",
    "#!wget 'https://s2.q4cdn.com/299287126/files/doc_financials/2023/q4/c7c14359-36fa-40c3-b3ca-5bf7f3fa0b96.pdf' -O 'data/amazon/amazon_2023.pdf'\n",
    "#!wget 'https://s2.q4cdn.com/299287126/files/doc_financials/2022/q4/d2fde7ee-05f7-419d-9ce8-186de4c96e25.pdf' -O 'data/amazon/amazon_2022.pdf'"
   ]
  },
  {
   "cell_type": "code",
   "execution_count": 6,
   "id": "16457565-4547-4655-a695-6e468286bf56",
   "metadata": {
    "tags": []
   },
   "outputs": [],
   "source": [
    "# load data\n",
    "amazon_secfiles = SimpleDirectoryReader(input_dir=\"../data/lab03/amazon/\").load_data()\n",
    "\n",
    "# build index and query engine\n",
    "index = VectorStoreIndex.from_documents(amazon_secfiles)"
   ]
  },
  {
   "cell_type": "code",
   "execution_count": 7,
   "id": "f414cda3-8a56-44a8-96a8-522c0f0e10b7",
   "metadata": {
    "tags": []
   },
   "outputs": [],
   "source": [
    "query_str = \"What were key challenges faced by Amazon in year 2022 and 2023?\""
   ]
  },
  {
   "cell_type": "code",
   "execution_count": 8,
   "id": "826956e5-2206-4ba0-8aeb-beafa9a284b2",
   "metadata": {
    "tags": []
   },
   "outputs": [
    {
     "data": {
      "text/markdown": [
       "<b>Based on the context information provided, some of the key challenges faced by Amazon in 2022 and 2023 included:\n",
       "\n",
       "- Fluctuations in foreign exchange rates\n",
       "- Changes in global economic conditions and customer demand/spending patterns\n",
       "- Inflationary pressures and interest rate changes  \n",
       "- Regional labor market constraints and global supply chain disruptions\n",
       "- Geopolitical events and world developments impacting business operations\n",
       "- Managing growth and investments in new business opportunities\n",
       "- Variability in product/service mix and associated revenue streams\n",
       "- Tax obligations and regulatory compliance\n",
       "- Intense competition in the markets they operate in\n",
       "- Potential risks from litigation, government investigations, and other legal proceedings\n",
       "- Optimizing fulfillment, sortation, delivery, and data center operations\n",
       "- Inventory management and demand variability challenges\n",
       "- Risks associated with commercial agreements, acquisitions, and strategic transactions\n",
       "- Payments-related risks and productivity/throughput challenges in fulfillment operations\n",
       "\n",
       "The context highlights that unforeseen global economic and geopolitical conditions could further amplify many of these risks and challenges for Amazon during this period.</b>"
      ],
      "text/plain": [
       "<IPython.core.display.Markdown object>"
      ]
     },
     "metadata": {},
     "output_type": "display_data"
    }
   ],
   "source": [
    "query_engine = index.as_query_engine()\n",
    "response = query_engine.query(query_str)\n",
    "display(Markdown(f\"<b>{response}</b>\"))"
   ]
  },
  {
   "cell_type": "code",
   "execution_count": 9,
   "id": "b1aef3a8-1ae8-4d63-8451-8c78e942f572",
   "metadata": {
    "tags": []
   },
   "outputs": [
    {
     "name": "stdout",
     "output_type": "stream",
     "text": [
      "Based on the context information provided, some of the key challenges faced by Amazon in 2022 and 2023 included:\n",
      "\n",
      "- Fluctuations in foreign exchange rates\n",
      "- Changes in global economic conditions and customer demand/spending patterns\n",
      "- Inflationary pressures and interest rate changes  \n",
      "- Regional labor market constraints and global supply chain disruptions\n",
      "- Geopolitical events and world developments impacting business operations\n",
      "- Managing growth and investments in new business opportunities\n",
      "- Variability in product/service mix and associated revenue streams\n",
      "- Tax obligations and regulatory compliance\n",
      "- Intense competition in the markets they operate in\n",
      "- Potential risks from litigation, government investigations, and other legal proceedings\n",
      "- Optimizing fulfillment, sortation, delivery, and data center operations\n",
      "- Inventory management and demand variability challenges\n",
      "- Risks associated with commercial agreements, acquisitions, and strategic transactions\n",
      "- Payments-related risks and productivity/throughput challenges in fulfillment operations\n",
      "\n",
      "The context highlights that unforeseen global economic and geopolitical conditions could further amplify many of these risks and challenges for Amazon during this period.\n"
     ]
    }
   ],
   "source": [
    "print(response)"
   ]
  },
  {
   "cell_type": "code",
   "execution_count": 10,
   "id": "0a74d861-a412-4b59-81c3-51c27120229b",
   "metadata": {
    "tags": []
   },
   "outputs": [
    {
     "data": {
      "text/markdown": [
       "<b>Based on the context information provided, some of the key challenges faced by Amazon in 2022 and 2023 included:\n",
       "\n",
       "1. Fluctuations in foreign exchange rates\n",
       "2. Changes in global economic conditions and customer demand/spending patterns\n",
       "3. Inflationary pressures and interest rate changes\n",
       "4. Regional labor market constraints and global supply chain disruptions\n",
       "5. Geopolitical events and their impacts\n",
       "6. Managing growth and investments in new business opportunities\n",
       "7. Variability in product/service mix and associated revenue streams\n",
       "8. Tax obligations and regulatory scrutiny\n",
       "9. Intense competition in various markets\n",
       "10. Operational challenges related to fulfillment, sortation, delivery, and data centers\n",
       "11. Inventory management and demand variability\n",
       "12. Risks associated with commercial agreements, acquisitions, and strategic transactions\n",
       "13. Potential legal claims, litigation, and government investigations\n",
       "\n",
       "The context highlights that unforeseen global economic and geopolitical conditions could amplify or give rise to many of these challenges faced by Amazon during these years.</b>"
      ],
      "text/plain": [
       "<IPython.core.display.Markdown object>"
      ]
     },
     "metadata": {},
     "output_type": "display_data"
    }
   ],
   "source": [
    "hyde = HyDEQueryTransform(include_original=True)\n",
    "hyde_query_engine = TransformQueryEngine(query_engine, hyde)\n",
    "response = hyde_query_engine.query(query_str)\n",
    "display(Markdown(f\"<b>{response}</b>\"))"
   ]
  },
  {
   "cell_type": "code",
   "execution_count": 11,
   "id": "47dbdfaa-ee3b-458c-baf8-df5cae26865a",
   "metadata": {},
   "outputs": [
    {
     "name": "stdout",
     "output_type": "stream",
     "text": [
      "Based on the context information provided, some of the key challenges faced by Amazon in 2022 and 2023 included:\n",
      "\n",
      "1. Fluctuations in foreign exchange rates\n",
      "2. Changes in global economic conditions and customer demand/spending patterns\n",
      "3. Inflationary pressures and interest rate changes\n",
      "4. Regional labor market constraints and global supply chain disruptions\n",
      "5. Geopolitical events and their impacts\n",
      "6. Managing growth and investments in new business opportunities\n",
      "7. Variability in product/service mix and associated revenue streams\n",
      "8. Tax obligations and regulatory scrutiny\n",
      "9. Intense competition in various markets\n",
      "10. Operational challenges related to fulfillment, sortation, delivery, and data centers\n",
      "11. Inventory management and demand variability\n",
      "12. Risks associated with commercial agreements, acquisitions, and strategic transactions\n",
      "13. Potential legal claims, litigation, and government investigations\n",
      "\n",
      "The context highlights that unforeseen global economic and geopolitical conditions could amplify or give rise to many of these challenges faced by Amazon during these years.\n"
     ]
    }
   ],
   "source": [
    "print(response)"
   ]
  },
  {
   "cell_type": "code",
   "execution_count": 12,
   "id": "ae4fbdad-54dc-4289-8a92-0be3db1aa72e",
   "metadata": {
    "tags": []
   },
   "outputs": [],
   "source": [
    "query_bundle = hyde(query_str)\n",
    "hyde_doc = query_bundle.embedding_strs[0]"
   ]
  },
  {
   "cell_type": "code",
   "execution_count": 13,
   "id": "767cd39b-6c0a-4871-b710-2c345352086b",
   "metadata": {
    "tags": []
   },
   "outputs": [
    {
     "data": {
      "text/plain": [
       "\"Amazon faced several key challenges in 2022 and 2023, including:\\n\\n1. Economic downturn and inflation: The global economic slowdown and high inflation rates impacted consumer spending, leading to a decline in demand for some of Amazon's products and services.\\n\\n2. Supply chain disruptions: Ongoing supply chain issues, such as labor shortages, port congestion, and transportation challenges, affected Amazon's ability to efficiently deliver products to customers.\\n\\n3. Increased competition: Amazon faced intense competition from other e-commerce giants, such as Walmart and Target, as well as smaller niche players in various product categories.\\n\\n4. Regulatory scrutiny: Amazon faced heightened regulatory scrutiny from governments around the world, particularly regarding antitrust concerns, labor practices, and data privacy issues.\\n\\n5. Labor challenges: Amazon grappled with labor shortages, high turnover rates, and unionization efforts among its warehouse and delivery workers, leading to increased operational costs and potential disruptions.\\n\\n6. Environmental concerns: Pressure mounted on Amazon to address its environmental impact, including carbon emissions from its vast logistics network and data centers, as well as packaging waste.\\n\\n7. Cloud computing competition: While Amazon Web Services (AWS) remained a market leader, it faced growing competition from other cloud service providers, such as Microsoft Azure and Google Cloud Platform.\\n\\n8. Diversification challenges: Amazon's efforts to expand into new areas, such as healthcare, grocery delivery, and autonomous vehicles, encountered various obstacles and required significant investments.\\n\\n9. Cybersecurity threats: With its vast online presence and customer data, Amazon had to remain vigilant against potential cyber attacks, data breaches, and other security threats.\\n\\n10. Workforce management: Managing a large and diverse global workforce, including remote and hybrid work arrangements, presented challenges in terms of productivity, collaboration, and employee engagement.\\n\\nDespite these challenges, Amazon's scale, innovation capabilities, and diversified business model allowed it to navigate these turbulent times and adapt to the evolving market conditions.\""
      ]
     },
     "execution_count": 13,
     "metadata": {},
     "output_type": "execute_result"
    }
   ],
   "source": [
    "hyde_doc"
   ]
  },
  {
   "cell_type": "code",
   "execution_count": null,
   "id": "e1f67737-1f87-4994-af46-db29772365de",
   "metadata": {},
   "outputs": [],
   "source": []
  }
 ],
 "metadata": {
  "kernelspec": {
   "display_name": "conda_pytorch_p310",
   "language": "python",
   "name": "conda_pytorch_p310"
  },
  "language_info": {
   "codemirror_mode": {
    "name": "ipython",
    "version": 3
   },
   "file_extension": ".py",
   "mimetype": "text/x-python",
   "name": "python",
   "nbconvert_exporter": "python",
   "pygments_lexer": "ipython3",
   "version": "3.10.14"
  }
 },
 "nbformat": 4,
 "nbformat_minor": 5
}
