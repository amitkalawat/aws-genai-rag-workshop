{
 "cells": [
  {
   "cell_type": "markdown",
   "id": "99cea58c-48bc-4af6-8358-df9695659983",
   "metadata": {},
   "source": [
    "# RAG Retrieval Optimization - Query Rewriting using Amazon Bedrock and Llamaindex"
   ]
  },
  {
   "cell_type": "markdown",
   "id": "673df1fe-eb6c-46ea-9a73-a96e7ae7942e",
   "metadata": {},
   "source": [
    "Query rewrite in RAG is a technique that reformulates or transforms the original user query to improve the retrieval process and ultimately enhance the quality of generated responses. This strategy involves modifying the input query in various ways, such as expanding it with related terms, simplifying complex queries, or breaking them down into sub-questions. The goal is to bridge the gap between the user's natural language input and the system's ability to find relevant information in the knowledge base. By rewriting queries, RAG systems can increase both recall (retrieving more relevant documents) and precision (improving the relevance of retrieved information), leading to more accurate and comprehensive answers.\n",
    "\n",
    "In this lab, we will build a query engine using LlamaIndex to answering a complex query about Amazon's 10K SEC filing from years 2022 and 2023. The lab uses the SubQuestionQueryEngine module from LLamaIndex to first breaks down the complex query into sub questions for each relevant data source then gathers all the intermediate responses and synthesizes to get better final response from Amazon's 10K documents.\n",
    "\n",
    "Here are the components we used:\n",
    "\n",
    "- Vector Database (Faiss / local)\n",
    "- LLM (Amazon Bedrock - Claude3 Sonnet)\n",
    "- Embeddings Model (Bedrock Titan Text Embeddings v2.0)\n",
    "- Datasets ( Amazons 10-k sec filings from year 2022 and 2023 )\n",
    "- Llamaindex  (This example is built on referece llamaindex documentation available at - https://docs.llamaindex.ai/en/stable/examples/query_engine/sub_question_query_engine/)\n"
   ]
  },
  {
   "cell_type": "markdown",
   "id": "e3556ea7-f28f-440e-ab45-f18ae3fe0889",
   "metadata": {},
   "source": [
    "## Pre-req\n",
    "You must run the `[workshop_setup.ipynb]`(../lab00-setup/workshop_setup.ipynb) notebook in `lab00-setup` before starting this lab."
   ]
  },
  {
   "cell_type": "code",
   "execution_count": 1,
   "id": "c77b5d08-2928-4cb7-abfd-5f7d089053dc",
   "metadata": {},
   "outputs": [
    {
     "name": "stderr",
     "output_type": "stream",
     "text": [
      "/tmp/ipykernel_4493/952814476.py:2: UserWarning: Warning: if you did not run lab00-setup, please go back and run the lab00 notebook\n",
      "  warnings.warn(\"Warning: if you did not run lab00-setup, please go back and run the lab00 notebook\")\n"
     ]
    }
   ],
   "source": [
    "import warnings\n",
    "warnings.warn(\"Warning: if you did not run lab00-setup, please go back and run the lab00 notebook\") "
   ]
  },
  {
   "cell_type": "markdown",
   "id": "fef30d8c",
   "metadata": {},
   "source": [
    "### > Setup\n",
    "We start by importing necessary llamaindex libraries"
   ]
  },
  {
   "cell_type": "code",
   "execution_count": 2,
   "id": "ffebb89a-58e0-4fa0-ba8c-fdceb8f09d0d",
   "metadata": {
    "tags": []
   },
   "outputs": [
    {
     "name": "stderr",
     "output_type": "stream",
     "text": [
      "[nltk_data] Downloading package punkt_tab to\n",
      "[nltk_data]     /opt/conda/lib/python3.11/site-\n",
      "[nltk_data]     packages/llama_index/core/_static/nltk_cache...\n",
      "[nltk_data]   Unzipping tokenizers/punkt_tab.zip.\n"
     ]
    }
   ],
   "source": [
    "from llama_index.core import VectorStoreIndex, SimpleDirectoryReader\n",
    "from llama_index.core.tools import QueryEngineTool, ToolMetadata\n",
    "from llama_index.core.query_engine import SubQuestionQueryEngine\n",
    "from llama_index.core.callbacks import CallbackManager, LlamaDebugHandler\n",
    "from llama_index.core import Settings\n",
    "from termcolor import colored"
   ]
  },
  {
   "cell_type": "markdown",
   "id": "6af6bbb0",
   "metadata": {},
   "source": [
    "We select Anthropic Claude3 Sonnet as our LLM. For embedding model, we are selecting Amazon Titan Text Embed v2.0. Chunk size is set at 512 for this example."
   ]
  },
  {
   "cell_type": "code",
   "execution_count": 3,
   "id": "9d47283b-025e-4874-88ed-76245b22f82e",
   "metadata": {
    "tags": []
   },
   "outputs": [],
   "source": [
    "import json\n",
    "from typing import Sequence, List\n",
    "from llama_index.core.settings import Settings\n",
    "from llama_index.llms.bedrock import Bedrock\n",
    "from llama_index.embeddings.bedrock import BedrockEmbedding, Models\n",
    "\n",
    "# define the LLM\n",
    "llm = Bedrock(model = \"anthropic.claude-3-sonnet-20240229-v1:0\")\n",
    "\n",
    "# define the embedding model\n",
    "embed_model = BedrockEmbedding(model = \"amazon.titan-embed-text-v2:0\")\n",
    "\n",
    "Settings.llm = llm\n",
    "Settings.embed_model = embed_model\n",
    "Settings.chunk_size = 512\n",
    "\n",
    "from llama_index.core.llms import ChatMessage\n",
    "from llama_index.core.tools import BaseTool, FunctionTool\n",
    "import nest_asyncio\n",
    "nest_asyncio.apply()"
   ]
  },
  {
   "cell_type": "markdown",
   "id": "3b63f351",
   "metadata": {},
   "source": [
    "### > Document Ingestion\n",
    "We ingest the documents and use [Titan Text Embeddings v2.0 model](https://docs.aws.amazon.com/bedrock/latest/userguide/titan-embedding-models.html) to create the embedding for each document chunk. The amazon folder has SEC-10k files from 2022 and 2023."
   ]
  },
  {
   "cell_type": "code",
   "execution_count": 4,
   "id": "156cf76d-0358-4a8a-8803-a09a99d93763",
   "metadata": {
    "scrolled": true,
    "tags": []
   },
   "outputs": [],
   "source": [
    "# load data\n",
    "amazon_secfiles = SimpleDirectoryReader(input_dir=\"../data/lab03/amazon/\").load_data()\n",
    "\n",
    "vector_index = VectorStoreIndex.from_documents(\n",
    "    amazon_secfiles,\n",
    "    use_async=True,\n",
    ")"
   ]
  },
  {
   "cell_type": "markdown",
   "id": "534031e3-83be-4e85-8894-88cc8e24384b",
   "metadata": {},
   "source": [
    "Define the query engine from index"
   ]
  },
  {
   "cell_type": "code",
   "execution_count": 5,
   "id": "2a91344c-8593-46c4-83a3-03cd39226295",
   "metadata": {},
   "outputs": [],
   "source": [
    "# build index and query engine\n",
    "vector_query_engine = vector_index.as_query_engine(\n",
    "    top_k=1\n",
    ")"
   ]
  },
  {
   "cell_type": "markdown",
   "id": "65426307-171f-48b8-8b30-442ac03af29c",
   "metadata": {},
   "source": [
    "### > Test Using Naive RAG\n",
    "Let's try a common multi-part question on the 10K document using the naive RAG approach...\n",
    "\n",
    "Example questions\n",
    "- What are amazons key priorities before, during and after covid?\n",
    "- What were key challenges faced by Amazon in year 2022 and 2023?"
   ]
  },
  {
   "cell_type": "code",
   "execution_count": 6,
   "id": "556187d1-bedd-4cda-94c9-083fe5adc6c4",
   "metadata": {},
   "outputs": [],
   "source": [
    "query = \"What are amazons key priorities before, during and after covid?\""
   ]
  },
  {
   "cell_type": "code",
   "execution_count": 7,
   "id": "0c02b9ce-392e-44f5-b448-8298db71a097",
   "metadata": {},
   "outputs": [
    {
     "name": "stdout",
     "output_type": "stream",
     "text": [
      "\u001b[32mBased on the context provided, Amazon's key priorities before, during, and after COVID-19 seem to be focused on maintaining operational resilience and minimizing disruptions to its business. The context highlights several risks and challenges that Amazon faces, including:\n",
      "\n",
      "1. Disruptions from natural or human-caused disasters, public health crises (like COVID-19), geopolitical events, labor disputes, and other similar events that could impact Amazon's operations, customers, sellers, and suppliers.\n",
      "\n",
      "2. Potential negative impacts of climate change, such as increased operating costs due to extreme weather events, increased investment requirements for transitioning to a low-carbon economy, decreased demand for products and services due to changes in customer behavior, increased compliance costs, and reputational damage.\n",
      "\n",
      "3. Optimizing and operating its fulfillment network and data centers effectively to meet customer demand and avoid excess or insufficient capacity, service interruptions, and increased costs.\n",
      "\n",
      "4. Retaining key executives, employees, and managing its workforce effectively, including addressing potential labor union efforts.\n",
      "\n",
      "5. Managing supplier relationships and ensuring availability of merchandise, content, components, and services from significant suppliers, including those with limited or single sources of supply.\n",
      "\n",
      "While not explicitly stated, these priorities likely remained crucial for Amazon before, during, and after the COVID-19 pandemic to maintain business continuity, adapt to changing circumstances, and mitigate potential disruptions to its operations and supply chain.\u001b[0m\n"
     ]
    }
   ],
   "source": [
    "raw_response = vector_query_engine.query(query)\n",
    "print(colored(raw_response, \"green\"))"
   ]
  },
  {
   "cell_type": "markdown",
   "id": "205e3802",
   "metadata": {},
   "source": [
    "### > Test Using SubQuestionQueryEngine to rewrite the query\n",
    "\n",
    "`SubQuestionQueryEngine` is a llamaindex module designed to tackle the problem of answering a complex query using multiple data sources.\n",
    "It first breaks down the complex query into sub questions for each relevant data source, then gather all the intermediate reponses and synthesizes a final response.\n",
    "\n",
    "In this example, the `SubQuestionQueryEngine` will use the LLM model (Claude3 Sonnet) to breaking down of complex queries into sub-queries."
   ]
  },
  {
   "cell_type": "code",
   "execution_count": 8,
   "id": "f414cda3-8a56-44a8-96a8-522c0f0e10b7",
   "metadata": {
    "tags": []
   },
   "outputs": [],
   "source": [
    "# setup base query engine as tool\n",
    "query_engine_tools = [\n",
    "    QueryEngineTool(\n",
    "        query_engine=vector_query_engine,\n",
    "        metadata=ToolMetadata(\n",
    "            name=\"Amazon-10k\",\n",
    "            description=\"Amazon SEC 10-k filings for years 2022 and 2023\",\n",
    "        ),\n",
    "    ),\n",
    "]\n",
    "\n",
    "query_engine = SubQuestionQueryEngine.from_defaults(\n",
    "    query_engine_tools=query_engine_tools,\n",
    "    use_async=True,\n",
    ")"
   ]
  },
  {
   "cell_type": "markdown",
   "id": "2f0e68ef-3065-416f-8555-711897998c7f",
   "metadata": {},
   "source": [
    "Run the same query using `SubQuestionQueryEngine`"
   ]
  },
  {
   "cell_type": "code",
   "execution_count": 9,
   "id": "826956e5-2206-4ba0-8aeb-beafa9a284b2",
   "metadata": {
    "scrolled": true,
    "tags": []
   },
   "outputs": [
    {
     "name": "stdout",
     "output_type": "stream",
     "text": [
      "Generated 3 sub questions.\n",
      "\u001b[1;3;38;2;237;90;200m[Amazon-10k] Q: What were Amazon's key priorities before the COVID-19 pandemic?\n",
      "\u001b[0m\u001b[1;3;38;2;237;90;200m[Amazon-10k] A: Based on the context provided, Amazon's key priorities before the COVID-19 pandemic appear to have been maintaining their unique culture of innovation, customer obsession, and long-term thinking, which the context states has been critical to their growth and success. The context also highlights optimizing and operating their fulfillment network and data centers effectively as a key priority to avoid excess or insufficient capacity, service interruptions, and increased costs. Additionally, managing various risks and factors that could impact their operations and expenses, such as transportation costs, labor markets, technology trends, and potential disruptions from natural disasters or geopolitical events, seem to have been important priorities for Amazon.\n",
      "\u001b[0m\u001b[1;3;38;2;90;149;237m[Amazon-10k] Q: How did Amazon's priorities shift during the COVID-19 pandemic?\n",
      "\u001b[0m\u001b[1;3;38;2;90;149;237m[Amazon-10k] A: The context information does not provide specific details about how Amazon's priorities shifted during the COVID-19 pandemic. However, it mentions some potential impacts and risks that the pandemic (referred to as a \"public health crisis\") could have had on Amazon's operations:\n",
      "\n",
      "1. Disruptions from natural or human-caused disasters, including public health crises, are listed as one of the factors that have been critical to Amazon's growth and success. This suggests the pandemic likely impacted Amazon's operations and priorities to some degree.\n",
      "\n",
      "2. It notes that demand for Amazon's products and services can fluctuate significantly due to unforeseeable events such as public health crises. This implies the pandemic likely caused shifts in customer demand patterns that Amazon had to adapt to.\n",
      "\n",
      "3. It mentions the risk of insufficient fulfillment capacity and service interruptions if customer demand spikes unexpectedly, which could have occurred during the pandemic lockdowns when online shopping surged.\n",
      "\n",
      "4. It highlights the need to adequately staff fulfillment centers and customer service during peak demand periods, which was likely a challenge during the pandemic's disruptions.\n",
      "\n",
      "While specific details are not provided, the context suggests the COVID-19 pandemic presented operational challenges and demand shifts that likely required Amazon to adjust its priorities and resource allocation to areas like fulfillment, logistics, and customer service to meet the changing market conditions.\n",
      "\u001b[0m\u001b[1;3;38;2;11;159;203m[Amazon-10k] Q: What are Amazon's key priorities after the COVID-19 pandemic?\n",
      "\u001b[0m\u001b[1;3;38;2;11;159;203m[Amazon-10k] A: Based on the context provided, some of Amazon's key priorities after the COVID-19 pandemic appear to be:\n",
      "\n",
      "1. Optimizing and operating their fulfillment network and data centers effectively to meet fluctuating customer demand and avoid excess or insufficient capacity, service interruptions, and increased costs.\n",
      "\n",
      "2. Managing the variability and strain on operations caused by factors like seasonality, promotions, product launches, and unforeseeable events such as economic conditions, natural disasters, extreme weather events (potentially exacerbated by climate change), and geopolitical events.\n",
      "\n",
      "3. Addressing potential negative impacts of climate change, including increased operating costs due to extreme weather, investment requirements for transitioning to a low-carbon economy, changes in customer behavior leading to decreased demand, increased compliance costs from environmental regulations, and reputational risks related to their environmental impact.\n",
      "\n",
      "4. Mitigating risks from disruptions caused by natural or human-caused disasters, geopolitical events, security issues, labor or trade disputes, and restrictive governmental actions, particularly in regions like China where they have significant operations.\n",
      "\n",
      "The context highlights Amazon's focus on enhancing operational resilience, managing climate-related risks, and navigating geopolitical complexities to ensure business continuity and growth in the post-pandemic era.\n",
      "\u001b[0m\n",
      "\n",
      "\u001b[32mBefore the COVID-19 pandemic, Amazon's key priorities appear to have been maintaining their culture of innovation, customer obsession, and long-term thinking, as well as optimizing their fulfillment network and data centers to meet demand efficiently while managing various operational risks and factors.\n",
      "\n",
      "During the pandemic, Amazon likely had to shift priorities to address disruptions caused by the public health crisis, such as fluctuations in customer demand patterns, potential fulfillment capacity constraints, and staffing challenges in fulfillment centers and customer service operations.\n",
      "\n",
      "After the COVID-19 pandemic, some of Amazon's key priorities seem to be enhancing operational resilience to handle variability from factors like seasonality, promotions, and unforeseeable events; managing climate-related risks and transitioning to a low-carbon economy; and mitigating potential disruptions from natural disasters, geopolitical events, and restrictive governmental actions, particularly in regions with significant operations.\u001b[0m\n"
     ]
    }
   ],
   "source": [
    "transformed_response = query_engine.query(query)\n",
    "print(\"\\n\")\n",
    "print(colored(transformed_response, \"green\"))"
   ]
  },
  {
   "cell_type": "markdown",
   "id": "a3d8c864-1b7e-45bf-85bb-bfaa78cad398",
   "metadata": {},
   "source": [
    "### > Display the results side-by-side \n",
    "\n",
    "Notice splitting the question into sub questions increase your chances of matching the right and complete information and generate a more comprehensive final answer."
   ]
  },
  {
   "cell_type": "code",
   "execution_count": 10,
   "id": "93d70e64-769e-485d-9710-da8fa556bf36",
   "metadata": {},
   "outputs": [
    {
     "data": {
      "text/html": [
       "<style type=\"text/css\">\n",
       "</style>\n",
       "<table id=\"T_78211\" style='display:inline'>\n",
       "  <thead>\n",
       "    <tr>\n",
       "      <th id=\"T_78211_level0_col0\" class=\"col_heading level0 col0\" >Naive RAG</th>\n",
       "      <th id=\"T_78211_level0_col1\" class=\"col_heading level0 col1\" >RAG w/ Query Rewrite</th>\n",
       "    </tr>\n",
       "  </thead>\n",
       "  <tbody>\n",
       "    <tr>\n",
       "      <td id=\"T_78211_row0_col0\" class=\"data row0 col0\" >What are amazons key priorities before, during and after covid?</td>\n",
       "      <td id=\"T_78211_row0_col1\" class=\"data row0 col1\" >What are amazons key priorities before, during and after covid?</td>\n",
       "    </tr>\n",
       "    <tr>\n",
       "      <td id=\"T_78211_row1_col0\" class=\"data row1 col0\" >Based on the context provided, Amazon's key priorities before, during, and after COVID-19 seem to be focused on maintaining operational resilience and minimizing disruptions to its business. The context highlights several risks and challenges that Amazon faces, including:\n",
       "\n",
       "1. Disruptions from natural or human-caused disasters, public health crises (like COVID-19), geopolitical events, labor disputes, and other similar events that could impact Amazon's operations, customers, sellers, and suppliers.\n",
       "\n",
       "2. Potential negative impacts of climate change, such as increased operating costs due to extreme weather events, increased investment requirements for transitioning to a low-carbon economy, decreased demand for products and services due to changes in customer behavior, increased compliance costs, and reputational damage.\n",
       "\n",
       "3. Optimizing and operating its fulfillment network and data centers effectively to meet customer demand and avoid excess or insufficient capacity, service interruptions, and increased costs.\n",
       "\n",
       "4. Retaining key executives, employees, and managing its workforce effectively, including addressing potential labor union efforts.\n",
       "\n",
       "5. Managing supplier relationships and ensuring availability of merchandise, content, components, and services from significant suppliers, including those with limited or single sources of supply.\n",
       "\n",
       "While not explicitly stated, these priorities likely remained crucial for Amazon before, during, and after the COVID-19 pandemic to maintain business continuity, adapt to changing circumstances, and mitigate potential disruptions to its operations and supply chain.</td>\n",
       "      <td id=\"T_78211_row1_col1\" class=\"data row1 col1\" >Before the COVID-19 pandemic, Amazon's key priorities appear to have been maintaining their culture of innovation, customer obsession, and long-term thinking, as well as optimizing their fulfillment network and data centers to meet demand efficiently while managing various operational risks and factors.\n",
       "\n",
       "During the pandemic, Amazon likely had to shift priorities to address disruptions caused by the public health crisis, such as fluctuations in customer demand patterns, potential fulfillment capacity constraints, and staffing challenges in fulfillment centers and customer service operations.\n",
       "\n",
       "After the COVID-19 pandemic, some of Amazon's key priorities seem to be enhancing operational resilience to handle variability from factors like seasonality, promotions, and unforeseeable events; managing climate-related risks and transitioning to a low-carbon economy; and mitigating potential disruptions from natural disasters, geopolitical events, and restrictive governmental actions, particularly in regions with significant operations.</td>\n",
       "    </tr>\n",
       "  </tbody>\n",
       "</table>\n",
       "&nbsp;"
      ],
      "text/plain": [
       "<IPython.core.display.HTML object>"
      ]
     },
     "metadata": {},
     "output_type": "display_data"
    }
   ],
   "source": [
    "import pandas as pd\n",
    "from IPython.display import display, HTML\n",
    "\n",
    "# Create the first table\n",
    "df = pd.DataFrame({\n",
    "    'Naive RAG': [query, raw_response],\n",
    "    'RAG w/ Query Rewrite': [query, transformed_response]\n",
    "})\n",
    "\n",
    "output=\"\"\n",
    "output += df.style.hide().set_table_attributes(\"style='display:inline'\")._repr_html_()\n",
    "output += \"&nbsp;\"\n",
    "\n",
    "display(HTML(output))"
   ]
  }
 ],
 "metadata": {
  "kernelspec": {
   "display_name": "Python 3 (ipykernel)",
   "language": "python",
   "name": "python3"
  },
  "language_info": {
   "codemirror_mode": {
    "name": "ipython",
    "version": 3
   },
   "file_extension": ".py",
   "mimetype": "text/x-python",
   "name": "python",
   "nbconvert_exporter": "python",
   "pygments_lexer": "ipython3",
   "version": "3.11.9"
  }
 },
 "nbformat": 4,
 "nbformat_minor": 5
}
