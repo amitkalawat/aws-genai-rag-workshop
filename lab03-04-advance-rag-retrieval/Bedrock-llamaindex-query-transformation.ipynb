{
 "cells": [
  {
   "cell_type": "markdown",
   "id": "99cea58c-48bc-4af6-8358-df9695659983",
   "metadata": {},
   "source": [
    "# RAG Retrieval Optimization - Query Rewriting using Amazon Bedrock and Llamaindex"
   ]
  },
  {
   "cell_type": "markdown",
   "id": "673df1fe-eb6c-46ea-9a73-a96e7ae7942e",
   "metadata": {},
   "source": [
    "In this tutorial, we showcase how to use a sub question query engine to tackle the problem of answering a complex query.\n",
    "It first breaks down the complex query into sub questions for each relevant data source, then gather all the intermediate reponses and synthesizes a final response.\n",
    "\n",
    "- Vector Database (Faiss / local)\n",
    "- LLM (Amazon Bedrock - Claude3 Sonnet)\n",
    "- Embeddings Model (Bedrock Titan Text Embeddings v2.0)\n",
    "- Datasets ( Amazons 10-k sec filings from year 2022 and 2023 )\n",
    "- Llamaindex  (This example is built on referece llamaindex documentation available at - https://docs.llamaindex.ai/en/stable/examples/query_engine/sub_question_query_engine/)\n"
   ]
  },
  {
   "cell_type": "code",
   "execution_count": 3,
   "id": "ffebb89a-58e0-4fa0-ba8c-fdceb8f09d0d",
   "metadata": {
    "tags": []
   },
   "outputs": [],
   "source": [
    "from llama_index.core import VectorStoreIndex, SimpleDirectoryReader\n",
    "from llama_index.core.tools import QueryEngineTool, ToolMetadata\n",
    "from llama_index.core.query_engine import SubQuestionQueryEngine\n",
    "from llama_index.core.callbacks import CallbackManager, LlamaDebugHandler\n",
    "from llama_index.core import Settings"
   ]
  },
  {
   "cell_type": "code",
   "execution_count": 4,
   "id": "9d47283b-025e-4874-88ed-76245b22f82e",
   "metadata": {
    "tags": []
   },
   "outputs": [],
   "source": [
    "import json\n",
    "from typing import Sequence, List\n",
    "from llama_index.core.settings import Settings\n",
    "from llama_index.llms.bedrock import Bedrock\n",
    "from llama_index.embeddings.bedrock import BedrockEmbedding, Models\n",
    "\n",
    "llm = Bedrock(model = \"anthropic.claude-3-sonnet-20240229-v1:0\")\n",
    "embed_model = BedrockEmbedding(model = \"amazon.titan-embed-text-v2:0\")\n",
    "\n",
    "Settings.llm = llm\n",
    "Settings.embed_model = embed_model\n",
    "Settings.chunk_size = 256\n",
    "\n",
    "from llama_index.core.llms import ChatMessage\n",
    "from llama_index.core.tools import BaseTool, FunctionTool\n",
    "import nest_asyncio\n",
    "nest_asyncio.apply()"
   ]
  },
  {
   "cell_type": "code",
   "execution_count": 5,
   "id": "bb93623d-4818-4cf2-be82-1444ca86dd3a",
   "metadata": {
    "tags": []
   },
   "outputs": [],
   "source": [
    "# Using the LlamaDebugHandler to print the trace of the sub questions\n",
    "# captured by the SUB_QUESTION callback event type\n",
    "llama_debug = LlamaDebugHandler(print_trace_on_end=True)\n",
    "callback_manager = CallbackManager([llama_debug])\n",
    "\n",
    "Settings.callback_manager = callback_manager"
   ]
  },
  {
   "cell_type": "code",
   "execution_count": null,
   "id": "156cf76d-0358-4a8a-8803-a09a99d93763",
   "metadata": {
    "tags": []
   },
   "outputs": [],
   "source": [
    "# load data\n",
    "amazon_secfiles = SimpleDirectoryReader(input_dir=\"../data/lab03/amazon/\").load_data()\n",
    "\n",
    "# build index and query engine\n",
    "vector_query_engine = VectorStoreIndex.from_documents(\n",
    "    amazon_secfiles,\n",
    "    use_async=True,\n",
    ").as_query_engine()"
   ]
  },
  {
   "cell_type": "code",
   "execution_count": 8,
   "id": "f414cda3-8a56-44a8-96a8-522c0f0e10b7",
   "metadata": {
    "tags": []
   },
   "outputs": [],
   "source": [
    "# setup base query engine as tool\n",
    "query_engine_tools = [\n",
    "    QueryEngineTool(\n",
    "        query_engine=vector_query_engine,\n",
    "        metadata=ToolMetadata(\n",
    "            name=\"Amazon-10k\",\n",
    "            description=\"Amazon SEC 10-k filings for years 2022 and 2023\",\n",
    "        ),\n",
    "    ),\n",
    "]\n",
    "\n",
    "query_engine = SubQuestionQueryEngine.from_defaults(\n",
    "    query_engine_tools=query_engine_tools,\n",
    "    use_async=True,\n",
    ")"
   ]
  },
  {
   "cell_type": "code",
   "execution_count": 9,
   "id": "826956e5-2206-4ba0-8aeb-beafa9a284b2",
   "metadata": {
    "tags": []
   },
   "outputs": [
    {
     "name": "stdout",
     "output_type": "stream",
     "text": [
      "Generated 2 sub questions.\n",
      "\u001b[1;3;38;2;237;90;200m[Amazon-10k] Q: What were the key challenges faced by Amazon in 2022?\n",
      "\u001b[0m\u001b[1;3;38;2;237;90;200m[Amazon-10k] A: Based on the context information provided, some of the key challenges faced by Amazon in 2022 included:\n",
      "\n",
      "1. Maintaining their unique culture of innovation, customer obsession, and long-term thinking, which has been critical to their growth and success.\n",
      "\n",
      "2. Potential disruptions from natural or human-caused disasters, extreme weather events (including those related to climate change), geopolitical events, security issues, labor or trade disputes, and similar events.\n",
      "\n",
      "3. Negative impacts of climate change, such as increased operating costs due to extreme weather events, increased investment requirements for transitioning to a low-carbon economy, decreased demand for products and services due to changes in customer behavior, and increased compliance costs due to more extensive and global regulations.\n",
      "\n",
      "4. Variations in their level of merchandise and vendor returns.\n",
      "\n",
      "5. Factors affecting their reputation or brand image, including public perceptions regarding social or ethical issues related to their development and use of artificial intelligence and machine learning technologies.\n",
      "\n",
      "6. Availability and increases in the prices of transportation, resources (land, water, energy), commodities (paper, packing supplies, hardware products), and technology infrastructure products, potentially due to inflationary pressures.\n",
      "\n",
      "7. Constrained labor markets, leading to increased payroll costs.\n",
      "\u001b[0m\u001b[1;3;38;2;90;149;237m[Amazon-10k] Q: What were the key challenges faced by Amazon in 2023?\n",
      "\u001b[0m\u001b[1;3;38;2;90;149;237m[Amazon-10k] A: Based on the context information provided, some of the key challenges faced by Amazon in 2023 included:\n",
      "\n",
      "1. Maintaining their unique culture of innovation, customer obsession, and long-term thinking, which has been critical to their growth and success.\n",
      "\n",
      "2. Potential disruptions from natural or human-caused disasters, extreme weather events (including those related to climate change), geopolitical events, security issues, labor or trade disputes, and similar events.\n",
      "\n",
      "3. Negative impacts of climate change, such as increased operating costs due to extreme weather events, increased investment requirements for transitioning to a low-carbon economy, decreased demand for products and services due to changes in customer behavior, and increased compliance costs due to more extensive and global regulations.\n",
      "\n",
      "4. Variations in their level of merchandise and vendor returns.\n",
      "\n",
      "5. Factors affecting their reputation or brand image, including public perceptions regarding social or ethical issues related to their development and use of artificial intelligence and machine learning technologies.\n",
      "\n",
      "6. Availability and increased prices of transportation, resources (land, water, energy), commodities (paper, packing supplies, hardware products), and technology infrastructure products, potentially due to inflationary pressures.\n",
      "\n",
      "7. Constrained labor markets, leading to increased payroll costs.\n",
      "\u001b[0m**********\n",
      "Trace: query\n",
      "    |_query -> 15.421344 seconds\n",
      "      |_templating -> 3.7e-05 seconds\n",
      "      |_llm -> 1.346129 seconds\n",
      "      |_llm -> 1.345504 seconds\n",
      "      |_sub_question -> 4.642913 seconds\n",
      "        |_query -> 4.642458 seconds\n",
      "          |_retrieve -> 0.286745 seconds\n",
      "            |_embedding -> 0.07653 seconds\n",
      "          |_synthesize -> 4.355046 seconds\n",
      "            |_templating -> 1.9e-05 seconds\n",
      "            |_llm -> 4.351061 seconds\n",
      "            |_llm -> 4.350631 seconds\n",
      "      |_sub_question -> 6.493978 seconds\n",
      "        |_query -> 6.493523 seconds\n",
      "          |_retrieve -> 0.288866 seconds\n",
      "            |_embedding -> 0.079024 seconds\n",
      "          |_synthesize -> 6.204027 seconds\n",
      "            |_templating -> 1.8e-05 seconds\n",
      "            |_llm -> 6.200133 seconds\n",
      "            |_llm -> 6.199459 seconds\n",
      "      |_synthesize -> 2.934712 seconds\n",
      "        |_templating -> 1.8e-05 seconds\n",
      "        |_llm -> 2.930944 seconds\n",
      "        |_llm -> 2.930549 seconds\n",
      "**********\n"
     ]
    }
   ],
   "source": [
    "response = query_engine.query(\n",
    "    \"What were key challenges faced by Amazon in year 2022 and 2023?\"\n",
    ")"
   ]
  },
  {
   "cell_type": "code",
   "execution_count": 10,
   "id": "b1aef3a8-1ae8-4d63-8451-8c78e942f572",
   "metadata": {
    "tags": []
   },
   "outputs": [
    {
     "name": "stdout",
     "output_type": "stream",
     "text": [
      "Based on the provided information, some of the key challenges faced by Amazon in 2022 and 2023 included:\n",
      "\n",
      "1. Maintaining their unique culture focused on innovation, customer obsession, and long-term thinking.\n",
      "\n",
      "2. Potential disruptions from natural disasters, extreme weather events related to climate change, geopolitical events, security issues, labor disputes, and similar events.\n",
      "\n",
      "3. Negative impacts of climate change, such as increased operating costs, investment requirements for transitioning to a low-carbon economy, decreased demand due to changes in customer behavior, and increased compliance costs due to regulations.\n",
      "\n",
      "4. Fluctuations in merchandise and vendor returns.\n",
      "\n",
      "5. Factors affecting their reputation or brand image, particularly related to the development and use of artificial intelligence and machine learning technologies.\n",
      "\n",
      "6. Availability and rising prices of transportation, resources (land, water, energy), commodities (paper, packing supplies, hardware products), and technology infrastructure products, potentially due to inflationary pressures.\n",
      "\n",
      "7. Constrained labor markets leading to increased payroll costs.\n"
     ]
    }
   ],
   "source": [
    "print(response)"
   ]
  },
  {
   "cell_type": "code",
   "execution_count": 11,
   "id": "0a74d861-a412-4b59-81c3-51c27120229b",
   "metadata": {
    "tags": []
   },
   "outputs": [
    {
     "name": "stdout",
     "output_type": "stream",
     "text": [
      "Sub Question 0: What were the key challenges faced by Amazon in 2022?\n",
      "Answer: Based on the context information provided, some of the key challenges faced by Amazon in 2022 included:\n",
      "\n",
      "1. Maintaining their unique culture of innovation, customer obsession, and long-term thinking, which has been critical to their growth and success.\n",
      "\n",
      "2. Potential disruptions from natural or human-caused disasters, extreme weather events (including those related to climate change), geopolitical events, security issues, labor or trade disputes, and similar events.\n",
      "\n",
      "3. Negative impacts of climate change, such as increased operating costs due to extreme weather events, increased investment requirements for transitioning to a low-carbon economy, decreased demand for products and services due to changes in customer behavior, and increased compliance costs due to more extensive and global regulations.\n",
      "\n",
      "4. Variations in their level of merchandise and vendor returns.\n",
      "\n",
      "5. Factors affecting their reputation or brand image, including public perceptions regarding social or ethical issues related to their development and use of artificial intelligence and machine learning technologies.\n",
      "\n",
      "6. Availability and increases in the prices of transportation, resources (land, water, energy), commodities (paper, packing supplies, hardware products), and technology infrastructure products, potentially due to inflationary pressures.\n",
      "\n",
      "7. Constrained labor markets, leading to increased payroll costs.\n",
      "====================================\n",
      "Sub Question 1: What were the key challenges faced by Amazon in 2023?\n",
      "Answer: Based on the context information provided, some of the key challenges faced by Amazon in 2023 included:\n",
      "\n",
      "1. Maintaining their unique culture of innovation, customer obsession, and long-term thinking, which has been critical to their growth and success.\n",
      "\n",
      "2. Potential disruptions from natural or human-caused disasters, extreme weather events (including those related to climate change), geopolitical events, security issues, labor or trade disputes, and similar events.\n",
      "\n",
      "3. Negative impacts of climate change, such as increased operating costs due to extreme weather events, increased investment requirements for transitioning to a low-carbon economy, decreased demand for products and services due to changes in customer behavior, and increased compliance costs due to more extensive and global regulations.\n",
      "\n",
      "4. Variations in their level of merchandise and vendor returns.\n",
      "\n",
      "5. Factors affecting their reputation or brand image, including public perceptions regarding social or ethical issues related to their development and use of artificial intelligence and machine learning technologies.\n",
      "\n",
      "6. Availability and increased prices of transportation, resources (land, water, energy), commodities (paper, packing supplies, hardware products), and technology infrastructure products, potentially due to inflationary pressures.\n",
      "\n",
      "7. Constrained labor markets, leading to increased payroll costs.\n",
      "====================================\n"
     ]
    }
   ],
   "source": [
    "# iterate through sub_question items captured in SUB_QUESTION event\n",
    "from llama_index.core.callbacks import CBEventType, EventPayload\n",
    "\n",
    "for i, (start_event, end_event) in enumerate(\n",
    "    llama_debug.get_event_pairs(CBEventType.SUB_QUESTION)\n",
    "):\n",
    "    qa_pair = end_event.payload[EventPayload.SUB_QUESTION]\n",
    "    print(\"Sub Question \" + str(i) + \": \" + qa_pair.sub_q.sub_question.strip())\n",
    "    print(\"Answer: \" + qa_pair.answer.strip())\n",
    "    print(\"====================================\")"
   ]
  },
  {
   "cell_type": "code",
   "execution_count": 12,
   "id": "47dbdfaa-ee3b-458c-baf8-df5cae26865a",
   "metadata": {},
   "outputs": [
    {
     "name": "stdout",
     "output_type": "stream",
     "text": [
      "Generated 3 sub questions.\n",
      "\u001b[1;3;38;2;237;90;200m[Amazon-10k] Q: What were Amazon's key priorities before COVID-19 (e.g., in 2019 or earlier)?\n",
      "\u001b[0m\u001b[1;3;38;2;237;90;200m[Amazon-10k] A: Based on the context provided, one of Amazon's key priorities before COVID-19 appears to have been maintaining their unique culture of innovation, customer obsession, and long-term thinking. The passage mentions that this culture \"has been critical to our growth and success.\" While no specific years are mentioned, this suggests it was an important focus for Amazon leading up to and preceding the COVID-19 pandemic.\n",
      "\u001b[0m\u001b[1;3;38;2;90;149;237m[Amazon-10k] Q: How did Amazon's priorities shift during the COVID-19 pandemic (e.g., in 2020 and 2021)?\n",
      "\u001b[0m\u001b[1;3;38;2;90;149;237m[Amazon-10k] A: The context does not provide any specific information about how Amazon's priorities shifted during the COVID-19 pandemic in 2020 and 2021. The context discusses potential risks and disruptions to Amazon's business from events like natural disasters, public health crises, geopolitical conflicts, and climate change impacts. However, it does not give details on how the company actually responded or adjusted its priorities in response to the COVID-19 pandemic.\n",
      "\u001b[0m\u001b[1;3;38;2;11;159;203m[Amazon-10k] Q: What are Amazon's key priorities after the COVID-19 pandemic (e.g., in 2022 and beyond)?\n",
      "\u001b[0m\u001b[1;3;38;2;11;159;203m[Amazon-10k] A: Based on the context provided, some of Amazon's key priorities after the COVID-19 pandemic appear to be:\n",
      "\n",
      "1. Maintaining their unique culture of innovation, customer obsession, and long-term thinking, which has been critical to their growth and success.\n",
      "\n",
      "2. Mitigating disruptions from natural or human-caused disasters, extreme weather events (including those related to climate change), geopolitical events, security issues, labor or trade disputes, and similar events that could impact their operations, customers, sellers, and suppliers.\n",
      "\n",
      "3. Addressing the potential negative impacts of climate change, such as increased operating costs due to extreme weather, investment requirements for transitioning to a low-carbon economy, changes in customer behavior leading to decreased demand, increased compliance costs due to regulations, and reputational damage related to their environmental impact.\n",
      "\n",
      "4. Optimizing and operating their fulfillment network and data centers effectively to predict customer demand accurately, avoid excess or insufficient capacity, prevent service interruptions, and minimize costs and impairment charges.\n",
      "\n",
      "While the context does not explicitly mention post-pandemic priorities, it highlights the importance of maintaining their innovative culture, addressing climate change impacts, mitigating various disruptions, and optimizing their fulfillment and data center operations, which are likely to be key focus areas for Amazon in the coming years.\n",
      "\u001b[0m**********\n",
      "Trace: query\n",
      "    |_query -> 17.001268 seconds\n",
      "      |_templating -> 2.5e-05 seconds\n",
      "      |_llm -> 2.582698 seconds\n",
      "      |_llm -> 2.582297 seconds\n",
      "      |_sub_question -> 2.469648 seconds\n",
      "        |_query -> 2.468963 seconds\n",
      "          |_retrieve -> 0.298324 seconds\n",
      "            |_embedding -> 0.095491 seconds\n",
      "          |_synthesize -> 2.170003 seconds\n",
      "            |_templating -> 1.8e-05 seconds\n",
      "            |_llm -> 2.165954 seconds\n",
      "            |_llm -> 2.165531 seconds\n",
      "      |_sub_question -> 2.33656 seconds\n",
      "        |_query -> 2.336123 seconds\n",
      "          |_retrieve -> 0.297085 seconds\n",
      "            |_embedding -> 0.086844 seconds\n",
      "          |_synthesize -> 2.038418 seconds\n",
      "            |_templating -> 1.9e-05 seconds\n",
      "            |_llm -> 2.034654 seconds\n",
      "            |_llm -> 2.03426 seconds\n",
      "      |_sub_question -> 5.525168 seconds\n",
      "        |_query -> 5.524491 seconds\n",
      "          |_retrieve -> 0.302782 seconds\n",
      "            |_embedding -> 0.09807 seconds\n",
      "          |_synthesize -> 5.221091 seconds\n",
      "            |_templating -> 1.9e-05 seconds\n",
      "            |_llm -> 5.216852 seconds\n",
      "            |_llm -> 5.216446 seconds\n",
      "      |_synthesize -> 4.084666 seconds\n",
      "        |_templating -> 1.9e-05 seconds\n",
      "        |_llm -> 4.080874 seconds\n",
      "        |_llm -> 4.080481 seconds\n",
      "**********\n"
     ]
    }
   ],
   "source": [
    "response = query_engine.query(\n",
    "    \"What are amazons key priorities before, during and after covid?\"\n",
    ")"
   ]
  },
  {
   "cell_type": "code",
   "execution_count": 13,
   "id": "d20f4918-90b3-4ba3-b1eb-be2a086ab500",
   "metadata": {
    "tags": []
   },
   "outputs": [
    {
     "name": "stdout",
     "output_type": "stream",
     "text": [
      "Before COVID-19, one of Amazon's key priorities appears to have been maintaining their unique culture of innovation, customer obsession, and long-term thinking, which has been critical to their growth and success.\n",
      "\n",
      "The context does not provide specific information about how Amazon's priorities shifted during the COVID-19 pandemic in 2020 and 2021. However, it suggests they likely focused on mitigating disruptions from events like public health crises that could impact their operations, customers, sellers, and suppliers.\n",
      "\n",
      "After the COVID-19 pandemic, some of Amazon's key priorities seem to be:\n",
      "\n",
      "1. Continuing to maintain their innovative culture and long-term thinking approach.\n",
      "2. Addressing potential negative impacts of climate change on their business.\n",
      "3. Mitigating disruptions from various natural or human-caused disasters, extreme weather events, geopolitical issues, and other events that could affect their operations.\n",
      "4. Optimizing and effectively operating their fulfillment network and data centers to meet customer demand, avoid excess or insufficient capacity, prevent service interruptions, and minimize costs.\n"
     ]
    }
   ],
   "source": [
    "print(response)"
   ]
  }
 ],
 "metadata": {
  "kernelspec": {
   "display_name": "conda_pytorch_p310",
   "language": "python",
   "name": "conda_pytorch_p310"
  },
  "language_info": {
   "codemirror_mode": {
    "name": "ipython",
    "version": 3
   },
   "file_extension": ".py",
   "mimetype": "text/x-python",
   "name": "python",
   "nbconvert_exporter": "python",
   "pygments_lexer": "ipython3",
   "version": "3.10.14"
  }
 },
 "nbformat": 4,
 "nbformat_minor": 5
}
