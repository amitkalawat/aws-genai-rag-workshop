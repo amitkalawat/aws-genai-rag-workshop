{
 "cells": [
  {
   "cell_type": "markdown",
   "id": "88a5ab2f-d044-4956-b75b-7408d9c3e323",
   "metadata": {},
   "source": [
    "# AWS Generative AI RAG Workshop\n",
    "## Prompt Engineering with Amazon Bedrock\n",
    "\n",
    "> *This notebook should work well with the **`Python 3`** kernel in SageMaker Studio*\n",
    "\n",
    "---\n",
    "\n",
    "In this demo notebook, we demonstrate how to use the [`boto3` Python SDK](https://boto3.amazonaws.com/v1/documentation/api/latest/index.html) to work with [Amazon Bedrock](https://aws.amazon.com/bedrock/) Foundation Models.\n",
    "\n",
    "---"
   ]
  },
  {
   "cell_type": "markdown",
   "id": "6aeedd9f-f0a3-4f8e-934d-22f6f7a89de5",
   "metadata": {},
   "source": [
    "## Prerequisites\n",
    "\n",
    "Run the cells in this section to install the packages needed by the notebooks in this workshop. ⚠️ You will see pip dependency errors, you can safely ignore these errors. ⚠️\n",
    "\n",
    "IGNORE ERROR: pip's dependency resolver does not currently take into account all the packages that are installed. This behaviour is the source of the following dependency conflicts."
   ]
  },
  {
   "cell_type": "markdown",
   "id": "27610c0f-7de6-4440-8f76-decf30e3c5ca",
   "metadata": {},
   "source": [
    "---\n",
    "\n",
    "## Create the boto3 client\n",
    "\n",
    "Interaction with the Bedrock API is done via the AWS SDK for Python: [boto3](https://boto3.amazonaws.com/v1/documentation/api/latest/index.html).\n",
    "\n",
    "#### Converse API\n",
    "**[Converse or ConverseStream API](https://docs.aws.amazon.com/bedrock/latest/userguide/conversation-inference.html)** are unified structured text API action that allows you simplifying the invocations to Bedrock LLMs, using a universal syntax and message structured prompts for any of the supported model providers.\n",
    "\n",
    "\n",
    "#### Use the default credential chain\n",
    "\n",
    "If you are running this notebook from [Amazon Sagemaker Studio](https://aws.amazon.com/sagemaker/studio/) and your Sagemaker Studio [execution role](https://docs.aws.amazon.com/sagemaker/latest/dg/sagemaker-roles.html) has permissions to access Bedrock you can just run the cells below as-is. This is also the case if you are running these notebooks from a computer whose default AWS credentials have access to Bedrock.\n",
    "\n"
   ]
  },
  {
   "cell_type": "code",
   "execution_count": null,
   "id": "ae2b2a05-78a9-40ca-9b5e-121030f9ede1",
   "metadata": {
    "tags": []
   },
   "outputs": [],
   "source": [
    "import json\n",
    "import os\n",
    "import sys\n",
    "\n",
    "import boto3\n",
    "from utility import invoke_bedrock_model, invoke_bedrock_model_stream\n",
    "from IPython.display import display, Markdown\n",
    "import botocore\n",
    "import json \n",
    "\n",
    "bedrock_runtime = boto3.client('bedrock-runtime')\n",
    "\n",
    "# valid model id in the workshop environment\n",
    "model_ids = [\n",
    "    \"anthropic.claude-3-sonnet-20240229-v1:0\",\n",
    "    \"anthropic.claude-3-haiku-20240307-v1:0\",\n",
    "    \"meta.llama3-70b-instruct-v1:0\",\n",
    "    \"meta.llama3-8b-instruct-v1:0\",\n",
    "    \"mistral.mistral-large-2402-v1:0\",\n",
    "]"
   ]
  },
  {
   "cell_type": "markdown",
   "id": "ce22c308-ebbf-4ef5-a823-832b7c236e31",
   "metadata": {},
   "source": [
    "---\n",
    "\n",
    "## Lab 1 - Text Summarization in Bedrock\n",
    "\n",
    "Picture yourself at a movie studio, or maybe a video streaming company. You get synopses all the time, and hardly have time to read them. In this Lab you will use Foundation Models (FMs) in Amazon Bedrock to summarize synopsis, so it is much easier to read and digest.\n",
    "\n",
    "Here is a [Synopsis for the movie Whiplash](https://www.scriptreaderpro.com/wp-content/uploads/2019/07/Film-Synopsis-Example-Whiplash.pdf). We will use it below.\n",
    "\n"
   ]
  },
  {
   "cell_type": "code",
   "execution_count": null,
   "id": "7df55eed-a3cf-426c-95ea-ec60dade6477",
   "metadata": {
    "tags": []
   },
   "outputs": [],
   "source": [
    "prompt_data = \"\"\"\n",
    "Andrew Neiman, a young jazz student at the Shaffer Conservatory in New York, has one dream:\n",
    "to go down in history as one of the world’s best drummers. He’s therefore thrilled when Terence\n",
    "Fletcher, a famous conductor, invites him to join the conservatory’s Studio Band as a core\n",
    "alternate drummer. Fletcher, however, turns out to be anything but an ordinary teacher. He’s a\n",
    "sadistic tyrant and Andrew realizes just how much of one when he has a chair hurled at him for\n",
    "failing to keep time.\n",
    "At a jazz competition, Andrew misplaces the sheet music to “Whiplash,” meaning their core\n",
    "drummer can’t play. Andrew, however, can—from memory—and after a first class performance,\n",
    "Fletcher promotes him to core drummer. But Andrew’s joy won’t last long… In a typically\n",
    "twisted move, Fletcher bumps Andrew back down to alternate drummer, putting a much lesstalented \n",
    "musician in his place. More determined than ever, Andrew breaks up with his girlfriend\n",
    "and practices until his hands bleed. It pays off… After a grueling five-hour audition, during\n",
    "which Fletcher kicks furniture and screams at him, Andrew earns back the core spot.\n",
    "Andrew arrives late for another competition after his bus breaks down, hires a car, then realizes\n",
    "he left his drumsticks at the car rental office. He races back, retrieves them, but on his way to\n",
    "the theater, his car is broadsided by a semi. He crawls from the wreckage and runs the rest of\n",
    "the way, finally arriving on stage bloody and injured. When he struggles to play, Fletcher cooly\n",
    "dismisses him. Enraged, Andrew attacks Fletcher in front of the audience, which gets him\n",
    "dismissed from the school.\n",
    "Andrew files an ethics complaint against Shaffer Conservatory and learns that one of Fletcher’s\n",
    "former students hanged himself due to his emotional and physical abuse. Andrew agrees to\n",
    "testify as an anonymous witness and Fletcher is fired. Andrew gives up drumming and, months\n",
    "later, stumbles upon Fletcher playing piano in a jazz club. They go for a drink, during which\n",
    "Fletcher explains why he pushed his students so hard: so that they might become the next\n",
    "Charlie Parker. In Fletcher’s eyes the greats like Parker wouldn’t be discouraged by anything.\n",
    "He then invites Andrew to drum with his band at a jazz festival. Has Fletcher changed? Andrew\n",
    "thinks so, and accepts.\n",
    "On stage at the festival, Fletcher has two surprises for Andrew. One: he knows he testified\n",
    "against him, and two: they’re starting with a piece Andrew doesn’t know and for which there’s\n",
    "no sheet music. Unable to play, Andrew leaves the stage humiliated. But he returns, interrupts\n",
    "Fletcher and cues the band, before launching into a breathtaking solo. Fletcher is taken aback,\n",
    "but in that moment realizes the enormity of Andrew’s talent and begins to guide him. As\n",
    "Andrew ends his solo, they share a smile and Fletcher cues the finale.\n",
    "\n",
    "{INPUT}\n",
    "\"\"\""
   ]
  },
  {
   "cell_type": "markdown",
   "id": "174a8eb1-f9a4-4946-bfe2-550d21487f48",
   "metadata": {},
   "source": [
    "Next, we will construct the body and response to pass the prompt above to the Cohere Command text model."
   ]
  },
  {
   "cell_type": "code",
   "execution_count": null,
   "id": "dd2bb671-6b10-4948-9e5e-95d6ced3b86f",
   "metadata": {
    "scrolled": true,
    "tags": []
   },
   "outputs": [],
   "source": [
    "input_text = prompt_data.replace(\"{INPUT}\", \"Summarize the text above:\")\n",
    "\n",
    "for i in model_ids:\n",
    "    response = invoke_bedrock_model(bedrock_runtime, i, input_text,\n",
    "                                    max_tokens=400, temperature=0.75, top_p=0.9)\n",
    "    print(f'### Model: {i}\\n\\n {response}')\n",
    "    print (\"-----\\n\")"
   ]
  },
  {
   "cell_type": "markdown",
   "id": "ae706235",
   "metadata": {},
   "source": [
    "## Refine the output\n",
    "\n",
    "This is good, but there are ways to refine this result.\n",
    "\n",
    "## Prompt engineering\n",
    "Prompt engineering is a discipline focused on developing optimized prompts to efficiently apply language models to various tasks.\n",
    "\n",
    "Try the same synopsis, but this time followed by \"Summarize the text above in one sentence:\"."
   ]
  },
  {
   "cell_type": "code",
   "execution_count": null,
   "id": "9dc0cc19",
   "metadata": {
    "scrolled": true
   },
   "outputs": [],
   "source": [
    "input_text = prompt_data.replace(\"{INPUT}\", \"Summarize the text above in one paragraph:\")\n",
    "\n",
    "for i in model_ids:\n",
    "    response = invoke_bedrock_model(bedrock_runtime, i, input_text,\n",
    "                                    max_tokens=400, temperature=0.75, top_p=0.9)\n",
    "    print(f'### Model: {i}\\n\\n {response}')\n",
    "    print(\"-----\\n\")"
   ]
  },
  {
   "cell_type": "markdown",
   "id": "05f659f9",
   "metadata": {},
   "source": [
    "## Changing parameters.\n",
    "Lets see what happens if we change the prompt parameters.\n",
    "\n",
    "Below we are going to change the max_tokens to 50 lets see what happens.\n"
   ]
  },
  {
   "cell_type": "code",
   "execution_count": null,
   "id": "9adf04e2",
   "metadata": {
    "scrolled": true
   },
   "outputs": [],
   "source": [
    "for i in model_ids:\n",
    "    response = invoke_bedrock_model(bedrock_runtime, i, input_text,\n",
    "                                    max_tokens=50, temperature=0.75, top_p=0.9)\n",
    "    print(f'### Model: {i}\\n\\n {response}')\n",
    "    print (\"-----\\n\")"
   ]
  },
  {
   "cell_type": "markdown",
   "id": "593c440f",
   "metadata": {},
   "source": [
    "----\n",
    "# Lab 2\n"
   ]
  },
  {
   "cell_type": "markdown",
   "id": "f8399c1c",
   "metadata": {},
   "source": [
    "# Text Generation Using Bedrock\n",
    "If you are working with a script (whether for movies, television, game, etc), Foundation Models (FMs) can assist in a number of ways.\n",
    "\n",
    "## Use FM to create dialogue\n",
    "**FMs can generate dialogues for you.** - give the model a list of characters and a brief description of the scene, and let FMs generate the dialogues for a Comedy."
   ]
  },
  {
   "cell_type": "code",
   "execution_count": null,
   "id": "6ad14a91-3c3f-4004-8893-6acf0b42e7c2",
   "metadata": {},
   "outputs": [],
   "source": [
    "streaming_ids = [\n",
    "    \"amazon.titan-text-express-v1\",\n",
    "    \"anthropic.claude-3-sonnet-20240229-v1:0\",\n",
    "    \"anthropic.claude-3-haiku-20240307-v1:0\",\n",
    "    \"meta.llama3-70b-instruct-v1:0\",\n",
    "    \"meta.llama3-8b-instruct-v1:0\",\n",
    "    \"mistral.mistral-large-2402-v1:0\",\n",
    "]"
   ]
  },
  {
   "cell_type": "code",
   "execution_count": null,
   "id": "efe0cbfe-dc52-496f-9eb9-cf802de79289",
   "metadata": {},
   "outputs": [],
   "source": [
    "prompt = \"as an expert script writer, write the dialogue between a husband and wife for a comedy scene.\""
   ]
  },
  {
   "cell_type": "code",
   "execution_count": null,
   "id": "d574890e-e22f-4fb0-bed0-ef866b29dd73",
   "metadata": {
    "scrolled": true
   },
   "outputs": [],
   "source": [
    "for i in streaming_ids:\n",
    "    \n",
    "    print(f'### Model: {i}')\n",
    "    response = invoke_bedrock_model_stream(bedrock_runtime, i, prompt,\n",
    "                                    max_tokens=400, temperature=0.75, top_p=0.9)\n",
    "    print(\"\\n\\n-----\\n\")"
   ]
  },
  {
   "cell_type": "markdown",
   "id": "07843b96",
   "metadata": {},
   "source": [
    "## FMs can also help you brainstorm for plot ideas.\n",
    "\n",
    "Ask Bedrock models to generate some plot ideas using the prompt below:"
   ]
  },
  {
   "cell_type": "code",
   "execution_count": null,
   "id": "9dfa46ca",
   "metadata": {
    "scrolled": true
   },
   "outputs": [],
   "source": [
    "prompt = \"\"\"\n",
    "as an award wining director, give me some ideas about a plot-point in a romantic comedy involving two young professionals who just met by chance in the supermarket after loosing track of one another after college.\n",
    "\"\"\"\n",
    "\n",
    "for i in streaming_ids:\n",
    "    \n",
    "    print(f'### Model: {i}')\n",
    "    response = invoke_bedrock_model_stream(bedrock_runtime, i, prompt,\n",
    "                                    max_tokens=400, temperature=0.75, top_p=0.9)\n",
    "    print(\"\\n\\n-----\\n\")"
   ]
  },
  {
   "cell_type": "markdown",
   "id": "56a99090",
   "metadata": {},
   "source": [
    "---\n",
    "# Lab 3\n",
    "# Image Generation in Bedrock\n",
    "\n",
    "Now that you have text generation , let's try image generation with Titan Image Generator  on Bedrock.\n",
    "\n",
    ">Before we get started lets restart the kernel. \n",
    "\n",
    "### Image Prompting\n",
    "\n",
    "Writing a good prompt can be somewhat of an art.\n",
    "\n",
    "It is often difficult to predict whether a given prompt will yield a satisfactory result with a certain model.\n",
    "\n",
    "However, there are certain templates that have been known to work.\n",
    "\n",
    "Broadly, a prompt can be broken down into three pieces:\n",
    "- Type of image (photograph/sketch/painting)\n",
    "- Description of the content (subject/object/environment/scene/&c.), and\n",
    "- Style of the image (realistic/artistic).\n",
    "\n",
    "You can change each of the three parts individually to generate variations of an image.\n",
    "Adjectives have been known to play a significant role in the image generation process.\n",
    "Also, adding more details help in the generation process.\n",
    "\n",
    "In order to generate a realistic image, you can use phrases such as:\n",
    "- a photo of\n",
    "- a photograph of\n",
    "- realistic\n",
    "- hyper realistic\n",
    "\n",
    "To generate something more artistic, you can use phrases like:\n",
    "- by Pablo Picasso\n",
    "- oil painting by Rembrandt\n",
    "- landscape art by Frederic Edwin Church\n",
    "- pencil drawing by Albrecht Dürer\n",
    "\n",
    "You can also combine different artists as well.\n",
    "To generate artistic images by category, you can add the art category in the prompt such as\n",
    "lion on a beach, abstract\n",
    "\n",
    "Some other categories include:\n",
    "- oil painting\n",
    "- pencil drawing\n",
    "- pop art\n",
    "- digital art\n",
    "- anime\n",
    "- cartoon\n",
    "- futurism\n",
    "- watercolor\n",
    "- manga\n",
    "\n",
    "\n",
    "You can also include details such as lighting or camera lens such as:\n",
    "- 35mm wide lens\n",
    "- 85mm wide lens\n",
    "\n",
    "or details about the framing:\n",
    "- portrait\n",
    "- landscape\n",
    "- close up\n",
    "\n",
    "Note that models can generate different images even if same prompt is given multiple times.\n",
    "\n",
    "So, you can generate multiple images and select the image that suits your application best.\n",
    "\n",
    "For more information on Amazon Titan Image Generator prompt engineering, see [Amazon Titan Image Generator Prompt Engineering Best Practices.](https://d2eo22ngex1n9g.cloudfront.net/Documentation/User+Guides/Titan/Amazon+Titan+Image+Generator+Prompt+Engineering+Guidelines.pdf)"
   ]
  },
  {
   "cell_type": "code",
   "execution_count": null,
   "id": "ab4f3206",
   "metadata": {},
   "outputs": [],
   "source": [
    "# Built-in libraries\n",
    "import base64\n",
    "import io\n",
    "import json\n",
    "import os\n",
    "import sys\n",
    "\n",
    "# External dependencies\n",
    "import boto3\n",
    "from PIL import Image\n",
    "import botocore\n",
    "\n",
    "boto3_bedrock = boto3.client('bedrock-runtime')"
   ]
  },
  {
   "cell_type": "markdown",
   "id": "81cfa9e6",
   "metadata": {},
   "source": [
    "\n",
    "## Text to Image\n",
    "\n",
    "In text-to-image mode, we provide a text description (prompt) of the image that should be generated.\n",
    "\n",
    "What if we want to avoid specific content or stylistic choices? Because image generation models are typically trained from image descriptions, trying to directly specify what you don't want in the prompt (e.g. man without a beard) doesn't usually work well: it would be very unusual to describe an image by what it is not!\n",
    "\n",
    "In the case of Amazon Titan Image Generator, we can specify a negative prompt to steer the model away from unwanted elements\n",
    "\n",
    "For our attempt we will use \"a photograph of an astronaut riding a horse\" and \"nsfw\""
   ]
  },
  {
   "cell_type": "code",
   "execution_count": null,
   "id": "95a4491d",
   "metadata": {},
   "outputs": [],
   "source": [
    "prompt = \"a photograph of an astronaut riding a horse\"\n",
    "negative_prompts = \"nsfw\""
   ]
  },
  {
   "cell_type": "markdown",
   "id": "a3c1d1a2",
   "metadata": {},
   "source": [
    "The Amazon Bedrock InvokeModel provides access to Amazon Titan Image Generator by setting the right model ID, and returns a JSON response including a Base64 encoded string that represents the (PNG) image.\n",
    "\n",
    "When making an InvokeModel request, we need to fill the body field with a JSON object that varies depending on the task (taskType) you wish to perform viz. text to image, image variation, inpainting or outpainting. The Amazon Titan models supports the following parameters:\n",
    "\n",
    "- cfgscale - determines how much the final image reflects the prompt\n",
    "- seed - a number used to initialize the generation, using the same seed with the same prompt + settings combination will produce the same results\n",
    "- numberOfImages - the number of times the image is sampled and produced\n",
    "- quality - determines the output image quality (standard or premium)"
   ]
  },
  {
   "cell_type": "code",
   "execution_count": null,
   "id": "5657551e",
   "metadata": {},
   "outputs": [],
   "source": [
    "# Create payload\n",
    "body = json.dumps(\n",
    "    {\n",
    "        \"taskType\": \"TEXT_IMAGE\",\n",
    "        \"textToImageParams\": {\n",
    "            \"text\": prompt,                    # Required\n",
    "            \"negativeText\": negative_prompts   # Optional\n",
    "        },\n",
    "        \"imageGenerationConfig\": {\n",
    "            \"numberOfImages\": 1,   # Range: 1 to 5 \n",
    "            \"quality\": \"standard\",  # Options: standard or premium\n",
    "            \"height\": 1024,        # Supported height list in the docs \n",
    "            \"width\": 1024,         # Supported width list in the docs\n",
    "            \"cfgScale\": 8,       # Range: 1.0 (exclusive) to 10.0\n",
    "            \"seed\": 1             # Range: 0 to 214783647\n",
    "        }\n",
    "    }\n",
    ")\n",
    "\n",
    "# Make model request\n",
    "response = boto3_bedrock.invoke_model(\n",
    "    body=body,\n",
    "    modelId=\"amazon.titan-image-generator-v2:0\",\n",
    "    accept=\"application/json\", \n",
    "    contentType=\"application/json\"\n",
    ")\n",
    "\n",
    "# Process the image\n",
    "response_body = json.loads(response.get(\"body\").read())\n",
    "img1_b64 = response_body[\"images\"][0]\n",
    "\n",
    "# Debug\n",
    "print(f\"Output: {img1_b64[0:80]}...\")"
   ]
  },
  {
   "cell_type": "markdown",
   "id": "7ac360ac",
   "metadata": {},
   "source": [
    "By decoding our image string and loading it with an image processing library like [Pillow](https://pillow.readthedocs.io/en/stable/), we can display and manipulate the image\n"
   ]
  },
  {
   "cell_type": "code",
   "execution_count": null,
   "id": "ea4e95fa",
   "metadata": {},
   "outputs": [],
   "source": [
    "img1 = Image.open(\n",
    "    io.BytesIO(\n",
    "        base64.decodebytes(\n",
    "            bytes(img1_b64, \"utf-8\")\n",
    "        )\n",
    "    )\n",
    ")\n",
    "#print(os.getcwd())\n",
    "img1.save(\"image_1.png\")\n",
    "\n",
    "# Display\n",
    "img1"
   ]
  },
  {
   "cell_type": "markdown",
   "id": "7ccdd502",
   "metadata": {},
   "source": [
    "## Modify an Image\n",
    "\n",
    "You can modify the image you just generated, this will further constrain the image generated. Let's change the prompt to **_Photograph of a astronaut riding a llama_**"
   ]
  },
  {
   "cell_type": "code",
   "execution_count": null,
   "id": "0e236363",
   "metadata": {},
   "outputs": [],
   "source": [
    "prompt = \"a photograph of an astronaut riding a llama\"\n",
    "negative_prompts = \"nsfw\""
   ]
  },
  {
   "cell_type": "markdown",
   "id": "13bd1caa",
   "metadata": {},
   "source": [
    "We will read the image file to a base64 object to pass to the model."
   ]
  },
  {
   "cell_type": "code",
   "execution_count": null,
   "id": "12fb8ddc",
   "metadata": {},
   "outputs": [],
   "source": [
    "def image_to_base64(img) -> str:\n",
    "    \"\"\"Converts a PIL Image or local image file path to a base64 string\"\"\"\n",
    "    if isinstance(img, str):\n",
    "        if os.path.isfile(img):\n",
    "            print(f\"Reading image from file: {img}\")\n",
    "            with open(img, \"rb\") as f:\n",
    "                return base64.b64encode(f.read()).decode(\"utf-8\")\n",
    "        else:\n",
    "            raise FileNotFoundError(f\"File {img} does not exist\")\n",
    "    elif isinstance(img, Image.Image):\n",
    "        buffer = io.BytesIO()\n",
    "        img.save(buffer, format=\"PNG\")\n",
    "        return base64.b64encode(buffer.getvalue()).decode(\"utf-8\")\n",
    "    else:\n",
    "        raise ValueError(f\"Expected str (filename) or PIL Image. Got {type(img)}\")\n",
    "\n",
    "img1_b64 = image_to_base64(img1)\n",
    "print(f\"Input: {img1_b64[:80]}\")"
   ]
  },
  {
   "cell_type": "markdown",
   "id": "4b1b93ae",
   "metadata": {},
   "source": [
    "Lets pass this image to the model with our prompt."
   ]
  },
  {
   "cell_type": "code",
   "execution_count": null,
   "id": "14e63f62",
   "metadata": {},
   "outputs": [],
   "source": [
    "# Payload creation\n",
    "body = json.dumps({\n",
    "     \"taskType\": \"IMAGE_VARIATION\",\n",
    "     \"imageVariationParams\": {\n",
    "         \"text\": prompt,              # Optional\n",
    "         \"negativeText\": negative_prompts,   # Optional\n",
    "         \"images\": [img1_b64],               # One image is required\n",
    "     },\n",
    "     \"imageGenerationConfig\": {\n",
    "         \"numberOfImages\": 1,\n",
    "         \"quality\": \"premium\",\n",
    "         \"height\": 1024,\n",
    "         \"width\": 1024,\n",
    "         \"cfgScale\": 8,\n",
    "         \"seed\": 1\n",
    "     }\n",
    " })\n",
    "\n",
    "# Model invocation\n",
    "response = boto3_bedrock.invoke_model(\n",
    "    body=body,\n",
    "    modelId=\"amazon.titan-image-generator-v2:0\",\n",
    "    accept=\"application/json\", \n",
    "    contentType=\"application/json\"\n",
    ")\n",
    "\n",
    "# Output processing\n",
    "response_body = json.loads(response.get(\"body\").read())\n",
    "img2_b64 = response_body[\"images\"][0]\n",
    "\n",
    "# Debug\n",
    "print(f\"Output: {img2_b64[0:80]}...\")"
   ]
  },
  {
   "cell_type": "code",
   "execution_count": null,
   "id": "c96654cc",
   "metadata": {},
   "outputs": [],
   "source": [
    "img2 = Image.open(\n",
    "    io.BytesIO(\n",
    "        base64.decodebytes(\n",
    "            bytes(img2_b64, \"utf-8\")\n",
    "        )\n",
    "    )\n",
    ")\n",
    "#print(os.getcwd())\n",
    "img2.save(\"image_2.png\")\n",
    "\n",
    "# Display\n",
    "img2"
   ]
  },
  {
   "cell_type": "markdown",
   "id": "8c8fc372",
   "metadata": {},
   "source": [
    "### Inpainting\n",
    "\n",
    "Another way to modify images is by using inpainting.\n",
    "\n",
    "Inpainting refers to the process of replacing a portion of an image with another image based on a textual prompt."
   ]
  },
  {
   "cell_type": "markdown",
   "id": "4980b11c",
   "metadata": {},
   "source": [
    "Let's define what we want to change in the image."
   ]
  },
  {
   "cell_type": "code",
   "execution_count": null,
   "id": "29a11e84",
   "metadata": {},
   "outputs": [],
   "source": [
    "prompt = \"a photograph of an astronaut riding a camel\""
   ]
  },
  {
   "cell_type": "markdown",
   "id": "0a00566f",
   "metadata": {},
   "source": [
    "Next we will pass the previous image to the model with the mask."
   ]
  },
  {
   "cell_type": "code",
   "execution_count": null,
   "id": "388116b5",
   "metadata": {},
   "outputs": [],
   "source": [
    "# Payload creation\n",
    "body = json.dumps({\n",
    "    \"taskType\": \"INPAINTING\",\n",
    "    \"inPaintingParams\": {\n",
    "        \"text\": prompt,              # Optional\n",
    "        \"negativeText\": negative_prompts,    # Optional\n",
    "        \"image\": img2_b64,      # Required\n",
    "        \"maskPrompt\": \"llama\",               # One of \"maskImage\" or \"maskPrompt\" is required\n",
    "        # \"maskImage\": image_to_base64(mask),  # Input maskImage based on the values 0 (black) or 255 (white) only\n",
    "    },                                                 \n",
    "    \"imageGenerationConfig\": {\n",
    "        \"numberOfImages\": 1,\n",
    "        \"quality\": \"premium\",\n",
    "        \"height\": 1024,\n",
    "        \"width\": 1024,\n",
    "        \"cfgScale\": 8,\n",
    "        \"seed\": 0\n",
    "    }\n",
    "})\n",
    "\n",
    "# Model invocation\n",
    "response = boto3_bedrock.invoke_model(\n",
    "    body=body,\n",
    "    modelId=\"amazon.titan-image-generator-v2:0\",\n",
    "    accept=\"application/json\", \n",
    "    contentType=\"application/json\"\n",
    ")\n",
    "\n",
    "# Output processing\n",
    "response_body = json.loads(response.get(\"body\").read())\n",
    "img3_b64 = response_body[\"images\"][0]\n",
    "print(f\"Output: {img3_b64[0:80]}...\")"
   ]
  },
  {
   "cell_type": "code",
   "execution_count": null,
   "id": "263629be",
   "metadata": {},
   "outputs": [],
   "source": [
    "inpaint = Image.open(\n",
    "    io.BytesIO(\n",
    "        base64.decodebytes(\n",
    "            bytes(img3_b64, \"utf-8\")\n",
    "        )\n",
    "    )\n",
    ")\n",
    "inpaint.save(\"image_3.png\")\n",
    "inpaint"
   ]
  },
  {
   "cell_type": "markdown",
   "id": "12083bbb",
   "metadata": {},
   "source": [
    "### Background removal\n",
    "\n",
    "Using new functionality within [Titan Image Generation V2](https://aws.amazon.com/blogs/aws/amazon-titan-image-generator-v2-is-now-available-in-amazon-bedrock/) we can also remove the background. We will use the last image we generated as input. This is very helpful if we want to place an image on a different background."
   ]
  },
  {
   "cell_type": "code",
   "execution_count": null,
   "id": "de2fcb86",
   "metadata": {},
   "outputs": [],
   "source": [
    "# Payload creation\n",
    "body = json.dumps({\n",
    "    # We use taskType to define what we want to do here\n",
    "    \"taskType\": \"BACKGROUND_REMOVAL\",\n",
    "    \"backgroundRemovalParams\": {\n",
    "        \"image\": img3_b64,      # Required\n",
    "    },                                                 \n",
    "    \"imageGenerationConfig\": {\n",
    "        \"numberOfImages\": 1,\n",
    "        \"quality\": \"premium\",\n",
    "        \"height\": 1024,\n",
    "        \"width\": 1024,\n",
    "        \"cfgScale\": 8,\n",
    "        \"seed\": 0\n",
    "    }\n",
    "})\n",
    "\n",
    "# Model invocation\n",
    "response = boto3_bedrock.invoke_model(\n",
    "    body=body,\n",
    "    modelId=\"amazon.titan-image-generator-v2:0\",\n",
    "    accept=\"application/json\", \n",
    "    contentType=\"application/json\"\n",
    ")\n",
    "\n",
    "# Output processing\n",
    "response_body = json.loads(response.get(\"body\").read())\n",
    "img4_b64 = response_body[\"images\"][0]\n",
    "print(f\"Output: {img4_b64[0:80]}...\")"
   ]
  },
  {
   "cell_type": "code",
   "execution_count": null,
   "id": "60e9cb47",
   "metadata": {},
   "outputs": [],
   "source": [
    "removebg = Image.open(\n",
    "    io.BytesIO(\n",
    "        base64.decodebytes(\n",
    "            bytes(img4_b64, \"utf-8\")\n",
    "        )\n",
    "    )\n",
    ")\n",
    "removebg.save(\"image_4.png\")\n",
    "removebg"
   ]
  },
  {
   "cell_type": "markdown",
   "id": "f99cef2f",
   "metadata": {},
   "source": [
    "### Color Guided Content\n",
    "\n",
    "Another feature of [Titan Image V2](https://aws.amazon.com/blogs/aws/amazon-titan-image-generator-v2-is-now-available-in-amazon-bedrock/) is Color guided content. This allows you to guide the model as to the colors you would like to feature. Lets recreate the image above but give the model a color pallet we want it to stick to.\n",
    "\n",
    "We will ask the model to use the following colors.\n",
    "\n",
    "<p style=\"color:#caaaaa\">Color 1 #caaaaa</p>\n",
    "<p style=\"color:#ebb663\">Color 2 #ebb663</p>\n",
    "\n",
    "\n",
    "\n"
   ]
  },
  {
   "cell_type": "code",
   "execution_count": null,
   "id": "5acc5948",
   "metadata": {},
   "outputs": [],
   "source": [
    "# Payload creation\n",
    "body = json.dumps({\n",
    "            \"taskType\": \"COLOR_GUIDED_GENERATION\",\n",
    "            \"colorGuidedGenerationParams\": {\n",
    "                # We are using the same prompt as before\n",
    "                \"text\": prompt,\n",
    "                \"negativeText\": \"bad quality, low res\",\n",
    "                \"referenceImage\": img2_b64,\n",
    "                \"colors\": [\"#caaaaa\", \"#ebb663\"]\n",
    "            },\n",
    "            \"imageGenerationConfig\": {\n",
    "                \"numberOfImages\": 1,\n",
    "                \"height\": 1024,\n",
    "                \"width\": 1024,\n",
    "                \"quality\": \"premium\"\n",
    "                \"cfgScale\": 8.0\n",
    "            }\n",
    "        })\n",
    "\n",
    "# Model invocation\n",
    "response = boto3_bedrock.invoke_model(\n",
    "    body=body,\n",
    "    modelId=\"amazon.titan-image-generator-v2:0\",\n",
    "    accept=\"application/json\", \n",
    "    contentType=\"application/json\"\n",
    ")\n",
    "\n",
    "# Output processing\n",
    "response_body = json.loads(response.get(\"body\").read())\n",
    "img5_b64 = response_body[\"images\"][0]\n",
    "print(f\"Output: {img5_b64[0:80]}...\")"
   ]
  },
  {
   "cell_type": "code",
   "execution_count": null,
   "id": "c69c2585",
   "metadata": {},
   "outputs": [],
   "source": [
    "colorgc = Image.open(\n",
    "    io.BytesIO(\n",
    "        base64.decodebytes(\n",
    "            bytes(img5_b64, \"utf-8\")\n",
    "        )\n",
    "    )\n",
    ")\n",
    "colorgc.save(\"image_5.png\")\n",
    "colorgc"
   ]
  },
  {
   "cell_type": "markdown",
   "id": "68829ce8",
   "metadata": {},
   "source": [
    "----\n",
    "# Lab 4\n",
    "# Question Answering in Bedrock\n",
    "\n",
    "Question answering (QA) is an important task that involves extracting answers to factual queries posed in natural language. Foundation Models (FMs) like Amazon Titan, Anthropic Claude, and Cohere Command are trained on vast amounts of text. From that training, they develop the probability distributions that can predict next token/word in an answer sequence when given a question.\n",
    "\n",
    "Despite how good these models have become, they are prone to **hallucination**, a phenomenon where a FMs generates false or inaccurate information. In the lab, we will experiment with different techniques to reduce hallucination and improve model response accuracy.\n",
    "\n",
    "Lets ask some questions of the Amazon Titan Model:\n",
    "- What is an Academy Award?\n",
    "- In what year was the first Academy Awards ceremony?\n",
    "- Who holds the record for the most Oscars won?\n",
    "- Who nominates oscar nominees?"
   ]
  },
  {
   "cell_type": "code",
   "execution_count": null,
   "id": "555c18f9-c2f0-465d-8909-34d2be44a4e6",
   "metadata": {},
   "outputs": [],
   "source": [
    "model_ids = [\n",
    "    \"amazon.titan-text-express-v1\",\n",
    "]"
   ]
  },
  {
   "cell_type": "code",
   "execution_count": null,
   "id": "753f7ca9-306c-4f8e-9899-891c568553f3",
   "metadata": {},
   "outputs": [],
   "source": [
    "prompt_data = \"\"\"\n",
    "You are a question and answer chatbot. Please answer the following question.\n",
    "\n",
    "{QUESTION}\n",
    "\"\"\""
   ]
  },
  {
   "cell_type": "code",
   "execution_count": null,
   "id": "4faf65b1-3582-4ff1-abbb-d22b03535fbe",
   "metadata": {},
   "outputs": [],
   "source": [
    "input_text = prompt_data.replace(\"{QUESTION}\", \"What is an Academy Award?\")\n",
    "\n",
    "for i in model_ids:\n",
    "    response = invoke_bedrock_model(bedrock_runtime, i, input_text,\n",
    "                                    max_tokens=100, temperature=0.75, top_p=0.9)\n",
    "    print(f'### Model: {i}\\n\\n {response}')\n",
    "    print(\"-----\\n\")"
   ]
  },
  {
   "cell_type": "markdown",
   "id": "728a9709",
   "metadata": {},
   "source": [
    "So far so good. Now let's try a few question where the model may not answer correctly:\n",
    "- What are the “Big Five” awards?\n",
    "- In what year did ‘Forrest Gump’ win Best Picture?\n",
    "- In what year was the first Oscar for Best Animated Feature awarded?"
   ]
  },
  {
   "cell_type": "code",
   "execution_count": null,
   "id": "cd290384-1ec3-4d97-8337-6e39d00b5f47",
   "metadata": {
    "scrolled": true
   },
   "outputs": [],
   "source": [
    "input_text = prompt_data.replace(\"{QUESTION}\", \"What are the “Big Five” awards?\")\n",
    "\n",
    "for i in model_ids:\n",
    "    response = invoke_bedrock_model(bedrock_runtime, i, input_text,\n",
    "                                    max_tokens=100, temperature=0.75, top_p=0.9)\n",
    "    print(f'### Model: {i}\\n\\n {response}')\n",
    "    print(\"-----\\n\")"
   ]
  },
  {
   "cell_type": "markdown",
   "id": "042fe4a6-2200-4df6-b3b4-a57dda16f703",
   "metadata": {},
   "source": [
    "The model hallucinated, so let's try to fix it with prompt engineering."
   ]
  },
  {
   "cell_type": "code",
   "execution_count": null,
   "id": "0695858c-b947-4827-a9e9-55726867e2ce",
   "metadata": {},
   "outputs": [],
   "source": [
    "prompt_data = \"\"\"\n",
    "You are a question and answer chatbot. Please answer the following question. Say \"I don't know\" if you are not sure.\n",
    "\n",
    "{QUESTION}\n",
    "\"\"\""
   ]
  },
  {
   "cell_type": "code",
   "execution_count": null,
   "id": "31673377-80b3-45ee-8318-3e7a6e8b0526",
   "metadata": {},
   "outputs": [],
   "source": [
    "input_text = prompt_data.replace(\"{QUESTION}\", \"What are the “Big Five” awards?\")\n",
    "\n",
    "for i in model_ids:\n",
    "    response = invoke_bedrock_model(bedrock_runtime, i, input_text,\n",
    "                                    max_tokens=100, temperature=0.75, top_p=0.9)\n",
    "    print(f'### Model: {i}\\n\\n {response}')\n",
    "    print (\"-----\\n\")"
   ]
  },
  {
   "cell_type": "markdown",
   "id": "f4564438",
   "metadata": {},
   "source": [
    "## In-Context Learning\n",
    "Now let's help the model answer this correctly.\n",
    "\n",
    "Following passage is copied from Wikipedia: [List of Big Five Academy Award winners and nominees.](https://en.wikipedia.org/wiki/List_of_Big_Five_Academy_Award_winners_and_nominees) Let's also feed this passage to Titan as context.\n",
    "\n",
    ">At the Academy Awards, the so-called \"Big Five\" awards are those for Best Picture, Best Director, Best Actor, Best Actress, and Best Screenplay (either Best Original Screenplay or Best Adapted Screenplay).[1] As of the 94th Academy Awards (2021), a total of 43 films have been nominated in all five of these award categories. Only three films have won all five of these major awards: It Happened One Night (1934), One Flew Over the Cuckoo's Nest (1975), and The Silence of the Lambs (1991). Eight films failed to win any of the five major awards after being nominated."
   ]
  },
  {
   "cell_type": "code",
   "execution_count": null,
   "id": "399a71f9-aba9-44e3-bff9-786e9ba4068e",
   "metadata": {},
   "outputs": [],
   "source": [
    "context = \"\"\"\n",
    "At the Academy Awards, the so-called \"Big Five\" awards are those for Best Picture, \n",
    "Best Director, Best Actor, Best Actress, and Best Screenplay (either Best Original \n",
    "Screenplay or Best Adapted Screenplay).[1] As of the 94th Academy Awards (2021), a \n",
    "total of 43 films have been nominated in all five of these award categories. Only \n",
    "three films have won all five of these major awards: It Happened One Night (1934), \n",
    "One Flew Over the Cuckoo's Nest (1975), and The Silence of the Lambs (1991). Eight \n",
    "films failed to win any of the five major awards after being nominated.\n",
    "\"\"\""
   ]
  },
  {
   "cell_type": "code",
   "execution_count": null,
   "id": "3a08a903",
   "metadata": {},
   "outputs": [],
   "source": [
    "prompt_data = \"\"\"\n",
    "You are a question and answer chatbot. Please answer the following question only use the context below. Say \"I don't know\" if you are not sure.\n",
    "\n",
    "{CONTEXT}\n",
    "\n",
    "{QUESTION}\n",
    "\"\"\""
   ]
  },
  {
   "cell_type": "code",
   "execution_count": null,
   "id": "fe682a16",
   "metadata": {},
   "outputs": [],
   "source": [
    "input_text = prompt_data.replace(\"{QUESTION}\", \"What are the “Big Five” awards?\")\n",
    "input_text = input_text.replace(\"{CONTEXT}\", context)\n",
    "\n",
    "for i in model_ids:\n",
    "    response = invoke_bedrock_model(bedrock_runtime, i, input_text,\n",
    "                                    max_tokens=100, temperature=0.75, top_p=0.9)\n",
    "    print(f'### Model: {i}\\n\\n {response}')\n",
    "    print (\"-----\\n\")"
   ]
  },
  {
   "cell_type": "markdown",
   "id": "46449016",
   "metadata": {},
   "source": [
    ">Thank you, you have completed this section of the workshop."
   ]
  }
 ],
 "metadata": {
  "availableInstances": [
   {
    "_defaultOrder": 0,
    "_isFastLaunch": true,
    "category": "General purpose",
    "gpuNum": 0,
    "hideHardwareSpecs": false,
    "memoryGiB": 4,
    "name": "ml.t3.medium",
    "vcpuNum": 2
   },
   {
    "_defaultOrder": 1,
    "_isFastLaunch": false,
    "category": "General purpose",
    "gpuNum": 0,
    "hideHardwareSpecs": false,
    "memoryGiB": 8,
    "name": "ml.t3.large",
    "vcpuNum": 2
   },
   {
    "_defaultOrder": 2,
    "_isFastLaunch": false,
    "category": "General purpose",
    "gpuNum": 0,
    "hideHardwareSpecs": false,
    "memoryGiB": 16,
    "name": "ml.t3.xlarge",
    "vcpuNum": 4
   },
   {
    "_defaultOrder": 3,
    "_isFastLaunch": false,
    "category": "General purpose",
    "gpuNum": 0,
    "hideHardwareSpecs": false,
    "memoryGiB": 32,
    "name": "ml.t3.2xlarge",
    "vcpuNum": 8
   },
   {
    "_defaultOrder": 4,
    "_isFastLaunch": true,
    "category": "General purpose",
    "gpuNum": 0,
    "hideHardwareSpecs": false,
    "memoryGiB": 8,
    "name": "ml.m5.large",
    "vcpuNum": 2
   },
   {
    "_defaultOrder": 5,
    "_isFastLaunch": false,
    "category": "General purpose",
    "gpuNum": 0,
    "hideHardwareSpecs": false,
    "memoryGiB": 16,
    "name": "ml.m5.xlarge",
    "vcpuNum": 4
   },
   {
    "_defaultOrder": 6,
    "_isFastLaunch": false,
    "category": "General purpose",
    "gpuNum": 0,
    "hideHardwareSpecs": false,
    "memoryGiB": 32,
    "name": "ml.m5.2xlarge",
    "vcpuNum": 8
   },
   {
    "_defaultOrder": 7,
    "_isFastLaunch": false,
    "category": "General purpose",
    "gpuNum": 0,
    "hideHardwareSpecs": false,
    "memoryGiB": 64,
    "name": "ml.m5.4xlarge",
    "vcpuNum": 16
   },
   {
    "_defaultOrder": 8,
    "_isFastLaunch": false,
    "category": "General purpose",
    "gpuNum": 0,
    "hideHardwareSpecs": false,
    "memoryGiB": 128,
    "name": "ml.m5.8xlarge",
    "vcpuNum": 32
   },
   {
    "_defaultOrder": 9,
    "_isFastLaunch": false,
    "category": "General purpose",
    "gpuNum": 0,
    "hideHardwareSpecs": false,
    "memoryGiB": 192,
    "name": "ml.m5.12xlarge",
    "vcpuNum": 48
   },
   {
    "_defaultOrder": 10,
    "_isFastLaunch": false,
    "category": "General purpose",
    "gpuNum": 0,
    "hideHardwareSpecs": false,
    "memoryGiB": 256,
    "name": "ml.m5.16xlarge",
    "vcpuNum": 64
   },
   {
    "_defaultOrder": 11,
    "_isFastLaunch": false,
    "category": "General purpose",
    "gpuNum": 0,
    "hideHardwareSpecs": false,
    "memoryGiB": 384,
    "name": "ml.m5.24xlarge",
    "vcpuNum": 96
   },
   {
    "_defaultOrder": 12,
    "_isFastLaunch": false,
    "category": "General purpose",
    "gpuNum": 0,
    "hideHardwareSpecs": false,
    "memoryGiB": 8,
    "name": "ml.m5d.large",
    "vcpuNum": 2
   },
   {
    "_defaultOrder": 13,
    "_isFastLaunch": false,
    "category": "General purpose",
    "gpuNum": 0,
    "hideHardwareSpecs": false,
    "memoryGiB": 16,
    "name": "ml.m5d.xlarge",
    "vcpuNum": 4
   },
   {
    "_defaultOrder": 14,
    "_isFastLaunch": false,
    "category": "General purpose",
    "gpuNum": 0,
    "hideHardwareSpecs": false,
    "memoryGiB": 32,
    "name": "ml.m5d.2xlarge",
    "vcpuNum": 8
   },
   {
    "_defaultOrder": 15,
    "_isFastLaunch": false,
    "category": "General purpose",
    "gpuNum": 0,
    "hideHardwareSpecs": false,
    "memoryGiB": 64,
    "name": "ml.m5d.4xlarge",
    "vcpuNum": 16
   },
   {
    "_defaultOrder": 16,
    "_isFastLaunch": false,
    "category": "General purpose",
    "gpuNum": 0,
    "hideHardwareSpecs": false,
    "memoryGiB": 128,
    "name": "ml.m5d.8xlarge",
    "vcpuNum": 32
   },
   {
    "_defaultOrder": 17,
    "_isFastLaunch": false,
    "category": "General purpose",
    "gpuNum": 0,
    "hideHardwareSpecs": false,
    "memoryGiB": 192,
    "name": "ml.m5d.12xlarge",
    "vcpuNum": 48
   },
   {
    "_defaultOrder": 18,
    "_isFastLaunch": false,
    "category": "General purpose",
    "gpuNum": 0,
    "hideHardwareSpecs": false,
    "memoryGiB": 256,
    "name": "ml.m5d.16xlarge",
    "vcpuNum": 64
   },
   {
    "_defaultOrder": 19,
    "_isFastLaunch": false,
    "category": "General purpose",
    "gpuNum": 0,
    "hideHardwareSpecs": false,
    "memoryGiB": 384,
    "name": "ml.m5d.24xlarge",
    "vcpuNum": 96
   },
   {
    "_defaultOrder": 20,
    "_isFastLaunch": false,
    "category": "General purpose",
    "gpuNum": 0,
    "hideHardwareSpecs": true,
    "memoryGiB": 0,
    "name": "ml.geospatial.interactive",
    "supportedImageNames": [
     "sagemaker-geospatial-v1-0"
    ],
    "vcpuNum": 0
   },
   {
    "_defaultOrder": 21,
    "_isFastLaunch": true,
    "category": "Compute optimized",
    "gpuNum": 0,
    "hideHardwareSpecs": false,
    "memoryGiB": 4,
    "name": "ml.c5.large",
    "vcpuNum": 2
   },
   {
    "_defaultOrder": 22,
    "_isFastLaunch": false,
    "category": "Compute optimized",
    "gpuNum": 0,
    "hideHardwareSpecs": false,
    "memoryGiB": 8,
    "name": "ml.c5.xlarge",
    "vcpuNum": 4
   },
   {
    "_defaultOrder": 23,
    "_isFastLaunch": false,
    "category": "Compute optimized",
    "gpuNum": 0,
    "hideHardwareSpecs": false,
    "memoryGiB": 16,
    "name": "ml.c5.2xlarge",
    "vcpuNum": 8
   },
   {
    "_defaultOrder": 24,
    "_isFastLaunch": false,
    "category": "Compute optimized",
    "gpuNum": 0,
    "hideHardwareSpecs": false,
    "memoryGiB": 32,
    "name": "ml.c5.4xlarge",
    "vcpuNum": 16
   },
   {
    "_defaultOrder": 25,
    "_isFastLaunch": false,
    "category": "Compute optimized",
    "gpuNum": 0,
    "hideHardwareSpecs": false,
    "memoryGiB": 72,
    "name": "ml.c5.9xlarge",
    "vcpuNum": 36
   },
   {
    "_defaultOrder": 26,
    "_isFastLaunch": false,
    "category": "Compute optimized",
    "gpuNum": 0,
    "hideHardwareSpecs": false,
    "memoryGiB": 96,
    "name": "ml.c5.12xlarge",
    "vcpuNum": 48
   },
   {
    "_defaultOrder": 27,
    "_isFastLaunch": false,
    "category": "Compute optimized",
    "gpuNum": 0,
    "hideHardwareSpecs": false,
    "memoryGiB": 144,
    "name": "ml.c5.18xlarge",
    "vcpuNum": 72
   },
   {
    "_defaultOrder": 28,
    "_isFastLaunch": false,
    "category": "Compute optimized",
    "gpuNum": 0,
    "hideHardwareSpecs": false,
    "memoryGiB": 192,
    "name": "ml.c5.24xlarge",
    "vcpuNum": 96
   },
   {
    "_defaultOrder": 29,
    "_isFastLaunch": true,
    "category": "Accelerated computing",
    "gpuNum": 1,
    "hideHardwareSpecs": false,
    "memoryGiB": 16,
    "name": "ml.g4dn.xlarge",
    "vcpuNum": 4
   },
   {
    "_defaultOrder": 30,
    "_isFastLaunch": false,
    "category": "Accelerated computing",
    "gpuNum": 1,
    "hideHardwareSpecs": false,
    "memoryGiB": 32,
    "name": "ml.g4dn.2xlarge",
    "vcpuNum": 8
   },
   {
    "_defaultOrder": 31,
    "_isFastLaunch": false,
    "category": "Accelerated computing",
    "gpuNum": 1,
    "hideHardwareSpecs": false,
    "memoryGiB": 64,
    "name": "ml.g4dn.4xlarge",
    "vcpuNum": 16
   },
   {
    "_defaultOrder": 32,
    "_isFastLaunch": false,
    "category": "Accelerated computing",
    "gpuNum": 1,
    "hideHardwareSpecs": false,
    "memoryGiB": 128,
    "name": "ml.g4dn.8xlarge",
    "vcpuNum": 32
   },
   {
    "_defaultOrder": 33,
    "_isFastLaunch": false,
    "category": "Accelerated computing",
    "gpuNum": 4,
    "hideHardwareSpecs": false,
    "memoryGiB": 192,
    "name": "ml.g4dn.12xlarge",
    "vcpuNum": 48
   },
   {
    "_defaultOrder": 34,
    "_isFastLaunch": false,
    "category": "Accelerated computing",
    "gpuNum": 1,
    "hideHardwareSpecs": false,
    "memoryGiB": 256,
    "name": "ml.g4dn.16xlarge",
    "vcpuNum": 64
   },
   {
    "_defaultOrder": 35,
    "_isFastLaunch": false,
    "category": "Accelerated computing",
    "gpuNum": 1,
    "hideHardwareSpecs": false,
    "memoryGiB": 61,
    "name": "ml.p3.2xlarge",
    "vcpuNum": 8
   },
   {
    "_defaultOrder": 36,
    "_isFastLaunch": false,
    "category": "Accelerated computing",
    "gpuNum": 4,
    "hideHardwareSpecs": false,
    "memoryGiB": 244,
    "name": "ml.p3.8xlarge",
    "vcpuNum": 32
   },
   {
    "_defaultOrder": 37,
    "_isFastLaunch": false,
    "category": "Accelerated computing",
    "gpuNum": 8,
    "hideHardwareSpecs": false,
    "memoryGiB": 488,
    "name": "ml.p3.16xlarge",
    "vcpuNum": 64
   },
   {
    "_defaultOrder": 38,
    "_isFastLaunch": false,
    "category": "Accelerated computing",
    "gpuNum": 8,
    "hideHardwareSpecs": false,
    "memoryGiB": 768,
    "name": "ml.p3dn.24xlarge",
    "vcpuNum": 96
   },
   {
    "_defaultOrder": 39,
    "_isFastLaunch": false,
    "category": "Memory Optimized",
    "gpuNum": 0,
    "hideHardwareSpecs": false,
    "memoryGiB": 16,
    "name": "ml.r5.large",
    "vcpuNum": 2
   },
   {
    "_defaultOrder": 40,
    "_isFastLaunch": false,
    "category": "Memory Optimized",
    "gpuNum": 0,
    "hideHardwareSpecs": false,
    "memoryGiB": 32,
    "name": "ml.r5.xlarge",
    "vcpuNum": 4
   },
   {
    "_defaultOrder": 41,
    "_isFastLaunch": false,
    "category": "Memory Optimized",
    "gpuNum": 0,
    "hideHardwareSpecs": false,
    "memoryGiB": 64,
    "name": "ml.r5.2xlarge",
    "vcpuNum": 8
   },
   {
    "_defaultOrder": 42,
    "_isFastLaunch": false,
    "category": "Memory Optimized",
    "gpuNum": 0,
    "hideHardwareSpecs": false,
    "memoryGiB": 128,
    "name": "ml.r5.4xlarge",
    "vcpuNum": 16
   },
   {
    "_defaultOrder": 43,
    "_isFastLaunch": false,
    "category": "Memory Optimized",
    "gpuNum": 0,
    "hideHardwareSpecs": false,
    "memoryGiB": 256,
    "name": "ml.r5.8xlarge",
    "vcpuNum": 32
   },
   {
    "_defaultOrder": 44,
    "_isFastLaunch": false,
    "category": "Memory Optimized",
    "gpuNum": 0,
    "hideHardwareSpecs": false,
    "memoryGiB": 384,
    "name": "ml.r5.12xlarge",
    "vcpuNum": 48
   },
   {
    "_defaultOrder": 45,
    "_isFastLaunch": false,
    "category": "Memory Optimized",
    "gpuNum": 0,
    "hideHardwareSpecs": false,
    "memoryGiB": 512,
    "name": "ml.r5.16xlarge",
    "vcpuNum": 64
   },
   {
    "_defaultOrder": 46,
    "_isFastLaunch": false,
    "category": "Memory Optimized",
    "gpuNum": 0,
    "hideHardwareSpecs": false,
    "memoryGiB": 768,
    "name": "ml.r5.24xlarge",
    "vcpuNum": 96
   },
   {
    "_defaultOrder": 47,
    "_isFastLaunch": false,
    "category": "Accelerated computing",
    "gpuNum": 1,
    "hideHardwareSpecs": false,
    "memoryGiB": 16,
    "name": "ml.g5.xlarge",
    "vcpuNum": 4
   },
   {
    "_defaultOrder": 48,
    "_isFastLaunch": false,
    "category": "Accelerated computing",
    "gpuNum": 1,
    "hideHardwareSpecs": false,
    "memoryGiB": 32,
    "name": "ml.g5.2xlarge",
    "vcpuNum": 8
   },
   {
    "_defaultOrder": 49,
    "_isFastLaunch": false,
    "category": "Accelerated computing",
    "gpuNum": 1,
    "hideHardwareSpecs": false,
    "memoryGiB": 64,
    "name": "ml.g5.4xlarge",
    "vcpuNum": 16
   },
   {
    "_defaultOrder": 50,
    "_isFastLaunch": false,
    "category": "Accelerated computing",
    "gpuNum": 1,
    "hideHardwareSpecs": false,
    "memoryGiB": 128,
    "name": "ml.g5.8xlarge",
    "vcpuNum": 32
   },
   {
    "_defaultOrder": 51,
    "_isFastLaunch": false,
    "category": "Accelerated computing",
    "gpuNum": 1,
    "hideHardwareSpecs": false,
    "memoryGiB": 256,
    "name": "ml.g5.16xlarge",
    "vcpuNum": 64
   },
   {
    "_defaultOrder": 52,
    "_isFastLaunch": false,
    "category": "Accelerated computing",
    "gpuNum": 4,
    "hideHardwareSpecs": false,
    "memoryGiB": 192,
    "name": "ml.g5.12xlarge",
    "vcpuNum": 48
   },
   {
    "_defaultOrder": 53,
    "_isFastLaunch": false,
    "category": "Accelerated computing",
    "gpuNum": 4,
    "hideHardwareSpecs": false,
    "memoryGiB": 384,
    "name": "ml.g5.24xlarge",
    "vcpuNum": 96
   },
   {
    "_defaultOrder": 54,
    "_isFastLaunch": false,
    "category": "Accelerated computing",
    "gpuNum": 8,
    "hideHardwareSpecs": false,
    "memoryGiB": 768,
    "name": "ml.g5.48xlarge",
    "vcpuNum": 192
   },
   {
    "_defaultOrder": 55,
    "_isFastLaunch": false,
    "category": "Accelerated computing",
    "gpuNum": 8,
    "hideHardwareSpecs": false,
    "memoryGiB": 1152,
    "name": "ml.p4d.24xlarge",
    "vcpuNum": 96
   },
   {
    "_defaultOrder": 56,
    "_isFastLaunch": false,
    "category": "Accelerated computing",
    "gpuNum": 8,
    "hideHardwareSpecs": false,
    "memoryGiB": 1152,
    "name": "ml.p4de.24xlarge",
    "vcpuNum": 96
   },
   {
    "_defaultOrder": 57,
    "_isFastLaunch": false,
    "category": "Accelerated computing",
    "gpuNum": 0,
    "hideHardwareSpecs": false,
    "memoryGiB": 32,
    "name": "ml.trn1.2xlarge",
    "vcpuNum": 8
   },
   {
    "_defaultOrder": 58,
    "_isFastLaunch": false,
    "category": "Accelerated computing",
    "gpuNum": 0,
    "hideHardwareSpecs": false,
    "memoryGiB": 512,
    "name": "ml.trn1.32xlarge",
    "vcpuNum": 128
   },
   {
    "_defaultOrder": 59,
    "_isFastLaunch": false,
    "category": "Accelerated computing",
    "gpuNum": 0,
    "hideHardwareSpecs": false,
    "memoryGiB": 512,
    "name": "ml.trn1n.32xlarge",
    "vcpuNum": 128
   }
  ],
  "instance_type": "ml.t3.medium",
  "kernelspec": {
   "display_name": "Python 3 (ipykernel)",
   "language": "python",
   "name": "python3"
  },
  "language_info": {
   "codemirror_mode": {
    "name": "ipython",
    "version": 3
   },
   "file_extension": ".py",
   "mimetype": "text/x-python",
   "name": "python",
   "nbconvert_exporter": "python",
   "pygments_lexer": "ipython3",
   "version": "3.10.14"
  }
 },
 "nbformat": 4,
 "nbformat_minor": 5
}
