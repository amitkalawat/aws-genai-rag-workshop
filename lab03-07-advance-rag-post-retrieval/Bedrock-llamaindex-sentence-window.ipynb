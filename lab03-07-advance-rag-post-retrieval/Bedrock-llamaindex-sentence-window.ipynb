{
 "cells": [
  {
   "cell_type": "markdown",
   "id": "673df1fe-eb6c-46ea-9a73-a96e7ae7942e",
   "metadata": {},
   "source": [
    "# RAG Retrieval Optimization - Sentence Window Parsing technique with Amazon Bedrock and Llamaindex\n",
    "\n",
    "Sentence window is another technique that enhances the retrieval process by focusing on individual sentences while providing surrounding context. In this approach, documents are parsed into single sentences, each with a \"window\" of surrounding sentences. During retrieval, the system finds the most relevant individual sentences. However, instead of using only these single sentences, it replaces them with their corresponding windows, which include a specified number of sentences before and after the retrieved sentence. This method allows for more fine-grained retrieval of specific information while still providing necessary context, potentially improving the relevance and coherence of the generated responses.\n",
    "\n",
    "In this lab, we demonstrated how to use sentence window technique for post-retrieval with LlamaIndex. Specifically, we employed the SentenceWindowNodeParser module to splits Amazon's SEC filing documents into individual sentences, creating a node for each sentence while also including a configurable \"window\" of surrounding sentences in the node's metadata. We can then use the MetadataReplacementPostProcessor module to retrieve the sentence along with associated 'window' metadata to improve the context for final response generation.\n",
    "\n",
    "Here are the components we used:Here are the components we used:\n",
    "\n",
    "- Vector Database (Faiss / local)\n",
    "- LLM (Amazon Bedrock - Amazon Nova Pro)\n",
    "- Embeddings Model (Bedrock Titan Text Embeddings v2.0)\n",
    "- Datasets ( Amazons 10-k sec filings from year 2022 and 2023 )\n",
    "- Llamaindex SentenceWindowNodeParser (This example is built on referece llamaindex documentation available at - https://docs.llamaindex.ai/en/stable/examples/node_postprocessor/MetadataReplacementDemo/)\n"
   ]
  },
  {
   "cell_type": "markdown",
   "id": "464b159c",
   "metadata": {},
   "source": [
    "Small to Large Retrieval (Reference - https://docs.llamaindex.ai/en/stable/optimizing/production_rag/)\n",
    "\n",
    "![alt text](sentence-window.png)"
   ]
  },
  {
   "cell_type": "markdown",
   "id": "fca61618-2ce2-4001-aac4-ff026d8e544a",
   "metadata": {},
   "source": [
    "## Pre-req\n",
    "You must run the `[workshop_setup.ipynb]`(../lab00-setup/workshop_setup.ipynb) notebook in `lab00-setup` before starting this lab."
   ]
  },
  {
   "cell_type": "code",
   "execution_count": 1,
   "id": "e4c658ca-951f-43d3-9199-73f395957d53",
   "metadata": {},
   "outputs": [
    {
     "name": "stderr",
     "output_type": "stream",
     "text": [
      "/tmp/ipykernel_2997/952814476.py:2: UserWarning: Warning: if you did not run lab00-setup, please go back and run the lab00 notebook\n",
      "  warnings.warn(\"Warning: if you did not run lab00-setup, please go back and run the lab00 notebook\")\n"
     ]
    }
   ],
   "source": [
    "import warnings\n",
    "warnings.warn(\"Warning: if you did not run lab00-setup, please go back and run the lab00 notebook\") "
   ]
  },
  {
   "cell_type": "markdown",
   "id": "ff000c3a",
   "metadata": {},
   "source": [
    "### > Setup\n",
    "We start by importing necessary llamaindex libraries"
   ]
  },
  {
   "cell_type": "code",
   "execution_count": 2,
   "id": "ffebb89a-58e0-4fa0-ba8c-fdceb8f09d0d",
   "metadata": {
    "tags": []
   },
   "outputs": [],
   "source": [
    "from llama_index.core import VectorStoreIndex, SimpleDirectoryReader\n",
    "from llama_index.core.tools import QueryEngineTool, ToolMetadata\n",
    "from llama_index.core.query_engine import SubQuestionQueryEngine\n",
    "from llama_index.core.callbacks import CallbackManager, LlamaDebugHandler\n",
    "from llama_index.core import Settings\n",
    "from IPython.display import Markdown, display, HTML\n",
    "from termcolor import colored"
   ]
  },
  {
   "cell_type": "code",
   "execution_count": null,
   "id": "710f584f",
   "metadata": {},
   "outputs": [],
   "source": [
    "import os\n",
    "from pathlib import Path\n",
    "\n",
    "# Define the config content\n",
    "config_content = \"\"\"[profile default]\n",
    "region = us-west-2\n",
    "output = json\n",
    "\"\"\"\n",
    "\n",
    "# Get the path to the .aws directory and config file\n",
    "home_dir = \"/home/sagemaker-user\"  # SageMaker specific path\n",
    "aws_dir = os.path.join(home_dir, \".aws\")\n",
    "config_path = os.path.join(aws_dir, \"config\")\n",
    "\n",
    "# Check if config file already exists\n",
    "if os.path.exists(config_path):\n",
    "    print(f\"AWS config file already exists at {config_path}. No changes made.\")\n",
    "else:\n",
    "    # Create the .aws directory if it doesn't exist\n",
    "    os.makedirs(aws_dir, exist_ok=True)\n",
    "    \n",
    "    # Create the config file with the content\n",
    "    with open(config_path, \"w\") as f:\n",
    "        f.write(config_content + \"\\n\")\n",
    "    \n",
    "    print(f\"Created directory {aws_dir} and created AWS config file at {config_path}\")"
   ]
  },
  {
   "cell_type": "markdown",
   "id": "99781aad",
   "metadata": {},
   "source": [
    "We select Amazon Nova Pro as our LLM. For embedding model, we are selecting Amazon Titan Text Embed v2.0. \n",
    "Note that we are using Llamaindex's SentenceWindowNodeParser."
   ]
  },
  {
   "cell_type": "code",
   "execution_count": 3,
   "id": "9d47283b-025e-4874-88ed-76245b22f82e",
   "metadata": {
    "tags": []
   },
   "outputs": [],
   "source": [
    "import json\n",
    "from typing import Sequence, List\n",
    "from llama_index.core.settings import Settings\n",
    "from llama_index.llms.bedrock_converse import BedrockConverse\n",
    "from llama_index.embeddings.bedrock import BedrockEmbedding, Models\n",
    "from llama_index.core.node_parser import SentenceWindowNodeParser\n",
    "from llama_index.core.node_parser import SentenceSplitter\n",
    "\n",
    "from llama_index.core.llms import ChatMessage\n",
    "from llama_index.core.tools import BaseTool, FunctionTool\n",
    "import nest_asyncio\n",
    "\n",
    "# create the sentence window node parser w/ default settings\n",
    "node_parser = SentenceWindowNodeParser.from_defaults(\n",
    "    window_size=3,\n",
    "    window_metadata_key=\"window\",\n",
    "    original_text_metadata_key=\"original_text\",\n",
    ")\n",
    "\n",
    "# base node parser is a sentence splitter\n",
    "text_splitter = SentenceSplitter()\n",
    "\n",
    "profile_name = \"default\"\n",
    "\n",
    "# define the LLM\n",
    "llm = BedrockConverse(\n",
    "    model=\"us.amazon.nova-pro-v1:0\",\n",
    "    profile_name=profile_name,\n",
    ")\n",
    "\n",
    "embed_model = BedrockEmbedding(model = \"amazon.titan-embed-text-v2:0\")\n",
    "\n",
    "Settings.llm = llm\n",
    "Settings.embed_model = embed_model\n",
    "Settings.chunk_size = 256\n",
    "Settings.text_splitter = text_splitter\n",
    "\n",
    "nest_asyncio.apply()"
   ]
  },
  {
   "cell_type": "markdown",
   "id": "4bf99898",
   "metadata": {},
   "source": [
    "### > Document Ingestion\n",
    "We ingest and index the data stored in data directory. The amazon folder has SEC-10k files from 2022 and 2023."
   ]
  },
  {
   "cell_type": "code",
   "execution_count": 4,
   "id": "156cf76d-0358-4a8a-8803-a09a99d93763",
   "metadata": {
    "tags": []
   },
   "outputs": [],
   "source": [
    "# load data\n",
    "amazon_secfiles = SimpleDirectoryReader(input_dir=\"../data/lab03/amazon/\").load_data()"
   ]
  },
  {
   "cell_type": "markdown",
   "id": "02f9fff6-4972-4ae8-a306-e1c9c6d83135",
   "metadata": {},
   "source": [
    "### > Build a vector databases\n",
    "\n",
    "We want to demonstrate quality of the generation with and without Sentence Window.\n",
    "To do that, we will first create a normal index to show Naive RAG, then use `node_parser`\n",
    "to add the expand window."
   ]
  },
  {
   "cell_type": "markdown",
   "id": "2ae35b40-13c5-499e-b2d4-20a21a514db0",
   "metadata": {},
   "source": [
    "**Without** sentence window"
   ]
  },
  {
   "cell_type": "code",
   "execution_count": 5,
   "id": "9349ddab-941a-47ac-83ca-4fa22e66dd60",
   "metadata": {},
   "outputs": [],
   "source": [
    "base_nodes = text_splitter.get_nodes_from_documents(amazon_secfiles)"
   ]
  },
  {
   "cell_type": "code",
   "execution_count": 6,
   "id": "a9854d10-d8f8-4a78-a38b-11bba41baca0",
   "metadata": {},
   "outputs": [],
   "source": [
    "base_index = VectorStoreIndex(base_nodes)"
   ]
  },
  {
   "cell_type": "markdown",
   "id": "5e2809e7",
   "metadata": {},
   "source": [
    "**With SentenceWindowNodeParse** from above\n",
    "\n",
    "This may take up to 5 minutes to prepare the index"
   ]
  },
  {
   "cell_type": "code",
   "execution_count": 7,
   "id": "143f1449-f3e3-47a0-b763-a8baf3ae8e03",
   "metadata": {
    "tags": []
   },
   "outputs": [],
   "source": [
    "nodes = node_parser.get_nodes_from_documents(amazon_secfiles)\n",
    "\n",
    "sentence_window_index = VectorStoreIndex(nodes)"
   ]
  },
  {
   "cell_type": "markdown",
   "id": "817dfa56-bd36-42ef-803e-bfb7ef391a81",
   "metadata": {},
   "source": [
    "### Test Using Naive RAG"
   ]
  },
  {
   "cell_type": "code",
   "execution_count": 8,
   "id": "d0e946ce-0d86-4df8-9294-05065180ee2c",
   "metadata": {},
   "outputs": [],
   "source": [
    "query = \"Whats Amazons ownership stake in Rivian?\""
   ]
  },
  {
   "cell_type": "code",
   "execution_count": 9,
   "id": "0e8a05aa-f79d-49fd-b999-90a201ec9916",
   "metadata": {},
   "outputs": [
    {
     "name": "stdout",
     "output_type": "stream",
     "text": [
      "\u001b[32mAmazon's equity investment in Rivian had a fair value of $15.6 billion as of December 31, 2021, and $2.9 billion as of December 31, 2022. However, the specific ownership percentage is not provided in the context.\u001b[0m\n"
     ]
    }
   ],
   "source": [
    "query_engine = base_index.as_query_engine(similarity_top_k=2)\n",
    "naive_response = query_engine.query(query)\n",
    "\n",
    "print(colored(naive_response, \"green\"))"
   ]
  },
  {
   "cell_type": "markdown",
   "id": "52a60457-ffbb-43c2-a987-fde93f4a5a9f",
   "metadata": {},
   "source": [
    "### > Test RAG Using Sentence Window"
   ]
  },
  {
   "cell_type": "code",
   "execution_count": 10,
   "id": "a22ffd0a-8f1c-43ec-9a18-4f960140027b",
   "metadata": {},
   "outputs": [
    {
     "name": "stdout",
     "output_type": "stream",
     "text": [
      "\u001b[32mAmazon holds an approximate 16% ownership interest in Rivian.\u001b[0m\n"
     ]
    }
   ],
   "source": [
    "from llama_index.core.postprocessor import MetadataReplacementPostProcessor\n",
    "\n",
    "query_engine = sentence_window_index.as_query_engine(\n",
    "    similarity_top_k=2,\n",
    "    # the target key defaults to `window` to match the node_parser's default\n",
    "    node_postprocessors=[\n",
    "        MetadataReplacementPostProcessor(target_metadata_key=\"window\")\n",
    "    ],\n",
    ")\n",
    "sentence_window_response = query_engine.query(query)\n",
    "\n",
    "print(colored(sentence_window_response, \"green\"))"
   ]
  },
  {
   "cell_type": "markdown",
   "id": "ce3281f5",
   "metadata": {},
   "source": [
    "### > Display the results side-by-side \n",
    "\n",
    "Notice the answer with sentence widow is more accurate and more relevant."
   ]
  },
  {
   "cell_type": "code",
   "execution_count": 11,
   "id": "aa24bb0e-d36b-4dfe-8f17-9058b06fae4c",
   "metadata": {
    "tags": []
   },
   "outputs": [
    {
     "data": {
      "text/html": [
       "<style type=\"text/css\">\n",
       "</style>\n",
       "<table id=\"T_bda35\">\n",
       "  <thead>\n",
       "    <tr>\n",
       "      <th id=\"T_bda35_level0_col0\" class=\"col_heading level0 col0\" >Sentence Window</th>\n",
       "      <th id=\"T_bda35_level0_col1\" class=\"col_heading level0 col1\" >Naive RAG</th>\n",
       "    </tr>\n",
       "  </thead>\n",
       "  <tbody>\n",
       "    <tr>\n",
       "      <td id=\"T_bda35_row0_col0\" class=\"data row0 col0\" >Whats Amazons ownership stake in Rivian?</td>\n",
       "      <td id=\"T_bda35_row0_col1\" class=\"data row0 col1\" >Whats Amazons ownership stake in Rivian?</td>\n",
       "    </tr>\n",
       "    <tr>\n",
       "      <td id=\"T_bda35_row1_col0\" class=\"data row1 col0\" >Amazon holds an approximate 16% ownership interest in Rivian.</td>\n",
       "      <td id=\"T_bda35_row1_col1\" class=\"data row1 col1\" >Amazon's equity investment in Rivian had a fair value of $15.6 billion as of December 31, 2021, and $2.9 billion as of December 31, 2022. However, the specific ownership percentage is not provided in the context.</td>\n",
       "    </tr>\n",
       "  </tbody>\n",
       "</table>\n"
      ],
      "text/plain": [
       "<IPython.core.display.HTML object>"
      ]
     },
     "metadata": {},
     "output_type": "display_data"
    }
   ],
   "source": [
    "import pandas as pd\n",
    "\n",
    "# Create the first table\n",
    "df = pd.DataFrame({\n",
    "    'Sentence Window': [query, sentence_window_response],\n",
    "    'Naive RAG': [query, naive_response]\n",
    "})\n",
    "\n",
    "output=\"\"\n",
    "output += df.style.hide()._repr_html_()\n",
    "# output += \"&nbsp;\"\n",
    "\n",
    "display(HTML(output))"
   ]
  },
  {
   "cell_type": "markdown",
   "id": "48f62852",
   "metadata": {},
   "source": [
    "### > Reivew the Sentence and Window\n",
    "\n",
    "Let's take a look at the senteces and their corresponding window used as the context"
   ]
  },
  {
   "cell_type": "code",
   "execution_count": 12,
   "id": "a924921f-1f14-417e-83ab-1f0d10cd7dd2",
   "metadata": {
    "scrolled": true,
    "tags": []
   },
   "outputs": [
    {
     "name": "stdout",
     "output_type": "stream",
     "text": [
      "\u001b[32m\n",
      "Sentence: \n",
      "\u001b[0m\n",
      "We determined that we have the ability to exercise significant influence over Rivian through our\n",
      "equity investment, our commercial arrangement for the purchase of electric vehicles and jointly-owned intellectual property, and one of our employees serving\n",
      "on Rivian’s board of directors. \n",
      "\u001b[32m\n",
      "Window: \n",
      "\u001b[0m\n",
      "(“Rivian”).  Our investment in Rivian’s preferred stock was accounted for at cost, with adjustments for\n",
      "observable changes in prices or impairments, prior to Rivian’s initial public offering in November 2021, which resulted in the conversion of our preferred stock\n",
      "to Class A common stock.  As of December 31, 2023, we held 158 million shares of Rivian’s Class A common stock, representing an approximate 16%\n",
      "ownership interest, and an approximate 15% voting interest.  We determined that we have the ability to exercise significant influence over Rivian through our\n",
      "equity investment, our commercial arrangement for the purchase of electric vehicles and jointly-owned intellectual property, and one of our employees serving\n",
      "on Rivian’s board of directors.  We elected the fair value option to account for our equity investment in Rivian, which is included in “Marketable securities” on\n",
      "our consolidated balance sheets, and had a fair value of $2.9 billion and $3.7 billion as of December 31, 2022 and December 31, 2023.  The investment was\n",
      "subject to regulatory sales restrictions resulting in a discount for lack of marketability of approximately $800 million as of December 31, 2021, which expired\n",
      "in Q1 2022.\n",
      " Required summarized financial information of Rivian as disclosed in its most recent SEC filings is as follows (in millions):\n",
      "Year Ended\n",
      "December 31, 2021\n",
      "Year Ended\n",
      "December 31, 2022\n",
      "Nine Months Ended\n",
      "September 30, 2023\n",
      "Revenues $ 55 $ 1,658 $ 3,119 \n",
      "Gross profit (465) (3,123) (1,424)\n",
      "Loss from operations (4,220) (6,856) (4,158)\n",
      "Net loss (4,688) (6,752) (3,911)\n",
      "December 31, 2022 September 30, 2023\n",
      "Total current assets $ 13,130 $ 12,086 \n",
      "Total assets 17,876 16,456 \n",
      "Total current liabilities 2,424 2,624 \n",
      "Total liabilities 4,077 5,904 \n",
      "Income Taxes\n",
      "Income tax expense includes U.S. \n",
      "\u001b[32m\n",
      "-------------------\n",
      "\u001b[0m\n",
      "\u001b[32m\n",
      "Sentence: \n",
      "\u001b[0m\n",
      "We determined that we have the ability to exercise significant influence over Rivian through our\n",
      "equity investment, our commercial arrangement for the purchase of electric vehicles, and one of our employees serving on Rivian’s board of directors. \n",
      "\u001b[32m\n",
      "Window: \n",
      "\u001b[0m\n",
      "(“Rivian”).  Our investment in Rivian’s preferred stock was accounted for at cost, with adjustments for\n",
      "observable changes in prices or impairments, prior to Rivian’s initial public offering in November 2021, which resulted in the conversion of our preferred stock\n",
      "to Class A common stock.  As of December 31, 2022, we held 158 million shares of Rivian’s Class A common stock, representing an approximate 17%\n",
      "ownership interest, and an approximate 16% voting interest.  We determined that we have the ability to exercise significant influence over Rivian through our\n",
      "equity investment, our commercial arrangement for the purchase of electric vehicles, and one of our employees serving on Rivian’s board of directors.  We\n",
      "elected the fair value option to account for our equity investment in Rivian, which is included in “Marketable securities” on our consolidated balance sheets.\n",
      " Required summarized financial information of Rivian as disclosed in its most recent SEC filings is as follows (in millions):\n",
      "Year Ended\n",
      "December 31, 2020\n",
      "Year Ended\n",
      "December 31, 2021\n",
      "Nine Months Ended\n",
      "September 30, 2022\n",
      "Revenues $ — $ 55 $ 995 \n",
      "Gross profit — (465) (2,123)\n",
      "Loss from operations (1,021) (4,220) (5,061)\n",
      "Net loss (1,018) (4,688) (5,029)\n",
      "December 31, 2021 September 30, 2022\n",
      "Total current assets $ 18,559 $ 14,424 \n",
      "Total assets 22,294 19,023 \n",
      "Total current liabilities 1,313 2,109 \n",
      "Total liabilities 2,780 3,686 \n",
      "Income Taxes\n",
      "Income tax expense includes U.S.  (federal and state) and foreign income taxes. \n",
      "\u001b[32m\n",
      "-------------------\n",
      "\u001b[0m\n"
     ]
    }
   ],
   "source": [
    "for source_node in sentence_window_response.source_nodes:\n",
    "    \n",
    "    print(colored(\"\\nSentence: \\n\", \"green\"))\n",
    "\n",
    "    print(source_node.node.metadata[\"original_text\"])\n",
    "    \n",
    "    print(colored(\"\\nWindow: \\n\", \"green\"))\n",
    "    print(source_node.node.metadata[\"window\"])\n",
    "\n",
    "    print(colored(\"\\n-------------------\\n\", \"green\"))"
   ]
  },
  {
   "cell_type": "code",
   "execution_count": null,
   "id": "9782bc02-0318-4f17-a8bc-4e8f69f4c725",
   "metadata": {},
   "outputs": [],
   "source": []
  },
  {
   "cell_type": "code",
   "execution_count": null,
   "id": "b9e8bc43-3524-4d79-a05f-d45b62ed7b33",
   "metadata": {},
   "outputs": [],
   "source": []
  }
 ],
 "metadata": {
  "kernelspec": {
   "display_name": "Python 3 (ipykernel)",
   "language": "python",
   "name": "python3"
  },
  "language_info": {
   "codemirror_mode": {
    "name": "ipython",
    "version": 3
   },
   "file_extension": ".py",
   "mimetype": "text/x-python",
   "name": "python",
   "nbconvert_exporter": "python",
   "pygments_lexer": "ipython3",
   "version": "3.11.11"
  }
 },
 "nbformat": 4,
 "nbformat_minor": 5
}
