{
 "cells": [
  {
   "cell_type": "markdown",
   "id": "15c08f81",
   "metadata": {},
   "source": [
    "# Re-ranking\n",
    "\n",
    "Amazon Bedrock provides access to reranker models that you can use when querying to improve the relevance of the retrieved results.  reranker model calculates the relevance of chunks to a query and reorders the results based on the scores that it calculates. By using a reranker model, you can return responses that are better suited to answering the query. \n",
    "\n",
    "Reranker models are trained to identify relevance signals based on a query and then use those signals to rank documents. Because of this, the models can provide more relevant, more accurate results.\n",
    "\n",
    "If you're using `Amazon Bedrock Knowledge Bases` for building your Retrieval Augmented Generation (RAG) application, use a reranker model while calling the `Retrieve` or `RetrieveAndGenerate operation`. The results from reranking override the default ranking that Amazon Bedrock Knowledge Bases determines.\n",
    "\n",
    "This notebook demonstrates the use of **reranking model** with Amazon Bedrock Knowledge Bases, through the Rerank API which will help to further improve the accuracy and relevance of RAG applications. With a reranker model, you can retrieve fewer, but more relevant, results. By feeding these results to the foundation model that you use to generate a response, you can also decrease cost and latency.\n",
    "\n",
    "Let's explore how to implement and utilize reranking models with Amazon Bedrock Knowledge Bases for an example use case."
   ]
  },
  {
   "cell_type": "markdown",
   "id": "ee8948ad-70b5-43b5-b4e4-5f68c4946893",
   "metadata": {},
   "source": [
    "## Pre-req\n",
    "You must run the `[workshop_setup.ipynb]`(../lab00-setup/workshop_setup.ipynb) notebook in `lab00-setup` before starting this lab."
   ]
  },
  {
   "cell_type": "code",
   "execution_count": null,
   "id": "0d970a79-9c30-4198-a3bb-be1f9b13975e",
   "metadata": {},
   "outputs": [],
   "source": [
    "import warnings\n",
    "warnings.warn(\"Warning: if you did not run lab00-setup, please go back and run the lab00 notebook\") "
   ]
  },
  {
   "cell_type": "markdown",
   "id": "ece99ba7",
   "metadata": {},
   "source": [
    "### Load the parameters"
   ]
  },
  {
   "cell_type": "code",
   "execution_count": null,
   "id": "7173b4bf",
   "metadata": {},
   "outputs": [],
   "source": [
    "print(\"load the data parameters....\\n\")\n",
    "# bucket and parameter stored from Initial setup lab01\n",
    "%store -r root_dir\n",
    "%store -r jsonl_files\n",
    "%store -r bucket\n",
    "%store -r amzn10k_prefix\n",
    "%store -r amzn10k_s3_path\n",
    "\n",
    "## check all 5 values are printed and do not fail\n",
    "print(root_dir)\n",
    "print(jsonl_files)\n",
    "print(bucket)\n",
    "print(amzn10k_prefix)\n",
    "print(amzn10k_s3_path)\n",
    "\n",
    "print(\"\\nload the vector db parameters....\\n\")\n",
    "\n",
    "# vector parameters stored from Initial setup\n",
    "%store -r vector_host\n",
    "%store -r vector_collection_arn\n",
    "%store -r vector_collection_id\n",
    "%store -r bedrock_kb_execution_role_arn\n",
    "\n",
    "## check all 4 values are printed and do not fail\n",
    "print(vector_host)\n",
    "print(vector_collection_arn)\n",
    "print(vector_collection_id)\n",
    "print(bedrock_kb_execution_role_arn)"
   ]
  },
  {
   "cell_type": "markdown",
   "id": "f134cd9d-ef17-4548-b8b7-d3bad15a18a9",
   "metadata": {},
   "source": [
    "### Initialize other parameters"
   ]
  },
  {
   "cell_type": "code",
   "execution_count": null,
   "id": "84241929",
   "metadata": {},
   "outputs": [],
   "source": [
    "import os\n",
    "import sys\n",
    "import time\n",
    "import boto3\n",
    "import logging\n",
    "import pprint\n",
    "import json\n",
    "import random\n",
    "\n",
    "sys.path.append('../lab00-setup')\n",
    "\n",
    "from knowledge_base import BedrockKnowledgeBase\n",
    "\n",
    "# auth for opensearch\n",
    "boto3_session = boto3.Session()\n",
    "region_name = boto3_session.region_name\n",
    "# try out KB using RetrieveAndGenerate API\n",
    "bedrock_agent_runtime_client = boto3.client(\"bedrock-agent-runtime\", region_name=region_name)\n",
    "model_id = \"us.anthropic.claude-sonnet-4-20250514-v1:0\"\n",
    "model_arn = f'arn:aws:bedrock:{region_name}::foundation-model/{model_id}'"
   ]
  },
  {
   "cell_type": "markdown",
   "id": "e5142d7f",
   "metadata": {},
   "source": [
    "## 2 - Create knowledge bases with fixed chunking strategy\n",
    "Let's start by creating a [Amazon Bedrock Knowledge Bases](https://aws.amazon.com/bedrock/knowledge-bases/) to store video games data in csv format. Knowledge Bases allow you to integrate with different vector databases including [Amazon OpenSearch Serverless](https://aws.amazon.com/opensearch-service/features/serverless/), [Amazon Aurora](https://aws.amazon.com/rds/aurora/), [Pinecone](http://app.pinecone.io/bedrock-integration), [Redis Enterprise]() and [MongoDB Atlas](). For this example, we will integrate the knowledge base with Amazon OpenSearch Serverless. To do so, we will use the helper class `BedrockKnowledgeBase` which will create the knowledge base and all of its pre-requisites:\n",
    "1. IAM roles and policies\n",
    "2. S3 bucket\n",
    "3. Amazon OpenSearch Serverless encryption, network and data access policies\n",
    "4. Amazon OpenSearch Serverless collection\n",
    "5. Amazon OpenSearch Serverless vector index\n",
    "6. Knowledge base\n",
    "7. Knowledge base data source"
   ]
  },
  {
   "cell_type": "markdown",
   "id": "8283567d",
   "metadata": {},
   "source": [
    "We will create a knowledge base using fixed chunking strategy. \n",
    "\n",
    "You can chhose different chunking strategies by changing the below parameter values: \n",
    "```\n",
    "\"chunkingStrategy\": \"FIXED_SIZE | NONE | HIERARCHICAL | SEMANTIC\"\n",
    "```"
   ]
  },
  {
   "cell_type": "code",
   "execution_count": null,
   "id": "2272c305-ff41-4265-a705-6f0c0b6877c4",
   "metadata": {},
   "outputs": [],
   "source": [
    "suffix = random.randrange(200, 900)\n",
    "kb_name = f'reranking-kb-{suffix}'\n",
    "index_name = f\"{kb_name}-index-{suffix}\"\n",
    "description = \"This knowledge base contain Amazon 10K financial document from 2022 and 2023\"\n",
    "\n",
    "knowledge_base = BedrockKnowledgeBase(\n",
    "    kb_name=kb_name,\n",
    "    kb_description=description,\n",
    "    data_bucket_name=bucket,\n",
    "    data_prefix=[amzn10k_prefix],\n",
    "    vector_collection_arn=vector_collection_arn,\n",
    "    vector_collection_id=vector_collection_id,\n",
    "    vector_host=vector_host,\n",
    "    bedrock_kb_execution_role_arn=bedrock_kb_execution_role_arn,\n",
    "    index_name=index_name,\n",
    "    suffix=suffix,\n",
    "    chunking_strategy=\"FIXED_SIZE\"\n",
    ")"
   ]
  },
  {
   "cell_type": "code",
   "execution_count": null,
   "id": "3e841c21-2376-4c5a-a0b9-aa2bfd7247e2",
   "metadata": {},
   "outputs": [],
   "source": [
    "# ensure that the kb is available\n",
    "time.sleep(30)\n",
    "# Start the data ingestion\n",
    "knowledge_base.start_ingestion_job()\n",
    "kb_id = knowledge_base.get_knowledge_base_id()\n",
    "print(f\"Knowledge Base Id: {kb_id}\")"
   ]
  },
  {
   "cell_type": "markdown",
   "id": "2c6a4968-8381-4d8e-999b-1cfa2d38762b",
   "metadata": {},
   "source": [
    "### Prompt to test\n",
    "\n",
    "we are going to use the same prompt and test against all the different knowledge base with different chucking strategy to compare\n",
    "\n",
    "\"What is Amazon doing in the field of entertainment, movies and cinema?\"\n",
    "\"Key challenges faced by Amazon in year 2022 and 2023\""
   ]
  },
  {
   "cell_type": "code",
   "execution_count": null,
   "id": "10b89560-d06f-4094-b94d-602444f5b656",
   "metadata": {},
   "outputs": [],
   "source": [
    "prompt = \"How does the 2023 net sales mix reflect Amazon's global priorities and strategic investments across segments?\""
   ]
  },
  {
   "cell_type": "markdown",
   "id": "ebe5f163-de08-457b-8c7b-f55ac0550885",
   "metadata": {},
   "source": [
    "### Generate and render the response Reranking vs no reranking"
   ]
  },
  {
   "cell_type": "code",
   "execution_count": null,
   "id": "bf968d0f-fb73-4a0c-bab9-35491d1d7faf",
   "metadata": {},
   "outputs": [],
   "source": [
    "kb_mapping = dict()\n",
    "\n",
    "for reranking_enabled in [False, True]:\n",
    "    \n",
    "    print(\"========================================================================================\")\n",
    "    print(f\"Generate a response with reranking {'enabled' if reranking_enabled else 'disabled'}\")\n",
    "    \n",
    "    retrieval_config = {\n",
    "        \"vectorSearchConfiguration\": {\n",
    "            \"numberOfResults\": 30 if reranking_enabled else 3\n",
    "        }\n",
    "    }\n",
    "    \n",
    "    # Add reranking configuration if enabled\n",
    "    if reranking_enabled:\n",
    "        retrieval_config[\"vectorSearchConfiguration\"][\"rerankingConfiguration\"] = {\n",
    "            \"type\": \"BEDROCK_RERANKING_MODEL\",\n",
    "            \"bedrockRerankingConfiguration\": {\n",
    "                \"modelConfiguration\": {\n",
    "                    \"modelArn\": f'arn:aws:bedrock:{region_name}::foundation-model/amazon.rerank-v1:0',\n",
    "                },\n",
    "                \"numberOfRerankedResults\": 3\n",
    "            }\n",
    "        }\n",
    "    \n",
    "    response_ret = bedrock_agent_runtime_client.retrieve_and_generate(\n",
    "        input={\n",
    "            \"text\": prompt\n",
    "        },\n",
    "        retrieveAndGenerateConfiguration={\n",
    "            \"type\": \"KNOWLEDGE_BASE\",\n",
    "            \"knowledgeBaseConfiguration\": {\n",
    "                'knowledgeBaseId': kb_id, \n",
    "                \"modelArn\": model_id,\n",
    "                \"retrievalConfiguration\": retrieval_config\n",
    "            }\n",
    "        }\n",
    "    )\n",
    "    \n",
    "    # Store the response\n",
    "    result_key = \"with_reranking\" if reranking_enabled else \"without_reranking\"\n",
    "    if not hasattr(kb_mapping, result_key):\n",
    "        kb_mapping[result_key] = {}\n",
    "    kb_mapping[result_key][\"Response\"] = response_ret['output']['text']\n",
    "    \n",
    "    # Perform separate retrieval\n",
    "    response_ret = bedrock_agent_runtime_client.retrieve(\n",
    "        knowledgeBaseId=kb_id,  # Use your knowledge base ID here\n",
    "        retrievalQuery={\n",
    "            'text': prompt\n",
    "        },\n",
    "        retrievalConfiguration=retrieval_config\n",
    "    )\n",
    "    \n",
    "    # Store the search results\n",
    "    kb_mapping[result_key][\"SearchResults\"] = response_ret['retrievalResults']\n",
    "    \n",
    "    print(\"========================================================================================\")"
   ]
  },
  {
   "cell_type": "code",
   "execution_count": null,
   "id": "8cf9441e-8ec0-46cd-864c-ebd57db8dbdc",
   "metadata": {},
   "outputs": [],
   "source": [
    "import pandas as pd\n",
    "from IPython.display import display, HTML\n",
    "\n",
    "# First, determine the maximum length needed\n",
    "max_length = 0\n",
    "for key in kb_mapping:\n",
    "    current_length = 2 + len(kb_mapping[key][\"SearchResults\"])\n",
    "    max_length = max(max_length, current_length)\n",
    "\n",
    "display_map = dict()\n",
    "        \n",
    "# reformat results\n",
    "for key in kb_mapping:\n",
    "    display_map[key] = []\n",
    "    \n",
    "    # Add response\n",
    "    response = kb_mapping[key][\"Response\"]\n",
    "    display_map[key].append(response)\n",
    "    \n",
    "    # Add separator\n",
    "    display_map[key].append(\"======[Search Results]======\")\n",
    "    \n",
    "    # Add search results\n",
    "    for result in kb_mapping[key][\"SearchResults\"]:\n",
    "        display_map[key].append(f'{result[\"content\"][\"text\"][:1000]}...')\n",
    "    \n",
    "    # Pad with empty strings if needed\n",
    "    while len(display_map[key]) < max_length:\n",
    "        display_map[key].append(\"\")\n",
    "\n",
    "# Create DataFrame\n",
    "df = pd.DataFrame(display_map)\n",
    "\n",
    "# Create custom CSS\n",
    "custom_css = \"\"\"\n",
    "<style>\n",
    "    table {\n",
    "        width: 100% !important;\n",
    "        table-layout: fixed !important;\n",
    "    }\n",
    "    td {\n",
    "        width: 50% !important;\n",
    "        word-wrap: break-word !important;\n",
    "        padding: 8px !important;\n",
    "        vertical-align: top !important;\n",
    "    }\n",
    "    th {\n",
    "        width: 50% !important;\n",
    "        word-wrap: break-word !important;\n",
    "        padding: 8px !important;\n",
    "    }\n",
    "</style>\n",
    "\"\"\"\n",
    "\n",
    "# Combine CSS with DataFrame HTML\n",
    "output = custom_css + df.style.hide()._repr_html_()\n",
    "output += \"&nbsp;\"\n",
    "\n",
    "display(HTML(output))"
   ]
  },
  {
   "cell_type": "markdown",
   "id": "b206d952-7e8b-4cf4-b52b-e9145435ff11",
   "metadata": {},
   "source": [
    "The superior performance of reranking can be attributed to its sophisticated two-stage retrieval process. While the non-reranking approach simply returns the top 3 results based on vector similarity, the reranking method first casts a wider net by retrieving 30 initial results, then employs the amazon.rerank-v1:0 model to select the best 3 from this larger pool. This combination of a larger initial result set (30 vs 3) and the additional semantic analysis layer enables the reranking approach to identify and prioritize the most pertinent information, leading to more comprehensive and accurate final results."
   ]
  },
  {
   "cell_type": "markdown",
   "id": "8fe8d3a2-1ab2-481b-b81c-d71748c23923",
   "metadata": {},
   "source": [
    "### Clean up"
   ]
  },
  {
   "cell_type": "code",
   "execution_count": null,
   "id": "5d0efac2-d594-48c5-8374-d66107cafa8a",
   "metadata": {},
   "outputs": [],
   "source": [
    "# knowledge_base.delete_kb()"
   ]
  }
 ],
 "metadata": {
  "availableInstances": [
   {
    "_defaultOrder": 0,
    "_isFastLaunch": true,
    "category": "General purpose",
    "gpuNum": 0,
    "hideHardwareSpecs": false,
    "memoryGiB": 4,
    "name": "ml.t3.medium",
    "vcpuNum": 2
   },
   {
    "_defaultOrder": 1,
    "_isFastLaunch": false,
    "category": "General purpose",
    "gpuNum": 0,
    "hideHardwareSpecs": false,
    "memoryGiB": 8,
    "name": "ml.t3.large",
    "vcpuNum": 2
   },
   {
    "_defaultOrder": 2,
    "_isFastLaunch": false,
    "category": "General purpose",
    "gpuNum": 0,
    "hideHardwareSpecs": false,
    "memoryGiB": 16,
    "name": "ml.t3.xlarge",
    "vcpuNum": 4
   },
   {
    "_defaultOrder": 3,
    "_isFastLaunch": false,
    "category": "General purpose",
    "gpuNum": 0,
    "hideHardwareSpecs": false,
    "memoryGiB": 32,
    "name": "ml.t3.2xlarge",
    "vcpuNum": 8
   },
   {
    "_defaultOrder": 4,
    "_isFastLaunch": true,
    "category": "General purpose",
    "gpuNum": 0,
    "hideHardwareSpecs": false,
    "memoryGiB": 8,
    "name": "ml.m5.large",
    "vcpuNum": 2
   },
   {
    "_defaultOrder": 5,
    "_isFastLaunch": false,
    "category": "General purpose",
    "gpuNum": 0,
    "hideHardwareSpecs": false,
    "memoryGiB": 16,
    "name": "ml.m5.xlarge",
    "vcpuNum": 4
   },
   {
    "_defaultOrder": 6,
    "_isFastLaunch": false,
    "category": "General purpose",
    "gpuNum": 0,
    "hideHardwareSpecs": false,
    "memoryGiB": 32,
    "name": "ml.m5.2xlarge",
    "vcpuNum": 8
   },
   {
    "_defaultOrder": 7,
    "_isFastLaunch": false,
    "category": "General purpose",
    "gpuNum": 0,
    "hideHardwareSpecs": false,
    "memoryGiB": 64,
    "name": "ml.m5.4xlarge",
    "vcpuNum": 16
   },
   {
    "_defaultOrder": 8,
    "_isFastLaunch": false,
    "category": "General purpose",
    "gpuNum": 0,
    "hideHardwareSpecs": false,
    "memoryGiB": 128,
    "name": "ml.m5.8xlarge",
    "vcpuNum": 32
   },
   {
    "_defaultOrder": 9,
    "_isFastLaunch": false,
    "category": "General purpose",
    "gpuNum": 0,
    "hideHardwareSpecs": false,
    "memoryGiB": 192,
    "name": "ml.m5.12xlarge",
    "vcpuNum": 48
   },
   {
    "_defaultOrder": 10,
    "_isFastLaunch": false,
    "category": "General purpose",
    "gpuNum": 0,
    "hideHardwareSpecs": false,
    "memoryGiB": 256,
    "name": "ml.m5.16xlarge",
    "vcpuNum": 64
   },
   {
    "_defaultOrder": 11,
    "_isFastLaunch": false,
    "category": "General purpose",
    "gpuNum": 0,
    "hideHardwareSpecs": false,
    "memoryGiB": 384,
    "name": "ml.m5.24xlarge",
    "vcpuNum": 96
   },
   {
    "_defaultOrder": 12,
    "_isFastLaunch": false,
    "category": "General purpose",
    "gpuNum": 0,
    "hideHardwareSpecs": false,
    "memoryGiB": 8,
    "name": "ml.m5d.large",
    "vcpuNum": 2
   },
   {
    "_defaultOrder": 13,
    "_isFastLaunch": false,
    "category": "General purpose",
    "gpuNum": 0,
    "hideHardwareSpecs": false,
    "memoryGiB": 16,
    "name": "ml.m5d.xlarge",
    "vcpuNum": 4
   },
   {
    "_defaultOrder": 14,
    "_isFastLaunch": false,
    "category": "General purpose",
    "gpuNum": 0,
    "hideHardwareSpecs": false,
    "memoryGiB": 32,
    "name": "ml.m5d.2xlarge",
    "vcpuNum": 8
   },
   {
    "_defaultOrder": 15,
    "_isFastLaunch": false,
    "category": "General purpose",
    "gpuNum": 0,
    "hideHardwareSpecs": false,
    "memoryGiB": 64,
    "name": "ml.m5d.4xlarge",
    "vcpuNum": 16
   },
   {
    "_defaultOrder": 16,
    "_isFastLaunch": false,
    "category": "General purpose",
    "gpuNum": 0,
    "hideHardwareSpecs": false,
    "memoryGiB": 128,
    "name": "ml.m5d.8xlarge",
    "vcpuNum": 32
   },
   {
    "_defaultOrder": 17,
    "_isFastLaunch": false,
    "category": "General purpose",
    "gpuNum": 0,
    "hideHardwareSpecs": false,
    "memoryGiB": 192,
    "name": "ml.m5d.12xlarge",
    "vcpuNum": 48
   },
   {
    "_defaultOrder": 18,
    "_isFastLaunch": false,
    "category": "General purpose",
    "gpuNum": 0,
    "hideHardwareSpecs": false,
    "memoryGiB": 256,
    "name": "ml.m5d.16xlarge",
    "vcpuNum": 64
   },
   {
    "_defaultOrder": 19,
    "_isFastLaunch": false,
    "category": "General purpose",
    "gpuNum": 0,
    "hideHardwareSpecs": false,
    "memoryGiB": 384,
    "name": "ml.m5d.24xlarge",
    "vcpuNum": 96
   },
   {
    "_defaultOrder": 20,
    "_isFastLaunch": false,
    "category": "General purpose",
    "gpuNum": 0,
    "hideHardwareSpecs": true,
    "memoryGiB": 0,
    "name": "ml.geospatial.interactive",
    "supportedImageNames": [
     "sagemaker-geospatial-v1-0"
    ],
    "vcpuNum": 0
   },
   {
    "_defaultOrder": 21,
    "_isFastLaunch": true,
    "category": "Compute optimized",
    "gpuNum": 0,
    "hideHardwareSpecs": false,
    "memoryGiB": 4,
    "name": "ml.c5.large",
    "vcpuNum": 2
   },
   {
    "_defaultOrder": 22,
    "_isFastLaunch": false,
    "category": "Compute optimized",
    "gpuNum": 0,
    "hideHardwareSpecs": false,
    "memoryGiB": 8,
    "name": "ml.c5.xlarge",
    "vcpuNum": 4
   },
   {
    "_defaultOrder": 23,
    "_isFastLaunch": false,
    "category": "Compute optimized",
    "gpuNum": 0,
    "hideHardwareSpecs": false,
    "memoryGiB": 16,
    "name": "ml.c5.2xlarge",
    "vcpuNum": 8
   },
   {
    "_defaultOrder": 24,
    "_isFastLaunch": false,
    "category": "Compute optimized",
    "gpuNum": 0,
    "hideHardwareSpecs": false,
    "memoryGiB": 32,
    "name": "ml.c5.4xlarge",
    "vcpuNum": 16
   },
   {
    "_defaultOrder": 25,
    "_isFastLaunch": false,
    "category": "Compute optimized",
    "gpuNum": 0,
    "hideHardwareSpecs": false,
    "memoryGiB": 72,
    "name": "ml.c5.9xlarge",
    "vcpuNum": 36
   },
   {
    "_defaultOrder": 26,
    "_isFastLaunch": false,
    "category": "Compute optimized",
    "gpuNum": 0,
    "hideHardwareSpecs": false,
    "memoryGiB": 96,
    "name": "ml.c5.12xlarge",
    "vcpuNum": 48
   },
   {
    "_defaultOrder": 27,
    "_isFastLaunch": false,
    "category": "Compute optimized",
    "gpuNum": 0,
    "hideHardwareSpecs": false,
    "memoryGiB": 144,
    "name": "ml.c5.18xlarge",
    "vcpuNum": 72
   },
   {
    "_defaultOrder": 28,
    "_isFastLaunch": false,
    "category": "Compute optimized",
    "gpuNum": 0,
    "hideHardwareSpecs": false,
    "memoryGiB": 192,
    "name": "ml.c5.24xlarge",
    "vcpuNum": 96
   },
   {
    "_defaultOrder": 29,
    "_isFastLaunch": true,
    "category": "Accelerated computing",
    "gpuNum": 1,
    "hideHardwareSpecs": false,
    "memoryGiB": 16,
    "name": "ml.g4dn.xlarge",
    "vcpuNum": 4
   },
   {
    "_defaultOrder": 30,
    "_isFastLaunch": false,
    "category": "Accelerated computing",
    "gpuNum": 1,
    "hideHardwareSpecs": false,
    "memoryGiB": 32,
    "name": "ml.g4dn.2xlarge",
    "vcpuNum": 8
   },
   {
    "_defaultOrder": 31,
    "_isFastLaunch": false,
    "category": "Accelerated computing",
    "gpuNum": 1,
    "hideHardwareSpecs": false,
    "memoryGiB": 64,
    "name": "ml.g4dn.4xlarge",
    "vcpuNum": 16
   },
   {
    "_defaultOrder": 32,
    "_isFastLaunch": false,
    "category": "Accelerated computing",
    "gpuNum": 1,
    "hideHardwareSpecs": false,
    "memoryGiB": 128,
    "name": "ml.g4dn.8xlarge",
    "vcpuNum": 32
   },
   {
    "_defaultOrder": 33,
    "_isFastLaunch": false,
    "category": "Accelerated computing",
    "gpuNum": 4,
    "hideHardwareSpecs": false,
    "memoryGiB": 192,
    "name": "ml.g4dn.12xlarge",
    "vcpuNum": 48
   },
   {
    "_defaultOrder": 34,
    "_isFastLaunch": false,
    "category": "Accelerated computing",
    "gpuNum": 1,
    "hideHardwareSpecs": false,
    "memoryGiB": 256,
    "name": "ml.g4dn.16xlarge",
    "vcpuNum": 64
   },
   {
    "_defaultOrder": 35,
    "_isFastLaunch": false,
    "category": "Accelerated computing",
    "gpuNum": 1,
    "hideHardwareSpecs": false,
    "memoryGiB": 61,
    "name": "ml.p3.2xlarge",
    "vcpuNum": 8
   },
   {
    "_defaultOrder": 36,
    "_isFastLaunch": false,
    "category": "Accelerated computing",
    "gpuNum": 4,
    "hideHardwareSpecs": false,
    "memoryGiB": 244,
    "name": "ml.p3.8xlarge",
    "vcpuNum": 32
   },
   {
    "_defaultOrder": 37,
    "_isFastLaunch": false,
    "category": "Accelerated computing",
    "gpuNum": 8,
    "hideHardwareSpecs": false,
    "memoryGiB": 488,
    "name": "ml.p3.16xlarge",
    "vcpuNum": 64
   },
   {
    "_defaultOrder": 38,
    "_isFastLaunch": false,
    "category": "Accelerated computing",
    "gpuNum": 8,
    "hideHardwareSpecs": false,
    "memoryGiB": 768,
    "name": "ml.p3dn.24xlarge",
    "vcpuNum": 96
   },
   {
    "_defaultOrder": 39,
    "_isFastLaunch": false,
    "category": "Memory Optimized",
    "gpuNum": 0,
    "hideHardwareSpecs": false,
    "memoryGiB": 16,
    "name": "ml.r5.large",
    "vcpuNum": 2
   },
   {
    "_defaultOrder": 40,
    "_isFastLaunch": false,
    "category": "Memory Optimized",
    "gpuNum": 0,
    "hideHardwareSpecs": false,
    "memoryGiB": 32,
    "name": "ml.r5.xlarge",
    "vcpuNum": 4
   },
   {
    "_defaultOrder": 41,
    "_isFastLaunch": false,
    "category": "Memory Optimized",
    "gpuNum": 0,
    "hideHardwareSpecs": false,
    "memoryGiB": 64,
    "name": "ml.r5.2xlarge",
    "vcpuNum": 8
   },
   {
    "_defaultOrder": 42,
    "_isFastLaunch": false,
    "category": "Memory Optimized",
    "gpuNum": 0,
    "hideHardwareSpecs": false,
    "memoryGiB": 128,
    "name": "ml.r5.4xlarge",
    "vcpuNum": 16
   },
   {
    "_defaultOrder": 43,
    "_isFastLaunch": false,
    "category": "Memory Optimized",
    "gpuNum": 0,
    "hideHardwareSpecs": false,
    "memoryGiB": 256,
    "name": "ml.r5.8xlarge",
    "vcpuNum": 32
   },
   {
    "_defaultOrder": 44,
    "_isFastLaunch": false,
    "category": "Memory Optimized",
    "gpuNum": 0,
    "hideHardwareSpecs": false,
    "memoryGiB": 384,
    "name": "ml.r5.12xlarge",
    "vcpuNum": 48
   },
   {
    "_defaultOrder": 45,
    "_isFastLaunch": false,
    "category": "Memory Optimized",
    "gpuNum": 0,
    "hideHardwareSpecs": false,
    "memoryGiB": 512,
    "name": "ml.r5.16xlarge",
    "vcpuNum": 64
   },
   {
    "_defaultOrder": 46,
    "_isFastLaunch": false,
    "category": "Memory Optimized",
    "gpuNum": 0,
    "hideHardwareSpecs": false,
    "memoryGiB": 768,
    "name": "ml.r5.24xlarge",
    "vcpuNum": 96
   },
   {
    "_defaultOrder": 47,
    "_isFastLaunch": false,
    "category": "Accelerated computing",
    "gpuNum": 1,
    "hideHardwareSpecs": false,
    "memoryGiB": 16,
    "name": "ml.g5.xlarge",
    "vcpuNum": 4
   },
   {
    "_defaultOrder": 48,
    "_isFastLaunch": false,
    "category": "Accelerated computing",
    "gpuNum": 1,
    "hideHardwareSpecs": false,
    "memoryGiB": 32,
    "name": "ml.g5.2xlarge",
    "vcpuNum": 8
   },
   {
    "_defaultOrder": 49,
    "_isFastLaunch": false,
    "category": "Accelerated computing",
    "gpuNum": 1,
    "hideHardwareSpecs": false,
    "memoryGiB": 64,
    "name": "ml.g5.4xlarge",
    "vcpuNum": 16
   },
   {
    "_defaultOrder": 50,
    "_isFastLaunch": false,
    "category": "Accelerated computing",
    "gpuNum": 1,
    "hideHardwareSpecs": false,
    "memoryGiB": 128,
    "name": "ml.g5.8xlarge",
    "vcpuNum": 32
   },
   {
    "_defaultOrder": 51,
    "_isFastLaunch": false,
    "category": "Accelerated computing",
    "gpuNum": 1,
    "hideHardwareSpecs": false,
    "memoryGiB": 256,
    "name": "ml.g5.16xlarge",
    "vcpuNum": 64
   },
   {
    "_defaultOrder": 52,
    "_isFastLaunch": false,
    "category": "Accelerated computing",
    "gpuNum": 4,
    "hideHardwareSpecs": false,
    "memoryGiB": 192,
    "name": "ml.g5.12xlarge",
    "vcpuNum": 48
   },
   {
    "_defaultOrder": 53,
    "_isFastLaunch": false,
    "category": "Accelerated computing",
    "gpuNum": 4,
    "hideHardwareSpecs": false,
    "memoryGiB": 384,
    "name": "ml.g5.24xlarge",
    "vcpuNum": 96
   },
   {
    "_defaultOrder": 54,
    "_isFastLaunch": false,
    "category": "Accelerated computing",
    "gpuNum": 8,
    "hideHardwareSpecs": false,
    "memoryGiB": 768,
    "name": "ml.g5.48xlarge",
    "vcpuNum": 192
   },
   {
    "_defaultOrder": 55,
    "_isFastLaunch": false,
    "category": "Accelerated computing",
    "gpuNum": 8,
    "hideHardwareSpecs": false,
    "memoryGiB": 1152,
    "name": "ml.p4d.24xlarge",
    "vcpuNum": 96
   },
   {
    "_defaultOrder": 56,
    "_isFastLaunch": false,
    "category": "Accelerated computing",
    "gpuNum": 8,
    "hideHardwareSpecs": false,
    "memoryGiB": 1152,
    "name": "ml.p4de.24xlarge",
    "vcpuNum": 96
   },
   {
    "_defaultOrder": 57,
    "_isFastLaunch": false,
    "category": "Accelerated computing",
    "gpuNum": 0,
    "hideHardwareSpecs": false,
    "memoryGiB": 32,
    "name": "ml.trn1.2xlarge",
    "vcpuNum": 8
   },
   {
    "_defaultOrder": 58,
    "_isFastLaunch": false,
    "category": "Accelerated computing",
    "gpuNum": 0,
    "hideHardwareSpecs": false,
    "memoryGiB": 512,
    "name": "ml.trn1.32xlarge",
    "vcpuNum": 128
   },
   {
    "_defaultOrder": 59,
    "_isFastLaunch": false,
    "category": "Accelerated computing",
    "gpuNum": 0,
    "hideHardwareSpecs": false,
    "memoryGiB": 512,
    "name": "ml.trn1n.32xlarge",
    "vcpuNum": 128
   }
  ],
  "instance_type": "ml.t3.medium",
  "kernelspec": {
   "display_name": "Python 3 (ipykernel)",
   "language": "python",
   "name": "python3"
  },
  "language_info": {
   "codemirror_mode": {
    "name": "ipython",
    "version": 3
   },
   "file_extension": ".py",
   "mimetype": "text/x-python",
   "name": "python",
   "nbconvert_exporter": "python",
   "pygments_lexer": "ipython3",
   "version": "3.12.9"
  }
 },
 "nbformat": 4,
 "nbformat_minor": 5
}
