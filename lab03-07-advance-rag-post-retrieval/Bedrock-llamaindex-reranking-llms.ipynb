{
 "cells": [
  {
   "cell_type": "markdown",
   "id": "99cea58c-48bc-4af6-8358-df9695659983",
   "metadata": {},
   "source": [
    "# RAG Post Retrieval Optimization - Reranking featuring Bedrock (Amazon Nova Pro) and llamaindex"
   ]
  },
  {
   "cell_type": "markdown",
   "id": "673df1fe-eb6c-46ea-9a73-a96e7ae7942e",
   "metadata": {},
   "source": [
    "Reranking is a crucial post-retrieval process that refines the initial set of retrieved documents to improve the relevance and quality of information used for generating responses. After the initial retrieval step, which typically uses methods like vector similarity search, reranking takes the retrieved documents and re-scores their relevance to the query using more sophisticated techniques. These may include cross-encoders, BERT-based models, or other advanced algorithms that can better capture semantic nuances and context. Based on these scores, the documents are reordered, pushing the most relevant and informative ones to the top, thereby enhancing the accuracy and contextual appropriateness of the final response.\n",
    "\n",
    "In this lab, we will highlight the usage of an existing LLM (for example Bedrock Amazon Nova Pro) as a reranker model to improve the relevance of the documents retrieved from Amazon SEC filings. We also utilized the Bedrock Amazon Nova Pro model and the Bedrock Titan Text Embedding v2.0 model for natural language processing and document embeddings to build this RAG system. The key steps were: ingesting PDF documents into a vector database index, retrieving top relevant nodes based on a query using semantic search, reranking the retrieved nodes using Bedrock Nova Pro LLM and synthesizing a final response consolidating the reranked information. See below image for details.\n",
    "\n",
    "- Vector Database (Faiss / local on the notebook for this demo)\n",
    "- LLM (Amazon Bedrock - Amazon Nova Pro)\n",
    "- Embeddings Model (Bedrock Titan Text Embedding v2.0)\n",
    "- ReRanking Model (Amazon Nova Pro) running on Bedrock\n",
    "- Llamaindex for orchestration (ingestion, reranking, retrieval and final response synthesis)\n",
    "- Datasets (Amazon SEC 10-k statements for year 2022 and 2023 )"
   ]
  },
  {
   "cell_type": "markdown",
   "id": "b94913f2-fca9-42e7-907a-a2c8c43f4897",
   "metadata": {},
   "source": [
    "<img src=\"reranking-bedrock.png\" width=\"800\" height=\"400\">"
   ]
  },
  {
   "cell_type": "markdown",
   "id": "3b292497-3925-4977-9746-406d0e2062b6",
   "metadata": {},
   "source": [
    "## Pre-req\n",
    "You must run the `[workshop_setup.ipynb]`(../lab00-setup/workshop_setup.ipynb) notebook in `lab00-setup` before starting this lab."
   ]
  },
  {
   "cell_type": "code",
   "execution_count": 1,
   "id": "3fca62b6-2850-4293-a6fe-de90798611bf",
   "metadata": {},
   "outputs": [
    {
     "name": "stderr",
     "output_type": "stream",
     "text": [
      "/tmp/ipykernel_3201/952814476.py:2: UserWarning: Warning: if you did not run lab00-setup, please go back and run the lab00 notebook\n",
      "  warnings.warn(\"Warning: if you did not run lab00-setup, please go back and run the lab00 notebook\")\n"
     ]
    }
   ],
   "source": [
    "import warnings\n",
    "warnings.warn(\"Warning: if you did not run lab00-setup, please go back and run the lab00 notebook\") "
   ]
  },
  {
   "cell_type": "markdown",
   "id": "63af8379",
   "metadata": {},
   "source": [
    "\n",
    "### > Setup\n",
    "We start by importing necessary llamaindex libraries"
   ]
  },
  {
   "cell_type": "code",
   "execution_count": 2,
   "id": "ffebb89a-58e0-4fa0-ba8c-fdceb8f09d0d",
   "metadata": {
    "tags": []
   },
   "outputs": [],
   "source": [
    "from llama_index.embeddings.bedrock import BedrockEmbedding\n",
    "from llama_index.core.postprocessor import LLMRerank\n",
    "from llama_index.core import VectorStoreIndex, SimpleDirectoryReader\n",
    "from llama_index.core.tools import QueryEngineTool, ToolMetadata\n",
    "from llama_index.core import Settings"
   ]
  },
  {
   "cell_type": "markdown",
   "id": "1adf69a3",
   "metadata": {},
   "source": [
    "We select Anthropic Claude3 Sonnet as our LLM. For embedding model, we are selecting Amazon Titan Text Embed v2.0. Chunk size is set at 512 for this example."
   ]
  },
  {
   "cell_type": "code",
   "execution_count": 6,
   "id": "9d47283b-025e-4874-88ed-76245b22f82e",
   "metadata": {
    "tags": []
   },
   "outputs": [],
   "source": [
    "import json\n",
    "from typing import Sequence, List\n",
    "from llama_index.core.settings import Settings\n",
    "from llama_index.llms.bedrock_converse import BedrockConverse\n",
    "from llama_index.embeddings.bedrock import BedrockEmbedding, Models\n",
    "from llama_index.core import VectorStoreIndex, SimpleDirectoryReader\n",
    "#from llama_index.core.postprocessor.bedrock_rerank import AWSBedrockRerank\n",
    "\n",
    "profile_name = \"default\"\n",
    "\n",
    "# define the LLM\n",
    "llm = BedrockConverse(\n",
    "    model=\"us.amazon.nova-pro-v1:0\",\n",
    "    profile_name=profile_name,\n",
    ")\n",
    "\n",
    "# define the embedding model\n",
    "embed_model = BedrockEmbedding(model = \"amazon.titan-embed-text-v2:0\")\n",
    "\n",
    "Settings.llm = llm\n",
    "Settings.embed_model = embed_model\n",
    "Settings.chunk_size = 512\n",
    "\n",
    "from llama_index.core.llms import ChatMessage\n",
    "from llama_index.core.tools import BaseTool, FunctionTool\n",
    "import nest_asyncio\n",
    "nest_asyncio.apply()"
   ]
  },
  {
   "cell_type": "markdown",
   "id": "21029523",
   "metadata": {},
   "source": [
    "### > Document Ingestion\n",
    "We ingest and index the data stored in data directory. The amazon folder has SEC-10k files from 2022 and 2023."
   ]
  },
  {
   "cell_type": "code",
   "execution_count": 9,
   "id": "16457565-4547-4655-a695-6e468286bf56",
   "metadata": {
    "tags": []
   },
   "outputs": [],
   "source": [
    "# load data\n",
    "amazon_secfiles = SimpleDirectoryReader(input_dir=\"../data/lab03/amazon/\").load_data()\n",
    "\n",
    "# build index\n",
    "amazon_index = VectorStoreIndex.from_documents(\n",
    "    amazon_secfiles,\n",
    "    use_async=True,\n",
    ")"
   ]
  },
  {
   "cell_type": "markdown",
   "id": "4ca1be2e",
   "metadata": {},
   "source": [
    "### > Helper functions\n",
    "Helper functions to help retrieve and visualize relevant nodes from vector database based on a given query. It allows for optional reranking of results using a language model (in this case, Amazon Nova Pro). The retrieved nodes are then displayed in a formatted HTML table."
   ]
  },
  {
   "cell_type": "code",
   "execution_count": 10,
   "id": "af3c5e35-1651-4041-8e05-93da28d855f0",
   "metadata": {
    "tags": []
   },
   "outputs": [],
   "source": [
    "from llama_index.core.retrievers import VectorIndexRetriever\n",
    "from llama_index.core import QueryBundle\n",
    "import pandas as pd\n",
    "from IPython.display import display, HTML\n",
    "\n",
    "def get_retrieved_nodes(\n",
    "    query_str, vector_top_k=5, reranker_top_n=3, with_reranker=False\n",
    "):\n",
    "    query_bundle = QueryBundle(query_str)\n",
    "    # configure retriever\n",
    "    retriever = VectorIndexRetriever(\n",
    "        index=amazon_index,\n",
    "        similarity_top_k=vector_top_k,\n",
    "    )\n",
    "    retrieved_nodes = retriever.retrieve(query_bundle)\n",
    "\n",
    "    if with_reranker:\n",
    "        # configure reranker\n",
    "        reranker = RankGPTRerank(\n",
    "            llm=BedrockConverse(model = \"us.amazon.nova-pro-v1:0\", profile_name=\"default\"),\n",
    "            top_n=reranker_top_n,\n",
    "            verbose=True,\n",
    "        )\n",
    "        retrieved_nodes = reranker.postprocess_nodes(\n",
    "            retrieved_nodes, query_bundle\n",
    "        )\n",
    "\n",
    "    return retrieved_nodes\n",
    "\n",
    "\n",
    "def pretty_print(df):\n",
    "    return display(HTML(df.to_html().replace(\"\\\\n\", \"\")))\n",
    "\n",
    "\n",
    "def visualize_retrieved_nodes(nodes) -> None:\n",
    "    result_dicts = []\n",
    "    for node in nodes:\n",
    "        result_dict = {\"Score\": node.score, \"Text\": node.node.get_text()}\n",
    "        result_dicts.append(result_dict)\n",
    "\n",
    "    pretty_print(pd.DataFrame(result_dicts))"
   ]
  },
  {
   "cell_type": "markdown",
   "id": "ac4ad8e8-c61b-4580-89cf-b2247d2f4c30",
   "metadata": {},
   "source": [
    "### > Test retrieval without reranking"
   ]
  },
  {
   "cell_type": "code",
   "execution_count": 11,
   "id": "fed1c76a-3f47-4007-a086-53956f573c00",
   "metadata": {
    "tags": []
   },
   "outputs": [],
   "source": [
    "new_nodes = get_retrieved_nodes(\n",
    "    \"Describe key business risks for Amazon during covid\",\n",
    "    vector_top_k=10,\n",
    "    with_reranker=False,\n",
    ")"
   ]
  },
  {
   "cell_type": "code",
   "execution_count": 12,
   "id": "899e5e94-f0c0-4eab-8956-b0c7d0e67b58",
   "metadata": {
    "scrolled": true,
    "tags": []
   },
   "outputs": [
    {
     "data": {
      "text/html": [
       "<table border=\"1\" class=\"dataframe\">\n",
       "  <thead>\n",
       "    <tr style=\"text-align: right;\">\n",
       "      <th></th>\n",
       "      <th>Score</th>\n",
       "      <th>Text</th>\n",
       "    </tr>\n",
       "  </thead>\n",
       "  <tbody>\n",
       "    <tr>\n",
       "      <th>0</th>\n",
       "      <td>0.728445</td>\n",
       "      <td>These risk factors do not identify all risks that we face; our operations could also be affected by factors, events, oruncertainties that are not presently known to us or that we currently do not consider to present significant risks to our operations. In addition to the factorsdiscussed in Item 7 of Part II, “Management’s Discussion and Analysis of Financial Condition and Results of Operations,” and in the risk factors below, globaleconomic and geopolitical conditions and additional or unforeseen circumstances, developments, or events may give rise to or amplify many of the risksdiscussed below. Many of the risks discussed below also impact our customers, including third-party sellers, which could indirectly have a material adverseeffect on us.Business and Industry RisksWe Face Intense CompetitionOur businesses are rapidly evolving and intensely competitive, and we have many competitors across geographies, including cross-border competition,and in different industries, including physical, e-commerce, and omnichannel retail, e-commerce services, web and infrastructure computing services,electronic devices, digital content, advertising, grocery, and transportation and logistics services. Some of our current and potential competitors have greaterresources, longer histories, more customers, and/or greater brand recognition, particularly with our newly-launched products and services and in our newergeographic regions. They may secure better terms from vendors, adopt more aggressive pricing, and devote more resources to technology, infrastructure,fulfillment, and marketing.Competition continues to intensify, including with the development of new business models and the entry of new and well-funded competitors, and asour competitors enter into business combinations or alliances and established companies in other market segments expand to become competitive with ourbusiness. In addition, new and enhanced technologies, including search, web and infrastructure computing services, practical applications of artificialintelligence and machine learning, digital content, and electronic devices continue to increase our competition. The internet facilitates competitive entry andcomparison shopping, which enhances the ability of new, smaller, or lesser known businesses to compete against us.</td>\n",
       "    </tr>\n",
       "    <tr>\n",
       "      <th>1</th>\n",
       "      <td>0.728156</td>\n",
       "      <td>These risk factors do not identify all risks that we face; our operations could also be affected by factors, events, oruncertainties that are not presently known to us or that we currently do not consider to present significant risks to our operations. In addition to the factorsdiscussed in Item 7 of Part II, “Management’s Discussion and Analysis of Financial Condition and Results of Operations—Overview,” and in the risk factorsbelow, global economic and geopolitical conditions and additional or unforeseen circumstances, developments, or events may give rise to or amplify many ofthe risks discussed below. Many of the risks discussed below also impact our customers, including third-party sellers, which could indirectly have a materialadverse effect on us.Business and Industry RisksWe Face Intense CompetitionOur businesses are rapidly evolving and intensely competitive, and we have many competitors across geographies, including cross-border competition,and in different industries, including physical, e-commerce, and omnichannel retail, e-commerce services, web and infrastructure computing services,electronic devices, digital content, advertising, grocery, and transportation and logistics services. Some of our current and potential competitors have greaterresources, longer histories, more customers, and/or greater brand recognition, particularly with our newly-launched products and services and in our newergeographic regions. They may secure better terms from vendors, adopt more aggressive pricing, and devote more resources to technology, infrastructure,fulfillment, and marketing.Competition continues to intensify, including with the development of new business models and the entry of new and well-funded competitors, and asour competitors enter into business combinations or alliances and established companies in other market segments expand to become competitive with ourbusiness. In addition, new and enhanced technologies, including search, web and infrastructure computing services, digital content, and electronic devicescontinue to increase our competition. The Internet facilitates competitive entry and comparison shopping, which enhances the ability of new, smaller, or lesserknown businesses to compete against us.</td>\n",
       "    </tr>\n",
       "    <tr>\n",
       "      <th>2</th>\n",
       "      <td>0.712217</td>\n",
       "      <td>which has been critical to ourgrowth and success;• disruptions from natural or human-caused disasters (including public health crises) or extreme weather (including as a result of climate change),geopolitical events and security issues (including terrorist attacks, armed hostilities, and political conflicts, including those involving China), labor ortrade disputes (including restrictive governmental actions impacting us, our customers, and our third-party sellers and suppliers in China or otherforeign countries), and similar events; and• potential negative impacts of climate change, including: increased operating costs due to more frequent extreme weather events or climate-relatedchanges, such as rising temperatures and water scarcity; increased investment requirements associated with the transition to a low-carbon economy;decreased demand for our products and services as a result of changes in customer behavior; increased compliance costs due to more extensive andglobal regulations and third-party requirements; and reputational damage resulting from perceptions of our environmental impact.We Face Risks Related to Successfully Optimizing and Operating Our Fulfillment Network and Data CentersFailures to adequately predict customer demand and consumer spending patterns or otherwise optimize and operate our fulfillment network and datacenters successfully from time to time result in excess or insufficient fulfillment or data center capacity, service interruptions, increased costs, and impairmentcharges, any of which could materially harm our business. As we continue to add fulfillment and data center capability or add new businesses with differentrequirements, our fulfillment and data center networks become increasingly complex and operating them becomes more challenging. There can be no assurancethat we will be able to operate our networks effectively.10</td>\n",
       "    </tr>\n",
       "    <tr>\n",
       "      <th>3</th>\n",
       "      <td>0.668495</td>\n",
       "      <td>The loss of any of our executive officers or other key employees, the failure to successfully transition key roles, or the inability to hire, train, retain,and manage qualified personnel, could harm our business.We also rely on a significant number of personnel to operate our stores, fulfillment network, and data centers and carry out our other operations. Failureto successfully hire, train, manage, and retain sufficient personnel to meet our needs can strain our operations, increase payroll and other costs, and harm ourbusiness and reputation. In addition, changes in laws and regulations applicable to employees, independent contractors, and temporary personnel could increaseour payroll costs, decrease our operational flexibility, and negatively impact how we are able to staff our operations and supplement our workforce.We are also subject to labor union efforts to organize groups of our employees from time to time. These organizational efforts, if successful, decrease ouroperational flexibility, which could adversely affect our operating efficiency. In addition, our response to any organizational efforts could be perceivednegatively and harm our business and reputation.Our Supplier Relationships Subject Us to a Number of RisksWe have significant suppliers, including content and technology licensors, and in some cases, limited or single-sources of supply, that are important toour sourcing, services, manufacturing, and any related ongoing servicing of merchandise and content. We do not have long-term arrangements with most of oursuppliers to guarantee availability of merchandise, content,11</td>\n",
       "    </tr>\n",
       "    <tr>\n",
       "      <th>4</th>\n",
       "      <td>0.662429</td>\n",
       "      <td>fulfillment, and other expense categories;• availability of and increases in the prices of transportation (including fuel), resources such as land, water, and energy, commodities like paper andpacking supplies and hardware products, and technology infrastructure products, including as a result of inflationary pressures;• constrained labor markets, which increase our payroll costs;• the extent to which operators of the networks between our customers and our stores successfully charge fees to grant our customers unimpaired andunconstrained access to our online services;• our ability to collect amounts owed to us when they become due;• the extent to which new and existing technologies, or industry trends, restrict online advertising or affect our ability to customize advertising orotherwise tailor our product and service offerings;• the extent to which use of our services is affected by spyware, viruses, phishing and other spam emails, denial of service attacks, data theft, computerintrusions, outages, and similar events;• the extent to which we fail to maintain our unique culture of innovation, customer obsession, and long-term thinking, which has been critical to ourgrowth and success;• disruptions from natural or human-caused disasters (including public health crises) or extreme weather (including as a result of climate change),geopolitical events and security issues (including terrorist attacks, armed hostilities, and political conflicts, including those involving China), labor ortrade disputes (including restrictive governmental actions impacting us, our customers, and our third-party sellers and suppliers in China or otherforeign countries), and similar events; and• potential negative impacts of climate change, including: increased operating costs due to more frequent extreme weather events or climate-relatedchanges, such as rising temperatures and water scarcity; increased investment requirements associated with the transition to a low-carbon economy;decreased demand for our products and services as a result of changes in customer behavior; increased compliance costs due to more extensive andglobal regulations and third-party requirements; and reputational damage resulting from perceptions of our environmental impact.</td>\n",
       "    </tr>\n",
       "    <tr>\n",
       "      <th>5</th>\n",
       "      <td>0.662417</td>\n",
       "      <td>;• lower levels of credit card usage and increased payment risk;• difficulty in staffing, developing, and managing foreign operations as a result of distance, language, and cultural differences;• different employee/employer relationships and the existence of works councils and labor unions;• compliance with the U.S. Foreign Corrupt Practices Act and other applicable U.S. and foreign laws prohibiting corrupt payments to governmentofficials and other third parties;• laws and policies of the U.S. and other jurisdictions affecting trade, foreign investment, loans, and taxes; and• geopolitical events, including war and terrorism.As international physical, e-commerce, and omnichannel retail, cloud services, and other services grow, competition will intensify, including throughadoption of evolving business models. Local companies may have a substantial competitive advantage because of their greater understanding of, and focus on,the local customer, as well as their more established local brand names. The inability to hire, train, retain, and manage sufficient required personnel may limitour international growth.The People’s Republic of China (“PRC”) and India regulate Amazon’s and its affiliates’ businesses and operations in country through regulations andlicense requirements that may restrict (i) foreign investment in and operation of the Internet, IT infrastructure, data centers, retail, delivery, and other sectors,(ii) Internet content, and (iii) the sale of media and other products and services. For example, in order to meet local ownership, regulatory licensing, andcybersecurity requirements, we provide certain technology services in China through contractual relationships with third parties that hold PRC licenses toprovide services. In India, the government restricts the ownership or control of Indian companies by foreign entities involved in online multi-brand retailtrading activities. For www.amazon.in, we provide certain marketing tools and logistics services to third-party sellers to enable them to sell online and deliverto customers, and we hold indirect minority interests in entities that are third-party sellers on the www.amazon.in marketplace.</td>\n",
       "    </tr>\n",
       "    <tr>\n",
       "      <th>6</th>\n",
       "      <td>0.659990</td>\n",
       "      <td>We Face Risks Related to Successfully Optimizing and Operating Our Fulfillment Network and Data CentersFailures to adequately predict customer demand or otherwise optimize and operate our fulfillment network and data centers successfully from time totime result in excess or insufficient fulfillment or data center capacity, service interruptions, increased costs, and impairment charges, any of which couldmaterially harm our business. As we continue to add fulfillment and data center capability or add new businesses with different requirements, our fulfillmentand data center networks become increasingly complex and operating them becomes more challenging. There can be no assurance that we will be able tooperate our networks effectively.In addition, failure to optimize inventory or staffing in our fulfillment network increases our net shipping cost by requiring long-zone or partialshipments. We and our co-sourcers may be unable to adequately staff our fulfillment network and customer service centers. For example, productivity acrossour fulfillment network currently is being affected by regional labor market and global supply chain constraints, which increase payroll costs and make itdifficult to hire, train, and deploy a sufficient number of people to operate our fulfillment network as efficiently as we would like.Under some of our commercial agreements, we maintain the inventory of other companies, thereby increasing the complexity of tracking inventory andoperating our fulfillment network. Our failure to properly handle such inventory or the inability of the other businesses on whose behalf we perform inventoryfulfillment services to accurately forecast product demand may result in us being unable to secure sufficient storage space or to optimize our fulfillmentnetwork or cause other unexpected costs and other harm to our business and reputation.We rely on a limited number of shipping companies to deliver inventory to us and completed orders to our customers. An inability to negotiate acceptableterms with these companies or performance problems, staffing limitations, or other difficulties experienced by these companies or by our own transportationsystems, including as a result of labor market constraints and related costs, could negatively impact our operating results and customer experience.</td>\n",
       "    </tr>\n",
       "    <tr>\n",
       "      <th>7</th>\n",
       "      <td>0.659001</td>\n",
       "      <td>;• lower levels of credit card usage and increased payment risk;• difficulty in staffing, developing, and managing foreign operations as a result of distance, language, and cultural differences;• different employee/employer relationships and the existence of works councils and labor unions;• compliance with the U.S. Foreign Corrupt Practices Act and other applicable U.S. and foreign laws prohibiting corrupt payments to governmentofficials and other third parties;• laws and policies of the U.S. and other jurisdictions affecting trade, foreign investment, loans, and taxes; and• geopolitical events, including war and terrorism.As international physical, e-commerce, and omnichannel retail, cloud services, and other services grow, competition will intensify, including throughadoption of evolving business models. Local companies may have a substantial competitive advantage because of their greater understanding of, and focus on,the local customer, as well as their more established local brand names. The inability to hire, train, retain, and manage sufficient required personnel may limitour international growth.The People’s Republic of China (“PRC”) and India regulate Amazon’s and its affiliates’ businesses and operations in country through regulations andlicense requirements that may restrict (i) foreign investment in and operation of the internet, IT infrastructure, data centers, retail, delivery, and other sectors,(ii) internet content, and (iii) the sale of media and other products and services. For example, in order to meet local ownership, regulatory licensing, andcybersecurity requirements, we provide certain technology services in China through contractual relationships with third parties that hold PRC licenses toprovide services. In India, the government restricts the ownership or control of Indian companies by foreign entities involved in online multi-brand retailtrading activities. For www.amazon.in, we provide certain marketing tools and logistics services to third-party sellers to enable them to sell online and deliverto customers, and we hold an indirect minority interest in an entity that is a third-party seller on the www.amazon.in marketplace. Although we believe thesestructures and activities comply with existing laws, they involve unique risks, and the PRC and India may from time to time consider and implement additionalchanges in7</td>\n",
       "    </tr>\n",
       "    <tr>\n",
       "      <th>8</th>\n",
       "      <td>0.652881</td>\n",
       "      <td>Any of these events could cause system interruption, delays, and loss of critical data, and could prevent us fromaccepting and fulfilling customer orders and providing services, which could make our product and service offerings less attractive and subject us to liability.Our systems are not fully redundant and our disaster recovery planning may not be sufficient. In addition, our insurance may not provide sufficient coverage tocompensate for related losses. Any of these events could damage our reputation and be expensive to remedy.The Loss of Key Senior Management Personnel or the Failure to Hire and Retain Highly Skilled and Other Personnel Could Negatively Affect OurBusinessWe depend on our senior management and other key personnel, including our President and CEO. We do not have “key person” life insurance policies.We also rely on other highly skilled personnel. Competition for qualified personnel in the industries in which we operate, as well as senior management, hashistorically been intense. For example, we experience significant competition in the technology industry, particularly for software engineers, computerscientists, and other technical staff. In addition, changes we make to our current and future work environments may not meet the needs or expectations of ouremployees or may be perceived as less favorable compared to other companies’ policies, which could negatively impact our ability to hire and retain qualifiedpersonnel. The loss of any of our executive officers or other key employees, the failure to successfully transition key roles, or the inability to hire, train, retain,and manage qualified personnel, could harm our business.We also rely on a significant number of personnel to operate our stores, fulfillment network, and data centers and carry out our other operations. Failureto successfully hire, train, manage, and retain sufficient personnel to meet our needs can strain our operations, increase payroll and other costs, and harm ourbusiness and reputation. In addition, changes in laws and regulations applicable to employees, independent contractors, and temporary personnel could increaseour payroll costs, decrease our operational flexibility, and negatively impact how we are able to staff our operations and supplement our workforce.We are also subject to labor union efforts to organize groups of our employees from time to time.</td>\n",
       "    </tr>\n",
       "    <tr>\n",
       "      <th>9</th>\n",
       "      <td>0.652139</td>\n",
       "      <td>We are also subject to labor union efforts to organize groups of our employees from time to time. These organizational efforts, if successful, decrease ouroperational flexibility, which could adversely affect our operating efficiency. In addition, our response to any organizational efforts could be perceivednegatively and harm our business and reputation.Our Supplier Relationships Subject Us to a Number of RisksWe have significant suppliers, including content and technology licensors, and in some cases, limited or single-sources of supply, that are important toour sourcing, services, manufacturing, and any related ongoing servicing of merchandise and content. We do not have long-term arrangements with most of oursuppliers to guarantee availability of merchandise, content, components, or services, particular payment terms, or the extension of credit limits. Decisions byour current suppliers to limit or stop selling or licensing merchandise, content, components, or services to us on acceptable terms, or delay delivery, includingas a result of one or more supplier bankruptcies due to poor economic conditions, as a result of natural or human-caused disasters (including public healthcrises) or geopolitical events, or for other reasons, may result in our being unable to procure alternatives from other suppliers in a timely and efficient mannerand on acceptable terms, or at all. For example, we rely on a limited group of suppliers for semiconductor products, including products related to artificialintelligence infrastructure such as graphics processing units. Constraints on the availability of these products could adversely affect our ability to develop andoperate artificial intelligence technologies, products, or services. In addition, violations by our suppliers or other vendors of applicable laws, regulations,contractual terms, intellectual property rights of others, or our Supply Chain Standards, as well as products or practices regarded as unethical, unsafe, orhazardous, could expose us to claims, damage our reputation, limit our growth, and negatively affect our operating results.Our Commercial Agreements, Strategic Alliances, and Other Business Relationships Expose Us to RisksWe provide physical, e-commerce, and omnichannel retail, cloud services, and other services to businesses through commercial agreements, strategicalliances, and business relationships.</td>\n",
       "    </tr>\n",
       "  </tbody>\n",
       "</table>"
      ],
      "text/plain": [
       "<IPython.core.display.HTML object>"
      ]
     },
     "metadata": {},
     "output_type": "display_data"
    }
   ],
   "source": [
    "visualize_retrieved_nodes(new_nodes)"
   ]
  },
  {
   "cell_type": "markdown",
   "id": "1d279da8-064f-4a48-aa1e-37f32bc1f848",
   "metadata": {},
   "source": [
    "### > Add reranking\n",
    "We will use a llamaIndex module called `RankGPTRerank`. This is a zero-shot listwise passage reranking method that uses large language models (Amazon Nova Pro) to efficiently reorder retrieved passages based on their relevance to a given query."
   ]
  },
  {
   "cell_type": "code",
   "execution_count": 15,
   "id": "5999cace-5f53-4187-9319-6c168858b5f8",
   "metadata": {
    "tags": []
   },
   "outputs": [
    {
     "name": "stdout",
     "output_type": "stream",
     "text": [
      "After Reranking, new rank list for nodes: [4, 2, 9, 6, 8, 3, 0, 1, 5, 7]"
     ]
    }
   ],
   "source": [
    "from llama_index.postprocessor.rankgpt_rerank import RankGPTRerank\n",
    "\n",
    "new_nodes = get_retrieved_nodes(\n",
    "    \"Describe key business risks for Amazon during covid\",\n",
    "    vector_top_k=10,\n",
    "    reranker_top_n=5,\n",
    "    with_reranker=True,\n",
    ")"
   ]
  },
  {
   "cell_type": "code",
   "execution_count": 16,
   "id": "e2d7a558-9ec8-40b5-b31a-5fbb0136751f",
   "metadata": {
    "scrolled": true,
    "tags": []
   },
   "outputs": [
    {
     "data": {
      "text/html": [
       "<table border=\"1\" class=\"dataframe\">\n",
       "  <thead>\n",
       "    <tr style=\"text-align: right;\">\n",
       "      <th></th>\n",
       "      <th>Score</th>\n",
       "      <th>Text</th>\n",
       "    </tr>\n",
       "  </thead>\n",
       "  <tbody>\n",
       "    <tr>\n",
       "      <th>0</th>\n",
       "      <td>0.662429</td>\n",
       "      <td>fulfillment, and other expense categories;• availability of and increases in the prices of transportation (including fuel), resources such as land, water, and energy, commodities like paper andpacking supplies and hardware products, and technology infrastructure products, including as a result of inflationary pressures;• constrained labor markets, which increase our payroll costs;• the extent to which operators of the networks between our customers and our stores successfully charge fees to grant our customers unimpaired andunconstrained access to our online services;• our ability to collect amounts owed to us when they become due;• the extent to which new and existing technologies, or industry trends, restrict online advertising or affect our ability to customize advertising orotherwise tailor our product and service offerings;• the extent to which use of our services is affected by spyware, viruses, phishing and other spam emails, denial of service attacks, data theft, computerintrusions, outages, and similar events;• the extent to which we fail to maintain our unique culture of innovation, customer obsession, and long-term thinking, which has been critical to ourgrowth and success;• disruptions from natural or human-caused disasters (including public health crises) or extreme weather (including as a result of climate change),geopolitical events and security issues (including terrorist attacks, armed hostilities, and political conflicts, including those involving China), labor ortrade disputes (including restrictive governmental actions impacting us, our customers, and our third-party sellers and suppliers in China or otherforeign countries), and similar events; and• potential negative impacts of climate change, including: increased operating costs due to more frequent extreme weather events or climate-relatedchanges, such as rising temperatures and water scarcity; increased investment requirements associated with the transition to a low-carbon economy;decreased demand for our products and services as a result of changes in customer behavior; increased compliance costs due to more extensive andglobal regulations and third-party requirements; and reputational damage resulting from perceptions of our environmental impact.</td>\n",
       "    </tr>\n",
       "    <tr>\n",
       "      <th>1</th>\n",
       "      <td>0.712217</td>\n",
       "      <td>which has been critical to ourgrowth and success;• disruptions from natural or human-caused disasters (including public health crises) or extreme weather (including as a result of climate change),geopolitical events and security issues (including terrorist attacks, armed hostilities, and political conflicts, including those involving China), labor ortrade disputes (including restrictive governmental actions impacting us, our customers, and our third-party sellers and suppliers in China or otherforeign countries), and similar events; and• potential negative impacts of climate change, including: increased operating costs due to more frequent extreme weather events or climate-relatedchanges, such as rising temperatures and water scarcity; increased investment requirements associated with the transition to a low-carbon economy;decreased demand for our products and services as a result of changes in customer behavior; increased compliance costs due to more extensive andglobal regulations and third-party requirements; and reputational damage resulting from perceptions of our environmental impact.We Face Risks Related to Successfully Optimizing and Operating Our Fulfillment Network and Data CentersFailures to adequately predict customer demand and consumer spending patterns or otherwise optimize and operate our fulfillment network and datacenters successfully from time to time result in excess or insufficient fulfillment or data center capacity, service interruptions, increased costs, and impairmentcharges, any of which could materially harm our business. As we continue to add fulfillment and data center capability or add new businesses with differentrequirements, our fulfillment and data center networks become increasingly complex and operating them becomes more challenging. There can be no assurancethat we will be able to operate our networks effectively.10</td>\n",
       "    </tr>\n",
       "    <tr>\n",
       "      <th>2</th>\n",
       "      <td>0.652139</td>\n",
       "      <td>We are also subject to labor union efforts to organize groups of our employees from time to time. These organizational efforts, if successful, decrease ouroperational flexibility, which could adversely affect our operating efficiency. In addition, our response to any organizational efforts could be perceivednegatively and harm our business and reputation.Our Supplier Relationships Subject Us to a Number of RisksWe have significant suppliers, including content and technology licensors, and in some cases, limited or single-sources of supply, that are important toour sourcing, services, manufacturing, and any related ongoing servicing of merchandise and content. We do not have long-term arrangements with most of oursuppliers to guarantee availability of merchandise, content, components, or services, particular payment terms, or the extension of credit limits. Decisions byour current suppliers to limit or stop selling or licensing merchandise, content, components, or services to us on acceptable terms, or delay delivery, includingas a result of one or more supplier bankruptcies due to poor economic conditions, as a result of natural or human-caused disasters (including public healthcrises) or geopolitical events, or for other reasons, may result in our being unable to procure alternatives from other suppliers in a timely and efficient mannerand on acceptable terms, or at all. For example, we rely on a limited group of suppliers for semiconductor products, including products related to artificialintelligence infrastructure such as graphics processing units. Constraints on the availability of these products could adversely affect our ability to develop andoperate artificial intelligence technologies, products, or services. In addition, violations by our suppliers or other vendors of applicable laws, regulations,contractual terms, intellectual property rights of others, or our Supply Chain Standards, as well as products or practices regarded as unethical, unsafe, orhazardous, could expose us to claims, damage our reputation, limit our growth, and negatively affect our operating results.Our Commercial Agreements, Strategic Alliances, and Other Business Relationships Expose Us to RisksWe provide physical, e-commerce, and omnichannel retail, cloud services, and other services to businesses through commercial agreements, strategicalliances, and business relationships.</td>\n",
       "    </tr>\n",
       "    <tr>\n",
       "      <th>3</th>\n",
       "      <td>0.659990</td>\n",
       "      <td>We Face Risks Related to Successfully Optimizing and Operating Our Fulfillment Network and Data CentersFailures to adequately predict customer demand or otherwise optimize and operate our fulfillment network and data centers successfully from time totime result in excess or insufficient fulfillment or data center capacity, service interruptions, increased costs, and impairment charges, any of which couldmaterially harm our business. As we continue to add fulfillment and data center capability or add new businesses with different requirements, our fulfillmentand data center networks become increasingly complex and operating them becomes more challenging. There can be no assurance that we will be able tooperate our networks effectively.In addition, failure to optimize inventory or staffing in our fulfillment network increases our net shipping cost by requiring long-zone or partialshipments. We and our co-sourcers may be unable to adequately staff our fulfillment network and customer service centers. For example, productivity acrossour fulfillment network currently is being affected by regional labor market and global supply chain constraints, which increase payroll costs and make itdifficult to hire, train, and deploy a sufficient number of people to operate our fulfillment network as efficiently as we would like.Under some of our commercial agreements, we maintain the inventory of other companies, thereby increasing the complexity of tracking inventory andoperating our fulfillment network. Our failure to properly handle such inventory or the inability of the other businesses on whose behalf we perform inventoryfulfillment services to accurately forecast product demand may result in us being unable to secure sufficient storage space or to optimize our fulfillmentnetwork or cause other unexpected costs and other harm to our business and reputation.We rely on a limited number of shipping companies to deliver inventory to us and completed orders to our customers. An inability to negotiate acceptableterms with these companies or performance problems, staffing limitations, or other difficulties experienced by these companies or by our own transportationsystems, including as a result of labor market constraints and related costs, could negatively impact our operating results and customer experience.</td>\n",
       "    </tr>\n",
       "    <tr>\n",
       "      <th>4</th>\n",
       "      <td>0.652881</td>\n",
       "      <td>Any of these events could cause system interruption, delays, and loss of critical data, and could prevent us fromaccepting and fulfilling customer orders and providing services, which could make our product and service offerings less attractive and subject us to liability.Our systems are not fully redundant and our disaster recovery planning may not be sufficient. In addition, our insurance may not provide sufficient coverage tocompensate for related losses. Any of these events could damage our reputation and be expensive to remedy.The Loss of Key Senior Management Personnel or the Failure to Hire and Retain Highly Skilled and Other Personnel Could Negatively Affect OurBusinessWe depend on our senior management and other key personnel, including our President and CEO. We do not have “key person” life insurance policies.We also rely on other highly skilled personnel. Competition for qualified personnel in the industries in which we operate, as well as senior management, hashistorically been intense. For example, we experience significant competition in the technology industry, particularly for software engineers, computerscientists, and other technical staff. In addition, changes we make to our current and future work environments may not meet the needs or expectations of ouremployees or may be perceived as less favorable compared to other companies’ policies, which could negatively impact our ability to hire and retain qualifiedpersonnel. The loss of any of our executive officers or other key employees, the failure to successfully transition key roles, or the inability to hire, train, retain,and manage qualified personnel, could harm our business.We also rely on a significant number of personnel to operate our stores, fulfillment network, and data centers and carry out our other operations. Failureto successfully hire, train, manage, and retain sufficient personnel to meet our needs can strain our operations, increase payroll and other costs, and harm ourbusiness and reputation. In addition, changes in laws and regulations applicable to employees, independent contractors, and temporary personnel could increaseour payroll costs, decrease our operational flexibility, and negatively impact how we are able to staff our operations and supplement our workforce.We are also subject to labor union efforts to organize groups of our employees from time to time.</td>\n",
       "    </tr>\n",
       "  </tbody>\n",
       "</table>"
      ],
      "text/plain": [
       "<IPython.core.display.HTML object>"
      ]
     },
     "metadata": {},
     "output_type": "display_data"
    }
   ],
   "source": [
    "visualize_retrieved_nodes(new_nodes)"
   ]
  },
  {
   "cell_type": "markdown",
   "id": "dfa36afb-0998-4679-8bf2-98c63b18f947",
   "metadata": {},
   "source": [
    "### > Apply reranking to final response generation"
   ]
  },
  {
   "cell_type": "code",
   "execution_count": 17,
   "id": "6da37a97-e610-4989-b43d-c31abe3d2347",
   "metadata": {
    "tags": []
   },
   "outputs": [],
   "source": [
    "query_engine_naive = amazon_index.as_query_engine(similarity_top_k=10)"
   ]
  },
  {
   "cell_type": "code",
   "execution_count": 18,
   "id": "9c49cb9f-33fc-4f6f-8d41-cc900dd12ab9",
   "metadata": {
    "tags": []
   },
   "outputs": [],
   "source": [
    "response = query_engine_naive.query(\n",
    "    \"Describe key business risks for Amazon during covid\"\n",
    ")"
   ]
  },
  {
   "cell_type": "code",
   "execution_count": 19,
   "id": "ea6b3b55-cd6f-48f3-a1ee-5057cde3752f",
   "metadata": {
    "tags": []
   },
   "outputs": [],
   "source": [
    "reranker = RankGPTRerank(\n",
    "            llm=BedrockConverse(model = \"us.amazon.nova-pro-v1:0\", profile_name=\"default\"),\n",
    "            top_n=5,\n",
    "            verbose=True,\n",
    "        )"
   ]
  },
  {
   "cell_type": "code",
   "execution_count": 20,
   "id": "53c96b91-a4be-42bc-9616-6caa9c24ab6b",
   "metadata": {
    "tags": []
   },
   "outputs": [],
   "source": [
    "query_engine_rerank = amazon_index.as_query_engine(similarity_top_k=10, node_postprocessor =[reranker])"
   ]
  },
  {
   "cell_type": "code",
   "execution_count": 21,
   "id": "0ff672d3-d93d-4933-a6eb-d27702a97e16",
   "metadata": {
    "tags": []
   },
   "outputs": [],
   "source": [
    "response = query_engine_rerank.query(\n",
    "    \"Describe key business risks for Amazon during covid\"\n",
    ")"
   ]
  },
  {
   "cell_type": "markdown",
   "id": "71b984ca-21b0-4321-bba2-a5a60fdd82c2",
   "metadata": {},
   "source": [
    "### > Final reponse"
   ]
  },
  {
   "cell_type": "code",
   "execution_count": 22,
   "id": "83771aef-4d54-48a8-b393-d1691c414fc3",
   "metadata": {
    "tags": []
   },
   "outputs": [
    {
     "name": "stdout",
     "output_type": "stream",
     "text": [
      "Key business risks for Amazon during the COVID-19 pandemic included disruptions from natural or human-caused disasters, extreme weather, geopolitical events, security issues, labor or trade disputes, and potential negative impacts of climate change. Additionally, the company faced risks related to successfully optimizing and operating its fulfillment network and data centers, including failures to predict customer demand, service interruptions, increased costs, and impairment charges. The loss of key senior management personnel or the failure to hire and retain highly skilled and other personnel also posed significant risks. Furthermore, Amazon's supplier relationships and commercial agreements exposed it to additional risks, such as limited or single-sources of supply, and the inability to procure alternatives in a timely and efficient manner.\n"
     ]
    }
   ],
   "source": [
    "print(response)"
   ]
  },
  {
   "cell_type": "code",
   "execution_count": null,
   "id": "2fd1d956-cee2-4345-8de1-7e1ec91f011b",
   "metadata": {},
   "outputs": [],
   "source": []
  }
 ],
 "metadata": {
  "kernelspec": {
   "display_name": "Python 3 (ipykernel)",
   "language": "python",
   "name": "python3"
  },
  "language_info": {
   "codemirror_mode": {
    "name": "ipython",
    "version": 3
   },
   "file_extension": ".py",
   "mimetype": "text/x-python",
   "name": "python",
   "nbconvert_exporter": "python",
   "pygments_lexer": "ipython3",
   "version": "3.11.11"
  }
 },
 "nbformat": 4,
 "nbformat_minor": 5
}
