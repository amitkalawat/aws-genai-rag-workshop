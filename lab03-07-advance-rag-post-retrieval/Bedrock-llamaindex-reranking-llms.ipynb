{
 "cells": [
  {
   "cell_type": "markdown",
   "id": "99cea58c-48bc-4af6-8358-df9695659983",
   "metadata": {},
   "source": [
    "# RAG Post Retrieval Optimization - Reranking featuring Bedrock and llamaindex"
   ]
  },
  {
   "cell_type": "markdown",
   "id": "673df1fe-eb6c-46ea-9a73-a96e7ae7942e",
   "metadata": {},
   "source": [
    "Reranking is a crucial post-retrieval process that refines the initial set of retrieved documents to improve the relevance and quality of information used for generating responses. After the initial retrieval step, which typically uses methods like vector similarity search, reranking takes the retrieved documents and re-scores their relevance to the query using more sophisticated techniques. These may include cross-encoders, BERT-based models, or other advanced algorithms that can better capture semantic nuances and context. Based on these scores, the documents are reordered, pushing the most relevant and informative ones to the top, thereby enhancing the accuracy and contextual appropriateness of the final response.\n",
    "\n",
    "In this lab, we will highlight the usage of Bedrock Reranker LLMs (for example Cohere Rerank 3.5) as a reranker model to improve the relevance of the documents retrieved from Amazon SEC filings. We also utilized the Bedrock Nova Pro model and the Bedrock Titan Text Embedding v2.0 model for natural language processing and document embeddings to build this RAG system. The key steps were: ingesting PDF documents into a vector database index, retrieving top relevant nodes based on a query using semantic search, reranking the retrieved nodes using the fine-tuned transformer model deployed on SageMaker, and synthesizing a final response consolidating the reranked information. See below image for details.\n",
    "\n",
    "- Vector Database (Faiss / local on the notebook for this demo)\n",
    "- LLM (Amazon Bedrock - Nova Pro)\n",
    "- Embeddings Model (Bedrock Titan Text Embedding v2.0)\n",
    "- ReRanking Model (Cohere Reranker 3.5) running on Bedrock\n",
    "- Llamaindex for orchestration (ingestion, reranking, retrieval and final response synthesis)\n",
    "- Datasets (Amazon SEC 10-k statements for year 2022 and 2023 )"
   ]
  },
  {
   "cell_type": "markdown",
   "id": "3b292497-3925-4977-9746-406d0e2062b6",
   "metadata": {},
   "source": [
    "## Pre-req\n",
    "You must run the `[workshop_setup.ipynb]`(../lab00-setup/workshop_setup.ipynb) notebook in `lab00-setup` before starting this lab."
   ]
  },
  {
   "cell_type": "code",
   "execution_count": 1,
   "id": "3fca62b6-2850-4293-a6fe-de90798611bf",
   "metadata": {},
   "outputs": [
    {
     "name": "stderr",
     "output_type": "stream",
     "text": [
      "/tmp/ipykernel_23283/952814476.py:2: UserWarning: Warning: if you did not run lab00-setup, please go back and run the lab00 notebook\n",
      "  warnings.warn(\"Warning: if you did not run lab00-setup, please go back and run the lab00 notebook\")\n"
     ]
    }
   ],
   "source": [
    "import warnings\n",
    "warnings.warn(\"Warning: if you did not run lab00-setup, please go back and run the lab00 notebook\") "
   ]
  },
  {
   "cell_type": "markdown",
   "id": "63af8379",
   "metadata": {},
   "source": [
    "\n",
    "### > Setup\n",
    "We start by importing necessary llamaindex libraries"
   ]
  },
  {
   "cell_type": "code",
   "execution_count": 2,
   "id": "ffebb89a-58e0-4fa0-ba8c-fdceb8f09d0d",
   "metadata": {
    "tags": []
   },
   "outputs": [],
   "source": [
    "from llama_index.embeddings.bedrock import BedrockEmbedding\n",
    "from llama_index.core.postprocessor import LLMRerank\n",
    "from llama_index.core import VectorStoreIndex, SimpleDirectoryReader\n",
    "from llama_index.core.tools import QueryEngineTool, ToolMetadata\n",
    "from llama_index.core import Settings"
   ]
  },
  {
   "cell_type": "markdown",
   "id": "1adf69a3",
   "metadata": {},
   "source": [
    "We select Anthropic Claude3 Sonnet as our LLM. For embedding model, we are selecting Amazon Titan Text Embed v2.0. Chunk size is set at 512 for this example."
   ]
  },
  {
   "cell_type": "code",
   "execution_count": 3,
   "id": "9d47283b-025e-4874-88ed-76245b22f82e",
   "metadata": {
    "tags": []
   },
   "outputs": [],
   "source": [
    "import json\n",
    "from typing import Sequence, List\n",
    "from llama_index.core.settings import Settings\n",
    "from llama_index.llms.bedrock_converse import BedrockConverse\n",
    "from llama_index.embeddings.bedrock import BedrockEmbedding, Models\n",
    "from llama_index.core import VectorStoreIndex, SimpleDirectoryReader\n",
    "#from llama_index.core.postprocessor.bedrock_rerank import AWSBedrockRerank\n",
    "\n",
    "profile_name = \"default\"\n",
    "\n",
    "# define the LLM\n",
    "llm = BedrockConverse(\n",
    "    model=\"us.amazon.nova-pro-v1:0\",\n",
    "    profile_name=profile_name,\n",
    ")\n",
    "\n",
    "# define the embedding model\n",
    "embed_model = BedrockEmbedding(model = \"amazon.titan-embed-text-v2:0\")\n",
    "\n",
    "Settings.llm = llm\n",
    "Settings.embed_model = embed_model\n",
    "Settings.chunk_size = 512\n",
    "\n",
    "from llama_index.core.llms import ChatMessage\n",
    "from llama_index.core.tools import BaseTool, FunctionTool\n",
    "import nest_asyncio\n",
    "nest_asyncio.apply()"
   ]
  },
  {
   "cell_type": "markdown",
   "id": "21029523",
   "metadata": {},
   "source": [
    "### > Document Ingestion\n",
    "We ingest and index the data stored in data directory. The amazon folder has SEC-10k files from 2022 and 2023."
   ]
  },
  {
   "cell_type": "code",
   "execution_count": 4,
   "id": "16457565-4547-4655-a695-6e468286bf56",
   "metadata": {
    "tags": []
   },
   "outputs": [],
   "source": [
    "# load data\n",
    "amazon_secfiles = SimpleDirectoryReader(input_dir=\"../data/lab03/amazon/\").load_data()\n",
    "\n",
    "# build index\n",
    "amazon_index = VectorStoreIndex.from_documents(\n",
    "    amazon_secfiles,\n",
    "    use_async=True,\n",
    ")"
   ]
  },
  {
   "cell_type": "code",
   "execution_count": 7,
   "id": "c19cdaa6-6dc9-4ecb-9022-722086575612",
   "metadata": {},
   "outputs": [
    {
     "name": "stdout",
     "output_type": "stream",
     "text": [
      "Key business risks for Amazon during the COVID-19 pandemic included disruptions from natural or human-caused disasters, extreme weather, geopolitical events, and security issues. Additionally, labor or trade disputes, including restrictive governmental actions impacting Amazon, its customers, and third-party sellers and suppliers in foreign countries, posed significant risks. The pandemic also heightened the challenges related to successfully optimizing and operating Amazon's fulfillment network and data centers, as well as managing and retaining sufficient personnel to meet operational needs. Furthermore, the company faced risks related to its supplier relationships, including limited or single-sources of supply and the lack of long-term arrangements to guarantee availability of merchandise and content.\n"
     ]
    }
   ],
   "source": [
    "query_engine = amazon_index.as_query_engine(similarity_top_k=5)\n",
    "response = query_engine.query(\n",
    "    \"Describe key business risks for Amazon during covid?\",\n",
    ")\n",
    "\n",
    "print(response)"
   ]
  },
  {
   "cell_type": "code",
   "execution_count": 8,
   "id": "70d5a7c8-6ae1-4b0e-9482-92e2afd60606",
   "metadata": {},
   "outputs": [
    {
     "name": "stdout",
     "output_type": "stream",
     "text": [
      "[NodeWithScore(node=TextNode(id_='bad0e873-f7ad-4c1c-a8ed-8671b5e3523e', embedding=None, metadata={'page_label': '6', 'file_name': 'amazon_2023.pdf', 'file_path': '/home/sagemaker-user/aws-genai-rag-workshop/lab03-07-advance-rag-post-retrieval/../data/lab03/amazon/amazon_2023.pdf', 'file_type': 'application/pdf', 'file_size': 800598, 'creation_date': '2025-03-12', 'last_modified_date': '2024-02-02'}, excluded_embed_metadata_keys=['file_name', 'file_type', 'file_size', 'creation_date', 'last_modified_date', 'last_accessed_date'], excluded_llm_metadata_keys=['file_name', 'file_type', 'file_size', 'creation_date', 'last_modified_date', 'last_accessed_date'], relationships={<NodeRelationship.SOURCE: '1'>: RelatedNodeInfo(node_id='0e740494-5573-47f9-8a25-ae63cb76a564', node_type='4', metadata={'page_label': '6', 'file_name': 'amazon_2023.pdf', 'file_path': '/home/sagemaker-user/aws-genai-rag-workshop/lab03-07-advance-rag-post-retrieval/../data/lab03/amazon/amazon_2023.pdf', 'file_type': 'application/pdf', 'file_size': 800598, 'creation_date': '2025-03-12', 'last_modified_date': '2024-02-02'}, hash='c54b9474c554c63d286449dd407e4efab5c68a3c62da886af9b554c548a494cf'), <NodeRelationship.PREVIOUS: '2'>: RelatedNodeInfo(node_id='8eace8fd-8617-4541-a2ac-c9f30e3161c4', node_type='1', metadata={'page_label': '6', 'file_name': 'amazon_2023.pdf', 'file_path': '/home/sagemaker-user/aws-genai-rag-workshop/lab03-07-advance-rag-post-retrieval/../data/lab03/amazon/amazon_2023.pdf', 'file_type': 'application/pdf', 'file_size': 800598, 'creation_date': '2025-03-12', 'last_modified_date': '2024-02-02'}, hash='4c01d7819781938cd6a5d7827059ae55b49ad3efe2d28253b08cf10f52a79881'), <NodeRelationship.NEXT: '3'>: RelatedNodeInfo(node_id='240f6221-bc39-4903-a44e-51f8b481e96d', node_type='1', metadata={}, hash='4e7f7adcc11d09e3f57f57c7b35fd02b4538f5525c1a34f527cb70c84a5dd17d')}, metadata_template='{key}: {value}', metadata_separator='\\n', text='These risk factors do not identify all risks that we face; our operations could also be affected by factors, events, or\\nuncertainties that are not presently known to us or that we currently do not consider to present significant risks to our operations. In addition to the factors\\ndiscussed in Item 7 of Part II, “Management’s Discussion and Analysis of Financial Condition and Results of Operations,” and in the risk factors below, global\\neconomic and geopolitical conditions and additional or unforeseen circumstances, developments, or events may give rise to or amplify many of the risks\\ndiscussed below. Many of the risks discussed below also impact our customers, including third-party sellers, which could indirectly have a material adverse\\neffect on us.\\nBusiness and Industry Risks\\nWe Face Intense Competition\\nOur businesses are rapidly evolving and intensely competitive, and we have many competitors across geographies, including cross-border competition,\\nand in different industries, including physical, e-commerce, and omnichannel retail, e-commerce services, web and infrastructure computing services,\\nelectronic devices, digital content, advertising, grocery, and transportation and logistics services. Some of our current and potential competitors have greater\\nresources, longer histories, more customers, and/or greater brand recognition, particularly with our newly-launched products and services and in our newer\\ngeographic regions. They may secure better terms from vendors, adopt more aggressive pricing, and devote more resources to technology, infrastructure,\\nfulfillment, and marketing.\\nCompetition continues to intensify, including with the development of new business models and the entry of new and well-funded competitors, and as\\nour competitors enter into business combinations or alliances and established companies in other market segments expand to become competitive with our\\nbusiness. In addition, new and enhanced technologies, including search, web and infrastructure computing services, practical applications of artificial\\nintelligence and machine learning, digital content, and electronic devices continue to increase our competition. The internet facilitates competitive entry and\\ncomparison shopping, which enhances the ability of new, smaller, or lesser known businesses to compete against us.', mimetype='text/plain', start_char_idx=1318, end_char_idx=3651, metadata_seperator='\\n', text_template='{metadata_str}\\n\\n{content}'), score=0.6710127017031952), NodeWithScore(node=TextNode(id_='f04a09a9-f8f6-48cb-a5e1-ab25e6480362', embedding=None, metadata={'page_label': '6', 'file_name': 'amazon_2022.pdf', 'file_path': '/home/sagemaker-user/aws-genai-rag-workshop/lab03-07-advance-rag-post-retrieval/../data/lab03/amazon/amazon_2022.pdf', 'file_type': 'application/pdf', 'file_size': 712683, 'creation_date': '2025-03-12', 'last_modified_date': '2023-02-03'}, excluded_embed_metadata_keys=['file_name', 'file_type', 'file_size', 'creation_date', 'last_modified_date', 'last_accessed_date'], excluded_llm_metadata_keys=['file_name', 'file_type', 'file_size', 'creation_date', 'last_modified_date', 'last_accessed_date'], relationships={<NodeRelationship.SOURCE: '1'>: RelatedNodeInfo(node_id='8dbb5379-b32b-4314-98f1-60938da6ee0d', node_type='4', metadata={'page_label': '6', 'file_name': 'amazon_2022.pdf', 'file_path': '/home/sagemaker-user/aws-genai-rag-workshop/lab03-07-advance-rag-post-retrieval/../data/lab03/amazon/amazon_2022.pdf', 'file_type': 'application/pdf', 'file_size': 712683, 'creation_date': '2025-03-12', 'last_modified_date': '2023-02-03'}, hash='7d6e9035500ef61428344f7f84418e2d835c8c8ff0d15b2e7b58a3c392960f2b'), <NodeRelationship.PREVIOUS: '2'>: RelatedNodeInfo(node_id='0be5ec16-65ee-486b-b231-70fec8c7ee28', node_type='1', metadata={'page_label': '6', 'file_name': 'amazon_2022.pdf', 'file_path': '/home/sagemaker-user/aws-genai-rag-workshop/lab03-07-advance-rag-post-retrieval/../data/lab03/amazon/amazon_2022.pdf', 'file_type': 'application/pdf', 'file_size': 712683, 'creation_date': '2025-03-12', 'last_modified_date': '2023-02-03'}, hash='37a8737f987a02b35a27c515a53cb60301641361bbd882b3e1da7059be9cff23'), <NodeRelationship.NEXT: '3'>: RelatedNodeInfo(node_id='ecbf7614-56d6-44ec-a4d2-7f72f23f49da', node_type='1', metadata={}, hash='5114270f80cc4b5fa1cccc292f45f9c932efb212935d13627b99a2ef23c7d2ee')}, metadata_template='{key}: {value}', metadata_separator='\\n', text='These risk factors do not identify all risks that we face; our operations could also be affected by factors, events, or\\nuncertainties that are not presently known to us or that we currently do not consider to present significant risks to our operations. In addition to the factors\\ndiscussed in Item 7 of Part II, “Management’s Discussion and Analysis of Financial Condition and Results of Operations—Overview,” and in the risk factors\\nbelow, global economic and geopolitical conditions and additional or unforeseen circumstances, developments, or events may give rise to or amplify many of\\nthe risks discussed below. Many of the risks discussed below also impact our customers, including third-party sellers, which could indirectly have a material\\nadverse effect on us.\\nBusiness and Industry Risks\\nWe Face Intense Competition\\nOur businesses are rapidly evolving and intensely competitive, and we have many competitors across geographies, including cross-border competition,\\nand in different industries, including physical, e-commerce, and omnichannel retail, e-commerce services, web and infrastructure computing services,\\nelectronic devices, digital content, advertising, grocery, and transportation and logistics services. Some of our current and potential competitors have greater\\nresources, longer histories, more customers, and/or greater brand recognition, particularly with our newly-launched products and services and in our newer\\ngeographic regions. They may secure better terms from vendors, adopt more aggressive pricing, and devote more resources to technology, infrastructure,\\nfulfillment, and marketing.\\nCompetition continues to intensify, including with the development of new business models and the entry of new and well-funded competitors, and as\\nour competitors enter into business combinations or alliances and established companies in other market segments expand to become competitive with our\\nbusiness. In addition, new and enhanced technologies, including search, web and infrastructure computing services, digital content, and electronic devices\\ncontinue to increase our competition. The Internet facilitates competitive entry and comparison shopping, which enhances the ability of new, smaller, or lesser\\nknown businesses to compete against us.', mimetype='text/plain', start_char_idx=1307, end_char_idx=3577, metadata_seperator='\\n', text_template='{metadata_str}\\n\\n{content}'), score=0.6703210243694426), NodeWithScore(node=TextNode(id_='23655e99-3bd4-4f57-b7fb-7e29b83a6bf1', embedding=None, metadata={'page_label': '10', 'file_name': 'amazon_2023.pdf', 'file_path': '/home/sagemaker-user/aws-genai-rag-workshop/lab03-07-advance-rag-post-retrieval/../data/lab03/amazon/amazon_2023.pdf', 'file_type': 'application/pdf', 'file_size': 800598, 'creation_date': '2025-03-12', 'last_modified_date': '2024-02-02'}, excluded_embed_metadata_keys=['file_name', 'file_type', 'file_size', 'creation_date', 'last_modified_date', 'last_accessed_date'], excluded_llm_metadata_keys=['file_name', 'file_type', 'file_size', 'creation_date', 'last_modified_date', 'last_accessed_date'], relationships={<NodeRelationship.SOURCE: '1'>: RelatedNodeInfo(node_id='f0e1c158-4b5f-489e-b2c1-9b7649105569', node_type='4', metadata={'page_label': '10', 'file_name': 'amazon_2023.pdf', 'file_path': '/home/sagemaker-user/aws-genai-rag-workshop/lab03-07-advance-rag-post-retrieval/../data/lab03/amazon/amazon_2023.pdf', 'file_type': 'application/pdf', 'file_size': 800598, 'creation_date': '2025-03-12', 'last_modified_date': '2024-02-02'}, hash='bc3eec72aeb2a67eb7e906519f5f02df45746bff09f1da0cd0328d796fb011b9'), <NodeRelationship.PREVIOUS: '2'>: RelatedNodeInfo(node_id='3ddb0945-5fdf-4dcc-b228-5d742549f0df', node_type='1', metadata={'page_label': '10', 'file_name': 'amazon_2023.pdf', 'file_path': '/home/sagemaker-user/aws-genai-rag-workshop/lab03-07-advance-rag-post-retrieval/../data/lab03/amazon/amazon_2023.pdf', 'file_type': 'application/pdf', 'file_size': 800598, 'creation_date': '2025-03-12', 'last_modified_date': '2024-02-02'}, hash='693aaf63cafc5f44ba9bb8f415d325ce94a9329a8b2147f31326f7ae0d7f52d4')}, metadata_template='{key}: {value}', metadata_separator='\\n', text='which has been critical to our\\ngrowth and success;\\n• disruptions from natural or human-caused disasters (including public health crises) or extreme weather (including as a result of climate change),\\ngeopolitical events and security issues (including terrorist attacks, armed hostilities, and political conflicts, including those involving China), labor or\\ntrade disputes (including restrictive governmental actions impacting us, our customers, and our third-party sellers and suppliers in China or other\\nforeign countries), and similar events; and\\n• potential negative impacts of climate change, including: increased operating costs due to more frequent extreme weather events or climate-related\\nchanges, such as rising temperatures and water scarcity; increased investment requirements associated with the transition to a low-carbon economy;\\ndecreased demand for our products and services as a result of changes in customer behavior; increased compliance costs due to more extensive and\\nglobal regulations and third-party requirements; and reputational damage resulting from perceptions of our environmental impact.\\nWe Face Risks Related to Successfully Optimizing and Operating Our Fulfillment Network and Data Centers\\nFailures to adequately predict customer demand and consumer spending patterns or otherwise optimize and operate our fulfillment network and data\\ncenters successfully from time to time result in excess or insufficient fulfillment or data center capacity, service interruptions, increased costs, and impairment\\ncharges, any of which could materially harm our business. As we continue to add fulfillment and data center capability or add new businesses with different\\nrequirements, our fulfillment and data center networks become increasingly complex and operating them becomes more challenging. There can be no assurance\\nthat we will be able to operate our networks effectively.\\n10', mimetype='text/plain', start_char_idx=2495, end_char_idx=4395, metadata_seperator='\\n', text_template='{metadata_str}\\n\\n{content}'), score=0.6609862638561769), NodeWithScore(node=TextNode(id_='e6e31770-2e87-4248-8b81-273f1ff26893', embedding=None, metadata={'page_label': '11', 'file_name': 'amazon_2022.pdf', 'file_path': '/home/sagemaker-user/aws-genai-rag-workshop/lab03-07-advance-rag-post-retrieval/../data/lab03/amazon/amazon_2022.pdf', 'file_type': 'application/pdf', 'file_size': 712683, 'creation_date': '2025-03-12', 'last_modified_date': '2023-02-03'}, excluded_embed_metadata_keys=['file_name', 'file_type', 'file_size', 'creation_date', 'last_modified_date', 'last_accessed_date'], excluded_llm_metadata_keys=['file_name', 'file_type', 'file_size', 'creation_date', 'last_modified_date', 'last_accessed_date'], relationships={<NodeRelationship.SOURCE: '1'>: RelatedNodeInfo(node_id='7b8db437-9499-477c-9252-28bfed688bd6', node_type='4', metadata={'page_label': '11', 'file_name': 'amazon_2022.pdf', 'file_path': '/home/sagemaker-user/aws-genai-rag-workshop/lab03-07-advance-rag-post-retrieval/../data/lab03/amazon/amazon_2022.pdf', 'file_type': 'application/pdf', 'file_size': 712683, 'creation_date': '2025-03-12', 'last_modified_date': '2023-02-03'}, hash='2e2342ced962f92cc6a9f0146b59fb12d839802c70dbe3d3cc56b31e493dd435'), <NodeRelationship.PREVIOUS: '2'>: RelatedNodeInfo(node_id='6f8b34ad-0a18-402e-bc9f-e4c850c8d8a0', node_type='1', metadata={'page_label': '11', 'file_name': 'amazon_2022.pdf', 'file_path': '/home/sagemaker-user/aws-genai-rag-workshop/lab03-07-advance-rag-post-retrieval/../data/lab03/amazon/amazon_2022.pdf', 'file_type': 'application/pdf', 'file_size': 712683, 'creation_date': '2025-03-12', 'last_modified_date': '2023-02-03'}, hash='71286e819e0b966e6ca9be6051aa431586a9357c0c1662409229a9efb0274dfe')}, metadata_template='{key}: {value}', metadata_separator='\\n', text='The loss of any of our executive officers or other key employees, the failure to successfully transition key roles, or the inability to hire, train, retain,\\nand manage qualified personnel, could harm our business.\\nWe also rely on a significant number of personnel to operate our stores, fulfillment network, and data centers and carry out our other operations. Failure\\nto successfully hire, train, manage, and retain sufficient personnel to meet our needs can strain our operations, increase payroll and other costs, and harm our\\nbusiness and reputation. In addition, changes in laws and regulations applicable to employees, independent contractors, and temporary personnel could increase\\nour payroll costs, decrease our operational flexibility, and negatively impact how we are able to staff our operations and supplement our workforce.\\nWe are also subject to labor union efforts to organize groups of our employees from time to time. These organizational efforts, if successful, decrease our\\noperational flexibility, which could adversely affect our operating efficiency. In addition, our response to any organizational efforts could be perceived\\nnegatively and harm our business and reputation.\\nOur Supplier Relationships Subject Us to a Number of Risks\\nWe have significant suppliers, including content and technology licensors, and in some cases, limited or single-sources of supply, that are important to\\nour sourcing, services, manufacturing, and any related ongoing servicing of merchandise and content. We do not have long-term arrangements with most of our\\nsuppliers to guarantee availability of merchandise, content,\\n11', mimetype='text/plain', start_char_idx=4347, end_char_idx=5976, metadata_seperator='\\n', text_template='{metadata_str}\\n\\n{content}'), score=0.622494858257877), NodeWithScore(node=TextNode(id_='f724e3aa-02f4-40cc-a9c3-38676e8442ae', embedding=None, metadata={'page_label': '7', 'file_name': 'amazon_2022.pdf', 'file_path': '/home/sagemaker-user/aws-genai-rag-workshop/lab03-07-advance-rag-post-retrieval/../data/lab03/amazon/amazon_2022.pdf', 'file_type': 'application/pdf', 'file_size': 712683, 'creation_date': '2025-03-12', 'last_modified_date': '2023-02-03'}, excluded_embed_metadata_keys=['file_name', 'file_type', 'file_size', 'creation_date', 'last_modified_date', 'last_accessed_date'], excluded_llm_metadata_keys=['file_name', 'file_type', 'file_size', 'creation_date', 'last_modified_date', 'last_accessed_date'], relationships={<NodeRelationship.SOURCE: '1'>: RelatedNodeInfo(node_id='5300d9dd-4c81-4960-bc4e-9fe273438b9b', node_type='4', metadata={'page_label': '7', 'file_name': 'amazon_2022.pdf', 'file_path': '/home/sagemaker-user/aws-genai-rag-workshop/lab03-07-advance-rag-post-retrieval/../data/lab03/amazon/amazon_2022.pdf', 'file_type': 'application/pdf', 'file_size': 712683, 'creation_date': '2025-03-12', 'last_modified_date': '2023-02-03'}, hash='40ec6d6e17d2f335521ffa78cde45cdbafa8772d02ea726cea3db8a0bd9602a8'), <NodeRelationship.PREVIOUS: '2'>: RelatedNodeInfo(node_id='a3c56586-d3d4-4b0e-a2ef-3dfc4b514d7a', node_type='1', metadata={'page_label': '7', 'file_name': 'amazon_2022.pdf', 'file_path': '/home/sagemaker-user/aws-genai-rag-workshop/lab03-07-advance-rag-post-retrieval/../data/lab03/amazon/amazon_2022.pdf', 'file_type': 'application/pdf', 'file_size': 712683, 'creation_date': '2025-03-12', 'last_modified_date': '2023-02-03'}, hash='5462c2670dc94b6db2674ed11846f164296dba750c04ec03c11faa5f62ef8c97'), <NodeRelationship.NEXT: '3'>: RelatedNodeInfo(node_id='7e1219da-0b86-401a-a204-209285fde302', node_type='1', metadata={}, hash='99e5d51db47bb47e7d32c6d2856c49ded86a8dec35f8c81a9a70b42ee21edacd')}, metadata_template='{key}: {value}', metadata_separator='\\n', text=';\\n• lower levels of credit card usage and increased payment risk;\\n• difficulty in staffing, developing, and managing foreign operations as a result of distance, language, and cultural differences;\\n• different employee/employer relationships and the existence of works councils and labor unions;\\n• compliance with the U.S. Foreign Corrupt Practices Act and other applicable U.S. and foreign laws prohibiting corrupt payments to government\\nofficials and other third parties;\\n• laws and policies of the U.S. and other jurisdictions affecting trade, foreign investment, loans, and taxes; and\\n• geopolitical events, including war and terrorism.\\nAs international physical, e-commerce, and omnichannel retail, cloud services, and other services grow, competition will intensify, including through\\nadoption of evolving business models. Local companies may have a substantial competitive advantage because of their greater understanding of, and focus on,\\nthe local customer, as well as their more established local brand names. The inability to hire, train, retain, and manage sufficient required personnel may limit\\nour international growth.\\nThe People’s Republic of China (“PRC”) and India regulate Amazon’s and its affiliates’ businesses and operations in country through regulations and\\nlicense requirements that may restrict (i) foreign investment in and operation of the Internet, IT infrastructure, data centers, retail, delivery, and other sectors,\\n(ii) Internet content, and (iii) the sale of media and other products and services. For example, in order to meet local ownership, regulatory licensing, and\\ncybersecurity requirements, we provide certain technology services in China through contractual relationships with third parties that hold PRC licenses to\\nprovide services. In India, the government restricts the ownership or control of Indian companies by foreign entities involved in online multi-brand retail\\ntrading activities. For www.amazon.in, we provide certain marketing tools and logistics services to third-party sellers to enable them to sell online and deliver\\nto customers, and we hold indirect minority interests in entities that are third-party sellers on the www.amazon.in marketplace.', mimetype='text/plain', start_char_idx=2378, end_char_idx=4584, metadata_seperator='\\n', text_template='{metadata_str}\\n\\n{content}'), score=0.6164844109902498)]\n"
     ]
    }
   ],
   "source": [
    "print(response.source_nodes)"
   ]
  },
  {
   "cell_type": "markdown",
   "id": "cd870f6d-39c8-45aa-bae3-a473b1561b60",
   "metadata": {},
   "source": [
    "# Using Bedrock Rerank LLMs with Llamaindex. We will try with Cohere Reranker3.5"
   ]
  },
  {
   "cell_type": "code",
   "execution_count": 12,
   "id": "968fc306-2386-4df0-940d-f156f000ea48",
   "metadata": {},
   "outputs": [],
   "source": [
    "from llama_index.core import VectorStoreIndex, SimpleDirectoryReader\n",
    "from llama_index.postprocessor.bedrock_rerank import AWSBedrockRerank"
   ]
  },
  {
   "cell_type": "code",
   "execution_count": 13,
   "id": "27c23440-bb7e-4d1e-888e-cfe1472ce6b3",
   "metadata": {},
   "outputs": [],
   "source": [
    "reranker = AWSBedrockRerank(\n",
    "    top_n=3,\n",
    "    model_id=\"cohere.rerank-v3-5:0\",\n",
    "    region_name=\"us-west-2\",\n",
    ")"
   ]
  },
  {
   "cell_type": "code",
   "execution_count": 14,
   "id": "23f9a100-6445-4fa4-be4f-e873ab4bc23e",
   "metadata": {},
   "outputs": [
    {
     "name": "stdout",
     "output_type": "stream",
     "text": [
      "The key business risks for Amazon during the COVID-19 period include intense competition across various sectors such as retail, e-commerce services, web and infrastructure computing services, electronic devices, digital content, advertising, grocery, and transportation and logistics. Competitors may have greater resources, longer histories, more customers, and greater brand recognition, which could lead to better vendor terms, more aggressive pricing, and increased investment in technology and marketing. Additionally, the loss of executive officers or other key employees, challenges in hiring and retaining qualified personnel, and labor union efforts to organize employees pose significant risks. Furthermore, reliance on significant suppliers, including content and technology licensors, and the potential for limited or single-source supply chains, introduce additional risks related to the availability and continuity of merchandise and content.\n"
     ]
    }
   ],
   "source": [
    "query_engine = amazon_index.as_query_engine(\n",
    "    similarity_top_k=5,\n",
    "    node_postprocessors=[reranker],\n",
    ")\n",
    "response = query_engine.query(\n",
    "    \"Describe key business risks for Amazon during covid?\",\n",
    ")\n",
    "\n",
    "print(response)"
   ]
  },
  {
   "cell_type": "code",
   "execution_count": 15,
   "id": "cdc3897d-30e5-41c0-9829-687d7f0e7b20",
   "metadata": {},
   "outputs": [
    {
     "name": "stdout",
     "output_type": "stream",
     "text": [
      "[NodeWithScore(node=TextNode(id_='bad0e873-f7ad-4c1c-a8ed-8671b5e3523e', embedding=None, metadata={'page_label': '6', 'file_name': 'amazon_2023.pdf', 'file_path': '/home/sagemaker-user/aws-genai-rag-workshop/lab03-07-advance-rag-post-retrieval/../data/lab03/amazon/amazon_2023.pdf', 'file_type': 'application/pdf', 'file_size': 800598, 'creation_date': '2025-03-12', 'last_modified_date': '2024-02-02'}, excluded_embed_metadata_keys=['file_name', 'file_type', 'file_size', 'creation_date', 'last_modified_date', 'last_accessed_date'], excluded_llm_metadata_keys=['file_name', 'file_type', 'file_size', 'creation_date', 'last_modified_date', 'last_accessed_date'], relationships={<NodeRelationship.SOURCE: '1'>: RelatedNodeInfo(node_id='0e740494-5573-47f9-8a25-ae63cb76a564', node_type='4', metadata={'page_label': '6', 'file_name': 'amazon_2023.pdf', 'file_path': '/home/sagemaker-user/aws-genai-rag-workshop/lab03-07-advance-rag-post-retrieval/../data/lab03/amazon/amazon_2023.pdf', 'file_type': 'application/pdf', 'file_size': 800598, 'creation_date': '2025-03-12', 'last_modified_date': '2024-02-02'}, hash='c54b9474c554c63d286449dd407e4efab5c68a3c62da886af9b554c548a494cf'), <NodeRelationship.PREVIOUS: '2'>: RelatedNodeInfo(node_id='8eace8fd-8617-4541-a2ac-c9f30e3161c4', node_type='1', metadata={'page_label': '6', 'file_name': 'amazon_2023.pdf', 'file_path': '/home/sagemaker-user/aws-genai-rag-workshop/lab03-07-advance-rag-post-retrieval/../data/lab03/amazon/amazon_2023.pdf', 'file_type': 'application/pdf', 'file_size': 800598, 'creation_date': '2025-03-12', 'last_modified_date': '2024-02-02'}, hash='4c01d7819781938cd6a5d7827059ae55b49ad3efe2d28253b08cf10f52a79881'), <NodeRelationship.NEXT: '3'>: RelatedNodeInfo(node_id='240f6221-bc39-4903-a44e-51f8b481e96d', node_type='1', metadata={}, hash='4e7f7adcc11d09e3f57f57c7b35fd02b4538f5525c1a34f527cb70c84a5dd17d')}, metadata_template='{key}: {value}', metadata_separator='\\n', text='These risk factors do not identify all risks that we face; our operations could also be affected by factors, events, or\\nuncertainties that are not presently known to us or that we currently do not consider to present significant risks to our operations. In addition to the factors\\ndiscussed in Item 7 of Part II, “Management’s Discussion and Analysis of Financial Condition and Results of Operations,” and in the risk factors below, global\\neconomic and geopolitical conditions and additional or unforeseen circumstances, developments, or events may give rise to or amplify many of the risks\\ndiscussed below. Many of the risks discussed below also impact our customers, including third-party sellers, which could indirectly have a material adverse\\neffect on us.\\nBusiness and Industry Risks\\nWe Face Intense Competition\\nOur businesses are rapidly evolving and intensely competitive, and we have many competitors across geographies, including cross-border competition,\\nand in different industries, including physical, e-commerce, and omnichannel retail, e-commerce services, web and infrastructure computing services,\\nelectronic devices, digital content, advertising, grocery, and transportation and logistics services. Some of our current and potential competitors have greater\\nresources, longer histories, more customers, and/or greater brand recognition, particularly with our newly-launched products and services and in our newer\\ngeographic regions. They may secure better terms from vendors, adopt more aggressive pricing, and devote more resources to technology, infrastructure,\\nfulfillment, and marketing.\\nCompetition continues to intensify, including with the development of new business models and the entry of new and well-funded competitors, and as\\nour competitors enter into business combinations or alliances and established companies in other market segments expand to become competitive with our\\nbusiness. In addition, new and enhanced technologies, including search, web and infrastructure computing services, practical applications of artificial\\nintelligence and machine learning, digital content, and electronic devices continue to increase our competition. The internet facilitates competitive entry and\\ncomparison shopping, which enhances the ability of new, smaller, or lesser known businesses to compete against us.', mimetype='text/plain', start_char_idx=1318, end_char_idx=3651, metadata_seperator='\\n', text_template='{metadata_str}\\n\\n{content}'), score=0.40726324915885925), NodeWithScore(node=TextNode(id_='f04a09a9-f8f6-48cb-a5e1-ab25e6480362', embedding=None, metadata={'page_label': '6', 'file_name': 'amazon_2022.pdf', 'file_path': '/home/sagemaker-user/aws-genai-rag-workshop/lab03-07-advance-rag-post-retrieval/../data/lab03/amazon/amazon_2022.pdf', 'file_type': 'application/pdf', 'file_size': 712683, 'creation_date': '2025-03-12', 'last_modified_date': '2023-02-03'}, excluded_embed_metadata_keys=['file_name', 'file_type', 'file_size', 'creation_date', 'last_modified_date', 'last_accessed_date'], excluded_llm_metadata_keys=['file_name', 'file_type', 'file_size', 'creation_date', 'last_modified_date', 'last_accessed_date'], relationships={<NodeRelationship.SOURCE: '1'>: RelatedNodeInfo(node_id='8dbb5379-b32b-4314-98f1-60938da6ee0d', node_type='4', metadata={'page_label': '6', 'file_name': 'amazon_2022.pdf', 'file_path': '/home/sagemaker-user/aws-genai-rag-workshop/lab03-07-advance-rag-post-retrieval/../data/lab03/amazon/amazon_2022.pdf', 'file_type': 'application/pdf', 'file_size': 712683, 'creation_date': '2025-03-12', 'last_modified_date': '2023-02-03'}, hash='7d6e9035500ef61428344f7f84418e2d835c8c8ff0d15b2e7b58a3c392960f2b'), <NodeRelationship.PREVIOUS: '2'>: RelatedNodeInfo(node_id='0be5ec16-65ee-486b-b231-70fec8c7ee28', node_type='1', metadata={'page_label': '6', 'file_name': 'amazon_2022.pdf', 'file_path': '/home/sagemaker-user/aws-genai-rag-workshop/lab03-07-advance-rag-post-retrieval/../data/lab03/amazon/amazon_2022.pdf', 'file_type': 'application/pdf', 'file_size': 712683, 'creation_date': '2025-03-12', 'last_modified_date': '2023-02-03'}, hash='37a8737f987a02b35a27c515a53cb60301641361bbd882b3e1da7059be9cff23'), <NodeRelationship.NEXT: '3'>: RelatedNodeInfo(node_id='ecbf7614-56d6-44ec-a4d2-7f72f23f49da', node_type='1', metadata={}, hash='5114270f80cc4b5fa1cccc292f45f9c932efb212935d13627b99a2ef23c7d2ee')}, metadata_template='{key}: {value}', metadata_separator='\\n', text='These risk factors do not identify all risks that we face; our operations could also be affected by factors, events, or\\nuncertainties that are not presently known to us or that we currently do not consider to present significant risks to our operations. In addition to the factors\\ndiscussed in Item 7 of Part II, “Management’s Discussion and Analysis of Financial Condition and Results of Operations—Overview,” and in the risk factors\\nbelow, global economic and geopolitical conditions and additional or unforeseen circumstances, developments, or events may give rise to or amplify many of\\nthe risks discussed below. Many of the risks discussed below also impact our customers, including third-party sellers, which could indirectly have a material\\nadverse effect on us.\\nBusiness and Industry Risks\\nWe Face Intense Competition\\nOur businesses are rapidly evolving and intensely competitive, and we have many competitors across geographies, including cross-border competition,\\nand in different industries, including physical, e-commerce, and omnichannel retail, e-commerce services, web and infrastructure computing services,\\nelectronic devices, digital content, advertising, grocery, and transportation and logistics services. Some of our current and potential competitors have greater\\nresources, longer histories, more customers, and/or greater brand recognition, particularly with our newly-launched products and services and in our newer\\ngeographic regions. They may secure better terms from vendors, adopt more aggressive pricing, and devote more resources to technology, infrastructure,\\nfulfillment, and marketing.\\nCompetition continues to intensify, including with the development of new business models and the entry of new and well-funded competitors, and as\\nour competitors enter into business combinations or alliances and established companies in other market segments expand to become competitive with our\\nbusiness. In addition, new and enhanced technologies, including search, web and infrastructure computing services, digital content, and electronic devices\\ncontinue to increase our competition. The Internet facilitates competitive entry and comparison shopping, which enhances the ability of new, smaller, or lesser\\nknown businesses to compete against us.', mimetype='text/plain', start_char_idx=1307, end_char_idx=3577, metadata_seperator='\\n', text_template='{metadata_str}\\n\\n{content}'), score=0.3980325758457184), NodeWithScore(node=TextNode(id_='e6e31770-2e87-4248-8b81-273f1ff26893', embedding=None, metadata={'page_label': '11', 'file_name': 'amazon_2022.pdf', 'file_path': '/home/sagemaker-user/aws-genai-rag-workshop/lab03-07-advance-rag-post-retrieval/../data/lab03/amazon/amazon_2022.pdf', 'file_type': 'application/pdf', 'file_size': 712683, 'creation_date': '2025-03-12', 'last_modified_date': '2023-02-03'}, excluded_embed_metadata_keys=['file_name', 'file_type', 'file_size', 'creation_date', 'last_modified_date', 'last_accessed_date'], excluded_llm_metadata_keys=['file_name', 'file_type', 'file_size', 'creation_date', 'last_modified_date', 'last_accessed_date'], relationships={<NodeRelationship.SOURCE: '1'>: RelatedNodeInfo(node_id='7b8db437-9499-477c-9252-28bfed688bd6', node_type='4', metadata={'page_label': '11', 'file_name': 'amazon_2022.pdf', 'file_path': '/home/sagemaker-user/aws-genai-rag-workshop/lab03-07-advance-rag-post-retrieval/../data/lab03/amazon/amazon_2022.pdf', 'file_type': 'application/pdf', 'file_size': 712683, 'creation_date': '2025-03-12', 'last_modified_date': '2023-02-03'}, hash='2e2342ced962f92cc6a9f0146b59fb12d839802c70dbe3d3cc56b31e493dd435'), <NodeRelationship.PREVIOUS: '2'>: RelatedNodeInfo(node_id='6f8b34ad-0a18-402e-bc9f-e4c850c8d8a0', node_type='1', metadata={'page_label': '11', 'file_name': 'amazon_2022.pdf', 'file_path': '/home/sagemaker-user/aws-genai-rag-workshop/lab03-07-advance-rag-post-retrieval/../data/lab03/amazon/amazon_2022.pdf', 'file_type': 'application/pdf', 'file_size': 712683, 'creation_date': '2025-03-12', 'last_modified_date': '2023-02-03'}, hash='71286e819e0b966e6ca9be6051aa431586a9357c0c1662409229a9efb0274dfe')}, metadata_template='{key}: {value}', metadata_separator='\\n', text='The loss of any of our executive officers or other key employees, the failure to successfully transition key roles, or the inability to hire, train, retain,\\nand manage qualified personnel, could harm our business.\\nWe also rely on a significant number of personnel to operate our stores, fulfillment network, and data centers and carry out our other operations. Failure\\nto successfully hire, train, manage, and retain sufficient personnel to meet our needs can strain our operations, increase payroll and other costs, and harm our\\nbusiness and reputation. In addition, changes in laws and regulations applicable to employees, independent contractors, and temporary personnel could increase\\nour payroll costs, decrease our operational flexibility, and negatively impact how we are able to staff our operations and supplement our workforce.\\nWe are also subject to labor union efforts to organize groups of our employees from time to time. These organizational efforts, if successful, decrease our\\noperational flexibility, which could adversely affect our operating efficiency. In addition, our response to any organizational efforts could be perceived\\nnegatively and harm our business and reputation.\\nOur Supplier Relationships Subject Us to a Number of Risks\\nWe have significant suppliers, including content and technology licensors, and in some cases, limited or single-sources of supply, that are important to\\nour sourcing, services, manufacturing, and any related ongoing servicing of merchandise and content. We do not have long-term arrangements with most of our\\nsuppliers to guarantee availability of merchandise, content,\\n11', mimetype='text/plain', start_char_idx=4347, end_char_idx=5976, metadata_seperator='\\n', text_template='{metadata_str}\\n\\n{content}'), score=0.34793633222579956)]\n"
     ]
    }
   ],
   "source": [
    "print(response.source_nodes)"
   ]
  },
  {
   "cell_type": "code",
   "execution_count": null,
   "id": "23343f2d-7b50-4098-9900-08233e992f91",
   "metadata": {},
   "outputs": [],
   "source": []
  }
 ],
 "metadata": {
  "kernelspec": {
   "display_name": "Python 3 (ipykernel)",
   "language": "python",
   "name": "python3"
  },
  "language_info": {
   "codemirror_mode": {
    "name": "ipython",
    "version": 3
   },
   "file_extension": ".py",
   "mimetype": "text/x-python",
   "name": "python",
   "nbconvert_exporter": "python",
   "pygments_lexer": "ipython3",
   "version": "3.11.11"
  }
 },
 "nbformat": 4,
 "nbformat_minor": 5
}
