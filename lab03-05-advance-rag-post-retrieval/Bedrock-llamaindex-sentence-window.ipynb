{
 "cells": [
  {
   "cell_type": "markdown",
   "id": "99cea58c-48bc-4af6-8358-df9695659983",
   "metadata": {},
   "source": [
    "# RAG Retrieval Optimization - Sentence Window Parsing technique with Amazon Bedrock and Llamaindex\n",
    "\n",
    "# Small to big retrieval"
   ]
  },
  {
   "cell_type": "markdown",
   "id": "673df1fe-eb6c-46ea-9a73-a96e7ae7942e",
   "metadata": {},
   "source": [
    "In this tutorial, we showcase how to use a sub question query engine to tackle the problem of answering a complex query.\n",
    "It first breaks down the complex query into sub questions for each relevant data source, then gather all the intermediate reponses and synthesizes a final response.\n",
    "\n",
    "- Vector Database (Faiss / local)\n",
    "- LLM (Amazon Bedrock - Claude3 Sonnet)\n",
    "- Embeddings Model (Bedrock Titan Text Embeddings v2.0)\n",
    "- Datasets ( Amazons 10-k sec filings from year 2022 and 2023 )\n",
    "- Llamaindex SentenceWindowNodeParser (This example is built on referece llamaindex documentation available at - https://docs.llamaindex.ai/en/stable/examples/node_postprocessor/MetadataReplacementDemo/)\n"
   ]
  },
  {
   "cell_type": "code",
   "execution_count": null,
   "id": "4985c578",
   "metadata": {
    "scrolled": true,
    "tags": []
   },
   "outputs": [],
   "source": [
    "#!pip install llama-index\n",
    "#%pip install llama-index-llms-bedrock\n",
    "#%pip install llama-index-embeddings-bedrock\n",
    "#!pip uninstall pydantic -y\n",
    "#!pip install pydantic\n",
    "#%pip install sqlalchemy==2.0.21 --force-reinstall --quiet\n",
    "#%pip install llama-index-embeddings-instructor"
   ]
  },
  {
   "cell_type": "code",
   "execution_count": 2,
   "id": "7d360172-f27f-442e-9f6d-6e4cedffbff6",
   "metadata": {
    "tags": []
   },
   "outputs": [],
   "source": [
    "from llama_index.embeddings.bedrock import BedrockEmbedding"
   ]
  },
  {
   "cell_type": "code",
   "execution_count": 3,
   "id": "ffebb89a-58e0-4fa0-ba8c-fdceb8f09d0d",
   "metadata": {
    "tags": []
   },
   "outputs": [],
   "source": [
    "from llama_index.core import VectorStoreIndex, SimpleDirectoryReader\n",
    "from llama_index.core.tools import QueryEngineTool, ToolMetadata\n",
    "from llama_index.core.query_engine import SubQuestionQueryEngine\n",
    "from llama_index.core.callbacks import CallbackManager, LlamaDebugHandler\n",
    "from llama_index.core import Settings"
   ]
  },
  {
   "cell_type": "code",
   "execution_count": 4,
   "id": "9d47283b-025e-4874-88ed-76245b22f82e",
   "metadata": {
    "tags": []
   },
   "outputs": [],
   "source": [
    "import json\n",
    "from typing import Sequence, List\n",
    "from llama_index.core.settings import Settings\n",
    "from llama_index.llms.bedrock import Bedrock\n",
    "from llama_index.embeddings.bedrock import BedrockEmbedding, Models\n",
    "from llama_index.core.node_parser import SentenceWindowNodeParser\n",
    "from llama_index.core.node_parser import SentenceSplitter\n",
    "\n",
    "# create the sentence window node parser w/ default settings\n",
    "node_parser = SentenceWindowNodeParser.from_defaults(\n",
    "    window_size=3,\n",
    "    window_metadata_key=\"window\",\n",
    "    original_text_metadata_key=\"original_text\",\n",
    ")\n",
    "\n",
    "# base node parser is a sentence splitter\n",
    "text_splitter = SentenceSplitter()\n",
    "\n",
    "llm = Bedrock(model = \"anthropic.claude-3-sonnet-20240229-v1:0\")\n",
    "embed_model = BedrockEmbedding(model = \"amazon.titan-embed-text-v2:0\")\n",
    "\n",
    "Settings.llm = llm\n",
    "Settings.embed_model = embed_model\n",
    "Settings.chunk_size = 256\n",
    "Settings.text_splitter = text_splitter\n",
    "\n",
    "from llama_index.core.llms import ChatMessage\n",
    "from llama_index.core.tools import BaseTool, FunctionTool\n",
    "import nest_asyncio\n",
    "nest_asyncio.apply()"
   ]
  },
  {
   "cell_type": "code",
   "execution_count": null,
   "id": "21c9fd71-7caf-4d7c-b3f4-f30bcd538f1a",
   "metadata": {
    "tags": []
   },
   "outputs": [],
   "source": [
    "#!mkdir -p 'data/amazon/'\n",
    "#!wget 'https://s2.q4cdn.com/299287126/files/doc_financials/2023/q4/c7c14359-36fa-40c3-b3ca-5bf7f3fa0b96.pdf' -O 'data/amazon/amazon_2023.pdf'\n",
    "#!wget 'https://s2.q4cdn.com/299287126/files/doc_financials/2022/q4/d2fde7ee-05f7-419d-9ce8-186de4c96e25.pdf' -O 'data/amazon/amazon_2022.pdf'"
   ]
  },
  {
   "cell_type": "code",
   "execution_count": 6,
   "id": "156cf76d-0358-4a8a-8803-a09a99d93763",
   "metadata": {
    "tags": []
   },
   "outputs": [],
   "source": [
    "# load data\n",
    "amazon_secfiles = SimpleDirectoryReader(input_dir=\"../data/lab03/amazon/\").load_data()"
   ]
  },
  {
   "cell_type": "code",
   "execution_count": 7,
   "id": "143f1449-f3e3-47a0-b763-a8baf3ae8e03",
   "metadata": {
    "tags": []
   },
   "outputs": [],
   "source": [
    "nodes = node_parser.get_nodes_from_documents(amazon_secfiles)"
   ]
  },
  {
   "cell_type": "code",
   "execution_count": 8,
   "id": "aa24bb0e-d36b-4dfe-8f17-9058b06fae4c",
   "metadata": {
    "tags": []
   },
   "outputs": [],
   "source": [
    "base_nodes = text_splitter.get_nodes_from_documents(amazon_secfiles)"
   ]
  },
  {
   "cell_type": "code",
   "execution_count": 9,
   "id": "eb2a526e-7779-44ad-a49d-38f161513f2c",
   "metadata": {
    "tags": []
   },
   "outputs": [],
   "source": [
    "from llama_index.core import VectorStoreIndex\n",
    "\n",
    "sentence_index = VectorStoreIndex(nodes)"
   ]
  },
  {
   "cell_type": "code",
   "execution_count": 10,
   "id": "0d2f31b8-df4e-4e4b-94b2-a56493c90e16",
   "metadata": {
    "tags": []
   },
   "outputs": [],
   "source": [
    "base_index = VectorStoreIndex(base_nodes)"
   ]
  },
  {
   "cell_type": "code",
   "execution_count": 11,
   "id": "7f94f2ab-4daa-4d76-8ae0-1762c59512a5",
   "metadata": {
    "tags": []
   },
   "outputs": [
    {
     "name": "stdout",
     "output_type": "stream",
     "text": [
      "According to the information provided, as of December 31, 2022, Amazon held 158 million shares of Rivian's Class A common stock, representing an approximate 17% ownership interest and an approximate 16% voting interest in Rivian. As of December 31, 2023, Amazon's ownership stake in Rivian was approximately 16% with an approximate 15% voting interest.\n"
     ]
    }
   ],
   "source": [
    "from llama_index.core.postprocessor import MetadataReplacementPostProcessor\n",
    "\n",
    "query_engine = sentence_index.as_query_engine(\n",
    "    similarity_top_k=5,\n",
    "    # the target key defaults to `window` to match the node_parser's default\n",
    "    node_postprocessors=[\n",
    "        MetadataReplacementPostProcessor(target_metadata_key=\"window\")\n",
    "    ],\n",
    ")\n",
    "window_response = query_engine.query(\n",
    "    \"Whats Amazons ownership stake in Rivian??\"\n",
    ")\n",
    "print(window_response)"
   ]
  },
  {
   "cell_type": "code",
   "execution_count": 12,
   "id": "5ba1984a-d92e-415f-ac7a-3ba306ddebe3",
   "metadata": {
    "tags": []
   },
   "outputs": [
    {
     "name": "stdout",
     "output_type": "stream",
     "text": [
      "Window: (“Rivian”).  Our investment in Rivian’s preferred stock was accounted for at cost, with adjustments for\n",
      "observable changes in prices or impairments, prior to Rivian’s initial public offering in November 2021, which resulted in the conversion of our preferred stock\n",
      "to Class A common stock.  As of December 31, 2023, we held 158 million shares of Rivian’s Class A common stock, representing an approximate 16%\n",
      "ownership interest, and an approximate 15% voting interest.  We determined that we have the ability to exercise significant influence over Rivian through our\n",
      "equity investment, our commercial arrangement for the purchase of electric vehicles and jointly-owned intellectual property, and one of our employees serving\n",
      "on Rivian’s board of directors.  We elected the fair value option to account for our equity investment in Rivian, which is included in “Marketable securities” on\n",
      "our consolidated balance sheets, and had a fair value of $2.9 billion and $3.7 billion as of December 31, 2022 and December 31, 2023.  The investment was\n",
      "subject to regulatory sales restrictions resulting in a discount for lack of marketability of approximately $800 million as of December 31, 2021, which expired\n",
      "in Q1 2022.\n",
      " Required summarized financial information of Rivian as disclosed in its most recent SEC filings is as follows (in millions):\n",
      "Year Ended\n",
      "December 31, 2021Year Ended\n",
      "December 31, 2022Nine Months Ended\n",
      "September 30, 2023\n",
      "Revenues $ 55 $ 1,658 $ 3,119 \n",
      "Gross profit (465) (3,123) (1,424)\n",
      "Loss from operations (4,220) (6,856) (4,158)\n",
      "Net loss (4,688) (6,752) (3,911)\n",
      "December 31, 2022 September 30, 2023\n",
      "Total current assets $ 13,130 $ 12,086 \n",
      "Total assets 17,876 16,456 \n",
      "Total current liabilities 2,424 2,624 \n",
      "Total liabilities 4,077 5,904 \n",
      "Income Taxes\n",
      "Income tax expense includes U.S. \n",
      "------------------\n",
      "Original Sentence: We determined that we have the ability to exercise significant influence over Rivian through our\n",
      "equity investment, our commercial arrangement for the purchase of electric vehicles and jointly-owned intellectual property, and one of our employees serving\n",
      "on Rivian’s board of directors. \n"
     ]
    }
   ],
   "source": [
    "window = window_response.source_nodes[0].node.metadata[\"window\"]\n",
    "sentence = window_response.source_nodes[0].node.metadata[\"original_text\"]\n",
    "\n",
    "print(f\"Window: {window}\")\n",
    "print(\"------------------\")\n",
    "print(f\"Original Sentence: {sentence}\")"
   ]
  },
  {
   "cell_type": "markdown",
   "id": "cefd31ac-b7b5-4bd9-9d8c-be41a0ca9374",
   "metadata": {},
   "source": [
    "# Contrast with normal VectorStoreIndex\n",
    "\n",
    "Naive RAG is not able to pinpoint necessary details. "
   ]
  },
  {
   "cell_type": "code",
   "execution_count": 13,
   "id": "148e49fc-1d9f-4113-8f6f-14bb020ad14f",
   "metadata": {
    "tags": []
   },
   "outputs": [
    {
     "name": "stdout",
     "output_type": "stream",
     "text": [
      "Based on the information provided, Amazon does not disclose its exact ownership stake in Rivian. However, it is mentioned that Amazon's equity investment in Rivian had a fair value of $15.6 billion as of December 31, 2021 and $2.9 billion as of December 31, 2022. The investment was subject to regulatory sales restrictions resulting in a discount for lack of marketability of approximately $800 million as of December 31, 2021, which expired in Q1 2022.\n"
     ]
    }
   ],
   "source": [
    "query_engine = base_index.as_query_engine(similarity_top_k=2)\n",
    "vector_response = query_engine.query(\n",
    "    \"Whats Amazons ownership stake in Rivian?\"\n",
    ")\n",
    "print(vector_response)"
   ]
  },
  {
   "cell_type": "code",
   "execution_count": 14,
   "id": "a924921f-1f14-417e-83ab-1f0d10cd7dd2",
   "metadata": {
    "tags": []
   },
   "outputs": [
    {
     "name": "stdout",
     "output_type": "stream",
     "text": [
      "We determined that we have the ability to exercise significant influence over Rivian through our\n",
      "equity investment, our commercial arrangement for the purchase of electric vehicles and jointly-owned intellectual property, and one of our employees serving\n",
      "on Rivian’s board of directors. \n",
      "--------\n",
      "We determined that we have the ability to exercise significant influence over Rivian through our\n",
      "equity investment, our commercial arrangement for the purchase of electric vehicles, and one of our employees serving on Rivian’s board of directors. \n",
      "--------\n",
      "Required summarized financial information of Rivian as disclosed in its most recent SEC filings is as follows (in millions):\n",
      "Year Ended\n",
      "December 31, 2020Year Ended\n",
      "December 31, 2021Nine Months Ended\n",
      "September 30, 2022\n",
      "Revenues $ — $ 55 $ 995 \n",
      "Gross profit — (465) (2,123)\n",
      "Loss from operations (1,021) (4,220) (5,061)\n",
      "Net loss (1,018) (4,688) (5,029)\n",
      "December 31, 2021 September 30, 2022\n",
      "Total current assets $ 18,559 $ 14,424 \n",
      "Total assets 22,294 19,023 \n",
      "Total current liabilities 1,313 2,109 \n",
      "Total liabilities 2,780 3,686 \n",
      "Income Taxes\n",
      "Income tax expense includes U.S. \n",
      "--------\n",
      "Required summarized financial information of Rivian as disclosed in its most recent SEC filings is as follows (in millions):\n",
      "Year Ended\n",
      "December 31, 2021Year Ended\n",
      "December 31, 2022Nine Months Ended\n",
      "September 30, 2023\n",
      "Revenues $ 55 $ 1,658 $ 3,119 \n",
      "Gross profit (465) (3,123) (1,424)\n",
      "Loss from operations (4,220) (6,856) (4,158)\n",
      "Net loss (4,688) (6,752) (3,911)\n",
      "December 31, 2022 September 30, 2023\n",
      "Total current assets $ 13,130 $ 12,086 \n",
      "Total assets 17,876 16,456 \n",
      "Total current liabilities 2,424 2,624 \n",
      "Total liabilities 4,077 5,904 \n",
      "Income Taxes\n",
      "Income tax expense includes U.S. \n",
      "--------\n",
      "As of December 31, 2022, we held 158 million shares of Rivian’s Class A common stock, representing an approximate 17%\n",
      "ownership interest, and an approximate 16% voting interest. \n",
      "--------\n"
     ]
    }
   ],
   "source": [
    "for source_node in window_response.source_nodes:\n",
    "    print(source_node.node.metadata[\"original_text\"])\n",
    "    print(\"--------\")"
   ]
  },
  {
   "cell_type": "code",
   "execution_count": 15,
   "id": "e82e01c4-0395-4f7a-ab50-f9b42d091e62",
   "metadata": {
    "tags": []
   },
   "outputs": [
    {
     "name": "stdout",
     "output_type": "stream",
     "text": [
      "Table of Contents\n",
      " December 31, 2022\n",
      "  Cost or\n",
      "Amortized\n",
      "CostGross\n",
      "Unrealized\n",
      "GainsGross\n",
      "Unrealized\n",
      "LossesTotal\n",
      "Estimated\n",
      "Fair Value\n",
      "Cash $ 10,666 $ — $ — $ 10,666 \n",
      "Level 1 securities:\n",
      "Money market funds 27,899 — — 27,899 \n",
      "Equity securities (1)(3) 3,709 \n",
      "Level 2 securities:\n",
      "Foreign government and agency securities 537 — (2) 535 \n",
      "U.S. government and agency securities 2,301 — (155) 2,146 \n",
      "Corporate debt securities 23,111 — (484) 22,627 \n",
      "Asset-backed securities 2,721 — (149) 2,572 \n",
      "Other fixed income securities 249 — (12) 237 \n",
      "$ 67,484 $ — $ (802)$ 70,391 \n",
      "Less: Restricted cash, cash equivalents, and marketable securities (2) (365)\n",
      "Total cash, cash equivalents, and marketable securities $ 70,026 \n",
      "___________________\n",
      "(1)The related unrealized gain (loss) recorded in “Other income (expense), net” was $448 million, $11.6 billion, and $(13.6) billion for the years ended\n",
      "December 31, 2020, 2021, and 2022.\n",
      "(2)We are required to pledge or otherwise restrict a portion of our cash, cash equivalents, and marketable fixed income securities primarily as collateral for\n",
      "real estate, amounts due to third-party sellers in certain jurisdictions, debt, and standby and trade letters of credit. We classify cash, cash equivalents, and\n",
      "marketable fixed income securities with use restrictions of less than twelve months as “Accounts receivable, net and other” and of twelve months or longer\n",
      "as non-current “Other assets” on our consolidated balance sheets. See “Note 7 — Commitments and Contingencies.”\n",
      "(3)Our equity investment in Rivian had a fair value of $15.6 billion and $2.9 billion as of December 31, 2021 and December 31, 2022, respectively. The\n",
      "investment was subject to regulatory sales restrictions resulting in a discount for lack of marketability of approximately $800 million as of December 31,\n",
      "2021, which expired in Q1 2022.\n",
      "The following table summarizes gross gains and gross losses realized on sales of marketable fixed income securities (in millions):\n",
      "Year Ended December 31,\n",
      "2020 2021 2022\n",
      "Realized gains $ 92 $ 85 $ 43 \n",
      "Realized losses 56 38 341 \n",
      "The following table summarizes the remaining contractual maturities of our cash equivalents and marketable fixed income securities as of December 31,\n",
      "2022 (in millions):\n",
      "Amortized\n",
      "CostEstimated\n",
      "Fair Value\n",
      "Due within one year $ 46,854 $ 46,782 \n",
      "Due after one year through five years 7,622 7,047 \n",
      "Due after five years through ten years 602 565 \n",
      "Due after ten years 1,740 1,622 \n",
      "Total $ 56,818 $ 56,016 \n",
      "Actual maturities may differ from the contractual maturities because borrowers may have certain prepayment conditions.\n",
      "51\n",
      "--------\n",
      "Table of Contents\n",
      "Other Operating Expense (Income), Net\n",
      "Other operating expense (income), net was $62 million and $1.3 billion during 2021 and 2022, and was primarily related to the amortization of intangible\n",
      "assets and, for 2022, $1.1 billion of impairments of property and equipment and operating leases.\n",
      "Interest Income and Expense\n",
      "Our interest income was $448 million and $989 million during 2021 and 2022, primarily due to an increase in prevailing rates. We generally invest our\n",
      "excess cash in AAA-rated money market funds and investment grade short- to intermediate-term fixed income securities. Our interest income corresponds with\n",
      "the average balance of invested funds based on the prevailing rates, which vary depending on the geographies and currencies in which they are invested.\n",
      "Interest expense was $1.8 billion and $2.4 billion in 2021 and 2022 and was primarily related to debt and finance leases. See Item 8 of Part II, “Financial\n",
      "Statements and Supplementary Data — Note 4 — Leases and Note 6 — Debt” for additional information.\n",
      "Our long-term lease liabilities were $67.7 billion and $73.0 billion as of December 31, 2021 and 2022. Our long-term debt was $48.7 billion and $67.1\n",
      "billion as of December 31, 2021 and 2022. See Item 8 of Part II, “Financial Statements and Supplementary Data — Note 4 — Leases and Note 6 — Debt” for\n",
      "additional information.\n",
      "Other Income (Expense), Net\n",
      "Other income (expense), net was $14.6 billion and $(16.8) billion during 2021 and 2022. The primary components of other income (expense), net are\n",
      "related to equity securities valuations and adjustments, equity warrant valuations, and foreign currency. Included in other income (expense), net in 2021 and\n",
      "2022 is a marketable equity securities valuation gain (loss) of $11.8 billion and $(12.7) billion from our equity investment in Rivian.\n",
      "Income Taxes\n",
      "Our effective tax rate is subject to significant variation due to several factors, including variability in our pre-tax and taxable income and loss and the mix\n",
      "of jurisdictions to which they relate, intercompany transactions, the applicability of special tax regimes, changes in how we do business, acquisitions,\n",
      "investments, developments in tax controversies, changes in our stock price, changes in our deferred tax assets and liabilities and their valuation, foreign\n",
      "currency gains (losses), changes in statutes, regulations, case law, and administrative practices, principles, and interpretations related to tax, including changes\n",
      "to the global tax framework, competition, and other laws and accounting rules in various jurisdictions, and relative changes of expenses or losses for which tax\n",
      "benefits are not recognized. Our effective tax rate can be more or less volatile based on the amount of pre-tax income or loss. For example, the impact of\n",
      "discrete items and non-deductible expenses on our effective tax rate is greater when our pre-tax income is lower. In addition, we record valuation allowances\n",
      "against deferred tax assets when there is uncertainty about our ability to generate future income in relevant jurisdictions.\n",
      "We recorded a provision (benefit) for income taxes of $4.8 billion and $(3.2) billion in 2021 and 2022. See Item 8 of Part II, “Financial Statements and\n",
      "Supplementary Data — Note 9 — Income Taxes” for additional information.\n",
      "Non-GAAP Financial Measures\n",
      "Regulation G, Conditions for Use of Non-GAAP Financial Measures, and other SEC regulations define and prescribe the conditions for use of certain\n",
      "non-GAAP financial information. Our measures of free cash flows and the effect of foreign exchange rates on our consolidated statements of operations meet\n",
      "the definition of non-GAAP financial measures.\n",
      "We provide multiple measures of free cash flows because we believe these measures provide additional perspective on the impact of acquiring property\n",
      "and equipment with cash and through finance leases and financing obligations.\n",
      "27\n",
      "--------\n"
     ]
    }
   ],
   "source": [
    "for node in vector_response.source_nodes:\n",
    "    print(node.node.text)\n",
    "    print(\"--------\")"
   ]
  }
 ],
 "metadata": {
  "kernelspec": {
   "display_name": "conda_pytorch_p310",
   "language": "python",
   "name": "conda_pytorch_p310"
  },
  "language_info": {
   "codemirror_mode": {
    "name": "ipython",
    "version": 3
   },
   "file_extension": ".py",
   "mimetype": "text/x-python",
   "name": "python",
   "nbconvert_exporter": "python",
   "pygments_lexer": "ipython3",
   "version": "3.10.14"
  }
 },
 "nbformat": 4,
 "nbformat_minor": 5
}
