{
 "cells": [
  {
   "cell_type": "markdown",
   "id": "99cea58c-48bc-4af6-8358-df9695659983",
   "metadata": {},
   "source": [
    "# RAG Post Retrieval Optimization - Reranking featuring Amazon SageMaker, Bedrock and llamaindex"
   ]
  },
  {
   "cell_type": "markdown",
   "id": "673df1fe-eb6c-46ea-9a73-a96e7ae7942e",
   "metadata": {},
   "source": [
    "- Vector Database (Faiss / local on the notebook for this demo)\n",
    "- LLM (Amazon Bedrock - Claude3 Sonnet)\n",
    "- Embeddings Model (Bedrock Titan Text Embedding v2.0)\n",
    "- ReRanking Model (BAAI/bge-reranker-large) running on SageMaker\n",
    "- Llamaindex for orchestration (ingestion, reranking, retrieval and final response synthesis)\n",
    "- Datasets (Amazon SEC 10-k statements for year 2022 and 2023 )"
   ]
  },
  {
   "cell_type": "markdown",
   "id": "57438413-4db5-462f-8596-bb4cf3bcdc96",
   "metadata": {
    "tags": []
   },
   "source": [
    "<img src=\"reranking-sagemaker.png\" width=\"800\" height=\"400\">"
   ]
  },
  {
   "cell_type": "code",
   "execution_count": 35,
   "id": "ad68e65c-d2a8-47e2-a375-64af010c5fbf",
   "metadata": {
    "tags": []
   },
   "outputs": [
    {
     "name": "stdout",
     "output_type": "stream",
     "text": [
      "sagemaker role arn: arn:aws:iam::878687028155:role/sagemakerrole\n",
      "sagemaker bucket: sagemaker-us-west-2-878687028155\n",
      "sagemaker session region: us-west-2\n"
     ]
    }
   ],
   "source": [
    "import sagemaker\n",
    "import boto3\n",
    "sess = sagemaker.Session()\n",
    "# sagemaker session bucket -> used for uploading data, models and logs\n",
    "# sagemaker will automatically create this bucket if it not exists\n",
    "sagemaker_session_bucket=None\n",
    "if sagemaker_session_bucket is None and sess is not None:\n",
    "    # set to default bucket if a bucket name is not given\n",
    "    sagemaker_session_bucket = sess.default_bucket()\n",
    "\n",
    "try:\n",
    "    role = sagemaker.get_execution_role()\n",
    "except ValueError:\n",
    "    iam = boto3.client('iam')\n",
    "    role = iam.get_role(RoleName='sagemaker_execution_role')['Role']['Arn']\n",
    "\n",
    "sess = sagemaker.Session(default_bucket=sagemaker_session_bucket)\n",
    "\n",
    "print(f\"sagemaker role arn: {role}\")\n",
    "print(f\"sagemaker bucket: {sess.default_bucket()}\")\n",
    "print(f\"sagemaker session region: {sess.boto_region_name}\")"
   ]
  },
  {
   "cell_type": "code",
   "execution_count": 36,
   "id": "755b1ebc-0c69-4114-a78a-d8d3c114438b",
   "metadata": {
    "tags": []
   },
   "outputs": [
    {
     "name": "stdout",
     "output_type": "stream",
     "text": [
      "tensor([ 7.9267, -6.0210])\n"
     ]
    }
   ],
   "source": [
    "import torch\n",
    "from transformers import AutoModelForSequenceClassification, AutoTokenizer\n",
    "\n",
    "tokenizer = AutoTokenizer.from_pretrained('BAAI/bge-reranker-large')\n",
    "model = AutoModelForSequenceClassification.from_pretrained('BAAI/bge-reranker-large')\n",
    "\n",
    "pairs = [['I love you', 'i like you'], ['I love you', 'i hate you']]\n",
    "with torch.no_grad():\n",
    "    inputs = tokenizer(pairs, padding=True, truncation=True, return_tensors='pt', max_length=512)\n",
    "    scores = model(**inputs, return_dict=True).logits.view(-1, ).float()\n",
    "    print(scores)\n"
   ]
  },
  {
   "cell_type": "code",
   "execution_count": 37,
   "id": "f4e86ecf-fff9-499b-92b3-76b477dfb193",
   "metadata": {
    "tags": []
   },
   "outputs": [
    {
     "name": "stdout",
     "output_type": "stream",
     "text": [
      "mkdir: cannot create directory ‘bge-reranker’: File exists\n"
     ]
    },
    {
     "name": "stderr",
     "output_type": "stream",
     "text": [
      "huggingface/tokenizers: The current process just got forked, after parallelism has already been used. Disabling parallelism to avoid deadlocks...\n",
      "To disable this warning, you can either:\n",
      "\t- Avoid using `tokenizers` before the fork if possible\n",
      "\t- Explicitly set the environment variable TOKENIZERS_PARALLELISM=(true | false)\n"
     ]
    },
    {
     "name": "stdout",
     "output_type": "stream",
     "text": [
      "mkdir: cannot create directory ‘bge-reranker/code’: File exists\n"
     ]
    },
    {
     "name": "stderr",
     "output_type": "stream",
     "text": [
      "huggingface/tokenizers: The current process just got forked, after parallelism has already been used. Disabling parallelism to avoid deadlocks...\n",
      "To disable this warning, you can either:\n",
      "\t- Avoid using `tokenizers` before the fork if possible\n",
      "\t- Explicitly set the environment variable TOKENIZERS_PARALLELISM=(true | false)\n"
     ]
    }
   ],
   "source": [
    "!mkdir bge-reranker\n",
    "!mkdir bge-reranker/code"
   ]
  },
  {
   "cell_type": "code",
   "execution_count": 38,
   "id": "e154687b-c724-4eb7-a260-db6232bcd73d",
   "metadata": {},
   "outputs": [
    {
     "name": "stdout",
     "output_type": "stream",
     "text": [
      "Overwriting bge-reranker/code/inference.py\n"
     ]
    }
   ],
   "source": [
    "%%writefile bge-reranker/code/inference.py\n",
    "\n",
    "import json\n",
    "import logging\n",
    "import torch\n",
    "from typing import List\n",
    "from sagemaker_inference import encoder\n",
    "from transformers import AutoModelForSequenceClassification, AutoTokenizer\n",
    "\n",
    "PAIRS = \"pairs\"\n",
    "SCORES = \"scores\"\n",
    "\n",
    "class CrossEncoder:\n",
    "    def __init__(self) -> None:\n",
    "        self.device = torch.device(\"cuda\") if torch.cuda.is_available() else torch.device(\"cpu\")\n",
    "        logging.info(f\"Using device: {self.device}\")\n",
    "        model_name = 'BAAI/bge-reranker-large'\n",
    "        self.tokenizer = AutoTokenizer.from_pretrained(model_name)\n",
    "        self.model = AutoModelForSequenceClassification.from_pretrained(model_name)\n",
    "        self.model = self.model.to(self.device)\n",
    "\n",
    "    def __call__(self, pairs: List[List[str]]) -> List[float]:\n",
    "        with torch.inference_mode():\n",
    "            inputs = self.tokenizer(pairs, padding=True, truncation=True, return_tensors='pt', max_length=512)\n",
    "            inputs = inputs.to(self.device)\n",
    "            scores = self.model(**inputs, return_dict=True).logits.view(-1, ).float()\n",
    "\n",
    "        return scores.detach().cpu().tolist()\n",
    "\n",
    "def model_fn(model_dir: str) -> CrossEncoder:\n",
    "    try:\n",
    "        return CrossEncoder()\n",
    "    except Exception:\n",
    "        logging.exception(f\"Failed to load model from: {model_dir}\")\n",
    "        raise\n",
    "\n",
    "def transform_fn(cross_encoder: CrossEncoder, input_data: bytes, content_type: str, accept: str) -> bytes:\n",
    "    payload = json.loads(input_data)\n",
    "    model_output = cross_encoder(**payload)\n",
    "    output = {SCORES: model_output}\n",
    "    return encoder.encode(output, accept)\n"
   ]
  },
  {
   "cell_type": "code",
   "execution_count": 39,
   "id": "58e96be3-5097-4157-808a-402654deebc9",
   "metadata": {},
   "outputs": [
    {
     "name": "stdout",
     "output_type": "stream",
     "text": [
      "Overwriting bge-reranker/code/__init__.py\n"
     ]
    }
   ],
   "source": [
    "%%writefile bge-reranker/code/__init__.py\n",
    "\n"
   ]
  },
  {
   "cell_type": "code",
   "execution_count": 40,
   "id": "6d7fb2bb-592b-462a-a2b8-5508b845dfa3",
   "metadata": {
    "tags": []
   },
   "outputs": [
    {
     "name": "stdout",
     "output_type": "stream",
     "text": [
      "Overwriting bge-reranker/code/requirements.txt\n"
     ]
    }
   ],
   "source": [
    "%%writefile bge-reranker/code/requirements.txt\n",
    "\n",
    "accelerate==0.24.1\n",
    "bitsandbytes==0.41.2.post2\n",
    "transformers==4.37.0\n",
    "sentencepiece==0.1.99\n",
    "protobuf==3.20.1"
   ]
  },
  {
   "cell_type": "code",
   "execution_count": 41,
   "id": "9af21f18-f0f7-49dd-afaf-d2026c2033aa",
   "metadata": {
    "tags": []
   },
   "outputs": [
    {
     "name": "stdout",
     "output_type": "stream",
     "text": [
      "BAAI_bge-reranker-large.tar.gz\n",
      "tar: BAAI_bge-reranker-large.tar.gz: File shrank by 958 bytes; padding with zeros\n",
      "code/\n",
      "code/__init__.py\n",
      "code/requirements.txt\n",
      "code/inference.py\n"
     ]
    },
    {
     "name": "stderr",
     "output_type": "stream",
     "text": [
      "huggingface/tokenizers: The current process just got forked, after parallelism has already been used. Disabling parallelism to avoid deadlocks...\n",
      "To disable this warning, you can either:\n",
      "\t- Avoid using `tokenizers` before the fork if possible\n",
      "\t- Explicitly set the environment variable TOKENIZERS_PARALLELISM=(true | false)\n"
     ]
    }
   ],
   "source": [
    "!cd bge-reranker && tar zcvf BAAI_bge-reranker-large.tar.gz *"
   ]
  },
  {
   "cell_type": "code",
   "execution_count": 42,
   "id": "ac71f09b-4392-49d0-bfe1-ca1550f8b4f9",
   "metadata": {},
   "outputs": [],
   "source": [
    "repository = \"BAAI/bge-reranker-large\"\n",
    "model_id=repository.split(\"/\")[-1]\n",
    "s3_location=f\"s3://{sess.default_bucket()}/custom_inference/{model_id}/model.tar.gz\""
   ]
  },
  {
   "cell_type": "code",
   "execution_count": 43,
   "id": "3ff69edd-afe8-4745-b464-a468ad4890d4",
   "metadata": {},
   "outputs": [
    {
     "name": "stderr",
     "output_type": "stream",
     "text": [
      "huggingface/tokenizers: The current process just got forked, after parallelism has already been used. Disabling parallelism to avoid deadlocks...\n",
      "To disable this warning, you can either:\n",
      "\t- Avoid using `tokenizers` before the fork if possible\n",
      "\t- Explicitly set the environment variable TOKENIZERS_PARALLELISM=(true | false)\n"
     ]
    },
    {
     "name": "stdout",
     "output_type": "stream",
     "text": [
      "upload: bge-reranker/BAAI_bge-reranker-large.tar.gz to s3://sagemaker-us-west-2-878687028155/custom_inference/bge-reranker-large/model.tar.gz\n"
     ]
    }
   ],
   "source": [
    "!aws s3 cp bge-reranker/BAAI_bge-reranker-large.tar.gz $s3_location"
   ]
  },
  {
   "cell_type": "code",
   "execution_count": 45,
   "id": "412f1849-f412-4c00-805f-dcd9a1564fd9",
   "metadata": {},
   "outputs": [
    {
     "name": "stdout",
     "output_type": "stream",
     "text": [
      "--------------!"
     ]
    }
   ],
   "source": [
    "from sagemaker.huggingface.model import HuggingFaceModel\n",
    "\n",
    "# create Hugging Face Model Class\n",
    "huggingface_model = HuggingFaceModel(\n",
    "   model_data=s3_location,       # path to your model and script\n",
    "   role=role,                    # iam role with permissions to create an Endpoint\n",
    "   transformers_version=\"4.37\",  # transformers version used\n",
    "   pytorch_version=\"2.1\",        # pytorch version used\n",
    "   py_version='py310',            # python version used\n",
    ")\n",
    "\n",
    "# deploy the endpoint endpoint\n",
    "predictor = huggingface_model.deploy(\n",
    "    initial_instance_count=1,\n",
    "    instance_type=\"ml.g5.2xlarge\"\n",
    "    )"
   ]
  },
  {
   "cell_type": "code",
   "execution_count": 46,
   "id": "30811ff7-6c92-4537-9b49-748709a272c4",
   "metadata": {
    "tags": []
   },
   "outputs": [
    {
     "name": "stdout",
     "output_type": "stream",
     "text": [
      "Endpoint name: huggingface-pytorch-inference-2024-08-21-03-00-35-547\n"
     ]
    }
   ],
   "source": [
    "# Get the endpoint name\n",
    "endpoint_name = predictor.endpoint_name\n",
    "print(f\"Endpoint name: {endpoint_name}\")"
   ]
  },
  {
   "cell_type": "code",
   "execution_count": 47,
   "id": "85256062-c1cb-4c5e-8890-dbebd88eb52b",
   "metadata": {},
   "outputs": [
    {
     "data": {
      "text/plain": [
       "{'scores': [7.926665782928467, -6.021017074584961]}"
      ]
     },
     "execution_count": 47,
     "metadata": {},
     "output_type": "execute_result"
    }
   ],
   "source": [
    "import boto3, json\n",
    "session = boto3.Session()\n",
    "client = session.client(\"sagemaker-runtime\", region_name=\"us-west-2\")\n",
    "output = client.invoke_endpoint(EndpointName=endpoint_name, Body=\"{\\\"pairs\\\": [[\\\"I love you\\\", \\\"i like you\\\"], [\\\"I love you\\\", \\\"i hate you\\\"]]}\", ContentType=\"application/json\")\n",
    "json.loads(output[\"Body\"].read().decode(\"utf-8\"))"
   ]
  },
  {
   "cell_type": "code",
   "execution_count": 48,
   "id": "3e379e37-3327-4c54-b78a-b1040df75e2b",
   "metadata": {
    "tags": []
   },
   "outputs": [
    {
     "name": "stdout",
     "output_type": "stream",
     "text": [
      "[-2.8626344203948975, 0.05411258339881897, 0.8370493054389954, 4.698368549346924, 9.260848045349121]\n"
     ]
    }
   ],
   "source": [
    "from sagemaker.huggingface.model import HuggingFacePredictor\n",
    "\n",
    "\n",
    "predictor = HuggingFacePredictor(\n",
    "    endpoint_name=endpoint_name,\n",
    ")\n",
    "\n",
    "query = \"What specific risks are typically highlighted in the risk factors section of a Form 10-K, and how can this section guide investment decisions?\"\n",
    "\n",
    "retrieved_documents = [\n",
    "    \"Financial documentation has evolved over centuries, with early records focusing on basic trade and barter systems. While this evolution is intriguing, it does not directly relate to the contemporary structure or specific contents of the risk factors section in a Form 10-K.\",\n",
    "    \"Many companies include a section on future projections and market forecasts in their annual reports. While this provides a forward-looking perspective, it doesn't specifically address the risk factors or the detailed analysis of risks that is typical of a Form 10-K's risk factors section.\",\n",
    "    \"The management's discussion in a Form 10-K offers insights into the company's operational strategy and financial planning. While informative, it is not as explicitly focused on the detailed risks or investment guidance as the risk factors section is.\",\n",
    "    \"The risk factors section in a Form 10-K outlines various threats, such as changes in consumer preferences or supply chain disruptions. While it identifies risks, it might not always provide a thorough, specific analysis or direct guidance on making investment decisions based on those risks.\",\n",
    "    \"The risk factors section of a Form 10-K explicitly highlights specific risks such as regulatory requirements, market volatility, and operational constraints. This section is pivotal in guiding investment decisions by offering a detailed examination of how each risk can potentially influence the company's financial trajectory and operational soundness.\"\n",
    "]\n",
    "\n",
    "# Create a pair for the query and each retrieved document\n",
    "pairs = [[query, doc] for doc in retrieved_documents]\n",
    "\n",
    "# Score the pairs\n",
    "scores = predictor.predict({\"pairs\": pairs})[\"scores\"]\n",
    "\n",
    "print(scores)\n",
    "# e.g. [1.349609375, 4.9765625, 6.70703125, 10.640625, 11.03125]\n",
    "\n",
    "# Sort retrieved_documents by scores: returns List[str]\n",
    "sorted_documents = [doc for doc, _ in sorted(zip(retrieved_documents, scores), key=lambda x: x[1], reverse=True)]"
   ]
  },
  {
   "cell_type": "code",
   "execution_count": 50,
   "id": "09fa2946-0e4f-4be6-8df4-3e210c7fd70b",
   "metadata": {
    "tags": []
   },
   "outputs": [],
   "source": [
    "from typing import Any, List, Optional\n",
    "\n",
    "from llama_index.core.bridge.pydantic import Field, PrivateAttr\n",
    "from llama_index.core.callbacks import CBEventType, EventPayload\n",
    "from llama_index.core.postprocessor.types import BaseNodePostprocessor\n",
    "from llama_index.core.schema import MetadataMode, NodeWithScore, QueryBundle\n",
    "\n",
    "\n",
    "class BGESageMakerRerank(BaseNodePostprocessor):\n",
    "\n",
    "    endpoint_name: str = Field(description=\"SageMaker endpoint name.\")\n",
    "    top_n: int = Field(description=\"Top N nodes to return.\")\n",
    "    keep_retrieval_score: bool = Field(\n",
    "        default=False,\n",
    "        description=\"Whether to keep the retrieval score in metadata.\",\n",
    "    )\n",
    "\n",
    "    _predictor: Any = PrivateAttr()\n",
    "\n",
    "    def __init__(\n",
    "        self,\n",
    "        endpoint_name: str,\n",
    "        top_n: int = 2,\n",
    "        keep_retrieval_score: Optional[bool] = False,\n",
    "    ):\n",
    "        try:\n",
    "            from sagemaker.huggingface.model import HuggingFacePredictor\n",
    "        except ImportError:\n",
    "            raise ImportError(\n",
    "                \"Cannot import sagemaker.huggingface.model.HuggingFacePredictor,\",\n",
    "                \"please `pip install sagemaker`\",\n",
    "            )\n",
    "        self._predictor = HuggingFacePredictor(\n",
    "            endpoint_name=endpoint_name,\n",
    "        )\n",
    "        super().__init__(\n",
    "            endpoint_name=endpoint_name,\n",
    "            top_n=top_n,\n",
    "            keep_retrieval_score=keep_retrieval_score,\n",
    "        )\n",
    "\n",
    "    @classmethod\n",
    "    def class_name(cls) -> str:\n",
    "        return \"BGESageMakerRerank\"\n",
    "\n",
    "    def _postprocess_nodes(\n",
    "        self,\n",
    "        nodes: List[NodeWithScore],\n",
    "        query_bundle: Optional[QueryBundle] = None,\n",
    "    ) -> List[NodeWithScore]:\n",
    "        if query_bundle is None:\n",
    "            raise ValueError(\"Missing query bundle in extra info.\")\n",
    "        if len(nodes) == 0:\n",
    "            return []\n",
    "\n",
    "        texts = [node.node.get_content() for node in nodes]\n",
    "        query = query_bundle.query_str\n",
    "\n",
    "        # Create a pair for the query and each retrieved document\n",
    "        pairs = [[query, doc] for doc in texts]\n",
    "        payload = {\"pairs\": pairs}\n",
    "\n",
    "        with self.callback_manager.event(\n",
    "            CBEventType.RERANKING,\n",
    "            payload={\n",
    "                EventPayload.NODES: nodes,\n",
    "                EventPayload.QUERY_STR: query_bundle.query_str,\n",
    "                EventPayload.TOP_K: self.top_n,\n",
    "            },\n",
    "        ) as event:\n",
    "            # Score the pairs\n",
    "            result = self._predictor.predict(payload)\n",
    "            assert \"scores\" in result, \"No scores returned from SageMaker endpoint.\"\n",
    "            scores = result[\"scores\"]\n",
    "            assert len(scores) == len(nodes), \"Mismatch between scores and nodes.\"\n",
    "\n",
    "            for node, score in zip(nodes, scores):\n",
    "                if self.keep_retrieval_score:\n",
    "                    # keep the retrieval score in metadata\n",
    "                    node.node.metadata[\"retrieval_score\"] = node.score\n",
    "                node.score = score\n",
    "\n",
    "            new_nodes = sorted(nodes, key=lambda x: -x.score if x.score else 0)[\n",
    "                : self.top_n\n",
    "            ]\n",
    "\n",
    "            event.on_end(payload={EventPayload.NODES: new_nodes})\n",
    "\n",
    "        return new_nodes\n",
    "\n",
    "reranker = BGESageMakerRerank(\n",
    "    endpoint_name=endpoint_name,\n",
    "    keep_retrieval_score=False,\n",
    "    top_n=3,\n",
    ")"
   ]
  },
  {
   "cell_type": "code",
   "execution_count": 51,
   "id": "7d360172-f27f-442e-9f6d-6e4cedffbff6",
   "metadata": {
    "tags": []
   },
   "outputs": [],
   "source": [
    "from llama_index.embeddings.bedrock import BedrockEmbedding"
   ]
  },
  {
   "cell_type": "code",
   "execution_count": 52,
   "id": "ffebb89a-58e0-4fa0-ba8c-fdceb8f09d0d",
   "metadata": {
    "tags": []
   },
   "outputs": [],
   "source": [
    "from llama_index.core import VectorStoreIndex, SimpleDirectoryReader\n",
    "from llama_index.core.tools import QueryEngineTool, ToolMetadata\n",
    "from llama_index.core.query_engine import SubQuestionQueryEngine\n",
    "from llama_index.core.callbacks import CallbackManager, LlamaDebugHandler\n",
    "from llama_index.core import Settings"
   ]
  },
  {
   "cell_type": "code",
   "execution_count": 53,
   "id": "9d47283b-025e-4874-88ed-76245b22f82e",
   "metadata": {
    "tags": []
   },
   "outputs": [],
   "source": [
    "import json\n",
    "from typing import Sequence, List\n",
    "from llama_index.core.settings import Settings\n",
    "from llama_index.llms.bedrock import Bedrock\n",
    "from llama_index.embeddings.bedrock import BedrockEmbedding, Models\n",
    "\n",
    "llm = Bedrock(model = \"anthropic.claude-3-sonnet-20240229-v1:0\")\n",
    "embed_model = BedrockEmbedding(model = \"amazon.titan-embed-text-v2:0\")\n",
    "\n",
    "Settings.llm = llm\n",
    "Settings.embed_model = embed_model\n",
    "Settings.chunk_size = 512\n",
    "\n",
    "from llama_index.core.llms import ChatMessage\n",
    "from llama_index.core.tools import BaseTool, FunctionTool\n",
    "import nest_asyncio\n",
    "nest_asyncio.apply()"
   ]
  },
  {
   "cell_type": "code",
   "execution_count": 21,
   "id": "16457565-4547-4655-a695-6e468286bf56",
   "metadata": {
    "tags": []
   },
   "outputs": [],
   "source": [
    "# load data\n",
    "amazon_secfiles = SimpleDirectoryReader(input_dir=\"../data/lab03/amazon/\").load_data()\n",
    "\n",
    "# build index\n",
    "amazon_index = VectorStoreIndex.from_documents(\n",
    "    amazon_secfiles,\n",
    "    use_async=True,\n",
    ")"
   ]
  },
  {
   "cell_type": "code",
   "execution_count": 54,
   "id": "af3c5e35-1651-4041-8e05-93da28d855f0",
   "metadata": {
    "tags": []
   },
   "outputs": [
    {
     "name": "stderr",
     "output_type": "stream",
     "text": [
      "/tmp/ipykernel_20576/3269356990.py:7: FutureWarning: Passing a negative integer is deprecated in version 1.0 and will not be supported in future version. Instead, use None to not limit the column width.\n",
      "  pd.set_option(\"display.max_colwidth\", -1)\n"
     ]
    }
   ],
   "source": [
    "from llama_index.core.retrievers import VectorIndexRetriever\n",
    "from llama_index.core import QueryBundle\n",
    "import pandas as pd\n",
    "from IPython.display import display, HTML\n",
    "\n",
    "\n",
    "pd.set_option(\"display.max_colwidth\", -1)\n",
    "\n",
    "\n",
    "def get_retrieved_nodes(\n",
    "    query_str, vector_top_k=5, reranker_top_n=3, with_reranker=False\n",
    "):\n",
    "    query_bundle = QueryBundle(query_str)\n",
    "    # configure retriever\n",
    "    retriever = VectorIndexRetriever(\n",
    "        index=amazon_index,\n",
    "        similarity_top_k=vector_top_k,\n",
    "    )\n",
    "    retrieved_nodes = retriever.retrieve(query_bundle)\n",
    "\n",
    "    if with_reranker:\n",
    "        # configure reranker\n",
    "        reranker = BGESageMakerRerank(endpoint_name=endpoint_name,keep_retrieval_score=False,top_n=3)\n",
    "        retrieved_nodes = reranker.postprocess_nodes(\n",
    "            retrieved_nodes, query_bundle\n",
    "        )\n",
    "\n",
    "    return retrieved_nodes\n",
    "\n",
    "\n",
    "def pretty_print(df):\n",
    "    return display(HTML(df.to_html().replace(\"\\\\n\", \"\")))\n",
    "\n",
    "\n",
    "def visualize_retrieved_nodes(nodes) -> None:\n",
    "    result_dicts = []\n",
    "    for node in nodes:\n",
    "        result_dict = {\"Score\": node.score, \"Text\": node.node.get_text()}\n",
    "        result_dicts.append(result_dict)\n",
    "\n",
    "    pretty_print(pd.DataFrame(result_dicts))"
   ]
  },
  {
   "cell_type": "code",
   "execution_count": 55,
   "id": "fed1c76a-3f47-4007-a086-53956f573c00",
   "metadata": {
    "tags": []
   },
   "outputs": [],
   "source": [
    "new_nodes = get_retrieved_nodes(\n",
    "    \"Describe key business risks for Amazon during covid\",\n",
    "    vector_top_k=10,\n",
    "    with_reranker=False,\n",
    ")"
   ]
  },
  {
   "cell_type": "code",
   "execution_count": 56,
   "id": "899e5e94-f0c0-4eab-8956-b0c7d0e67b58",
   "metadata": {
    "tags": []
   },
   "outputs": [
    {
     "data": {
      "text/html": [
       "<table border=\"1\" class=\"dataframe\">\n",
       "  <thead>\n",
       "    <tr style=\"text-align: right;\">\n",
       "      <th></th>\n",
       "      <th>Score</th>\n",
       "      <th>Text</th>\n",
       "    </tr>\n",
       "  </thead>\n",
       "  <tbody>\n",
       "    <tr>\n",
       "      <th>0</th>\n",
       "      <td>0.724733</td>\n",
       "      <td>These risk factors do not identify all risks that we face; our operations could also be affected by factors, events, oruncertainties that are not presently known to us or that we currently do not consider to present significant risks to our operations. In addition to the factorsdiscussed in Item 7 of Part II, “Management’s Discussion and Analysis of Financial Condition and Results of Operations—Overview,” and in the risk factorsbelow, global economic and geopolitical conditions and additional or unforeseen circumstances, developments, or events may give rise to or amplify many ofthe risks discussed below. Many of the risks discussed below also impact our customers, including third-party sellers, which could indirectly have a materialadverse effect on us.Business and Industry RisksWe Face Intense CompetitionOur businesses are rapidly evolving and intensely competitive, and we have many competitors across geographies, including cross-border competition,and in different industries, including physical, e-commerce, and omnichannel retail, e-commerce services, web and infrastructure computing services,electronic devices, digital content, advertising, grocery, and transportation and logistics services. Some of our current and potential competitors have greaterresources, longer histories, more customers, and/or greater brand recognition, particularly with our newly-launched products and services and in our newergeographic regions. They may secure better terms from vendors, adopt more aggressive pricing, and devote more resources to technology, infrastructure,fulfillment, and marketing.Competition continues to intensify, including with the development of new business models and the entry of new and well-funded competitors, and asour competitors enter into business combinations or alliances and established companies in other market segments expand to become competitive with ourbusiness. In addition, new and enhanced technologies, including search, web and infrastructure computing services, digital content, and electronic devicescontinue to increase our competition. The Internet facilitates competitive entry and comparison shopping, which enhances the ability of new, smaller, or lesserknown businesses to compete against us.</td>\n",
       "    </tr>\n",
       "    <tr>\n",
       "      <th>1</th>\n",
       "      <td>0.719589</td>\n",
       "      <td>These risk factors do not identify all risks that we face; our operations could also be affected by factors, events, oruncertainties that are not presently known to us or that we currently do not consider to present significant risks to our operations. In addition to the factorsdiscussed in Item 7 of Part II, “Management’s Discussion and Analysis of Financial Condition and Results of Operations,” and in the risk factors below, globaleconomic and geopolitical conditions and additional or unforeseen circumstances, developments, or events may give rise to or amplify many of the risksdiscussed below. Many of the risks discussed below also impact our customers, including third-party sellers, which could indirectly have a material adverseeffect on us.Business and Industry RisksWe Face Intense CompetitionOur businesses are rapidly evolving and intensely competitive, and we have many competitors across geographies, including cross-border competition,and in different industries, including physical, e-commerce, and omnichannel retail, e-commerce services, web and infrastructure computing services,electronic devices, digital content, advertising, grocery, and transportation and logistics services. Some of our current and potential competitors have greaterresources, longer histories, more customers, and/or greater brand recognition, particularly with our newly-launched products and services and in our newergeographic regions. They may secure better terms from vendors, adopt more aggressive pricing, and devote more resources to technology, infrastructure,fulfillment, and marketing.Competition continues to intensify, including with the development of new business models and the entry of new and well-funded competitors, and asour competitors enter into business combinations or alliances and established companies in other market segments expand to become competitive with ourbusiness. In addition, new and enhanced technologies, including search, web and infrastructure computing services, practical applications of artificialintelligence and machine learning, digital content, and electronic devices continue to increase our competition. The internet facilitates competitive entry andcomparison shopping, which enhances the ability of new, smaller, or lesser known businesses to compete against us.</td>\n",
       "    </tr>\n",
       "    <tr>\n",
       "      <th>2</th>\n",
       "      <td>0.701088</td>\n",
       "      <td>which has been critical to ourgrowth and success;•disruptions from natural or human-caused disasters (including public health crises) or extreme weather (including as a result of climate change),geopolitical events and security issues (including terrorist attacks, armed hostilities, and political conflicts, including those involving China), labor ortrade disputes (including restrictive governmental actions impacting us, our customers, and our third-party sellers and suppliers in China or otherforeign countries), and similar events; and•potential negative impacts of climate change, including: increased operating costs due to more frequent extreme weather events or climate-relatedchanges, such as rising temperatures and water scarcity; increased investment requirements associated with the transition to a low-carbon economy;decreased demand for our products and services as a result of changes in customer behavior; increased compliance costs due to more extensive andglobal regulations and third-party requirements; and reputational damage resulting from perceptions of our environmental impact.We Face Risks Related to Successfully Optimizing and Operating Our Fulfillment Network and Data CentersFailures to adequately predict customer demand and consumer spending patterns or otherwise optimize and operate our fulfillment network and datacenters successfully from time to time result in excess or insufficient fulfillment or data center capacity, service interruptions, increased costs, and impairmentcharges, any of which could materially harm our business. As we continue to add fulfillment and data center capability or add new businesses with differentrequirements, our fulfillment and data center networks become increasingly complex and operating them becomes more challenging. There can be no assurancethat we will be able to operate our networks effectively.10</td>\n",
       "    </tr>\n",
       "    <tr>\n",
       "      <th>3</th>\n",
       "      <td>0.670151</td>\n",
       "      <td>We are also subject to labor union efforts to organize groups of our employees from time to time. These organizational efforts, if successful, decrease ouroperational flexibility, which could adversely affect our operating efficiency. In addition, our response to any organizational efforts could be perceivednegatively and harm our business and reputation.Our Supplier Relationships Subject Us to a Number of RisksWe have significant suppliers, including content and technology licensors, and in some cases, limited or single-sources of supply, that are important toour sourcing, services, manufacturing, and any related ongoing servicing of merchandise and content. We do not have long-term arrangements with most of oursuppliers to guarantee availability of merchandise, content, components, or services, particular payment terms, or the extension of credit limits. Decisions byour current suppliers to limit or stop selling or licensing merchandise, content, components, or services to us on acceptable terms, or delay delivery, includingas a result of one or more supplier bankruptcies due to poor economic conditions, as a result of natural or human-caused disasters (including public healthcrises) or geopolitical events, or for other reasons, may result in our being unable to procure alternatives from other suppliers in a timely and efficient mannerand on acceptable terms, or at all. For example, we rely on a limited group of suppliers for semiconductor products, including products related to artificialintelligence infrastructure such as graphics processing units. Constraints on the availability of these products could adversely affect our ability to develop andoperate artificial intelligence technologies, products, or services. In addition, violations by our suppliers or other vendors of applicable laws, regulations,contractual terms, intellectual property rights of others, or our Supply Chain Standards, as well as products or practices regarded as unethical, unsafe, orhazardous, could expose us to claims, damage our reputation, limit our growth, and negatively affect our operating results.Our Commercial Agreements, Strategic Alliances, and Other Business Relationships Expose Us to RisksWe provide physical, e-commerce, and omnichannel retail, cloud services, and other services to businesses through commercial agreements, strategicalliances, and business relationships.</td>\n",
       "    </tr>\n",
       "    <tr>\n",
       "      <th>4</th>\n",
       "      <td>0.654271</td>\n",
       "      <td>;•lower levels of credit card usage and increased payment risk;•difficulty in staffing, developing, and managing foreign operations as a result of distance, language, and cultural differences;•different employee/employer relationships and the existence of works councils and labor unions;•compliance with the U.S. Foreign Corrupt Practices Act and other applicable U.S. and foreign laws prohibiting corrupt payments to governmentofficials and other third parties;•laws and policies of the U.S. and other jurisdictions affecting trade, foreign investment, loans, and taxes; and•geopolitical events, including war and terrorism.As international physical, e-commerce, and omnichannel retail, cloud services, and other services grow, competition will intensify, including throughadoption of evolving business models. Local companies may have a substantial competitive advantage because of their greater understanding of, and focus on,the local customer, as well as their more established local brand names. The inability to hire, train, retain, and manage sufficient required personnel may limitour international growth.The People’s Republic of China (“PRC”) and India regulate Amazon’s and its affiliates’ businesses and operations in country through regulations andlicense requirements that may restrict (i) foreign investment in and operation of the Internet, IT infrastructure, data centers, retail, delivery, and other sectors,(ii) Internet content, and (iii) the sale of media and other products and services. For example, in order to meet local ownership, regulatory licensing, andcybersecurity requirements, we provide certain technology services in China through contractual relationships with third parties that hold PRC licenses toprovide services. In India, the government restricts the ownership or control of Indian companies by foreign entities involved in online multi-brand retailtrading activities. For www.amazon.in, we provide certain marketing tools and logistics services to third-party sellers to enable them to sell online and deliverto customers, and we hold indirect minority interests in entities that are third-party sellers on the www.amazon.in marketplace.</td>\n",
       "    </tr>\n",
       "    <tr>\n",
       "      <th>5</th>\n",
       "      <td>0.652786</td>\n",
       "      <td>;•lower levels of credit card usage and increased payment risk;•difficulty in staffing, developing, and managing foreign operations as a result of distance, language, and cultural differences;•different employee/employer relationships and the existence of works councils and labor unions;•compliance with the U.S. Foreign Corrupt Practices Act and other applicable U.S. and foreign laws prohibiting corrupt payments to governmentofficials and other third parties;•laws and policies of the U.S. and other jurisdictions affecting trade, foreign investment, loans, and taxes; and•geopolitical events, including war and terrorism.As international physical, e-commerce, and omnichannel retail, cloud services, and other services grow, competition will intensify, including throughadoption of evolving business models. Local companies may have a substantial competitive advantage because of their greater understanding of, and focus on,the local customer, as well as their more established local brand names. The inability to hire, train, retain, and manage sufficient required personnel may limitour international growth.The People’s Republic of China (“PRC”) and India regulate Amazon’s and its affiliates’ businesses and operations in country through regulations andlicense requirements that may restrict (i) foreign investment in and operation of the internet, IT infrastructure, data centers, retail, delivery, and other sectors,(ii) internet content, and (iii) the sale of media and other products and services. For example, in order to meet local ownership, regulatory licensing, andcybersecurity requirements, we provide certain technology services in China through contractual relationships with third parties that hold PRC licenses toprovide services. In India, the government restricts the ownership or control of Indian companies by foreign entities involved in online multi-brand retailtrading activities. For www.amazon.in, we provide certain marketing tools and logistics services to third-party sellers to enable them to sell online and deliverto customers, and we hold an indirect minority interest in an entity that is a third-party seller on the www.amazon.in marketplace. Although we believe thesestructures and activities comply with existing laws, they involve unique risks, and the PRC and India may from time to time consider and implement additionalchanges in7</td>\n",
       "    </tr>\n",
       "    <tr>\n",
       "      <th>6</th>\n",
       "      <td>0.652110</td>\n",
       "      <td>The loss of any of our executive officers or other key employees, the failure to successfully transition key roles, or the inability to hire, train, retain,and manage qualified personnel, could harm our business.We also rely on a significant number of personnel to operate our stores, fulfillment network, and data centers and carry out our other operations. Failureto successfully hire, train, manage, and retain sufficient personnel to meet our needs can strain our operations, increase payroll and other costs, and harm ourbusiness and reputation. In addition, changes in laws and regulations applicable to employees, independent contractors, and temporary personnel could increaseour payroll costs, decrease our operational flexibility, and negatively impact how we are able to staff our operations and supplement our workforce.We are also subject to labor union efforts to organize groups of our employees from time to time. These organizational efforts, if successful, decrease ouroperational flexibility, which could adversely affect our operating efficiency. In addition, our response to any organizational efforts could be perceivednegatively and harm our business and reputation.Our Supplier Relationships Subject Us to a Number of RisksWe have significant suppliers, including content and technology licensors, and in some cases, limited or single-sources of supply, that are important toour sourcing, services, manufacturing, and any related ongoing servicing of merchandise and content. We do not have long-term arrangements with most of oursuppliers to guarantee availability of merchandise, content,11</td>\n",
       "    </tr>\n",
       "    <tr>\n",
       "      <th>7</th>\n",
       "      <td>0.645957</td>\n",
       "      <td>and other expense categories;•availability of and increases in the prices of transportation (including fuel), resources such as land, water, and energy, commodities like paper andpacking supplies and hardware products, and technology infrastructure products, including as a result of inflationary pressures;•constrained labor markets, which increase our payroll costs;•the extent to which operators of the networks between our customers and our stores successfully charge fees to grant our customers unimpaired andunconstrained access to our online services;•our ability to collect amounts owed to us when they become due;•the extent to which new and existing technologies, or industry trends, restrict online advertising or affect our ability to customize advertising orotherwise tailor our product and service offerings;•the extent to which use of our services is affected by spyware, viruses, phishing and other spam emails, denial of service attacks, data theft, computerintrusions, outages, and similar events;•the extent to which we fail to maintain our unique culture of innovation, customer obsession, and long-term thinking, which has been critical to ourgrowth and success;•disruptions from natural or human-caused disasters (including public health crises) or extreme weather (including as a result of climate change),geopolitical events and security issues (including terrorist attacks, armed hostilities, and political conflicts, including those involving China), labor ortrade disputes (including restrictive governmental actions impacting us, our customers, and our third-party sellers and suppliers in China or otherforeign countries), and similar events; and•potential negative impacts of climate change, including: increased operating costs due to more frequent extreme weather events or climate-relatedchanges, such as rising temperatures and water scarcity; increased investment requirements associated with the transition to a low-carbon economy;decreased demand for our products and services as a result of changes in customer behavior; increased compliance costs due to more extensive andglobal regulations and third-party requirements; and reputational damage resulting from perceptions of our environmental impact.</td>\n",
       "    </tr>\n",
       "    <tr>\n",
       "      <th>8</th>\n",
       "      <td>0.645296</td>\n",
       "      <td>We Face Significant Inventory RiskIn addition to risks described elsewhere in this Item 1A relating to fulfillment network and inventory optimization by us and third parties, we are exposedto significant inventory risks that may adversely affect our operating results as a result of seasonality, new product launches, rapid changes in product cyclesand pricing, defective merchandise, changes in customer demand and consumer spending patterns, changes in consumer tastes with respect to our products,spoilage, and other factors. We endeavor to accurately predict these trends and avoid overstocking or understocking products we manufacture and/or sell.Demand for products, however, can change significantly between the time inventory or components are ordered and the date of sale. In addition, when webegin selling or manufacturing a new product, it may be difficult to establish vendor relationships, determine appropriate product or component selection, andaccurately forecast demand. The acquisition of certain types of inventory or components requires significant lead-time and prepayment and they may not bereturnable. We carry a broad selection and significant inventory levels of certain products, such as consumer electronics, and at times we are unable to sellproducts in sufficient quantities or to meet demand during the relevant selling seasons. Any one of the inventory risk factors set forth above may adverselyaffect our operating results.We Are Subject to Payments-Related RisksWe accept payments using a variety of methods, including credit card, debit card, credit accounts (including promotional financing), gift cards, directdebit from a customer’s bank account, consumer invoicing, physical bank check, and payment upon delivery. For existing and future payment options we offerto our customers, we currently are subject to, and may become subject to additional, regulations and compliance requirements (including obligations toimplement enhanced authentication processes that could result in significant costs and reduce the ease of use of our payments products), as well as fraud. Forcertain payment methods, including credit and debit cards, we pay interchange and other fees, which may increase over time and raise our operating costs andlower profitability. We rely on third parties to provide certain Amazon-branded payment methods and payment processing services, including the processing ofcredit cards, debit cards, electronic checks, and promotional financing.</td>\n",
       "    </tr>\n",
       "    <tr>\n",
       "      <th>9</th>\n",
       "      <td>0.643992</td>\n",
       "      <td>Breach ormalfunctioning of the digital rights management technology that we use could subject us to claims, and content providers may be unwilling to include theircontent in our service.We Have Foreign Exchange RiskThe results of operations of, and certain of our intercompany balances associated with, our international stores and product and service offerings areexposed to foreign exchange rate fluctuations. Due to these fluctuations, operating results may differ materially from expectations, and we may recordsignificant gains or losses on the remeasurement of intercompany balances. As we have expanded our international operations, our exposure to exchange ratefluctuations has increased. We also hold cash equivalents and/or marketable securities in foreign currencies such as British Pounds, Canadian Dollars, Euros,and Japanese Yen. When the U.S. Dollar strengthens compared to these currencies, cash equivalents, and marketable securities balances, when translated, maybe materially less than expected and vice versa.Operating RisksOur Expansion Places a Significant Strain on our Management, Operational, Financial, and Other ResourcesWe are continuing to rapidly and significantly expand our global operations, including increasing our product and service offerings and scaling ourinfrastructure to support our retail and services businesses. The complexity of the current scale of our business can place significant strain on our management,personnel, operations, systems, technical performance, financial resources, and internal financial control and reporting functions, and our expansion increasesthese factors. Failure to manage growth effectively could damage our reputation, limit our growth, and negatively affect our operating results.We Experience Significant Fluctuations in Our Operating Results and Growth RateWe are not always able to accurately forecast our growth rate. We base our expense levels and investment plans on sales estimates. A significant portionof our expenses and investments is fixed, and we are not always able to adjust our spending quickly enough if our sales are less than expected.Our revenue growth may not be sustainable, and our percentage growth rates may decrease. Our revenue and operating profit growth depends on thecontinued growth of demand for the products and services offered by us or our sellers, and our business is affected by general economic, business, andgeopolitical conditions worldwide.</td>\n",
       "    </tr>\n",
       "  </tbody>\n",
       "</table>"
      ],
      "text/plain": [
       "<IPython.core.display.HTML object>"
      ]
     },
     "metadata": {},
     "output_type": "display_data"
    }
   ],
   "source": [
    "visualize_retrieved_nodes(new_nodes)"
   ]
  },
  {
   "cell_type": "code",
   "execution_count": 57,
   "id": "5999cace-5f53-4187-9319-6c168858b5f8",
   "metadata": {
    "tags": []
   },
   "outputs": [],
   "source": [
    "new_nodes = get_retrieved_nodes(\n",
    "    \"Describe key business risks for Amazon during covid\",\n",
    "    vector_top_k=10,\n",
    "    reranker_top_n=3,\n",
    "    with_reranker=True,\n",
    ")"
   ]
  },
  {
   "cell_type": "code",
   "execution_count": 58,
   "id": "e2d7a558-9ec8-40b5-b31a-5fbb0136751f",
   "metadata": {
    "tags": []
   },
   "outputs": [
    {
     "data": {
      "text/html": [
       "<table border=\"1\" class=\"dataframe\">\n",
       "  <thead>\n",
       "    <tr style=\"text-align: right;\">\n",
       "      <th></th>\n",
       "      <th>Score</th>\n",
       "      <th>Text</th>\n",
       "    </tr>\n",
       "  </thead>\n",
       "  <tbody>\n",
       "    <tr>\n",
       "      <th>0</th>\n",
       "      <td>-1.702502</td>\n",
       "      <td>We Face Significant Inventory RiskIn addition to risks described elsewhere in this Item 1A relating to fulfillment network and inventory optimization by us and third parties, we are exposedto significant inventory risks that may adversely affect our operating results as a result of seasonality, new product launches, rapid changes in product cyclesand pricing, defective merchandise, changes in customer demand and consumer spending patterns, changes in consumer tastes with respect to our products,spoilage, and other factors. We endeavor to accurately predict these trends and avoid overstocking or understocking products we manufacture and/or sell.Demand for products, however, can change significantly between the time inventory or components are ordered and the date of sale. In addition, when webegin selling or manufacturing a new product, it may be difficult to establish vendor relationships, determine appropriate product or component selection, andaccurately forecast demand. The acquisition of certain types of inventory or components requires significant lead-time and prepayment and they may not bereturnable. We carry a broad selection and significant inventory levels of certain products, such as consumer electronics, and at times we are unable to sellproducts in sufficient quantities or to meet demand during the relevant selling seasons. Any one of the inventory risk factors set forth above may adverselyaffect our operating results.We Are Subject to Payments-Related RisksWe accept payments using a variety of methods, including credit card, debit card, credit accounts (including promotional financing), gift cards, directdebit from a customer’s bank account, consumer invoicing, physical bank check, and payment upon delivery. For existing and future payment options we offerto our customers, we currently are subject to, and may become subject to additional, regulations and compliance requirements (including obligations toimplement enhanced authentication processes that could result in significant costs and reduce the ease of use of our payments products), as well as fraud. Forcertain payment methods, including credit and debit cards, we pay interchange and other fees, which may increase over time and raise our operating costs andlower profitability. We rely on third parties to provide certain Amazon-branded payment methods and payment processing services, including the processing ofcredit cards, debit cards, electronic checks, and promotional financing.</td>\n",
       "    </tr>\n",
       "    <tr>\n",
       "      <th>1</th>\n",
       "      <td>-2.180057</td>\n",
       "      <td>;•lower levels of credit card usage and increased payment risk;•difficulty in staffing, developing, and managing foreign operations as a result of distance, language, and cultural differences;•different employee/employer relationships and the existence of works councils and labor unions;•compliance with the U.S. Foreign Corrupt Practices Act and other applicable U.S. and foreign laws prohibiting corrupt payments to governmentofficials and other third parties;•laws and policies of the U.S. and other jurisdictions affecting trade, foreign investment, loans, and taxes; and•geopolitical events, including war and terrorism.As international physical, e-commerce, and omnichannel retail, cloud services, and other services grow, competition will intensify, including throughadoption of evolving business models. Local companies may have a substantial competitive advantage because of their greater understanding of, and focus on,the local customer, as well as their more established local brand names. The inability to hire, train, retain, and manage sufficient required personnel may limitour international growth.The People’s Republic of China (“PRC”) and India regulate Amazon’s and its affiliates’ businesses and operations in country through regulations andlicense requirements that may restrict (i) foreign investment in and operation of the internet, IT infrastructure, data centers, retail, delivery, and other sectors,(ii) internet content, and (iii) the sale of media and other products and services. For example, in order to meet local ownership, regulatory licensing, andcybersecurity requirements, we provide certain technology services in China through contractual relationships with third parties that hold PRC licenses toprovide services. In India, the government restricts the ownership or control of Indian companies by foreign entities involved in online multi-brand retailtrading activities. For www.amazon.in, we provide certain marketing tools and logistics services to third-party sellers to enable them to sell online and deliverto customers, and we hold an indirect minority interest in an entity that is a third-party seller on the www.amazon.in marketplace. Although we believe thesestructures and activities comply with existing laws, they involve unique risks, and the PRC and India may from time to time consider and implement additionalchanges in7</td>\n",
       "    </tr>\n",
       "    <tr>\n",
       "      <th>2</th>\n",
       "      <td>-2.717652</td>\n",
       "      <td>The loss of any of our executive officers or other key employees, the failure to successfully transition key roles, or the inability to hire, train, retain,and manage qualified personnel, could harm our business.We also rely on a significant number of personnel to operate our stores, fulfillment network, and data centers and carry out our other operations. Failureto successfully hire, train, manage, and retain sufficient personnel to meet our needs can strain our operations, increase payroll and other costs, and harm ourbusiness and reputation. In addition, changes in laws and regulations applicable to employees, independent contractors, and temporary personnel could increaseour payroll costs, decrease our operational flexibility, and negatively impact how we are able to staff our operations and supplement our workforce.We are also subject to labor union efforts to organize groups of our employees from time to time. These organizational efforts, if successful, decrease ouroperational flexibility, which could adversely affect our operating efficiency. In addition, our response to any organizational efforts could be perceivednegatively and harm our business and reputation.Our Supplier Relationships Subject Us to a Number of RisksWe have significant suppliers, including content and technology licensors, and in some cases, limited or single-sources of supply, that are important toour sourcing, services, manufacturing, and any related ongoing servicing of merchandise and content. We do not have long-term arrangements with most of oursuppliers to guarantee availability of merchandise, content,11</td>\n",
       "    </tr>\n",
       "  </tbody>\n",
       "</table>"
      ],
      "text/plain": [
       "<IPython.core.display.HTML object>"
      ]
     },
     "metadata": {},
     "output_type": "display_data"
    }
   ],
   "source": [
    "visualize_retrieved_nodes(new_nodes)"
   ]
  },
  {
   "cell_type": "markdown",
   "id": "dfa36afb-0998-4679-8bf2-98c63b18f947",
   "metadata": {},
   "source": [
    "# Seeing reranking in action in final results"
   ]
  },
  {
   "cell_type": "code",
   "execution_count": 59,
   "id": "6da37a97-e610-4989-b43d-c31abe3d2347",
   "metadata": {
    "tags": []
   },
   "outputs": [],
   "source": [
    "query_engine_naive = amazon_index.as_query_engine(similarity_top_k=10)"
   ]
  },
  {
   "cell_type": "code",
   "execution_count": 60,
   "id": "9c49cb9f-33fc-4f6f-8d41-cc900dd12ab9",
   "metadata": {
    "tags": []
   },
   "outputs": [],
   "source": [
    "response = query_engine_naive.query(\n",
    "    \"Describe key business risks for Amazon during covid\"\n",
    ")"
   ]
  },
  {
   "cell_type": "code",
   "execution_count": 61,
   "id": "72e9e17e-986d-4be8-bb3c-2d48bc7ee600",
   "metadata": {
    "tags": []
   },
   "outputs": [
    {
     "name": "stdout",
     "output_type": "stream",
     "text": [
      "Based on the context provided, some key business risks for Amazon during the COVID-19 pandemic include:\n",
      "\n",
      "1. Disruptions from natural or human-caused disasters, including public health crises like COVID-19. The pandemic likely caused disruptions to Amazon's operations, supply chains, and workforce.\n",
      "\n",
      "2. Difficulty in staffing, developing, and managing operations due to the impacts of COVID-19, such as employee absences, remote work challenges, and health/safety measures required.\n",
      "\n",
      "3. Fluctuations in customer demand and spending patterns during the pandemic, leading to potential excess or insufficient fulfillment capacity and inventory issues.\n",
      "\n",
      "4. Potential supply chain disruptions, including constraints on the availability of products, components (like semiconductors), and transportation/logistics due to COVID-19 impacts.\n",
      "\n",
      "5. Increased operating costs related to implementing safety measures, adjusting to changing demand patterns, and addressing other pandemic-related challenges.\n",
      "\n",
      "6. Risks associated with the company's reliance on third-party suppliers and vendors, who may have faced their own COVID-19 disruptions or financial difficulties.\n",
      "\n",
      "While not explicitly stated, the context suggests that navigating the operational and financial impacts of the COVID-19 public health crisis was likely a significant risk factor for Amazon during that period.\n"
     ]
    }
   ],
   "source": [
    "print(response)"
   ]
  },
  {
   "cell_type": "code",
   "execution_count": 62,
   "id": "53c96b91-a4be-42bc-9616-6caa9c24ab6b",
   "metadata": {
    "tags": []
   },
   "outputs": [],
   "source": [
    "query_engine_rerank = amazon_index.as_query_engine(similarity_top_k=10, node_postprocessor =[reranker])"
   ]
  },
  {
   "cell_type": "code",
   "execution_count": 63,
   "id": "0ff672d3-d93d-4933-a6eb-d27702a97e16",
   "metadata": {
    "tags": []
   },
   "outputs": [],
   "source": [
    "response = query_engine_rerank.query(\n",
    "    \"Describe key business risks for Amazon during covid\"\n",
    ")"
   ]
  },
  {
   "cell_type": "code",
   "execution_count": 64,
   "id": "83771aef-4d54-48a8-b393-d1691c414fc3",
   "metadata": {
    "tags": []
   },
   "outputs": [
    {
     "name": "stdout",
     "output_type": "stream",
     "text": [
      "Based on the context information provided, some key business risks for Amazon during the COVID-19 pandemic include:\n",
      "\n",
      "1. Disruptions from natural or human-caused disasters, including public health crises like COVID-19. The pandemic likely caused disruptions to Amazon's operations, supply chain, and fulfillment network.\n",
      "\n",
      "2. Difficulty in staffing, developing, and managing operations due to the impacts of COVID-19, such as employee health concerns, labor shortages, or remote work challenges.\n",
      "\n",
      "3. Fluctuations in customer demand and consumer spending patterns during the pandemic, which could lead to excess or insufficient fulfillment capacity and inventory issues.\n",
      "\n",
      "4. Potential constraints or delays from suppliers due to COVID-19 impacts, affecting Amazon's ability to procure merchandise, content, components, or services.\n",
      "\n",
      "5. Increased operating costs related to implementing health and safety measures, adjusting to changing demand patterns, or addressing other pandemic-related challenges.\n",
      "\n",
      "6. Geopolitical events and security issues arising from or exacerbated by the pandemic, which could impact Amazon's global operations and supply chains.\n",
      "\n",
      "While not explicitly stated, the context suggests that the COVID-19 pandemic posed significant operational, logistical, and financial risks to Amazon's rapidly evolving and intensely competitive business across various sectors.\n"
     ]
    }
   ],
   "source": [
    "print(response)"
   ]
  },
  {
   "cell_type": "markdown",
   "id": "a979a7ea",
   "metadata": {},
   "source": [
    "# Delete SageMaker Endpoint "
   ]
  },
  {
   "cell_type": "code",
   "execution_count": 65,
   "id": "8f3e6645",
   "metadata": {
    "tags": []
   },
   "outputs": [],
   "source": [
    "predictor.delete_model()\n",
    "predictor.delete_endpoint()"
   ]
  }
 ],
 "metadata": {
  "kernelspec": {
   "display_name": "conda_pytorch_p310",
   "language": "python",
   "name": "conda_pytorch_p310"
  },
  "language_info": {
   "codemirror_mode": {
    "name": "ipython",
    "version": 3
   },
   "file_extension": ".py",
   "mimetype": "text/x-python",
   "name": "python",
   "nbconvert_exporter": "python",
   "pygments_lexer": "ipython3",
   "version": "3.10.14"
  }
 },
 "nbformat": 4,
 "nbformat_minor": 5
}
